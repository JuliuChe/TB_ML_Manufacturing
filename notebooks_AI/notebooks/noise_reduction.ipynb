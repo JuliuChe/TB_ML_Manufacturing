{
 "cells": [
  {
   "cell_type": "code",
   "execution_count": null,
   "outputs": [],
   "source": [],
   "metadata": {
    "collapsed": false
   },
   "id": "c29a94b127b243f8"
  },
  {
   "cell_type": "markdown",
   "source": [
    "#Import the \"raw\" recorded sound and apply noise reduction nois egate\n",
    " "
   ],
   "metadata": {
    "collapsed": false
   },
   "id": "de5732714a89f153"
  },
  {
   "cell_type": "code",
   "execution_count": 16,
   "outputs": [],
   "source": [
    "import numpy as np\n",
    "from scipy.io import wavfile\n",
    "import noisereduce as nr\n",
    "\n",
    "# load data\n",
    "rate, data = wavfile.read(\"../data/original_JamesBond.wav\")\n",
    "\n",
    "# perform noise reduction\n",
    "reduced_noise = nr.reduce_noise(y=data, sr=rate,  prop_decrease=1.0,  freq_mask_smooth_hz=200)\n",
    "wavfile.write(\"../data/reduced_noise_JamesBond.wav\", rate, reduced_noise)"
   ],
   "metadata": {
    "collapsed": false,
    "ExecuteTime": {
     "end_time": "2024-10-28T11:03:48.248735200Z",
     "start_time": "2024-10-28T11:03:34.050600200Z"
    }
   },
   "id": "10c4dba981dd84c"
  },
  {
   "cell_type": "code",
   "execution_count": 8,
   "outputs": [
    {
     "name": "stdout",
     "output_type": "stream",
     "text": [
      "50000\n"
     ]
    }
   ],
   "source": [
    "print(rate)"
   ],
   "metadata": {
    "collapsed": false,
    "ExecuteTime": {
     "end_time": "2024-10-28T10:57:07.193464Z",
     "start_time": "2024-10-28T10:57:06.735235400Z"
    }
   },
   "id": "4122b61ae7c36ce1"
  },
  {
   "cell_type": "code",
   "execution_count": 13,
   "outputs": [
    {
     "name": "stdout",
     "output_type": "stream",
     "text": [
      "<class 'numpy.int16'> <class 'numpy.ndarray'>\n"
     ]
    }
   ],
   "source": [
    "print(type(data[1]), type(data))\n"
   ],
   "metadata": {
    "collapsed": false,
    "ExecuteTime": {
     "end_time": "2024-10-28T10:59:33.693490200Z",
     "start_time": "2024-10-28T10:59:33.633089600Z"
    }
   },
   "id": "87e8d7912e07861"
  },
  {
   "cell_type": "code",
   "execution_count": null,
   "outputs": [],
   "source": [],
   "metadata": {
    "collapsed": false
   },
   "id": "8ddc1851876c716f"
  }
 ],
 "metadata": {
  "kernelspec": {
   "display_name": "Python 3",
   "language": "python",
   "name": "python3"
  },
  "language_info": {
   "codemirror_mode": {
    "name": "ipython",
    "version": 2
   },
   "file_extension": ".py",
   "mimetype": "text/x-python",
   "name": "python",
   "nbconvert_exporter": "python",
   "pygments_lexer": "ipython2",
   "version": "2.7.6"
  }
 },
 "nbformat": 4,
 "nbformat_minor": 5
}
