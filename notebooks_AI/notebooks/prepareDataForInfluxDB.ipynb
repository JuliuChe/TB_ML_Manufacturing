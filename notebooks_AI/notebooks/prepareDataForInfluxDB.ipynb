{
 "cells": [
  {
   "cell_type": "code",
   "execution_count": null,
   "outputs": [],
   "source": [
    "#Loading of the dataset for the study\n",
    "import pandas as pd\n",
    "import pyarrow as pa \n",
    "import pyarrow.parquet as pq\n",
    "\n",
    "DfLabelledTimeSeriesCleaned=pd.read_parquet('F:/Data_BachelorHES/DataSet_CNC/CNC_Labelled_Data_Cleaned.parquet', engine='pyarrow')"
   ],
   "metadata": {
    "collapsed": false,
    "is_executing": true
   },
   "id": "61dd9a82ad0f4d1e"
  },
  {
   "cell_type": "code",
   "execution_count": null,
   "outputs": [],
   "source": [
    "# Fonction pour échapper les caractères spéciaux dans les tags\n",
    "def sanitize_tag(value):\n",
    "    if isinstance(value, str):\n",
    "        return value.replace(' ', '\\ ').replace(',', '\\,').replace('=', '\\=')\n",
    "    return value"
   ],
   "metadata": {
    "collapsed": false
   },
   "id": "initial_id"
  },
  {
   "cell_type": "code",
   "execution_count": null,
   "outputs": [],
   "source": [
    "from tqdm import tqdm\n",
    "import numpy as np\n",
    "\n",
    "# Initialize tqdm to show progress bar\n",
    "totalRows = len(DfLabelledTimeSeriesCleaned)\n",
    "\n",
    "# Conversion au format line protocol\n",
    "prevTStamp=1731747600000000000+5702400000000000 #21 janvier 2025 9h00\n",
    "\n",
    "with open('F:/Data_BachelorHES/DataSet_CNC/influxData.lp', 'w', newline='') as f:\n",
    "    for _, row in tqdm(DfLabelledTimeSeriesCleaned.iterrows(), total=totalRows, desc=\"Écriture des données\"):\n",
    "        \n",
    "        progLine=sanitize_tag(row['Label_Program_Line'])\n",
    "        opName=sanitize_tag(row['Label_Op_Name'])\n",
    "        toolName=sanitize_tag(row['Label_Tool_Name'])\n",
    "        \n",
    "        lines=[]\n",
    "        for i in range(len(row['Sound'])):\n",
    "            \n",
    "            timeStamp=prevTStamp+i*20000\n",
    "            \n",
    "            # Convertir les mesures en int16 avec NumPy\n",
    "            sound = np.int16(row['Sound'][i])\n",
    "            accx = np.int16(row['Accel X'][i])\n",
    "            accy = np.int16(row['Accel Y'][i])\n",
    "            accz = np.int16(row['Accel Z'][i])\n",
    "            \n",
    "            line = f\"cnc,frame={row['frame']},pNb={row['Op_Nb']},Op={opName},tool={toolName} Snd={sound}i,AcX={accx}i,AcY={accy}i,AcZ={accz}i {timeStamp}\"\n",
    "            lines.append(line)\n",
    "        \n",
    "        f.write('\\n'.join(lines)+'\\n')\n",
    "        prevTStamp=prevTStamp+len(row['Sound'])*20000"
   ],
   "metadata": {
    "collapsed": false
   },
   "id": "8d1b2b8adb986d02"
  },
  {
   "cell_type": "code",
   "execution_count": 2,
   "outputs": [
    {
     "name": "stdout",
     "output_type": "stream",
     "text": [
      "opening file\n"
     ]
    },
    {
     "name": "stderr",
     "output_type": "stream",
     "text": [
      "Processing: 100%|██████████| 459406390/459406390 [2:32:26<00:00, 50229.48it/s]  \n"
     ]
    }
   ],
   "source": [
    "from tqdm import tqdm\n",
    "import os \n",
    "\n",
    "inFile='F:/Data_BachelorHES/DataSet_CNC/influxData.lp'\n",
    "outPath='F:/Data_BachelorHES/DataSet_CNC/lpFiles/'\n",
    "j=0\n",
    "totLines=459406390\n",
    "block=5000\n",
    "with open(inFile, 'r', newline='') as infile:\n",
    "    print(\"opening file\")\n",
    "    buffer=[]\n",
    "    for idx, line in tqdm(enumerate(infile), total=totLines, desc=\"Processing\"):\n",
    "        buffer.append(line)\n",
    "        if (idx+1)%block==0:\n",
    "            outFile=os.path.join(outPath, f\"data_{j}.lp\")\n",
    "            j+=1\n",
    "            with open(outFile, 'w', newline='') as outfile:\n",
    "                for i in buffer:\n",
    "                    outfile.write(i)\n",
    "            buffer=[]\n",
    "    if buffer :\n",
    "        outFile=os.path.join(outPath, f\"data_{j}.lp\")\n",
    "        with open(outFile, 'w', newline='') as outfile:\n",
    "            for i in buffer:\n",
    "                outfile.write(i)\n"
   ],
   "metadata": {
    "collapsed": false,
    "ExecuteTime": {
     "end_time": "2025-01-23T15:18:08.296491400Z",
     "start_time": "2025-01-23T12:45:42.033830800Z"
    }
   },
   "id": "1afee038b75fdf0d"
  },
  {
   "cell_type": "code",
   "execution_count": null,
   "outputs": [],
   "source": [],
   "metadata": {
    "collapsed": false
   },
   "id": "77a536b74320d31c"
  }
 ],
 "metadata": {
  "kernelspec": {
   "display_name": "Python 3",
   "language": "python",
   "name": "python3"
  },
  "language_info": {
   "codemirror_mode": {
    "name": "ipython",
    "version": 2
   },
   "file_extension": ".py",
   "mimetype": "text/x-python",
   "name": "python",
   "nbconvert_exporter": "python",
   "pygments_lexer": "ipython2",
   "version": "2.7.6"
  }
 },
 "nbformat": 4,
 "nbformat_minor": 5
}
