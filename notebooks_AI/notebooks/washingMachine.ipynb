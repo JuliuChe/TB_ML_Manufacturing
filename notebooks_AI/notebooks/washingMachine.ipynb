{
 "cells": [
  {
   "cell_type": "code",
   "execution_count": null,
   "id": "initial_id",
   "metadata": {
    "collapsed": true
   },
   "outputs": [],
   "source": []
  },
  {
   "cell_type": "code",
   "execution_count": 5,
   "outputs": [
    {
     "name": "stdout",
     "output_type": "stream",
     "text": [
      "['PMPM_RAW_BIN_60s_20241101_141249.csv', 'PMPM_RAW_BIN_60s_20241101_141349.csv', 'PMPM_RAW_BIN_60s_20241101_141450.csv', 'PMPM_RAW_BIN_60s_20241101_141550.csv', 'PMPM_RAW_BIN_60s_20241101_141650.csv', 'PMPM_RAW_BIN_60s_20241101_141750.csv', 'PMPM_RAW_BIN_60s_20241101_141850.csv', 'PMPM_RAW_BIN_60s_20241101_141950.csv', 'PMPM_RAW_BIN_60s_20241101_142050.csv', 'PMPM_RAW_BIN_60s_20241101_142150.csv', 'PMPM_RAW_BIN_60s_20241101_142250.csv', 'PMPM_RAW_BIN_60s_20241101_142350.csv', 'PMPM_RAW_BIN_60s_20241101_142450.csv', 'PMPM_RAW_BIN_60s_20241101_142550.csv', 'PMPM_RAW_BIN_60s_20241101_142650.csv', 'PMPM_RAW_BIN_60s_20241101_142750.csv', 'PMPM_RAW_BIN_60s_20241101_142850.csv', 'PMPM_RAW_BIN_60s_20241101_142950.csv', 'PMPM_RAW_BIN_60s_20241101_143050.csv', 'PMPM_RAW_BIN_60s_20241101_143150.csv', 'PMPM_RAW_BIN_60s_20241101_143250.csv', 'PMPM_RAW_BIN_60s_20241101_143350.csv', 'PMPM_RAW_BIN_60s_20241101_143450.csv', 'PMPM_RAW_BIN_60s_20241101_143550.csv', 'PMPM_RAW_BIN_60s_20241101_143650.csv', 'PMPM_RAW_BIN_60s_20241101_143750.csv', 'PMPM_RAW_BIN_60s_20241101_143850.csv', 'PMPM_RAW_BIN_60s_20241101_143950.csv', 'PMPM_RAW_BIN_60s_20241101_144050.csv', 'PMPM_RAW_BIN_60s_20241101_144150.csv', 'PMPM_RAW_BIN_60s_20241101_144250.csv', 'PMPM_RAW_BIN_60s_20241101_144350.csv', 'PMPM_RAW_BIN_60s_20241101_144450.csv', 'PMPM_RAW_BIN_60s_20241101_144550.csv', 'PMPM_RAW_BIN_60s_20241101_144650.csv', 'PMPM_RAW_BIN_60s_20241101_144750.csv', 'PMPM_RAW_BIN_60s_20241101_144850.csv', 'PMPM_RAW_BIN_60s_20241101_144950.csv', 'PMPM_RAW_BIN_60s_20241101_145050.csv', 'PMPM_RAW_BIN_60s_20241101_145150.csv', 'PMPM_RAW_BIN_60s_20241101_145250.csv', 'PMPM_RAW_BIN_60s_20241101_145350.csv', 'PMPM_RAW_BIN_60s_20241101_145450.csv', 'PMPM_RAW_BIN_60s_20241101_145550.csv', 'PMPM_RAW_BIN_60s_20241101_145650.csv', 'PMPM_RAW_BIN_60s_20241101_145750.csv', 'PMPM_RAW_BIN_60s_20241101_145850.csv', 'PMPM_RAW_BIN_60s_20241101_145950.csv', 'PMPM_RAW_BIN_60s_20241101_150050.csv', 'PMPM_RAW_BIN_60s_20241101_150150.csv', 'PMPM_RAW_BIN_60s_20241101_150250.csv', 'PMPM_RAW_BIN_60s_20241101_150350.csv', 'PMPM_RAW_BIN_60s_20241101_150450.csv', 'PMPM_RAW_BIN_60s_20241101_150550.csv']\n"
     ]
    }
   ],
   "source": [
    "from os import listdir\n",
    "from os.path import isfile, join\n",
    "mypath='../data/washingMachine/'\n",
    "\n",
    "onlyfiles = [f for f in listdir(mypath) if isfile(join(mypath, f))]\n",
    "print(onlyfiles)"
   ],
   "metadata": {
    "collapsed": false,
    "ExecuteTime": {
     "end_time": "2024-11-04T14:38:08.579454900Z",
     "start_time": "2024-11-04T14:38:08.535764900Z"
    }
   },
   "id": "b53f52e87d7d5705"
  },
  {
   "cell_type": "code",
   "execution_count": 6,
   "outputs": [
    {
     "name": "stdout",
     "output_type": "stream",
     "text": [
      "['../data/washingMachine/PMPM_RAW_BIN_60s_20241101_141249.csv', '../data/washingMachine/PMPM_RAW_BIN_60s_20241101_141349.csv', '../data/washingMachine/PMPM_RAW_BIN_60s_20241101_141450.csv', '../data/washingMachine/PMPM_RAW_BIN_60s_20241101_141550.csv', '../data/washingMachine/PMPM_RAW_BIN_60s_20241101_141650.csv', '../data/washingMachine/PMPM_RAW_BIN_60s_20241101_141750.csv', '../data/washingMachine/PMPM_RAW_BIN_60s_20241101_141850.csv', '../data/washingMachine/PMPM_RAW_BIN_60s_20241101_141950.csv', '../data/washingMachine/PMPM_RAW_BIN_60s_20241101_142050.csv', '../data/washingMachine/PMPM_RAW_BIN_60s_20241101_142150.csv', '../data/washingMachine/PMPM_RAW_BIN_60s_20241101_142250.csv', '../data/washingMachine/PMPM_RAW_BIN_60s_20241101_142350.csv', '../data/washingMachine/PMPM_RAW_BIN_60s_20241101_142450.csv', '../data/washingMachine/PMPM_RAW_BIN_60s_20241101_142550.csv', '../data/washingMachine/PMPM_RAW_BIN_60s_20241101_142650.csv', '../data/washingMachine/PMPM_RAW_BIN_60s_20241101_142750.csv', '../data/washingMachine/PMPM_RAW_BIN_60s_20241101_142850.csv', '../data/washingMachine/PMPM_RAW_BIN_60s_20241101_142950.csv', '../data/washingMachine/PMPM_RAW_BIN_60s_20241101_143050.csv', '../data/washingMachine/PMPM_RAW_BIN_60s_20241101_143150.csv', '../data/washingMachine/PMPM_RAW_BIN_60s_20241101_143250.csv', '../data/washingMachine/PMPM_RAW_BIN_60s_20241101_143350.csv', '../data/washingMachine/PMPM_RAW_BIN_60s_20241101_143450.csv', '../data/washingMachine/PMPM_RAW_BIN_60s_20241101_143550.csv', '../data/washingMachine/PMPM_RAW_BIN_60s_20241101_143650.csv', '../data/washingMachine/PMPM_RAW_BIN_60s_20241101_143750.csv', '../data/washingMachine/PMPM_RAW_BIN_60s_20241101_143850.csv', '../data/washingMachine/PMPM_RAW_BIN_60s_20241101_143950.csv', '../data/washingMachine/PMPM_RAW_BIN_60s_20241101_144050.csv', '../data/washingMachine/PMPM_RAW_BIN_60s_20241101_144150.csv', '../data/washingMachine/PMPM_RAW_BIN_60s_20241101_144250.csv', '../data/washingMachine/PMPM_RAW_BIN_60s_20241101_144350.csv', '../data/washingMachine/PMPM_RAW_BIN_60s_20241101_144450.csv', '../data/washingMachine/PMPM_RAW_BIN_60s_20241101_144550.csv', '../data/washingMachine/PMPM_RAW_BIN_60s_20241101_144650.csv', '../data/washingMachine/PMPM_RAW_BIN_60s_20241101_144750.csv', '../data/washingMachine/PMPM_RAW_BIN_60s_20241101_144850.csv', '../data/washingMachine/PMPM_RAW_BIN_60s_20241101_144950.csv', '../data/washingMachine/PMPM_RAW_BIN_60s_20241101_145050.csv', '../data/washingMachine/PMPM_RAW_BIN_60s_20241101_145150.csv', '../data/washingMachine/PMPM_RAW_BIN_60s_20241101_145250.csv', '../data/washingMachine/PMPM_RAW_BIN_60s_20241101_145350.csv', '../data/washingMachine/PMPM_RAW_BIN_60s_20241101_145450.csv', '../data/washingMachine/PMPM_RAW_BIN_60s_20241101_145550.csv', '../data/washingMachine/PMPM_RAW_BIN_60s_20241101_145650.csv', '../data/washingMachine/PMPM_RAW_BIN_60s_20241101_145750.csv', '../data/washingMachine/PMPM_RAW_BIN_60s_20241101_145850.csv', '../data/washingMachine/PMPM_RAW_BIN_60s_20241101_145950.csv', '../data/washingMachine/PMPM_RAW_BIN_60s_20241101_150050.csv', '../data/washingMachine/PMPM_RAW_BIN_60s_20241101_150150.csv', '../data/washingMachine/PMPM_RAW_BIN_60s_20241101_150250.csv', '../data/washingMachine/PMPM_RAW_BIN_60s_20241101_150350.csv', '../data/washingMachine/PMPM_RAW_BIN_60s_20241101_150450.csv', '../data/washingMachine/PMPM_RAW_BIN_60s_20241101_150550.csv']\n"
     ]
    }
   ],
   "source": [
    "filename = [(mypath + onlyfiles[a]) for a in range(len(onlyfiles))]\n",
    "print(filename)"
   ],
   "metadata": {
    "collapsed": false,
    "ExecuteTime": {
     "end_time": "2024-11-04T14:38:09.396339900Z",
     "start_time": "2024-11-04T14:38:09.380867100Z"
    }
   },
   "id": "446693da830e6836"
  },
  {
   "cell_type": "code",
   "execution_count": 6,
   "outputs": [],
   "source": [],
   "metadata": {
    "collapsed": false,
    "ExecuteTime": {
     "end_time": "2024-11-04T14:38:10.196236300Z",
     "start_time": "2024-11-04T14:38:10.176866700Z"
    }
   },
   "id": "b39284549115d59c"
  },
  {
   "cell_type": "code",
   "execution_count": 7,
   "outputs": [
    {
     "name": "stdout",
     "output_type": "stream",
     "text": [
      "Reading file: ../data/washingMachine/PMPM_RAW_BIN_60s_20241101_141249.csv\n",
      "Reading file: ../data/washingMachine/PMPM_RAW_BIN_60s_20241101_141349.csv\n",
      "Reading file: ../data/washingMachine/PMPM_RAW_BIN_60s_20241101_141450.csv\n",
      "Reading file: ../data/washingMachine/PMPM_RAW_BIN_60s_20241101_141550.csv\n",
      "Reading file: ../data/washingMachine/PMPM_RAW_BIN_60s_20241101_141650.csv\n",
      "Reading file: ../data/washingMachine/PMPM_RAW_BIN_60s_20241101_141750.csv\n",
      "Reading file: ../data/washingMachine/PMPM_RAW_BIN_60s_20241101_141850.csv\n",
      "Reading file: ../data/washingMachine/PMPM_RAW_BIN_60s_20241101_141950.csv\n",
      "Reading file: ../data/washingMachine/PMPM_RAW_BIN_60s_20241101_142050.csv\n",
      "Reading file: ../data/washingMachine/PMPM_RAW_BIN_60s_20241101_142150.csv\n",
      "Reading file: ../data/washingMachine/PMPM_RAW_BIN_60s_20241101_142250.csv\n",
      "Reading file: ../data/washingMachine/PMPM_RAW_BIN_60s_20241101_142350.csv\n",
      "Reading file: ../data/washingMachine/PMPM_RAW_BIN_60s_20241101_142450.csv\n",
      "Reading file: ../data/washingMachine/PMPM_RAW_BIN_60s_20241101_142550.csv\n",
      "Reading file: ../data/washingMachine/PMPM_RAW_BIN_60s_20241101_142650.csv\n",
      "Reading file: ../data/washingMachine/PMPM_RAW_BIN_60s_20241101_142750.csv\n",
      "Reading file: ../data/washingMachine/PMPM_RAW_BIN_60s_20241101_142850.csv\n",
      "Reading file: ../data/washingMachine/PMPM_RAW_BIN_60s_20241101_142950.csv\n",
      "Reading file: ../data/washingMachine/PMPM_RAW_BIN_60s_20241101_143050.csv\n",
      "Reading file: ../data/washingMachine/PMPM_RAW_BIN_60s_20241101_143150.csv\n",
      "Reading file: ../data/washingMachine/PMPM_RAW_BIN_60s_20241101_143250.csv\n",
      "Reading file: ../data/washingMachine/PMPM_RAW_BIN_60s_20241101_143350.csv\n",
      "Reading file: ../data/washingMachine/PMPM_RAW_BIN_60s_20241101_143450.csv\n",
      "Reading file: ../data/washingMachine/PMPM_RAW_BIN_60s_20241101_143550.csv\n",
      "Reading file: ../data/washingMachine/PMPM_RAW_BIN_60s_20241101_143650.csv\n",
      "Reading file: ../data/washingMachine/PMPM_RAW_BIN_60s_20241101_143750.csv\n",
      "Reading file: ../data/washingMachine/PMPM_RAW_BIN_60s_20241101_143850.csv\n",
      "Reading file: ../data/washingMachine/PMPM_RAW_BIN_60s_20241101_143950.csv\n",
      "Reading file: ../data/washingMachine/PMPM_RAW_BIN_60s_20241101_144050.csv\n",
      "Reading file: ../data/washingMachine/PMPM_RAW_BIN_60s_20241101_144150.csv\n",
      "Reading file: ../data/washingMachine/PMPM_RAW_BIN_60s_20241101_144250.csv\n",
      "Reading file: ../data/washingMachine/PMPM_RAW_BIN_60s_20241101_144350.csv\n",
      "Reading file: ../data/washingMachine/PMPM_RAW_BIN_60s_20241101_144450.csv\n",
      "Reading file: ../data/washingMachine/PMPM_RAW_BIN_60s_20241101_144550.csv\n",
      "Reading file: ../data/washingMachine/PMPM_RAW_BIN_60s_20241101_144650.csv\n",
      "Reading file: ../data/washingMachine/PMPM_RAW_BIN_60s_20241101_144750.csv\n",
      "Reading file: ../data/washingMachine/PMPM_RAW_BIN_60s_20241101_144850.csv\n",
      "Reading file: ../data/washingMachine/PMPM_RAW_BIN_60s_20241101_144950.csv\n",
      "Reading file: ../data/washingMachine/PMPM_RAW_BIN_60s_20241101_145050.csv\n",
      "Reading file: ../data/washingMachine/PMPM_RAW_BIN_60s_20241101_145150.csv\n",
      "Reading file: ../data/washingMachine/PMPM_RAW_BIN_60s_20241101_145250.csv\n",
      "Reading file: ../data/washingMachine/PMPM_RAW_BIN_60s_20241101_145350.csv\n",
      "Reading file: ../data/washingMachine/PMPM_RAW_BIN_60s_20241101_145450.csv\n",
      "Reading file: ../data/washingMachine/PMPM_RAW_BIN_60s_20241101_145550.csv\n",
      "Reading file: ../data/washingMachine/PMPM_RAW_BIN_60s_20241101_145650.csv\n",
      "Reading file: ../data/washingMachine/PMPM_RAW_BIN_60s_20241101_145750.csv\n",
      "Reading file: ../data/washingMachine/PMPM_RAW_BIN_60s_20241101_145850.csv\n",
      "Reading file: ../data/washingMachine/PMPM_RAW_BIN_60s_20241101_145950.csv\n",
      "Reading file: ../data/washingMachine/PMPM_RAW_BIN_60s_20241101_150050.csv\n",
      "Reading file: ../data/washingMachine/PMPM_RAW_BIN_60s_20241101_150150.csv\n",
      "Reading file: ../data/washingMachine/PMPM_RAW_BIN_60s_20241101_150250.csv\n",
      "Reading file: ../data/washingMachine/PMPM_RAW_BIN_60s_20241101_150350.csv\n",
      "Reading file: ../data/washingMachine/PMPM_RAW_BIN_60s_20241101_150450.csv\n",
      "Reading file: ../data/washingMachine/PMPM_RAW_BIN_60s_20241101_150550.csv\n",
      "List created with : 327240000 elements\n"
     ]
    }
   ],
   "source": [
    "import struct\n",
    "\n",
    "values = []\n",
    "for file in filename:\n",
    "    print('Reading file:',file)\n",
    "    \n",
    "    # Lire le fichier .csv qui contient le flux de bytes\n",
    "    with open(file, 'rb') as f:\n",
    "        byte_stream = f.read()  # Lire tout le fichier comme un flux de bytes\n",
    "    num_values = len(byte_stream) // 2  # Calcul du nombre d'entiers\n",
    "\n",
    "\n",
    "    for i in range(num_values):\n",
    "        two_bytes = byte_stream[i*2:(i*2)+2]\n",
    "        value = struct.unpack('<h', two_bytes)[0]  # '<h' pour 2 bytes en short int\n",
    "        values.append(value)\n",
    "print(\"List created with : {} elements\".format(len(values)))"
   ],
   "metadata": {
    "collapsed": false,
    "ExecuteTime": {
     "end_time": "2024-11-04T14:41:32.805740Z",
     "start_time": "2024-11-04T14:38:11.301682600Z"
    }
   },
   "id": "9efade46223daa6e"
  },
  {
   "cell_type": "code",
   "execution_count": 22,
   "outputs": [
    {
     "name": "stdout",
     "output_type": "stream",
     "text": [
      "Data classified.\n",
      " Number of digital samples is : 3240000, that is 3240.0s \n",
      " Number of sampled sound values : 162000000, that is 3240.0s \n",
      " Number of sampled accel X values : 162000000, that is 3240.0s \n"
     ]
    },
    {
     "data": {
      "text/plain": "'print(start_indices[:5])\\nprint(sound_indices[:200])\\nprint(accel_indices[:200])'"
     },
     "execution_count": 22,
     "metadata": {},
     "output_type": "execute_result"
    }
   ],
   "source": [
    "\n",
    "import numpy as np\n",
    "npValues=np.array(values, dtype=np.int16)\n",
    "start_size=1\n",
    "sound_size=50\n",
    "accel_size=50\n",
    "slice_size=start_size+sound_size+accel_size\n",
    "num_slice = len(npValues)//slice_size # Nombre de tranches\n",
    "\n",
    "start_indices=np.concatenate([np.arange(i*slice_size, i*slice_size+start_size) for i in range(num_slice)])\n",
    "sound_indices=np.concatenate([np.arange(i*slice_size+start_size, i*slice_size+sound_size+1) for i in range(num_slice)])\n",
    "accel_indices=np.concatenate([np.arange(i*slice_size+start_size+sound_size, i*slice_size+slice_size) for i in range(num_slice)])\n",
    "startValues=npValues[start_indices]\n",
    "soundValues=npValues[sound_indices]\n",
    "accelXValues=npValues[accel_indices]\n",
    "\n",
    "fs=50000\n",
    "\n",
    "\n",
    "\n",
    "plc_values = dict({'Sound values ': soundValues, 'Accel X values ': accelXValues, 'Start values ': startValues})\n",
    "\n",
    "\n",
    "\n",
    "sample_table_size = 50\n",
    "print(\"Data classified.\\n Number of digital samples is : {}, that is {}s \\n Number of sampled sound values : {}, that is {}s \\n Number of sampled accel X values : {}, that is {}s \\n\".format(len(startValues), len(startValues)/(fs/sample_table_size), len(soundValues), len(soundValues)/fs,len(accelXValues), len(accelXValues)/fs))\n",
    "\n",
    "\"\"\"print(start_indices[:5])\n",
    "print(sound_indices[:200])\n",
    "print(accel_indices[:200])\"\"\"\n"
   ],
   "metadata": {
    "collapsed": false,
    "ExecuteTime": {
     "end_time": "2024-11-04T14:58:52.669399800Z",
     "start_time": "2024-11-04T14:58:23.604483300Z"
    }
   },
   "id": "71f7e2ee4e22eafa"
  },
  {
   "cell_type": "code",
   "execution_count": 10,
   "outputs": [
    {
     "name": "stdout",
     "output_type": "stream",
     "text": [
      "['2024-11-01T14:12:50.000000' '2024-11-01T14:12:50.000020'\n",
      " '2024-11-01T14:12:50.000040' '2024-11-01T14:12:50.000060'\n",
      " '2024-11-01T14:12:50.000080' '2024-11-01T14:12:50.000100'\n",
      " '2024-11-01T14:12:50.000120' '2024-11-01T14:12:50.000140'\n",
      " '2024-11-01T14:12:50.000160' '2024-11-01T14:12:50.000180'] ['2024-11-01T15:06:49.999800' '2024-11-01T15:06:49.999820'\n",
      " '2024-11-01T15:06:49.999840' '2024-11-01T15:06:49.999860'\n",
      " '2024-11-01T15:06:49.999880' '2024-11-01T15:06:49.999900'\n",
      " '2024-11-01T15:06:49.999920' '2024-11-01T15:06:49.999940'\n",
      " '2024-11-01T15:06:49.999960'] (162000000,) <class 'numpy.datetime64'>\n"
     ]
    }
   ],
   "source": [
    "import numpy as np\n",
    "from enum import Enum\n",
    "\n",
    "class Label(Enum):\n",
    "    STOP=np.uint8(0)\n",
    "    START=np.uint8(1)\n",
    "    WASHING=np.uint8(2)\n",
    "    RINSING=np.uint8(3)\n",
    "    FINISHING_RINSING=np.uint8(4)\n",
    "    FULL_SPIN=np.uint8(5)\n",
    "    SPIN=np.uint8(6)\n",
    "    ENDING=np.uint8(7)\n",
    "    def __repr__(self):\n",
    "        return \"<%s.%s>\" % (self.__class__.__name__, self._name_)\n",
    "\n",
    "\n",
    "\n",
    "myPlCTime=np.arange('2024-11-01T14:12:50.000000', '2024-11-01T15:06:50.000000', step=20, dtype='datetime64[us]')\n",
    "print(myPlCTime[0:10], myPlCTime[-10:-1], myPlCTime.shape, type(myPlCTime[0]))\n",
    "\n",
    "# Créer un tableau NumPy pour les labels avec le type d'objet\n",
    "myLabels = np.full(len(myPlCTime), Label.STOP, dtype=object)\n"
   ],
   "metadata": {
    "collapsed": false,
    "ExecuteTime": {
     "end_time": "2024-11-04T14:42:51.810490100Z",
     "start_time": "2024-11-04T14:42:51.807488600Z"
    }
   },
   "id": "1078224f50c82091"
  },
  {
   "cell_type": "code",
   "execution_count": 11,
   "outputs": [
    {
     "name": "stdout",
     "output_type": "stream",
     "text": [
      "my labels shape is 162000000, First label is : Label.STOP, Last label is : Label.STOP\n"
     ]
    }
   ],
   "source": [
    "print(f\"my labels shape is {myLabels.shape[0]}, First label is : {myLabels[0]}, Last label is : {myLabels[-1]}\")\n"
   ],
   "metadata": {
    "collapsed": false,
    "ExecuteTime": {
     "end_time": "2024-11-04T14:42:58.178006200Z",
     "start_time": "2024-11-04T14:42:58.160492700Z"
    }
   },
   "id": "21b63d72e5255cac"
  },
  {
   "cell_type": "code",
   "execution_count": 18,
   "outputs": [],
   "source": [
    "n=0\n",
    "\"\"\"\"\n",
    "for i in range(len(myPlCTime)):\n",
    "    if np.datetime64('2024-11-01T14:12:50.000000') <= myPlCTime[i] < np.datetime64('2024-11-01T14:14:50.000000'):\n",
    "        myLabels[i]=Label.STOP\n",
    "    elif np.datetime64('2024-11-01T14:14:50.000000') <= myPlCTime[i] < np.datetime64('2024-11-01T14:16:50.000000'):\n",
    "        myLabels[i]=Label.START\n",
    "    elif np.datetime64('2024-11-01T14:16:50.000000') <= myPlCTime[i] < np.datetime64('2024-11-01T14:43:50.000000'):\n",
    "        myLabels[i]=Label.WASHING\n",
    "    elif np.datetime64('2024-11-01T14:43:50.000000') <= myPlCTime[i] < np.datetime64('2024-11-01T14:52:50.000000'):\n",
    "        myLabels[i]=Label.RINSING\n",
    "    elif np.datetime64('2024-11-01T14:52:50.000000') <= myPlCTime[i] < np.datetime64('2024-11-01T14:57:50.000000'):\n",
    "        myLabels[i]=Label.FINISHING_RINSING\n",
    "    elif np.datetime64('2024-11-01T14:57:50.000000') <= myPlCTime[i] < np.datetime64('2024-11-01T15:02:50.000000'):    \n",
    "        myLabels[i]=Label.SPIN\n",
    "    elif np.datetime64('2024-11-01T15:02:50.000000') <= myPlCTime[i] < np.datetime64('2024-11-01T15:05:50.000000'):\n",
    "        myLabels[i]=Label.FULL_SPIN\n",
    "    elif myPlCTime[i]>=np.datetime64('2024-11-01T15:05:50.000000'):\n",
    "        myLabels[i]=Label.ENDING\n",
    "    if i%10000000==0:\n",
    "       n+=1\n",
    "       print(n)\"\"\"\n",
    "\n",
    "myLabels[(myPlCTime >= np.datetime64('2024-11-01T14:12:50.000000')) & \n",
    "          (myPlCTime < np.datetime64('2024-11-01T14:14:50.000000'))] = Label.STOP\n",
    "\n",
    "myLabels[(myPlCTime >= np.datetime64('2024-11-01T14:14:50.000000')) & \n",
    "          (myPlCTime < np.datetime64('2024-11-01T14:16:50.000000'))] = Label.START\n",
    "\n",
    "myLabels[(myPlCTime >= np.datetime64('2024-11-01T14:16:50.000000')) & \n",
    "          (myPlCTime < np.datetime64('2024-11-01T14:43:50.000000'))] = Label.WASHING\n",
    "\n",
    "myLabels[(myPlCTime >= np.datetime64('2024-11-01T14:43:50.000000')) & \n",
    "          (myPlCTime < np.datetime64('2024-11-01T14:52:50.000000'))] = Label.RINSING\n",
    "\n",
    "myLabels[(myPlCTime >= np.datetime64('2024-11-01T14:52:50.000000')) & \n",
    "          (myPlCTime < np.datetime64('2024-11-01T14:57:50.000000'))] = Label.FINISHING_RINSING\n",
    "\n",
    "myLabels[(myPlCTime >= np.datetime64('2024-11-01T14:57:50.000000')) & \n",
    "          (myPlCTime < np.datetime64('2024-11-01T15:02:50.000000'))] = Label.SPIN\n",
    "\n",
    "myLabels[(myPlCTime >= np.datetime64('2024-11-01T15:02:50.000000')) & \n",
    "          (myPlCTime < np.datetime64('2024-11-01T15:05:50.000000'))] = Label.FULL_SPIN\n",
    "\n",
    "myLabels[myPlCTime >= np.datetime64('2024-11-01T15:05:50.000000')] = Label.ENDING   \n",
    "\n",
    "\n"
   ],
   "metadata": {
    "collapsed": false,
    "ExecuteTime": {
     "end_time": "2024-11-04T14:48:23.531647900Z",
     "start_time": "2024-11-04T14:48:17.006402700Z"
    }
   },
   "id": "ba588f380936bcd9"
  },
  {
   "cell_type": "code",
   "execution_count": 19,
   "outputs": [
    {
     "name": "stdout",
     "output_type": "stream",
     "text": [
      "My labels shape is (162000000,), First label is : Label.STOP, Last label is : Label.ENDING\n"
     ]
    }
   ],
   "source": [
    "print(f\"My labels shape is {myLabels.shape}, First label is : {myLabels[0]}, Last label is : {myLabels[-1]}\")"
   ],
   "metadata": {
    "collapsed": false,
    "ExecuteTime": {
     "end_time": "2024-11-04T14:48:26.222930Z",
     "start_time": "2024-11-04T14:48:26.205019Z"
    }
   },
   "id": "bc40761cefd4cc5d"
  },
  {
   "cell_type": "code",
   "execution_count": 20,
   "outputs": [
    {
     "name": "stdout",
     "output_type": "stream",
     "text": [
      "{<Label.WASHING>, <Label.RINSING>, <Label.ENDING>, <Label.SPIN>, <Label.START>, <Label.FULL_SPIN>, <Label.FINISHING_RINSING>, <Label.STOP>}\n"
     ]
    }
   ],
   "source": [
    "#Préparer un dictionnaire pour vérifier le début et la fi de chaque label\n",
    "label_timestamps = {}\n",
    "\n",
    "# Identifier les labels à rechercher\n",
    "unique_labels = set(myLabels)\n",
    "print(unique_labels)"
   ],
   "metadata": {
    "collapsed": false,
    "ExecuteTime": {
     "end_time": "2024-11-04T14:48:58.741071Z",
     "start_time": "2024-11-04T14:48:32.598676200Z"
    }
   },
   "id": "1d25fac4f11448cd"
  },
  {
   "cell_type": "code",
   "execution_count": 21,
   "outputs": [
    {
     "name": "stdout",
     "output_type": "stream",
     "text": [
      "Label: Label.WASHING, Premier Timestamp: 2024-11-01T14:16:50.000000s, Dernier Timestamp: 2024-11-01T14:43:49.999980s\n",
      "Label: Label.RINSING, Premier Timestamp: 2024-11-01T14:43:50.000000s, Dernier Timestamp: 2024-11-01T14:52:49.999980s\n",
      "Label: Label.ENDING, Premier Timestamp: 2024-11-01T15:05:50.000000s, Dernier Timestamp: 2024-11-01T15:06:49.999980s\n",
      "Label: Label.SPIN, Premier Timestamp: 2024-11-01T14:57:50.000000s, Dernier Timestamp: 2024-11-01T15:02:49.999980s\n",
      "Label: Label.START, Premier Timestamp: 2024-11-01T14:14:50.000000s, Dernier Timestamp: 2024-11-01T14:16:49.999980s\n",
      "Label: Label.FULL_SPIN, Premier Timestamp: 2024-11-01T15:02:50.000000s, Dernier Timestamp: 2024-11-01T15:05:49.999980s\n",
      "Label: Label.FINISHING_RINSING, Premier Timestamp: 2024-11-01T14:52:50.000000s, Dernier Timestamp: 2024-11-01T14:57:49.999980s\n",
      "Label: Label.STOP, Premier Timestamp: 2024-11-01T14:12:50.000000s, Dernier Timestamp: 2024-11-01T14:14:49.999980s\n"
     ]
    }
   ],
   "source": [
    "# Parcourir chaque label unique pour trouver le premier et le dernier timestamp\n",
    "for label in unique_labels:\n",
    "    first_index = None\n",
    "    last_index = None\n",
    "\n",
    "    for index, current_label in enumerate(myLabels):\n",
    "        if current_label == label:\n",
    "            if first_index is None:\n",
    "                first_index = index  # Premier occurrence\n",
    "            last_index = index  # Dernière occurrence\n",
    "\n",
    "    # Stocker les résultats dans le dictionnaire\n",
    "    if first_index is not None and last_index is not None:\n",
    "        label_timestamps[label] = {\n",
    "            'first_timestamp': myPlCTime[first_index],\n",
    "            'last_timestamp': myPlCTime[last_index]\n",
    "        }\n",
    "\n",
    "# Afficher les résultats\n",
    "for label, times in label_timestamps.items():\n",
    "    print(\n",
    "        f\"Label: {label}, Premier Timestamp: {times['first_timestamp']}s, Dernier Timestamp: {times['last_timestamp']}s\")\n",
    "\n"
   ],
   "metadata": {
    "collapsed": false,
    "ExecuteTime": {
     "end_time": "2024-11-04T14:52:36.609081Z",
     "start_time": "2024-11-04T14:49:54.609805700Z"
    }
   },
   "id": "1a423aa904d745c4"
  },
  {
   "cell_type": "code",
   "execution_count": 23,
   "outputs": [],
   "source": [
    "import pandas as pd\n",
    "\n",
    "\n",
    "soundValues = soundValues.copy()\n",
    "accelXValues = accelXValues.copy()\n",
    "labels = myLabels.copy()\n",
    "times=myPlCTime.copy()\n",
    "\n",
    "myDict = {'Time': myPlCTime, 'Sound': soundValues, 'AccelX': accelXValues, 'Label': myLabels}\n",
    "df = pd.DataFrame(myDict)"
   ],
   "metadata": {
    "collapsed": false,
    "ExecuteTime": {
     "end_time": "2024-11-04T15:04:50.996093700Z",
     "start_time": "2024-11-04T15:04:25.656089100Z"
    }
   },
   "id": "742493298b7025bc"
  },
  {
   "cell_type": "code",
   "execution_count": 25,
   "outputs": [
    {
     "name": "stdout",
     "output_type": "stream",
     "text": [
      "                        Time  Sound  AccelX       Label\n",
      "0 2024-11-01 14:12:50.000000      1      13  Label.STOP\n",
      "1 2024-11-01 14:12:50.000020      0       9  Label.STOP\n",
      "2 2024-11-01 14:12:50.000040      0      13  Label.STOP\n",
      "3 2024-11-01 14:12:50.000060      1       7  Label.STOP\n",
      "4 2024-11-01 14:12:50.000080     -4       6  Label.STOP\n",
      "                                Time  Sound  AccelX         Label\n",
      "161999995 2024-11-01 15:06:49.999900    -33       1  Label.ENDING\n",
      "161999996 2024-11-01 15:06:49.999920    -33      10  Label.ENDING\n",
      "161999997 2024-11-01 15:06:49.999940    -31       3  Label.ENDING\n",
      "161999998 2024-11-01 15:06:49.999960    -37       3  Label.ENDING\n",
      "161999999 2024-11-01 15:06:49.999980    -34       0  Label.ENDING\n"
     ]
    }
   ],
   "source": [
    "print(df.head(5))\n",
    "print(df.tail(5))"
   ],
   "metadata": {
    "collapsed": false,
    "ExecuteTime": {
     "end_time": "2024-11-04T15:05:17.473804600Z",
     "start_time": "2024-11-04T15:05:17.437265700Z"
    }
   },
   "id": "708048bb8fa4ee0c"
  },
  {
   "cell_type": "code",
   "execution_count": 30,
   "outputs": [],
   "source": [
    "df.index=df['Time']\n",
    "df.drop(columns=['Time'], inplace=True)"
   ],
   "metadata": {
    "collapsed": false,
    "ExecuteTime": {
     "end_time": "2024-11-04T15:14:10.012997100Z",
     "start_time": "2024-11-04T15:14:01.693540Z"
    }
   },
   "id": "17b8ae5efb02f13f"
  },
  {
   "cell_type": "code",
   "execution_count": 31,
   "outputs": [
    {
     "name": "stdout",
     "output_type": "stream",
     "text": [
      "                            Sound  AccelX        Label\n",
      "Time                                                  \n",
      "2024-11-01 14:14:49.999960     -8      10   Label.STOP\n",
      "2024-11-01 14:14:49.999980    -10       0   Label.STOP\n",
      "2024-11-01 14:14:50.000000     -8      13  Label.START\n",
      "2024-11-01 14:14:50.000020     -7      13  Label.START\n",
      "2024-11-01 14:14:50.000040     -7      13  Label.START\n"
     ]
    }
   ],
   "source": [
    "print(df.between_time('14:14:49.999960', '14:14:50.000040'))"
   ],
   "metadata": {
    "collapsed": false,
    "ExecuteTime": {
     "end_time": "2024-11-04T15:14:15.667963100Z",
     "start_time": "2024-11-04T15:14:11.261541700Z"
    }
   },
   "id": "2ffb1b0b945f2e13"
  },
  {
   "cell_type": "code",
   "execution_count": null,
   "outputs": [],
   "source": [
    "view_labels=pd.concat([df.between_time('14:14:49.999940', '14:14:50.000020'),\n",
    "      df.between_time('14:16:49.999980', '14:16:50.000020'), \n",
    "      df.between_time('14:43:49.999980', '14:43:50.000020'),\n",
    "      df.between_time('14:52:49.999980', '14:52:50.000020'),\n",
    "      df.between_time('14:57:49.999980', '14:57:50.000020'),\n",
    "      df.between_time('15:02:49.999980', '15:02:50.000020'),\n",
    "      df.between_time('15:05:49.999980', '15:05:50.000040')])\n",
    "print(view_labels)"
   ],
   "metadata": {
    "collapsed": false,
    "is_executing": true
   },
   "id": "427a000fdc6e5581"
  },
  {
   "cell_type": "code",
   "execution_count": null,
   "outputs": [],
   "source": [],
   "metadata": {
    "collapsed": false,
    "is_executing": true
   },
   "id": "177b08290231b0ed"
  },
  {
   "cell_type": "code",
   "execution_count": null,
   "outputs": [],
   "source": [],
   "metadata": {
    "collapsed": false
   },
   "id": "fe1d59cdc8e888d1"
  }
 ],
 "metadata": {
  "kernelspec": {
   "display_name": "Python 3",
   "language": "python",
   "name": "python3"
  },
  "language_info": {
   "codemirror_mode": {
    "name": "ipython",
    "version": 2
   },
   "file_extension": ".py",
   "mimetype": "text/x-python",
   "name": "python",
   "nbconvert_exporter": "python",
   "pygments_lexer": "ipython2",
   "version": "2.7.6"
  }
 },
 "nbformat": 4,
 "nbformat_minor": 5
}
