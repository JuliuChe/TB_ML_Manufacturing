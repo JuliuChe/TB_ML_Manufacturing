{
 "cells": [
  {
   "cell_type": "code",
   "execution_count": 10,
   "id": "initial_id",
   "metadata": {
    "collapsed": true,
    "ExecuteTime": {
     "end_time": "2024-11-07T07:11:14.850520200Z",
     "start_time": "2024-11-07T07:11:14.822448100Z"
    }
   },
   "outputs": [
    {
     "name": "stdout",
     "output_type": "stream",
     "text": [
      "First element is : [1, 2, 3]\n",
      "Second list is : (4, 5, 6)\n",
      "Middle lists :  [[7, 8, 9, 10]]\n",
      "Last list : [11, 12]\n"
     ]
    }
   ],
   "source": [
    "nested_list =[[1,2,3],[4,5,6],[7,8,9,10 ], [11,12]]\n",
    "first, (a,b,c), *middle, last = nested_list\n",
    "print(\"First element is :\", first)\n",
    "print(\"Second list is :\",(a,b,c))\n",
    "print(\"Middle lists : \",middle)\n",
    "print(\"Last list :\",last)"
   ]
  },
  {
   "cell_type": "code",
   "execution_count": 11,
   "outputs": [
    {
     "name": "stdout",
     "output_type": "stream",
     "text": [
      "sublist for\n",
      "        first element is: 7,\n",
      "        middle elementsare [8, 9],\n",
      "        last element is 10\n"
     ]
    }
   ],
   "source": [
    "for sublist in middle:\n",
    " a, *b, c = sublist\n",
    " print(f\"\"\"sublist for\n",
    "        first element is: {a},\n",
    "        middle elementsare {b},\n",
    "        last element is {c}\"\"\")"
   ],
   "metadata": {
    "collapsed": false,
    "ExecuteTime": {
     "end_time": "2024-11-07T07:11:15.301624800Z",
     "start_time": "2024-11-07T07:11:15.284632100Z"
    }
   },
   "id": "a2fcde1eab371ce4"
  },
  {
   "cell_type": "code",
   "execution_count": 9,
   "outputs": [],
   "source": [],
   "metadata": {
    "collapsed": false,
    "ExecuteTime": {
     "end_time": "2024-11-07T07:11:13.132193200Z",
     "start_time": "2024-11-07T07:11:13.121574200Z"
    }
   },
   "id": "57f949738313e356"
  },
  {
   "cell_type": "code",
   "execution_count": null,
   "outputs": [],
   "source": [],
   "metadata": {
    "collapsed": false
   },
   "id": "6371e18b72482056"
  }
 ],
 "metadata": {
  "kernelspec": {
   "display_name": "Python 3",
   "language": "python",
   "name": "python3"
  },
  "language_info": {
   "codemirror_mode": {
    "name": "ipython",
    "version": 2
   },
   "file_extension": ".py",
   "mimetype": "text/x-python",
   "name": "python",
   "nbconvert_exporter": "python",
   "pygments_lexer": "ipython2",
   "version": "2.7.6"
  }
 },
 "nbformat": 4,
 "nbformat_minor": 5
}
