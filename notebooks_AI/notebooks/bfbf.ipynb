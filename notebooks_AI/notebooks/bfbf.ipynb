{
 "cells": [
  {
   "cell_type": "code",
   "execution_count": 1,
   "id": "initial_id",
   "metadata": {
    "collapsed": true,
    "ExecuteTime": {
     "end_time": "2024-11-06T13:54:58.244363Z",
     "start_time": "2024-11-06T13:54:58.225251700Z"
    }
   },
   "outputs": [
    {
     "name": "stdout",
     "output_type": "stream",
     "text": [
      "['PMPM_RAW_BIN_60s_20241101_141249.csv', 'PMPM_RAW_BIN_60s_20241101_141349.csv', 'PMPM_RAW_BIN_60s_20241101_141450.csv', 'PMPM_RAW_BIN_60s_20241101_141550.csv', 'PMPM_RAW_BIN_60s_20241101_141650.csv', 'PMPM_RAW_BIN_60s_20241101_141750.csv', 'PMPM_RAW_BIN_60s_20241101_141850.csv', 'PMPM_RAW_BIN_60s_20241101_141950.csv', 'PMPM_RAW_BIN_60s_20241101_142050.csv', 'PMPM_RAW_BIN_60s_20241101_142150.csv', 'PMPM_RAW_BIN_60s_20241101_142250.csv', 'PMPM_RAW_BIN_60s_20241101_142350.csv', 'PMPM_RAW_BIN_60s_20241101_142450.csv', 'PMPM_RAW_BIN_60s_20241101_142550.csv', 'PMPM_RAW_BIN_60s_20241101_142650.csv', 'PMPM_RAW_BIN_60s_20241101_142750.csv', 'PMPM_RAW_BIN_60s_20241101_142850.csv', 'PMPM_RAW_BIN_60s_20241101_142950.csv', 'PMPM_RAW_BIN_60s_20241101_143050.csv', 'PMPM_RAW_BIN_60s_20241101_143150.csv', 'PMPM_RAW_BIN_60s_20241101_143250.csv', 'PMPM_RAW_BIN_60s_20241101_143350.csv', 'PMPM_RAW_BIN_60s_20241101_143450.csv', 'PMPM_RAW_BIN_60s_20241101_143550.csv', 'PMPM_RAW_BIN_60s_20241101_143650.csv', 'PMPM_RAW_BIN_60s_20241101_143750.csv', 'PMPM_RAW_BIN_60s_20241101_143850.csv', 'PMPM_RAW_BIN_60s_20241101_143950.csv', 'PMPM_RAW_BIN_60s_20241101_144050.csv', 'PMPM_RAW_BIN_60s_20241101_144150.csv', 'PMPM_RAW_BIN_60s_20241101_144250.csv', 'PMPM_RAW_BIN_60s_20241101_144350.csv', 'PMPM_RAW_BIN_60s_20241101_144450.csv', 'PMPM_RAW_BIN_60s_20241101_144550.csv', 'PMPM_RAW_BIN_60s_20241101_144650.csv', 'PMPM_RAW_BIN_60s_20241101_144750.csv', 'PMPM_RAW_BIN_60s_20241101_144850.csv', 'PMPM_RAW_BIN_60s_20241101_144950.csv', 'PMPM_RAW_BIN_60s_20241101_145050.csv', 'PMPM_RAW_BIN_60s_20241101_145150.csv', 'PMPM_RAW_BIN_60s_20241101_145250.csv', 'PMPM_RAW_BIN_60s_20241101_145350.csv', 'PMPM_RAW_BIN_60s_20241101_145450.csv', 'PMPM_RAW_BIN_60s_20241101_145550.csv', 'PMPM_RAW_BIN_60s_20241101_145650.csv', 'PMPM_RAW_BIN_60s_20241101_145750.csv', 'PMPM_RAW_BIN_60s_20241101_145850.csv', 'PMPM_RAW_BIN_60s_20241101_145950.csv', 'PMPM_RAW_BIN_60s_20241101_150050.csv', 'PMPM_RAW_BIN_60s_20241101_150150.csv', 'PMPM_RAW_BIN_60s_20241101_150250.csv', 'PMPM_RAW_BIN_60s_20241101_150350.csv', 'PMPM_RAW_BIN_60s_20241101_150450.csv', 'PMPM_RAW_BIN_60s_20241101_150550.csv']\n"
     ]
    }
   ],
   "source": [
    "from os import listdir\n",
    "from os.path import isfile, join\n",
    "mypath='../data/washingMachine/'\n",
    "\n",
    "onlyfiles = [f for f in listdir(mypath) if isfile(join(mypath, f))]\n",
    "print(onlyfiles)"
   ]
  },
  {
   "cell_type": "code",
   "execution_count": null,
   "outputs": [],
   "source": [],
   "metadata": {
    "collapsed": false
   },
   "id": "d4d5b4d016a43d0a"
  }
 ],
 "metadata": {
  "kernelspec": {
   "display_name": "Python 3",
   "language": "python",
   "name": "python3"
  },
  "language_info": {
   "codemirror_mode": {
    "name": "ipython",
    "version": 2
   },
   "file_extension": ".py",
   "mimetype": "text/x-python",
   "name": "python",
   "nbconvert_exporter": "python",
   "pygments_lexer": "ipython2",
   "version": "2.7.6"
  }
 },
 "nbformat": 4,
 "nbformat_minor": 5
}
