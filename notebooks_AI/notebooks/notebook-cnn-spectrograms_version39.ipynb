{
 "cells": [
  {
   "cell_type": "code",
   "execution_count": 1,
   "id": "a07f7499",
   "metadata": {
    "execution": {
     "iopub.execute_input": "2025-02-24T20:56:09.501775Z",
     "iopub.status.busy": "2025-02-24T20:56:09.501544Z",
     "iopub.status.idle": "2025-02-24T20:56:09.508414Z",
     "shell.execute_reply": "2025-02-24T20:56:09.507695Z"
    },
    "papermill": {
     "duration": 0.016648,
     "end_time": "2025-02-24T20:56:09.510102",
     "exception": false,
     "start_time": "2025-02-24T20:56:09.493454",
     "status": "completed"
    },
    "tags": []
   },
   "outputs": [],
   "source": [
    "import os\n",
    "os.environ['PJRT_DEVICE'] = 'TPU'\n"
   ]
  },
  {
   "cell_type": "code",
   "execution_count": 2,
   "id": "9d6f13b7",
   "metadata": {
    "_cell_guid": "b1076dfc-b9ad-4769-8c92-a6c4dae69d19",
    "_uuid": "8f2839f25d086af736a60e9eeb907d3b93b6e0e5",
    "execution": {
     "iopub.execute_input": "2025-02-24T20:56:09.524057Z",
     "iopub.status.busy": "2025-02-24T20:56:09.523817Z",
     "iopub.status.idle": "2025-02-24T20:56:22.008502Z",
     "shell.execute_reply": "2025-02-24T20:56:22.007013Z"
    },
    "papermill": {
     "duration": 12.493609,
     "end_time": "2025-02-24T20:56:22.010282",
     "exception": false,
     "start_time": "2025-02-24T20:56:09.516673",
     "status": "completed"
    },
    "tags": []
   },
   "outputs": [
    {
     "name": "stdout",
     "output_type": "stream",
     "text": [
      "/kaggle/input\n"
     ]
    },
    {
     "name": "stdout",
     "output_type": "stream",
     "text": [
      "/kaggle/input/mynumpyfiles\n"
     ]
    },
    {
     "name": "stdout",
     "output_type": "stream",
     "text": [
      "/kaggle/input/mynumpyfiles/NumpyDS\n"
     ]
    },
    {
     "name": "stdout",
     "output_type": "stream",
     "text": [
      "/kaggle/input/mynumpyfiles/NumpyDS/test_Npy_fold_1\n"
     ]
    },
    {
     "name": "stdout",
     "output_type": "stream",
     "text": [
      "/kaggle/input/mynumpyfiles/NumpyDS/train_Npy_fold_4\n"
     ]
    },
    {
     "name": "stdout",
     "output_type": "stream",
     "text": [
      "/kaggle/input/mynumpyfiles/NumpyDS/train_Npy_fold_2\n"
     ]
    },
    {
     "name": "stdout",
     "output_type": "stream",
     "text": [
      "/kaggle/input/mynumpyfiles/NumpyDS/train_Npy_fold_1\n"
     ]
    },
    {
     "name": "stdout",
     "output_type": "stream",
     "text": [
      "/kaggle/input/mynumpyfiles/NumpyDS/test_Npy_fold_0\n"
     ]
    },
    {
     "name": "stdout",
     "output_type": "stream",
     "text": [
      "/kaggle/input/mynumpyfiles/NumpyDS/test_Npy_fold_2\n"
     ]
    },
    {
     "name": "stdout",
     "output_type": "stream",
     "text": [
      "/kaggle/input/mynumpyfiles/NumpyDS/train_Npy_fold_0\n"
     ]
    },
    {
     "name": "stdout",
     "output_type": "stream",
     "text": [
      "/kaggle/input/mynumpyfiles/NumpyDS/test_Npy_fold_4\n"
     ]
    },
    {
     "name": "stdout",
     "output_type": "stream",
     "text": [
      "/kaggle/input/mynumpyfiles/NumpyDS/test_Npy_fold_3\n"
     ]
    },
    {
     "name": "stdout",
     "output_type": "stream",
     "text": [
      "/kaggle/input/mynumpyfiles/NumpyDS/train_Npy_fold_3\n"
     ]
    }
   ],
   "source": [
    "# This Python 3 environment comes with many helpful analytics libraries installed\n",
    "# It is defined by the kaggle/python Docker image: https://github.com/kaggle/docker-python\n",
    "# For example, here's several helpful packages to load\n",
    "import numpy as np # linear algebra\n",
    "import pandas as pd # data processing, CSV file I/O (e.g. pd.read_csv)\n",
    "\n",
    "# Input data files are available in the read-only \"../input/\" directory\n",
    "# For example, running this (by clicking run or pressing Shift+Enter) will list all files under the input directory\n",
    "\n",
    "import os\n",
    "import csv\n",
    "for dirname, _, filenames in os.walk('/kaggle/input'):\n",
    "    print(dirname)\n",
    "\n",
    "# You can write up to 20GB to the current directory (/kaggle/working/) that gets preserved as output when you create a version using \"Save & Run All\" \n",
    "# You can also write temporary files to /kaggle/temp/, but they won't be saved outside of the current session"
   ]
  },
  {
   "cell_type": "code",
   "execution_count": 3,
   "id": "29e90b32",
   "metadata": {
    "execution": {
     "iopub.execute_input": "2025-02-24T20:56:22.025768Z",
     "iopub.status.busy": "2025-02-24T20:56:22.025356Z",
     "iopub.status.idle": "2025-02-24T20:56:54.956311Z",
     "shell.execute_reply": "2025-02-24T20:56:54.954708Z"
    },
    "papermill": {
     "duration": 32.941224,
     "end_time": "2025-02-24T20:56:54.958666",
     "exception": false,
     "start_time": "2025-02-24T20:56:22.017442",
     "status": "completed"
    },
    "tags": []
   },
   "outputs": [
    {
     "name": "stderr",
     "output_type": "stream",
     "text": [
      "/usr/local/lib/python3.10/site-packages/torch_xla/__init__.py:253: UserWarning: `tensorflow` can conflict with `torch-xla`. Prefer `tensorflow-cpu` when using PyTorch/XLA. To silence this warning, `pip uninstall -y tensorflow && pip install tensorflow-cpu`. If you are in a notebook environment such as Colab or Kaggle, restart your notebook runtime afterwards.\n",
      "  warnings.warn(\n"
     ]
    }
   ],
   "source": [
    "import torch_xla\n",
    "import torch_xla.debug.metrics as met\n",
    "import torch_xla.distributed.parallel_loader as pl\n",
    "import torch_xla.utils.utils as xu\n",
    "import torch_xla.core.xla_model as xm\n",
    "import torch_xla.distributed.xla_multiprocessing as xmp\n",
    "import torch_xla.test.test_utils as test_utils\n",
    "\n",
    "from torch_xla.distributed.parallel_loader import MpDeviceLoader\n",
    "\n",
    "import warnings\n",
    "warnings.filterwarnings(\"ignore\")"
   ]
  },
  {
   "cell_type": "code",
   "execution_count": 4,
   "id": "0f3f40d8",
   "metadata": {
    "execution": {
     "iopub.execute_input": "2025-02-24T20:56:54.974460Z",
     "iopub.status.busy": "2025-02-24T20:56:54.974078Z",
     "iopub.status.idle": "2025-02-24T20:56:55.034349Z",
     "shell.execute_reply": "2025-02-24T20:56:55.033258Z"
    },
    "papermill": {
     "duration": 0.070981,
     "end_time": "2025-02-24T20:56:55.036652",
     "exception": false,
     "start_time": "2025-02-24T20:56:54.965671",
     "status": "completed"
    },
    "tags": []
   },
   "outputs": [],
   "source": [
    "myMeta=\"/kaggle/input/mynumpyfiles/NumpyDS/GlobalFoldsFiles_Train_Test_Augmented_Cleaned.csv\"\n",
    "myGlobalDs=pd.read_csv(myMeta)\n",
    "myGlobalDs.drop(myGlobalDs.columns[myGlobalDs.columns.str.contains('unnamed',case = False)],axis = 1, inplace = True)\n",
    "myGlobalDs[\"FilePath\"] = [fpath.replace(\"\\\\\", \"/\") for fpath in myGlobalDs[\"FilePath\"]]"
   ]
  },
  {
   "cell_type": "code",
   "execution_count": 5,
   "id": "bf6a7120",
   "metadata": {
    "execution": {
     "iopub.execute_input": "2025-02-24T20:56:55.053628Z",
     "iopub.status.busy": "2025-02-24T20:56:55.053329Z",
     "iopub.status.idle": "2025-02-24T20:56:55.075478Z",
     "shell.execute_reply": "2025-02-24T20:56:55.074376Z"
    },
    "papermill": {
     "duration": 0.032896,
     "end_time": "2025-02-24T20:56:55.076961",
     "exception": false,
     "start_time": "2025-02-24T20:56:55.044065",
     "status": "completed"
    },
    "tags": []
   },
   "outputs": [
    {
     "data": {
      "text/html": [
       "<div>\n",
       "<style scoped>\n",
       "    .dataframe tbody tr th:only-of-type {\n",
       "        vertical-align: middle;\n",
       "    }\n",
       "\n",
       "    .dataframe tbody tr th {\n",
       "        vertical-align: top;\n",
       "    }\n",
       "\n",
       "    .dataframe thead th {\n",
       "        text-align: right;\n",
       "    }\n",
       "</style>\n",
       "<table border=\"1\" class=\"dataframe\">\n",
       "  <thead>\n",
       "    <tr style=\"text-align: right;\">\n",
       "      <th></th>\n",
       "      <th>Fold</th>\n",
       "      <th>Type</th>\n",
       "      <th>nb</th>\n",
       "      <th>Label</th>\n",
       "      <th>condLabel</th>\n",
       "      <th>FileName</th>\n",
       "      <th>FilePath</th>\n",
       "      <th>LabelIDs</th>\n",
       "    </tr>\n",
       "  </thead>\n",
       "  <tbody>\n",
       "    <tr>\n",
       "      <th>0</th>\n",
       "      <td>0</td>\n",
       "      <td>Test</td>\n",
       "      <td>5.0</td>\n",
       "      <td>10_T02 M06 (VHM 309-12)</td>\n",
       "      <td>VHM</td>\n",
       "      <td>0006_label_T02 M06 (VHM 309-12).npy</td>\n",
       "      <td>test_Npy_fold_0/0006_label_T02 M06 (VHM 309-12...</td>\n",
       "      <td>0</td>\n",
       "    </tr>\n",
       "    <tr>\n",
       "      <th>1</th>\n",
       "      <td>0</td>\n",
       "      <td>Test</td>\n",
       "      <td>21.0</td>\n",
       "      <td>10_T02 M06 (VHM 309-12)</td>\n",
       "      <td>VHM</td>\n",
       "      <td>0022_label_T02 M06 (VHM 309-12).npy</td>\n",
       "      <td>test_Npy_fold_0/0022_label_T02 M06 (VHM 309-12...</td>\n",
       "      <td>0</td>\n",
       "    </tr>\n",
       "    <tr>\n",
       "      <th>2</th>\n",
       "      <td>0</td>\n",
       "      <td>Test</td>\n",
       "      <td>27.0</td>\n",
       "      <td>10_T02 M06 (VHM 309-12)</td>\n",
       "      <td>VHM</td>\n",
       "      <td>0028_label_T02 M06 (VHM 309-12).npy</td>\n",
       "      <td>test_Npy_fold_0/0028_label_T02 M06 (VHM 309-12...</td>\n",
       "      <td>0</td>\n",
       "    </tr>\n",
       "    <tr>\n",
       "      <th>3</th>\n",
       "      <td>0</td>\n",
       "      <td>Test</td>\n",
       "      <td>29.0</td>\n",
       "      <td>10_T02 M06 (VHM 309-12)</td>\n",
       "      <td>VHM</td>\n",
       "      <td>0030_label_T02 M06 (VHM 309-12).npy</td>\n",
       "      <td>test_Npy_fold_0/0030_label_T02 M06 (VHM 309-12...</td>\n",
       "      <td>0</td>\n",
       "    </tr>\n",
       "    <tr>\n",
       "      <th>4</th>\n",
       "      <td>0</td>\n",
       "      <td>Test</td>\n",
       "      <td>33.0</td>\n",
       "      <td>10_T02 M06 (VHM 309-12)</td>\n",
       "      <td>VHM</td>\n",
       "      <td>0034_label_T02 M06 (VHM 309-12).npy</td>\n",
       "      <td>test_Npy_fold_0/0034_label_T02 M06 (VHM 309-12...</td>\n",
       "      <td>0</td>\n",
       "    </tr>\n",
       "  </tbody>\n",
       "</table>\n",
       "</div>"
      ],
      "text/plain": [
       "   Fold  Type    nb                    Label condLabel  \\\n",
       "0     0  Test   5.0  10_T02 M06 (VHM 309-12)       VHM   \n",
       "1     0  Test  21.0  10_T02 M06 (VHM 309-12)       VHM   \n",
       "2     0  Test  27.0  10_T02 M06 (VHM 309-12)       VHM   \n",
       "3     0  Test  29.0  10_T02 M06 (VHM 309-12)       VHM   \n",
       "4     0  Test  33.0  10_T02 M06 (VHM 309-12)       VHM   \n",
       "\n",
       "                              FileName  \\\n",
       "0  0006_label_T02 M06 (VHM 309-12).npy   \n",
       "1  0022_label_T02 M06 (VHM 309-12).npy   \n",
       "2  0028_label_T02 M06 (VHM 309-12).npy   \n",
       "3  0030_label_T02 M06 (VHM 309-12).npy   \n",
       "4  0034_label_T02 M06 (VHM 309-12).npy   \n",
       "\n",
       "                                            FilePath  LabelIDs  \n",
       "0  test_Npy_fold_0/0006_label_T02 M06 (VHM 309-12...         0  \n",
       "1  test_Npy_fold_0/0022_label_T02 M06 (VHM 309-12...         0  \n",
       "2  test_Npy_fold_0/0028_label_T02 M06 (VHM 309-12...         0  \n",
       "3  test_Npy_fold_0/0030_label_T02 M06 (VHM 309-12...         0  \n",
       "4  test_Npy_fold_0/0034_label_T02 M06 (VHM 309-12...         0  "
      ]
     },
     "execution_count": 5,
     "metadata": {},
     "output_type": "execute_result"
    }
   ],
   "source": [
    "myGlobalDs.head()"
   ]
  },
  {
   "cell_type": "code",
   "execution_count": 6,
   "id": "86757d58",
   "metadata": {
    "execution": {
     "iopub.execute_input": "2025-02-24T20:56:55.093149Z",
     "iopub.status.busy": "2025-02-24T20:56:55.092857Z",
     "iopub.status.idle": "2025-02-24T20:56:55.107911Z",
     "shell.execute_reply": "2025-02-24T20:56:55.106714Z"
    },
    "papermill": {
     "duration": 0.025808,
     "end_time": "2025-02-24T20:56:55.109800",
     "exception": false,
     "start_time": "2025-02-24T20:56:55.083992",
     "status": "completed"
    },
    "tags": []
   },
   "outputs": [
    {
     "data": {
      "text/html": [
       "<div>\n",
       "<style scoped>\n",
       "    .dataframe tbody tr th:only-of-type {\n",
       "        vertical-align: middle;\n",
       "    }\n",
       "\n",
       "    .dataframe tbody tr th {\n",
       "        vertical-align: top;\n",
       "    }\n",
       "\n",
       "    .dataframe thead th {\n",
       "        text-align: right;\n",
       "    }\n",
       "</style>\n",
       "<table border=\"1\" class=\"dataframe\">\n",
       "  <thead>\n",
       "    <tr style=\"text-align: right;\">\n",
       "      <th></th>\n",
       "      <th>Fold</th>\n",
       "      <th>nb</th>\n",
       "      <th>LabelIDs</th>\n",
       "    </tr>\n",
       "  </thead>\n",
       "  <tbody>\n",
       "    <tr>\n",
       "      <th>count</th>\n",
       "      <td>11780.000000</td>\n",
       "      <td>7215.000000</td>\n",
       "      <td>11780.000000</td>\n",
       "    </tr>\n",
       "    <tr>\n",
       "      <th>mean</th>\n",
       "      <td>2.000000</td>\n",
       "      <td>991.312266</td>\n",
       "      <td>4.573005</td>\n",
       "    </tr>\n",
       "    <tr>\n",
       "      <th>std</th>\n",
       "      <td>1.414274</td>\n",
       "      <td>533.009652</td>\n",
       "      <td>3.262599</td>\n",
       "    </tr>\n",
       "    <tr>\n",
       "      <th>min</th>\n",
       "      <td>0.000000</td>\n",
       "      <td>5.000000</td>\n",
       "      <td>0.000000</td>\n",
       "    </tr>\n",
       "    <tr>\n",
       "      <th>25%</th>\n",
       "      <td>1.000000</td>\n",
       "      <td>515.000000</td>\n",
       "      <td>2.000000</td>\n",
       "    </tr>\n",
       "    <tr>\n",
       "      <th>50%</th>\n",
       "      <td>2.000000</td>\n",
       "      <td>1010.000000</td>\n",
       "      <td>5.000000</td>\n",
       "    </tr>\n",
       "    <tr>\n",
       "      <th>75%</th>\n",
       "      <td>3.000000</td>\n",
       "      <td>1477.000000</td>\n",
       "      <td>7.000000</td>\n",
       "    </tr>\n",
       "    <tr>\n",
       "      <th>max</th>\n",
       "      <td>4.000000</td>\n",
       "      <td>1837.000000</td>\n",
       "      <td>10.000000</td>\n",
       "    </tr>\n",
       "  </tbody>\n",
       "</table>\n",
       "</div>"
      ],
      "text/plain": [
       "               Fold           nb      LabelIDs\n",
       "count  11780.000000  7215.000000  11780.000000\n",
       "mean       2.000000   991.312266      4.573005\n",
       "std        1.414274   533.009652      3.262599\n",
       "min        0.000000     5.000000      0.000000\n",
       "25%        1.000000   515.000000      2.000000\n",
       "50%        2.000000  1010.000000      5.000000\n",
       "75%        3.000000  1477.000000      7.000000\n",
       "max        4.000000  1837.000000     10.000000"
      ]
     },
     "execution_count": 6,
     "metadata": {},
     "output_type": "execute_result"
    }
   ],
   "source": [
    "myGlobalDs.describe()"
   ]
  },
  {
   "cell_type": "code",
   "execution_count": 7,
   "id": "b1c329a9",
   "metadata": {
    "execution": {
     "iopub.execute_input": "2025-02-24T20:56:55.126725Z",
     "iopub.status.busy": "2025-02-24T20:56:55.126401Z",
     "iopub.status.idle": "2025-02-24T20:56:59.003734Z",
     "shell.execute_reply": "2025-02-24T20:56:59.002449Z"
    },
    "papermill": {
     "duration": 3.888656,
     "end_time": "2025-02-24T20:56:59.005994",
     "exception": false,
     "start_time": "2025-02-24T20:56:55.117338",
     "status": "completed"
    },
    "tags": []
   },
   "outputs": [],
   "source": [
    "import torch\n",
    "import torchaudio\n",
    "from torchaudio import transforms\n",
    "\n",
    "import math, random\n",
    "\n",
    "\n",
    "import matplotlib.pyplot as plt\n",
    "\n",
    "\n",
    "class DataUtils():\n",
    "    #---------------------------------------------\n",
    "    #Load a file and returns it as a list\n",
    "    #---------------------------------------------\n",
    "    @staticmethod\n",
    "    def x_loading(subsetXTrainFiles, myDir):\n",
    "        #Takes a list of files and returns a numpy array of shape (nObservations, nChannels, nSamples)\n",
    "        X_subset=[]\n",
    "        \n",
    "        for file in subsetXTrainFiles:    \n",
    "            myArray=np.load(os.path.join(myDir, file))\n",
    "            X_subset.append(myArray)\n",
    "        X_subset=np.array(X_subset) #X_subset.shape (1989 observations, 4 channels :sound, accel X,Y,Z, 250062 samples per observation)\n",
    "        \n",
    "        return X_subset\n",
    "    \n",
    "    @staticmethod\n",
    "    def saveFile(myNpy, destDir, fileName):\n",
    "        \"\"\"Save a file.\"\"\"\n",
    "        np.save(os.path.join(destDir, fileName), myNpy)\n",
    "\n",
    "    #---------------------------------------------\n",
    "    #Align the data to have a fixed duration.\n",
    "    #---------------------------------------------\n",
    "    @staticmethod\n",
    "    def padTruncate(mySig, maxTime, fs):\n",
    "        \"\"\"Pad or truncate the data to have a fixed duration.\n",
    "        Args:\n",
    "            mySig: the signal as a list\n",
    "            maxTime: The maximum time in milliseconds.\n",
    "            fs: the sampling rate in Hz    \n",
    "            \"\"\"\n",
    "        sLen = mySig.shape[0]\n",
    "        trunc=0\n",
    "        maxLen=int(maxTime*int(fs/1000))\n",
    "        if sLen > maxLen:\n",
    "            trunc=1\n",
    "            mySig = mySig[:, :maxLen]\n",
    "        elif sLen < maxLen:\n",
    "            trunc=-1\n",
    "            mySig = np.pad(mySig, ((0, int(maxLen - sLen)),(0,0)), mode='wrap')\n",
    "        \n",
    "        return (trunc, len(mySig), mySig)\n",
    "    \n",
    "    def addGaussianNoise(mySig, std=0.02):\n",
    "        \"\"\"Add a gaussian noise.\"\"\"\n",
    "        mySig_float=mySig.astype(np.float32)\n",
    "        noise = np.random.normal(0, std*np.std(np.abs(mySig_float), axis=0), mySig.shape)\n",
    "        noisySig=np.clip(mySig_float+noise, -32768,32767)        \n",
    "        return noisySig.astype(np.int16)\n",
    "    \n",
    "    def timeShift(mySig, shift_lim=0.5):\n",
    "        \"\"\"Shifts the data in time (reintroduce ending values at the beginning.\"\"\"\n",
    "        _, sLen = mySig.shape\n",
    "        shiftAmt = int(np.random.random() * shift_lim * sLen)\n",
    "        return np.roll(mySig, shiftAmt, axis=0)\n",
    "    \n",
    "    @staticmethod\n",
    "    def augment_fft(data, factor=1.2):\n",
    "        \"\"\"Augmente ou diminue certaines fréquences du signal\"\"\"\n",
    "        \n",
    "        fft_data = np.fft.fft(data, axis=0)\n",
    "        fft_data = fft_data * factor  # Modification du spectre\n",
    "        newData=np.real(np.fft.ifft(fft_data, axis=0))  # Retourne le signal temporel\n",
    "        newData = np.clip(newData, -32768, 32767)\n",
    "        return newData.astype(np.int16)\n",
    "\n",
    "    # ----------------------------\n",
    "    # Generate a Mel Spectrogram Excellent for Audio Data\n",
    "    # ----------------------------\n",
    "    @staticmethod\n",
    "    def mel_spectro_gram(mySig, n_mels=64, n_fft=1024, hop_len=None, fs=50000):\n",
    "        if hop_len is None:\n",
    "            hop_len = n_fft // 4\n",
    "            \n",
    "        top_db = 80\n",
    "        mySig=mySig.astype(np.float32)\n",
    "        mySigTensor=torch.from_numpy(mySig.T)\n",
    "        # spec has shape [channel, n_mels, time], where channel is mono, stereo etc\n",
    "        spec = transforms.MelSpectrogram(fs, n_fft=n_fft, hop_length=hop_len, n_mels=n_mels)(mySigTensor)\n",
    "        # Convert to decibels\n",
    "        spec = transforms.AmplitudeToDB(top_db=top_db)(spec)\n",
    "        spec = spec.unsqueeze(0) if spec.dim() == 2 else spec\n",
    "        return (spec, hop_len)\n",
    "    \n",
    "    # ----------------------------\n",
    "    # Generate a \"classic\" Spectrogram for Accelerometer Data\n",
    "    # ----------------------------\n",
    "    @staticmethod\n",
    "    def spectro_gram(mySig, n_fft=1024, hop_len=None, fs=50000):\n",
    "        if hop_len is None:\n",
    "            hop_len = n_fft // 4\n",
    "            \n",
    "        mySig=mySig.astype(np.float32)\n",
    "        mySigTensor=torch.from_numpy(mySig.T)\n",
    "        # spec has shape [channel, n_mels, time], where channel is mono, stereo etc\n",
    "        spec = transforms.Spectrogram(n_fft=n_fft, hop_length=hop_len, power=2)(mySigTensor)\n",
    "        # Convert to decibels\n",
    "        spec = transforms.AmplitudeToDB()(spec)\n",
    "        spec = spec.unsqueeze(0) if spec.dim() == 2 else spec\n",
    "        return (spec, hop_len)\n",
    "    \n",
    "    # ----------------------------\n",
    "    # Visualize a Spectrogram\n",
    "    # ----------------------------\n",
    "    @staticmethod\n",
    "    def show_spectrogram(spec, fs=50000, hop=256, title=\"Spectrogram\", ylabel='Mel Frequency Bands', channels=['Sound', 'AccX', 'AccY', 'AccZ'], mel=False):\n",
    "        nbChannels=spec.shape[0]\n",
    "        fig, axs = plt.subplots(nbChannels, 1, figsize=(18, 12))\n",
    "        if nbChannels==1:\n",
    "            axs=[axs]\n",
    "        timeAxis=np.arange(0, spec.shape[2]*hop, hop)/fs\n",
    "        freqAxis = np.linspace(0, fs / 2, spec.shape[1])\n",
    "        for i in range(nbChannels):\n",
    "            if mel:\n",
    "                img=axs[i].imshow(spec[i].detach().numpy(), aspect='auto', origin='lower', cmap='viridis', extent=[timeAxis[0], timeAxis[-1], 0, spec[i].shape[0]])\n",
    "            else:\n",
    "                img=axs[i].imshow(spec[i].detach().numpy(), aspect='auto', origin='lower', cmap='viridis', extent=[timeAxis[0], timeAxis[-1], freqAxis[0], freqAxis[-1]])\n",
    "                \n",
    "            axs[i].set_title(f\"Channel {channels[i]}\")\n",
    "            axs[i].set_ylabel(ylabel)\n",
    "        plt.xlabel('Time [s]')\n",
    "        plt.suptitle(title)\n",
    "        plt.colorbar(img, ax=axs, orientation='vertical')\n",
    "        plt.show()\n",
    "        \n",
    "    # ----------------------------\n",
    "    # Augment a Spectrogram\n",
    "    # ----------------------------\n",
    "    @staticmethod\n",
    "    def spectro_Augment(spectro, maxMaskPercentage=0.1,nFreqMask=1, nTimeMasks=1):\n",
    "        \"\"\"Augmente ou diminue certaines fréquences du signal\"\"\"\n",
    "        nChannel, nFreq, nSteps = spectro.shape\n",
    "        mask_value=spectro.mean()\n",
    "        aug_spec=spectro.clone()\n",
    "        freqMaskParam=maxMaskPercentage*nFreq\n",
    "        timeMaskParam=maxMaskPercentage*nSteps\n",
    "        \n",
    "        for ch in range(nChannel):\n",
    "            channelSpec=aug_spec[ch]\n",
    "            for _ in range(nFreqMask):\n",
    "                channelSpec=transforms.FrequencyMasking(freqMaskParam)(channelSpec, mask_value)\n",
    "\n",
    "            for _ in range(nTimeMasks):\n",
    "                channelSpec=transforms.TimeMasking(timeMaskParam)(channelSpec, mask_value)\n",
    "            aug_spec[ch]=channelSpec\n",
    "            \n",
    "        return aug_spec\n",
    "        \n"
   ]
  },
  {
   "cell_type": "code",
   "execution_count": 8,
   "id": "f22fed7e",
   "metadata": {
    "execution": {
     "iopub.execute_input": "2025-02-24T20:56:59.023395Z",
     "iopub.status.busy": "2025-02-24T20:56:59.022957Z",
     "iopub.status.idle": "2025-02-24T20:56:59.029999Z",
     "shell.execute_reply": "2025-02-24T20:56:59.028885Z"
    },
    "papermill": {
     "duration": 0.01752,
     "end_time": "2025-02-24T20:56:59.031396",
     "exception": false,
     "start_time": "2025-02-24T20:56:59.013876",
     "status": "completed"
    },
    "tags": []
   },
   "outputs": [],
   "source": [
    "\n",
    "from torch.utils.data import DataLoader, Dataset\n",
    "\n",
    "#With TPU\n",
    "from torch_xla.distributed.parallel_loader import MpDeviceLoader\n",
    "\n",
    "\n",
    "#Creation of a custom Dataset for PyTorch\n",
    "\n",
    "#df must contain Label and filepath only for one fold of training data. Folds will be dealt with externally to the DataLoader class.\n",
    "\n",
    "#Datapath is the path to the folder containing all the folds (i.e. F:\\Data_BachelorHES\\DataSet_CNC\\DataSetsFolds) \n",
    "\n",
    "class DataDS(Dataset):\n",
    "    \n",
    "    def __init__(self, df, datapath):\n",
    "        self.df=df\n",
    "        self.datapath=str(datapath)\n",
    "        self.duration=5001.24\n",
    "        self.fs=50000\n",
    "        self.channel=4\n",
    "        \n",
    "    def __len__(self):\n",
    "        return len(self.df)\n",
    "    \n",
    "    def __getitem__(self, idx):\n",
    "        row=self.df.iloc[idx]\n",
    "        dirFile=os.path.join(self.datapath,row['FilePath'])\n",
    "        observationLoad=np.load(dirFile)\n",
    "        labelId=row['LabelIDs']\n",
    "        _, lenObs, obs=DataUtils.padTruncate(observationLoad, self.duration, self.fs)\n",
    "        spec, _ = DataUtils.spectro_gram(obs, n_fft=1024, hop_len=None, fs=self.fs)\n",
    "        augspec=DataUtils.spectro_Augment(spec, maxMaskPercentage=0.1,nFreqMask=2, nTimeMasks=2)\n",
    "        return (augspec, labelId)"
   ]
  },
  {
   "cell_type": "code",
   "execution_count": 9,
   "id": "40fcaac6",
   "metadata": {
    "execution": {
     "iopub.execute_input": "2025-02-24T20:56:59.047154Z",
     "iopub.status.busy": "2025-02-24T20:56:59.046898Z",
     "iopub.status.idle": "2025-02-24T20:56:59.058820Z",
     "shell.execute_reply": "2025-02-24T20:56:59.057640Z"
    },
    "papermill": {
     "duration": 0.021875,
     "end_time": "2025-02-24T20:56:59.060473",
     "exception": false,
     "start_time": "2025-02-24T20:56:59.038598",
     "status": "completed"
    },
    "tags": []
   },
   "outputs": [],
   "source": [
    "import torch.nn.functional as F\n",
    "import torch.nn as nn\n",
    "from torch.nn import init\n",
    "#       Spectrogram   |  Shape  (nbChannel, nbFreq, nbTime)|  DataType \n",
    "#Augmented Spec shape |        torch.Size([4, 513, 977])   |  torch.FloatTensor\n",
    "\n",
    "# ----------------------------\n",
    "# Audio Classification Model\n",
    "# ----------------------------\n",
    "class ToolClassifier (nn.Module):\n",
    "    # ----------------------------\n",
    "    # Build the model architecture\n",
    "    # ----------------------------\n",
    "    def __init__(self):\n",
    "        super().__init__()\n",
    "        conv_layers = []\n",
    "\n",
    "        # First Convolution Block with Relu and Batch Norm. Use Kaiming Initialization\n",
    "        #torch.nn.Conv2d(in_channels, out_channels, kernel_size, stride=1, padding=0, dilation=1, groups=1, bias=True, padding_mode='zeros', device=None, dtype=None)\n",
    "        #This convolution block \n",
    "        inChannels=4\n",
    "        outChannels=16\n",
    "        self.conv1 = nn.Conv2d(inChannels, outChannels, kernel_size=(5, 5), stride=(2, 2), padding=(2, 2))\n",
    "        self.relu1 = nn.ReLU()\n",
    "        self.bn1 = nn.BatchNorm2d(outChannels)\n",
    "        init.kaiming_normal_(self.conv1.weight, a=0.1)\n",
    "        self.conv1.bias.data.zero_()\n",
    "        conv_layers += [self.conv1, self.relu1, self.bn1]\n",
    "\n",
    "        # Second Convolution Block\n",
    "        inChannels=16\n",
    "        outChannels=32\n",
    "        self.conv2 = nn.Conv2d(inChannels, outChannels, kernel_size=(3, 3), stride=(2, 2), padding=(1, 1))\n",
    "        self.relu2 = nn.ReLU()\n",
    "        self.bn2 = nn.BatchNorm2d(outChannels)\n",
    "        init.kaiming_normal_(self.conv2.weight, a=0.1)\n",
    "        self.conv2.bias.data.zero_()\n",
    "        conv_layers += [self.conv2, self.relu2, self.bn2]\n",
    "\n",
    "        # Third Convolution Block\n",
    "        inChannels=32\n",
    "        outChannels=64\n",
    "        self.conv3 = nn.Conv2d(inChannels, outChannels, kernel_size=(3, 3), stride=(2, 2), padding=(1, 1))\n",
    "        self.relu3 = nn.ReLU()\n",
    "        self.bn3 = nn.BatchNorm2d(outChannels)\n",
    "        init.kaiming_normal_(self.conv3.weight, a=0.1)\n",
    "        self.conv3.bias.data.zero_()\n",
    "        conv_layers += [self.conv3, self.relu3, self.bn3]\n",
    "\n",
    "        # Fourth Convolution Block\n",
    "        inChannels=64\n",
    "        outChannels=128\n",
    "        self.conv4 = nn.Conv2d(inChannels, outChannels, kernel_size=(3, 3), stride=(2, 2), padding=(1, 1))\n",
    "        self.relu4 = nn.ReLU()\n",
    "        self.bn4 = nn.BatchNorm2d(outChannels)\n",
    "        init.kaiming_normal_(self.conv4.weight, a=0.1)\n",
    "        self.conv4.bias.data.zero_()\n",
    "        conv_layers += [self.conv4, self.relu4, self.bn4]\n",
    "\n",
    "        # Linear Classifier\n",
    "        self.ap = nn.AdaptiveAvgPool2d(output_size=1)\n",
    "        self.lin = nn.Linear(in_features=outChannels, out_features=11)\n",
    "\n",
    "        # Wrap the Convolutional Blocks\n",
    "        self.conv = nn.Sequential(*conv_layers)\n",
    " \n",
    "    # ----------------------------\n",
    "    # Forward pass computations\n",
    "    # ----------------------------\n",
    "    def forward(self, x):\n",
    "        # Run the convolutional blocks\n",
    "        x = self.conv(x)\n",
    "\n",
    "        # Adaptive pool and flatten for input to linear layer\n",
    "        x = self.ap(x)\n",
    "        x = x.view(x.shape[0], -1)\n",
    "\n",
    "        # Linear layer\n",
    "        x = self.lin(x)\n",
    "\n",
    "        # Final output\n",
    "        return x\n",
    "\n"
   ]
  },
  {
   "cell_type": "code",
   "execution_count": 10,
   "id": "3a0d5627",
   "metadata": {
    "execution": {
     "iopub.execute_input": "2025-02-24T20:56:59.077678Z",
     "iopub.status.busy": "2025-02-24T20:56:59.077371Z",
     "iopub.status.idle": "2025-02-24T20:57:01.990359Z",
     "shell.execute_reply": "2025-02-24T20:57:01.988758Z"
    },
    "papermill": {
     "duration": 2.925143,
     "end_time": "2025-02-24T20:57:01.992407",
     "exception": false,
     "start_time": "2025-02-24T20:56:59.067264",
     "status": "completed"
    },
    "tags": []
   },
   "outputs": [],
   "source": [
    "from sklearn.metrics import confusion_matrix, classification_report\n",
    "\n",
    "# ----------------------------\n",
    "# Inference\n",
    "# ----------------------------\n",
    "def inference (model, test_dl, device, trainMean, trainStd ):\n",
    "    model.eval() #Put the model in eval/testing mode\n",
    "    allPreds=[]\n",
    "    allLabels=[]\n",
    "    correct_prediction = 0\n",
    "    total_prediction = 0\n",
    "    \n",
    "    # Disable gradient updates\n",
    "    with torch.no_grad():\n",
    "        for data in test_dl:\n",
    "            # Get the input features and target labels, and put them on the GPU\n",
    "            inputs, labels = data[0].to(device), data[1].to(device)\n",
    "            \n",
    "            # Normalize the inputs\n",
    "            inputs = (inputs - trainMean.view(1,-1,1,1)) / trainStd.view(1,-1,1,1)\n",
    "            \n",
    "            # Get predictions\n",
    "            outputs = model(inputs)\n",
    "            \n",
    "            # Get the predicted class with the highest score\n",
    "            _, prediction = torch.max(outputs,1)\n",
    "            # Count of predictions that matched the target label\n",
    "            correct_prediction += (prediction == labels).sum().item()\n",
    "            total_prediction += prediction.shape[0]\n",
    "            allPreds.append(prediction.cpu().numpy())\n",
    "            allLabels.append(labels.cpu().numpy())\n",
    "\n",
    "    #Concatenate all results over the entire test set\n",
    "    allPreds = np.concatenate(allPreds)\n",
    "    allLabels = np.concatenate(allLabels)\n",
    "    \n",
    "    acc = correct_prediction/total_prediction\n",
    "    xm.master_print(f'On inference : Accuracy: {acc:.2f}, Total items: {total_prediction}')\n",
    "\n",
    "    # Compute Confusion Matrix\n",
    "    confMatrix = confusion_matrix(allLabels, allPreds)\n",
    "\n",
    "\n",
    "     # Comput Classification Report (precision, recall, f1-score, support)\n",
    "    classReport = classification_report(allLabels, allPreds,output_dict=True, digits=4, zero_division=0)\n",
    "\n",
    "\n",
    "    return confMatrix, classReport\n",
    "    \n"
   ]
  },
  {
   "cell_type": "code",
   "execution_count": 11,
   "id": "02c12199",
   "metadata": {
    "execution": {
     "iopub.execute_input": "2025-02-24T20:57:02.009527Z",
     "iopub.status.busy": "2025-02-24T20:57:02.009018Z",
     "iopub.status.idle": "2025-02-24T20:57:02.021845Z",
     "shell.execute_reply": "2025-02-24T20:57:02.020800Z"
    },
    "papermill": {
     "duration": 0.023434,
     "end_time": "2025-02-24T20:57:02.023640",
     "exception": false,
     "start_time": "2025-02-24T20:57:02.000206",
     "status": "completed"
    },
    "tags": []
   },
   "outputs": [],
   "source": [
    "# ----------------------------\n",
    "# Training Loop\n",
    "# ----------------------------\n",
    "def normalize_ds(dataloader, device):\n",
    "    #Compute mean and standard deviation accross all train data\n",
    "    # results are mean and std for every spectrogram accross all channels (here mean and std have size (4,513,977))\n",
    "    sumInp=None\n",
    "    sumSqDiff=None\n",
    "    totObs=0\n",
    "    \n",
    "    #iterate over data to calculate global data mean\n",
    "    for i, data in enumerate(dataloader): \n",
    "        \n",
    "        inputs =data[0].to(device)\n",
    "        if sumInp is None:\n",
    "            sumInp=torch.zeros(inputs.size(1),inputs.size(2),inputs.size(3), device=device)\n",
    "            sumSqDiff=torch.zeros(inputs.size(1),inputs.size(2),inputs.size(3), device=device)\n",
    "            \n",
    "        sumInp+=inputs.sum(dim=0)\n",
    "        totObs+=inputs.size(0)\n",
    "        del inputs  # ✅ Libère la mémoire\n",
    "        xm.mark_step()  # ✅ Assure la libération sur TPU\n",
    "        \n",
    "    totMean=sumInp/totObs\n",
    "    \n",
    "    for i, data in enumerate(dataloader):\n",
    "        inputs =data[0].to(device)\n",
    "        sumSqDiff+=((inputs-totMean)**2).sum(dim=0)\n",
    "\n",
    "        del inputs  # ✅ Libère la mémoire\n",
    "        xm.mark_step()  # ✅ Assure la libération sur TPU\n",
    "        \n",
    "    totVar=sumSqDiff/totObs\n",
    "    totStd=torch.sqrt(totVar+1e-8)\n",
    "    return totMean, totStd\n",
    "\n",
    "\n",
    "def training(model, device, train_dl, num_epochs):\n",
    "    #store_results\n",
    "    accuracies=[]\n",
    "    losses=[]\n",
    "    #Put the model in training mode \n",
    "    model.train()\n",
    "    # Loss Function, Optimizer and Scheduler\n",
    "    criterion = nn.CrossEntropyLoss()\n",
    "    optimizer = torch.optim.Adam(model.parameters(),lr=0.001)\n",
    "    scheduler = torch.optim.lr_scheduler.OneCycleLR(optimizer, max_lr=0.001,\n",
    "                                                steps_per_epoch=int(len(train_dl)),\n",
    "                                                epochs=num_epochs,\n",
    "                                                anneal_strategy='linear')\n",
    "\n",
    "    trainMean, trainStd=normalize_ds(train_dl, device)\n",
    "    \n",
    "    # Repeat for each epoch\n",
    "    for epoch in range(num_epochs):\n",
    "        running_loss = 0.0\n",
    "        correct_prediction = 0\n",
    "        total_prediction = 0\n",
    "        \n",
    "        # Repeat for each batch in the training set\n",
    "        for i, data in enumerate(train_dl):\n",
    "            # Get the input features and target labels, and put them on the GPU\n",
    "            inputs, labels = data[0].to(device), data[1].to(device)\n",
    "        \n",
    "            # Normalize the inputs\n",
    "            inputs = (inputs - trainMean.view(1,*trainMean.shape)) / trainStd.view(1,*trainStd.shape)\n",
    "        \n",
    "            # Zero the parameter gradients\n",
    "            optimizer.zero_grad()\n",
    "        \n",
    "            # forward + backward + optimize\n",
    "            outputs = model(inputs)\n",
    "            loss = criterion(outputs, labels)\n",
    "            loss.backward()\n",
    "            xm.optimizer_step(optimizer, barrier=True)\n",
    "            scheduler.step()\n",
    "        \n",
    "            # Keep stats for Loss and Accuracy\n",
    "            running_loss += loss.item()\n",
    "        \n",
    "            # Get the predicted class with the highest score\n",
    "            _, prediction = torch.max(outputs,1)\n",
    "            # Count of predictions that matched the target label\n",
    "            correct_prediction += (prediction == labels).sum().item()\n",
    "            total_prediction += prediction.shape[0]\n",
    "        \n",
    "            #if i % 10 == 0:    # print every 10 mini-batches\n",
    "            #    print('[%d, %5d] loss: %.3f' % (epoch + 1, i + 1, running_loss / 10))\n",
    "            \n",
    "        # Print stats at the end of the epoch\n",
    "        num_batches = len(train_dl)\n",
    "        avg_loss = running_loss / num_batches\n",
    "        acc = correct_prediction/total_prediction\n",
    "        accuracies.append(acc)\n",
    "        losses.append(avg_loss)\n",
    "        xm.master_print(f'Epoch: {epoch}, Loss: {avg_loss:.2f}, Accuracy: {acc:.2f}')\n",
    "    \n",
    "    xm.master_print('Finished Training')\n",
    "    return accuracies, losses, trainMean, trainStd         \n",
    "    "
   ]
  },
  {
   "cell_type": "code",
   "execution_count": 13,
   "id": "7e6006c7",
   "metadata": {
    "execution": {
     "iopub.execute_input": "2025-02-24T20:57:02.063356Z",
     "iopub.status.busy": "2025-02-24T20:57:02.063131Z",
     "iopub.status.idle": "2025-02-24T20:57:02.067519Z",
     "shell.execute_reply": "2025-02-24T20:57:02.066502Z"
    },
    "papermill": {
     "duration": 0.014963,
     "end_time": "2025-02-24T20:57:02.069233",
     "exception": false,
     "start_time": "2025-02-24T20:57:02.054270",
     "status": "completed"
    },
    "tags": []
   },
   "outputs": [
    {
     "name": "stdout",
     "output_type": "stream",
     "text": [
      "DataDS\t DataLoader\t DataUtils\t Dataset\t F\t MpDeviceLoader\t ToolClassifier\t classification_report\t confusion_matrix\t \n",
      "csv\t dirname\t filenames\t inference\t init\t math\t met\t myGlobalDs\t myMeta\t \n",
      "nn\t normalize_ds\t np\t os\t pd\t pl\t plt\t random\t test_utils\t \n",
      "torch\t torch_xla\t torchaudio\t training\t transforms\t warnings\t xm\t xmp\t xu\t \n"
     ]
    }
   ],
   "source": [
    "%who"
   ]
  },
  {
   "cell_type": "markdown",
   "id": "b779b4c9",
   "metadata": {
    "papermill": {
     "duration": 0.00741,
     "end_time": "2025-02-24T20:57:02.149535",
     "exception": false,
     "start_time": "2025-02-24T20:57:02.142125",
     "status": "completed"
    },
    "tags": []
   },
   "source": [
    "## Learning curve with respect to number of epochs"
   ]
  },
  {
   "cell_type": "code",
   "execution_count": 19,
   "id": "700ac96f",
   "metadata": {
    "execution": {
     "iopub.execute_input": "2025-02-24T20:57:02.224824Z",
     "iopub.status.busy": "2025-02-24T20:57:02.224615Z",
     "iopub.status.idle": "2025-02-24T20:57:02.228897Z",
     "shell.execute_reply": "2025-02-24T20:57:02.227643Z"
    },
    "papermill": {
     "duration": 0.014171,
     "end_time": "2025-02-24T20:57:02.229866",
     "exception": false,
     "start_time": "2025-02-24T20:57:02.215695",
     "status": "completed"
    },
    "tags": []
   },
   "outputs": [],
   "source": [
    "import os\n",
    "import gc\n",
    "import torch\n",
    "import torch.nn as nn\n",
    "import torch.optim as optim\n",
    "import torch_xla.core.xla_model as xm\n",
    "import torch_xla.distributed.parallel_loader as pl\n",
    "import torch_xla.distributed.xla_multiprocessing as xmp\n",
    "from torch.utils.data import DataLoader, DistributedSampler"
   ]
  },
  {
   "cell_type": "code",
   "execution_count": 20,
   "id": "ae6ddfd2",
   "metadata": {
    "execution": {
     "iopub.execute_input": "2025-02-24T20:57:02.246863Z",
     "iopub.status.busy": "2025-02-24T20:57:02.246636Z",
     "iopub.status.idle": "2025-02-24T20:57:02.256594Z",
     "shell.execute_reply": "2025-02-24T20:57:02.255622Z"
    },
    "papermill": {
     "duration": 0.020874,
     "end_time": "2025-02-24T20:57:02.258358",
     "exception": false,
     "start_time": "2025-02-24T20:57:02.237484",
     "status": "completed"
    },
    "tags": []
   },
   "outputs": [],
   "source": [
    "\n",
    "\n",
    "def training_one_epoch(model, optimizer, criterion, scheduler, device, train_dl, trainMean, trainStd, epochNb):\n",
    "        #Put the model in training mode \n",
    "    model.train()\n",
    "    running_loss = 0.0\n",
    "    correct_prediction = 0\n",
    "    total_prediction = 0\n",
    "    \n",
    "    # Repeat for each batch in the training set\n",
    "    for i, data in enumerate(train_dl):\n",
    "        # Get the input features and target labels, and put them on the GPU\n",
    "        inputs, labels = data[0].to(device), data[1].to(device)\n",
    "    \n",
    "        # Normalize the inputs\n",
    "        inputs = (inputs - trainMean.view(1,*trainMean.shape)) / trainStd.view(1,*trainStd.shape)\n",
    "    \n",
    "        # Zero the parameter gradients\n",
    "        optimizer.zero_grad()\n",
    "    \n",
    "        # forward + backward + optimize\n",
    "        outputs = model(inputs)\n",
    "        loss = criterion(outputs, labels)\n",
    "        loss.backward()\n",
    "        \n",
    "\n",
    "        #Use ofd TPU + Scheduler\n",
    "        xm.optimizer_step(optimizer, barrier=True)\n",
    "        xm.mark_step()  # Synchronisation du TPU\n",
    "        scheduler.step()\n",
    "    \n",
    "        # Keep stats for Loss and Accuracy\n",
    "        running_loss += loss.item()\n",
    "    \n",
    "        # Get the predicted class with the highest score\n",
    "        _, prediction = torch.max(outputs,1)\n",
    "        # Count of predictions that matched the target label\n",
    "        correct_prediction += (prediction == labels).sum().item()\n",
    "        total_prediction += prediction.shape[0]\n",
    "            \n",
    "    # Print stats at the end of the epoch for the training stage\n",
    "    num_batches = len(train_dl)\n",
    "    avg_loss = running_loss / num_batches\n",
    "    acc = correct_prediction/total_prediction\n",
    "    xm.master_print(f'Epoch Training: {epochNb}, Loss: {avg_loss:.4f}, Accuracy: {acc:.4f}')\n",
    "    return avg_loss, acc\n",
    "\n",
    "def testing_one_epoch(model, criterion, device, test_dl, trainMean, trainStd, epochNb):\n",
    "    #Evaluate model for each epoch\n",
    "    model.eval()\n",
    "    test_loss = 0.0\n",
    "    correct=0\n",
    "    total=0\n",
    "    \n",
    "    with torch.no_grad():     \n",
    "        for inputs, labels in test_dl:\n",
    "            inputs, labels = inputs.to(device), labels.to(device)\n",
    "            \n",
    "            # Normalize the inputs\n",
    "            inputs = (inputs - trainMean.view(1,*trainMean.shape)) / trainStd.view(1,*trainStd.shape)\n",
    "\n",
    "            #Get prediciitons\n",
    "            outputs = model(inputs)\n",
    "            _, prediction = torch.max(outputs, 1)\n",
    "            \n",
    "            loss = criterion(outputs, labels)\n",
    "            test_loss += loss.item()\n",
    "\n",
    "            correct += (prediction == labels).sum().item()\n",
    "            total += prediction.shape[0]\n",
    "\n",
    "                           \n",
    "    test_acc = correct/total\n",
    "    avg_test_loss=test_loss / len(test_dl)\n",
    "    xm.master_print(f'Epoch Test: {epochNb}, Loss: {avg_test_loss:.4f}, Accuracy: {test_acc:.4f}')\n",
    "    return avg_test_loss, test_acc"
   ]
  },
  {
   "cell_type": "code",
   "execution_count": 21,
   "id": "e2c55968",
   "metadata": {
    "execution": {
     "iopub.execute_input": "2025-02-24T20:57:02.275326Z",
     "iopub.status.busy": "2025-02-24T20:57:02.275105Z",
     "iopub.status.idle": "2025-02-24T20:57:02.285069Z",
     "shell.execute_reply": "2025-02-24T20:57:02.284058Z"
    },
    "papermill": {
     "duration": 0.02068,
     "end_time": "2025-02-24T20:57:02.286575",
     "exception": false,
     "start_time": "2025-02-24T20:57:02.265895",
     "status": "completed"
    },
    "tags": []
   },
   "outputs": [],
   "source": [
    "def process_one_fold(run, device, results_queue, myGlobalDs, mainDir, nbEpochs):\n",
    "    \n",
    "\n",
    "    # 📌 Chargement des données\n",
    "    myTrain = myGlobalDs[(myGlobalDs['Fold'] == run) & (myGlobalDs['Type'] == 'Train')].copy()\n",
    "    myTrain = myTrain.drop(columns=['Fold', 'Type', 'nb', 'condLabel'])\n",
    "    trainFoldi = DataDS(myTrain, mainDir)\n",
    "\n",
    "    myTest = myGlobalDs[(myGlobalDs['Fold'] == run) & (myGlobalDs['Type'] == 'Test')].copy()\n",
    "    myTest = myTest.drop(columns=['Fold', 'Type', 'nb', 'condLabel'])\n",
    "    testFoldi = DataDS(myTest, mainDir)\n",
    "\n",
    "    # Distribute datasets on 8 TPU Cores\n",
    "    train_sampler = DistributedSampler(trainFoldi, num_replicas=xm.xrt_world_size(), rank=xm.get_ordinal(), shuffle=True)\n",
    "    test_sampler = DistributedSampler(testFoldi, num_replicas=xm.xrt_world_size(), rank=xm.get_ordinal(), shuffle=False)\n",
    "\n",
    "    # Create the DataLoaders\n",
    "    train_dataloader = DataLoader(trainFoldi, batch_size=8, sampler=train_sampler)\n",
    "    test_dataloader = DataLoader(testFoldi, batch_size=8, sampler=test_sampler)\n",
    "\n",
    "    # Create the model to be trained\n",
    "    myModel = ToolClassifier().to(device)\n",
    "    criterion = nn.CrossEntropyLoss()\n",
    "    optimizer = optim.Adam(myModel.parameters(), lr=0.001)\n",
    "    scheduler = torch.optim.lr_scheduler.OneCycleLR(optimizer, max_lr=0.001, steps_per_epoch=len(train_dataloader), epochs=nbEpochs, anneal_strategy='linear')\n",
    "\n",
    "    # Get global train mean an dstd for normalization\n",
    "    trainMean, trainStd = normalize_ds(train_dataloader, device)\n",
    "    \n",
    "    # List to store results\n",
    "    train_losses, test_losses, train_accuracies, test_accuracies = [], [], [], []\n",
    "\n",
    "    # train -> test -> train loop for each epoch\n",
    "    #training_one_epoch(model, optimizer, criterion, scheduler, device, train_dl, trainMean, trainStd, epochNb)\n",
    "    #testing_one_epoch(model, criterion, device, test_dl, trainMean, trainStd, epochNb)\n",
    "    for epoch in range(nbEpochs):\n",
    "        train_loss, train_acc = training_one_epoch(myModel, optimizer, criterion, scheduler, device, train_dataloader, trainMean, trainStd, epoch)\n",
    "        test_loss, test_acc = testing_one_epoch(myModel, criterion, device, test_dataloader, trainMean, trainStd, epoch)\n",
    "\n",
    "        train_losses.append(train_loss)\n",
    "        test_losses.append(test_loss)\n",
    "        train_accuracies.append(train_acc)\n",
    "        test_accuracies.append(test_acc)\n",
    "\n",
    "        torch.cuda.empty_cache()  # Libère la mémoire GPU si applicable\n",
    "        gc.collect()  # Libère la mémoire du CPU\n",
    "        xm.mark_step()  # Libère la mémoire TPU\n",
    "\n",
    "        # A TPU sync at the end of an epoch \n",
    "        xm.rendezvous(\"epoch_sync\")\n",
    "\n",
    "    xm.master_print(\"Finished Training !\")\n",
    "    # Send results to main process\n",
    "    results_queue.put((train_losses, test_losses, train_accuracies, test_accuracies))\n",
    "\n",
    "    # Cleanup of TPU memory\n",
    "    del myModel\n",
    "    gc.collect()\n",
    "    xm.mark_step()  \n",
    "    xm.rendezvous(\"cleanup\")"
   ]
  },
  {
   "cell_type": "code",
   "execution_count": 22,
   "id": "f85a8d6d",
   "metadata": {
    "execution": {
     "iopub.execute_input": "2025-02-24T20:57:02.303608Z",
     "iopub.status.busy": "2025-02-24T20:57:02.303361Z",
     "iopub.status.idle": "2025-02-24T20:57:02.307566Z",
     "shell.execute_reply": "2025-02-24T20:57:02.306507Z"
    },
    "papermill": {
     "duration": 0.01484,
     "end_time": "2025-02-24T20:57:02.309136",
     "exception": false,
     "start_time": "2025-02-24T20:57:02.294296",
     "status": "completed"
    },
    "tags": []
   },
   "outputs": [],
   "source": [
    "def _mp_fn(index, results_queue, nbFold, myGlobalDS, mainDir, num_epochs):\n",
    "    device = xm.xla_device()\n",
    "    for run in range(nbFold):\n",
    "        xm.master_print(f\"\\n Run {run+1}/{nbFold} sur TPU Core {xm.get_ordinal()}...\\n\")\n",
    "        process_one_fold(run, device, results_queue, myGlobalDS, mainDir, num_epochs)"
   ]
  },
  {
   "cell_type": "code",
   "execution_count": 23,
   "id": "247e4b75",
   "metadata": {
    "execution": {
     "iopub.execute_input": "2025-02-24T20:57:02.326072Z",
     "iopub.status.busy": "2025-02-24T20:57:02.325843Z",
     "iopub.status.idle": "2025-02-25T03:50:37.782407Z",
     "shell.execute_reply": "2025-02-25T03:50:37.780689Z"
    },
    "papermill": {
     "duration": 24815.468328,
     "end_time": "2025-02-25T03:50:37.784968",
     "exception": false,
     "start_time": "2025-02-24T20:57:02.316640",
     "status": "completed"
    },
    "tags": []
   },
   "outputs": [
    {
     "name": "stderr",
     "output_type": "stream",
     "text": [
      "WARNING:root:torch_xla.core.xla_model.xrt_world_size() will be removed in release 2.7. is deprecated. Use torch_xla.runtime.world_size instead.\n"
     ]
    },
    {
     "name": "stderr",
     "output_type": "stream",
     "text": [
      "WARNING: Logging before InitGoogle() is written to STDERR\n",
      "E0000 00:00:1740430624.185606      74 common_lib.cc:621] Could not set metric server port: INVALID_ARGUMENT: Could not find SliceBuilder port 8471 in any of the 0 ports provided in `tpu_process_addresses`=\"local\"\n",
      "=== Source Location Trace: ===\n",
      "learning/45eac/tfrc/runtime/common_lib.cc:239\n",
      "WARNING:root:torch_xla.core.xla_model.xla_model.get_ordinal() will be removed in release 2.7. is deprecated. Use torch_xla.runtime.global_ordinal instead.\n"
     ]
    },
    {
     "name": "stdout",
     "output_type": "stream",
     "text": [
      "\n",
      " Run 1/5 sur TPU Core 0...\n"
     ]
    },
    {
     "name": "stdout",
     "output_type": "stream",
     "text": [
      "Epoch Training: 0, Loss: 2.1754, Accuracy: 0.2851\n"
     ]
    },
    {
     "name": "stdout",
     "output_type": "stream",
     "text": [
      "Epoch Test: 0, Loss: 2.1399, Accuracy: 0.3433\n"
     ]
    },
    {
     "name": "stdout",
     "output_type": "stream",
     "text": [
      "Epoch Training: 1, Loss: 1.7847, Accuracy: 0.4228\n"
     ]
    },
    {
     "name": "stdout",
     "output_type": "stream",
     "text": [
      "Epoch Test: 1, Loss: 1.7988, Accuracy: 0.4523\n"
     ]
    },
    {
     "name": "stdout",
     "output_type": "stream",
     "text": [
      "Epoch Training: 2, Loss: 1.5476, Accuracy: 0.5153\n"
     ]
    },
    {
     "name": "stdout",
     "output_type": "stream",
     "text": [
      "Epoch Test: 2, Loss: 1.4980, Accuracy: 0.5640\n"
     ]
    },
    {
     "name": "stdout",
     "output_type": "stream",
     "text": [
      "Epoch Training: 3, Loss: 1.3715, Accuracy: 0.5616\n"
     ]
    },
    {
     "name": "stdout",
     "output_type": "stream",
     "text": [
      "Epoch Test: 3, Loss: 1.2646, Accuracy: 0.6322\n"
     ]
    },
    {
     "name": "stdout",
     "output_type": "stream",
     "text": [
      "Epoch Training: 4, Loss: 1.2190, Accuracy: 0.5963\n"
     ]
    },
    {
     "name": "stdout",
     "output_type": "stream",
     "text": [
      "Epoch Test: 4, Loss: 1.0961, Accuracy: 0.6540\n"
     ]
    },
    {
     "name": "stdout",
     "output_type": "stream",
     "text": [
      "Epoch Training: 5, Loss: 1.0603, Accuracy: 0.6355\n"
     ]
    },
    {
     "name": "stdout",
     "output_type": "stream",
     "text": [
      "Epoch Test: 5, Loss: 0.8861, Accuracy: 0.7384\n"
     ]
    },
    {
     "name": "stdout",
     "output_type": "stream",
     "text": [
      "Epoch Training: 6, Loss: 0.9341, Accuracy: 0.6823\n"
     ]
    },
    {
     "name": "stdout",
     "output_type": "stream",
     "text": [
      "Epoch Test: 6, Loss: 0.8028, Accuracy: 0.7738\n"
     ]
    },
    {
     "name": "stdout",
     "output_type": "stream",
     "text": [
      "Epoch Training: 7, Loss: 0.8407, Accuracy: 0.7149\n"
     ]
    },
    {
     "name": "stdout",
     "output_type": "stream",
     "text": [
      "Epoch Test: 7, Loss: 0.6773, Accuracy: 0.8065\n"
     ]
    },
    {
     "name": "stdout",
     "output_type": "stream",
     "text": [
      "Epoch Training: 8, Loss: 0.7569, Accuracy: 0.7562\n"
     ]
    },
    {
     "name": "stdout",
     "output_type": "stream",
     "text": [
      "Epoch Test: 8, Loss: 0.6229, Accuracy: 0.8447\n"
     ]
    },
    {
     "name": "stdout",
     "output_type": "stream",
     "text": [
      "Epoch Training: 9, Loss: 0.6659, Accuracy: 0.7939\n"
     ]
    },
    {
     "name": "stdout",
     "output_type": "stream",
     "text": [
      "Epoch Test: 9, Loss: 0.5655, Accuracy: 0.8529\n"
     ]
    },
    {
     "name": "stdout",
     "output_type": "stream",
     "text": [
      "Epoch Training: 10, Loss: 0.5760, Accuracy: 0.8416\n"
     ]
    },
    {
     "name": "stdout",
     "output_type": "stream",
     "text": [
      "Epoch Test: 10, Loss: 0.5316, Accuracy: 0.8719\n"
     ]
    },
    {
     "name": "stdout",
     "output_type": "stream",
     "text": [
      "Epoch Training: 11, Loss: 0.4581, Accuracy: 0.8889\n"
     ]
    },
    {
     "name": "stdout",
     "output_type": "stream",
     "text": [
      "Epoch Test: 11, Loss: 0.4188, Accuracy: 0.8883\n"
     ]
    },
    {
     "name": "stdout",
     "output_type": "stream",
     "text": [
      "Epoch Training: 12, Loss: 0.3815, Accuracy: 0.9115\n"
     ]
    },
    {
     "name": "stdout",
     "output_type": "stream",
     "text": [
      "Epoch Test: 12, Loss: 0.3870, Accuracy: 0.9183\n"
     ]
    },
    {
     "name": "stdout",
     "output_type": "stream",
     "text": [
      "Epoch Training: 13, Loss: 0.3020, Accuracy: 0.9417\n"
     ]
    },
    {
     "name": "stdout",
     "output_type": "stream",
     "text": [
      "Epoch Test: 13, Loss: 0.2737, Accuracy: 0.9510\n"
     ]
    },
    {
     "name": "stdout",
     "output_type": "stream",
     "text": [
      "Epoch Training: 14, Loss: 0.2367, Accuracy: 0.9487\n"
     ]
    },
    {
     "name": "stdout",
     "output_type": "stream",
     "text": [
      "Epoch Test: 14, Loss: 0.2486, Accuracy: 0.9510\n"
     ]
    },
    {
     "name": "stdout",
     "output_type": "stream",
     "text": [
      "Epoch Training: 15, Loss: 0.2013, Accuracy: 0.9548\n"
     ]
    },
    {
     "name": "stdout",
     "output_type": "stream",
     "text": [
      "Epoch Test: 15, Loss: 0.2851, Accuracy: 0.9428\n"
     ]
    },
    {
     "name": "stdout",
     "output_type": "stream",
     "text": [
      "Epoch Training: 16, Loss: 0.1560, Accuracy: 0.9698\n"
     ]
    },
    {
     "name": "stdout",
     "output_type": "stream",
     "text": [
      "Epoch Test: 16, Loss: 0.2004, Accuracy: 0.9591\n"
     ]
    },
    {
     "name": "stdout",
     "output_type": "stream",
     "text": [
      "Epoch Training: 17, Loss: 0.1455, Accuracy: 0.9668\n"
     ]
    },
    {
     "name": "stdout",
     "output_type": "stream",
     "text": [
      "Epoch Test: 17, Loss: 0.1881, Accuracy: 0.9619\n"
     ]
    },
    {
     "name": "stdout",
     "output_type": "stream",
     "text": [
      "Epoch Training: 18, Loss: 0.1218, Accuracy: 0.9693\n"
     ]
    },
    {
     "name": "stdout",
     "output_type": "stream",
     "text": [
      "Epoch Test: 18, Loss: 0.2167, Accuracy: 0.9482\n"
     ]
    },
    {
     "name": "stdout",
     "output_type": "stream",
     "text": [
      "Epoch Training: 19, Loss: 0.1008, Accuracy: 0.9804\n"
     ]
    },
    {
     "name": "stdout",
     "output_type": "stream",
     "text": [
      "Epoch Test: 19, Loss: 0.2367, Accuracy: 0.9591\n"
     ]
    },
    {
     "name": "stdout",
     "output_type": "stream",
     "text": [
      "Epoch Training: 20, Loss: 0.0887, Accuracy: 0.9799\n"
     ]
    },
    {
     "name": "stdout",
     "output_type": "stream",
     "text": [
      "Epoch Test: 20, Loss: 0.2171, Accuracy: 0.9619\n"
     ]
    },
    {
     "name": "stdout",
     "output_type": "stream",
     "text": [
      "Epoch Training: 21, Loss: 0.0793, Accuracy: 0.9829\n"
     ]
    },
    {
     "name": "stdout",
     "output_type": "stream",
     "text": [
      "Epoch Test: 21, Loss: 0.2018, Accuracy: 0.9591\n"
     ]
    },
    {
     "name": "stdout",
     "output_type": "stream",
     "text": [
      "Epoch Training: 22, Loss: 0.0640, Accuracy: 0.9869\n"
     ]
    },
    {
     "name": "stdout",
     "output_type": "stream",
     "text": [
      "Epoch Test: 22, Loss: 0.2159, Accuracy: 0.9591\n"
     ]
    },
    {
     "name": "stdout",
     "output_type": "stream",
     "text": [
      "Epoch Training: 23, Loss: 0.0647, Accuracy: 0.9859\n"
     ]
    },
    {
     "name": "stdout",
     "output_type": "stream",
     "text": [
      "Epoch Test: 23, Loss: 0.2556, Accuracy: 0.9591\n"
     ]
    },
    {
     "name": "stdout",
     "output_type": "stream",
     "text": [
      "Epoch Training: 24, Loss: 0.0719, Accuracy: 0.9809\n"
     ]
    },
    {
     "name": "stdout",
     "output_type": "stream",
     "text": [
      "Epoch Test: 24, Loss: 0.1803, Accuracy: 0.9646\n"
     ]
    },
    {
     "name": "stdout",
     "output_type": "stream",
     "text": [
      "Epoch Training: 25, Loss: 0.0563, Accuracy: 0.9859\n"
     ]
    },
    {
     "name": "stdout",
     "output_type": "stream",
     "text": [
      "Epoch Test: 25, Loss: 0.1802, Accuracy: 0.9619\n"
     ]
    },
    {
     "name": "stdout",
     "output_type": "stream",
     "text": [
      "Epoch Training: 26, Loss: 0.0432, Accuracy: 0.9904\n"
     ]
    },
    {
     "name": "stdout",
     "output_type": "stream",
     "text": [
      "Epoch Test: 26, Loss: 0.2485, Accuracy: 0.9646\n"
     ]
    },
    {
     "name": "stdout",
     "output_type": "stream",
     "text": [
      "Epoch Training: 27, Loss: 0.0416, Accuracy: 0.9930\n"
     ]
    },
    {
     "name": "stdout",
     "output_type": "stream",
     "text": [
      "Epoch Test: 27, Loss: 0.2288, Accuracy: 0.9591\n"
     ]
    },
    {
     "name": "stdout",
     "output_type": "stream",
     "text": [
      "Epoch Training: 28, Loss: 0.0409, Accuracy: 0.9910\n"
     ]
    },
    {
     "name": "stdout",
     "output_type": "stream",
     "text": [
      "Epoch Test: 28, Loss: 0.2581, Accuracy: 0.9619\n"
     ]
    },
    {
     "name": "stdout",
     "output_type": "stream",
     "text": [
      "Epoch Training: 29, Loss: 0.0351, Accuracy: 0.9930\n"
     ]
    },
    {
     "name": "stdout",
     "output_type": "stream",
     "text": [
      "Epoch Test: 29, Loss: 0.1879, Accuracy: 0.9619\n"
     ]
    },
    {
     "name": "stdout",
     "output_type": "stream",
     "text": [
      "Epoch Training: 30, Loss: 0.0367, Accuracy: 0.9899\n"
     ]
    },
    {
     "name": "stdout",
     "output_type": "stream",
     "text": [
      "Epoch Test: 30, Loss: 0.2235, Accuracy: 0.9646\n"
     ]
    },
    {
     "name": "stdout",
     "output_type": "stream",
     "text": [
      "Epoch Training: 31, Loss: 0.0345, Accuracy: 0.9920\n"
     ]
    },
    {
     "name": "stdout",
     "output_type": "stream",
     "text": [
      "Epoch Test: 31, Loss: 0.2254, Accuracy: 0.9646\n"
     ]
    },
    {
     "name": "stdout",
     "output_type": "stream",
     "text": [
      "Epoch Training: 32, Loss: 0.0355, Accuracy: 0.9910\n"
     ]
    },
    {
     "name": "stdout",
     "output_type": "stream",
     "text": [
      "Epoch Test: 32, Loss: 0.2473, Accuracy: 0.9673\n"
     ]
    },
    {
     "name": "stdout",
     "output_type": "stream",
     "text": [
      "Epoch Training: 33, Loss: 0.0329, Accuracy: 0.9904\n"
     ]
    },
    {
     "name": "stdout",
     "output_type": "stream",
     "text": [
      "Epoch Test: 33, Loss: 0.2173, Accuracy: 0.9646\n"
     ]
    },
    {
     "name": "stdout",
     "output_type": "stream",
     "text": [
      "Epoch Training: 34, Loss: 0.0249, Accuracy: 0.9950\n"
     ]
    },
    {
     "name": "stdout",
     "output_type": "stream",
     "text": [
      "Epoch Test: 34, Loss: 0.2244, Accuracy: 0.9619\n"
     ]
    },
    {
     "name": "stdout",
     "output_type": "stream",
     "text": [
      "Epoch Training: 35, Loss: 0.0257, Accuracy: 0.9940\n"
     ]
    },
    {
     "name": "stdout",
     "output_type": "stream",
     "text": [
      "Epoch Test: 35, Loss: 0.1990, Accuracy: 0.9619\n"
     ]
    },
    {
     "name": "stdout",
     "output_type": "stream",
     "text": [
      "Epoch Training: 36, Loss: 0.0256, Accuracy: 0.9935\n"
     ]
    },
    {
     "name": "stdout",
     "output_type": "stream",
     "text": [
      "Epoch Test: 36, Loss: 0.2219, Accuracy: 0.9673\n"
     ]
    },
    {
     "name": "stdout",
     "output_type": "stream",
     "text": [
      "Epoch Training: 37, Loss: 0.0219, Accuracy: 0.9955\n"
     ]
    },
    {
     "name": "stdout",
     "output_type": "stream",
     "text": [
      "Epoch Test: 37, Loss: 0.2590, Accuracy: 0.9619\n"
     ]
    },
    {
     "name": "stdout",
     "output_type": "stream",
     "text": [
      "Epoch Training: 38, Loss: 0.0202, Accuracy: 0.9950\n"
     ]
    },
    {
     "name": "stdout",
     "output_type": "stream",
     "text": [
      "Epoch Test: 38, Loss: 0.1980, Accuracy: 0.9646\n"
     ]
    },
    {
     "name": "stdout",
     "output_type": "stream",
     "text": [
      "Epoch Training: 39, Loss: 0.0173, Accuracy: 0.9970\n"
     ]
    },
    {
     "name": "stdout",
     "output_type": "stream",
     "text": [
      "Epoch Test: 39, Loss: 0.1512, Accuracy: 0.9673\n"
     ]
    },
    {
     "name": "stdout",
     "output_type": "stream",
     "text": [
      "Epoch Training: 40, Loss: 0.0160, Accuracy: 0.9970\n"
     ]
    },
    {
     "name": "stdout",
     "output_type": "stream",
     "text": [
      "Epoch Test: 40, Loss: 0.1833, Accuracy: 0.9673\n"
     ]
    },
    {
     "name": "stdout",
     "output_type": "stream",
     "text": [
      "Epoch Training: 41, Loss: 0.0191, Accuracy: 0.9955\n"
     ]
    },
    {
     "name": "stdout",
     "output_type": "stream",
     "text": [
      "Epoch Test: 41, Loss: 0.1926, Accuracy: 0.9673\n"
     ]
    },
    {
     "name": "stdout",
     "output_type": "stream",
     "text": [
      "Epoch Training: 42, Loss: 0.0159, Accuracy: 0.9960\n"
     ]
    },
    {
     "name": "stdout",
     "output_type": "stream",
     "text": [
      "Epoch Test: 42, Loss: 0.1782, Accuracy: 0.9700\n"
     ]
    },
    {
     "name": "stdout",
     "output_type": "stream",
     "text": [
      "Epoch Training: 43, Loss: 0.0152, Accuracy: 0.9975\n"
     ]
    },
    {
     "name": "stdout",
     "output_type": "stream",
     "text": [
      "Epoch Test: 43, Loss: 0.1785, Accuracy: 0.9673\n"
     ]
    },
    {
     "name": "stdout",
     "output_type": "stream",
     "text": [
      "Epoch Training: 44, Loss: 0.0121, Accuracy: 0.9980\n"
     ]
    },
    {
     "name": "stdout",
     "output_type": "stream",
     "text": [
      "Epoch Test: 44, Loss: 0.1752, Accuracy: 0.9673\n"
     ]
    },
    {
     "name": "stdout",
     "output_type": "stream",
     "text": [
      "Epoch Training: 45, Loss: 0.0143, Accuracy: 0.9975\n"
     ]
    },
    {
     "name": "stdout",
     "output_type": "stream",
     "text": [
      "Epoch Test: 45, Loss: 0.1885, Accuracy: 0.9673\n"
     ]
    },
    {
     "name": "stdout",
     "output_type": "stream",
     "text": [
      "Epoch Training: 46, Loss: 0.0081, Accuracy: 0.9990\n"
     ]
    },
    {
     "name": "stdout",
     "output_type": "stream",
     "text": [
      "Epoch Test: 46, Loss: 0.1913, Accuracy: 0.9619\n"
     ]
    },
    {
     "name": "stdout",
     "output_type": "stream",
     "text": [
      "Epoch Training: 47, Loss: 0.0083, Accuracy: 0.9995\n"
     ]
    },
    {
     "name": "stdout",
     "output_type": "stream",
     "text": [
      "Epoch Test: 47, Loss: 0.1740, Accuracy: 0.9673\n"
     ]
    },
    {
     "name": "stdout",
     "output_type": "stream",
     "text": [
      "Epoch Training: 48, Loss: 0.0099, Accuracy: 0.9970\n"
     ]
    },
    {
     "name": "stdout",
     "output_type": "stream",
     "text": [
      "Epoch Test: 48, Loss: 0.2389, Accuracy: 0.9673\n"
     ]
    },
    {
     "name": "stdout",
     "output_type": "stream",
     "text": [
      "Epoch Training: 49, Loss: 0.0064, Accuracy: 0.9995\n"
     ]
    },
    {
     "name": "stdout",
     "output_type": "stream",
     "text": [
      "Epoch Test: 49, Loss: 0.1904, Accuracy: 0.9700\n"
     ]
    },
    {
     "name": "stdout",
     "output_type": "stream",
     "text": [
      "Epoch Training: 50, Loss: 0.0108, Accuracy: 0.9985\n"
     ]
    },
    {
     "name": "stdout",
     "output_type": "stream",
     "text": [
      "Epoch Test: 50, Loss: 0.1721, Accuracy: 0.9673\n"
     ]
    },
    {
     "name": "stdout",
     "output_type": "stream",
     "text": [
      "Epoch Training: 51, Loss: 0.0073, Accuracy: 0.9990\n"
     ]
    },
    {
     "name": "stdout",
     "output_type": "stream",
     "text": [
      "Epoch Test: 51, Loss: 0.1816, Accuracy: 0.9700\n"
     ]
    },
    {
     "name": "stdout",
     "output_type": "stream",
     "text": [
      "Epoch Training: 52, Loss: 0.0072, Accuracy: 1.0000\n"
     ]
    },
    {
     "name": "stdout",
     "output_type": "stream",
     "text": [
      "Epoch Test: 52, Loss: 0.1843, Accuracy: 0.9673\n"
     ]
    },
    {
     "name": "stdout",
     "output_type": "stream",
     "text": [
      "Epoch Training: 53, Loss: 0.0059, Accuracy: 0.9990\n"
     ]
    },
    {
     "name": "stdout",
     "output_type": "stream",
     "text": [
      "Epoch Test: 53, Loss: 0.1802, Accuracy: 0.9755\n"
     ]
    },
    {
     "name": "stdout",
     "output_type": "stream",
     "text": [
      "Epoch Training: 54, Loss: 0.0052, Accuracy: 1.0000\n"
     ]
    },
    {
     "name": "stdout",
     "output_type": "stream",
     "text": [
      "Epoch Test: 54, Loss: 0.1703, Accuracy: 0.9673\n"
     ]
    },
    {
     "name": "stdout",
     "output_type": "stream",
     "text": [
      "Epoch Training: 55, Loss: 0.0060, Accuracy: 0.9995\n"
     ]
    },
    {
     "name": "stdout",
     "output_type": "stream",
     "text": [
      "Epoch Test: 55, Loss: 0.1803, Accuracy: 0.9700\n"
     ]
    },
    {
     "name": "stdout",
     "output_type": "stream",
     "text": [
      "Epoch Training: 56, Loss: 0.0049, Accuracy: 0.9995\n"
     ]
    },
    {
     "name": "stdout",
     "output_type": "stream",
     "text": [
      "Epoch Test: 56, Loss: 0.1912, Accuracy: 0.9646\n"
     ]
    },
    {
     "name": "stdout",
     "output_type": "stream",
     "text": [
      "Epoch Training: 57, Loss: 0.0056, Accuracy: 0.9990\n"
     ]
    },
    {
     "name": "stdout",
     "output_type": "stream",
     "text": [
      "Epoch Test: 57, Loss: 0.2007, Accuracy: 0.9700\n"
     ]
    },
    {
     "name": "stdout",
     "output_type": "stream",
     "text": [
      "Epoch Training: 58, Loss: 0.0047, Accuracy: 0.9995\n"
     ]
    },
    {
     "name": "stdout",
     "output_type": "stream",
     "text": [
      "Epoch Test: 58, Loss: 0.1664, Accuracy: 0.9728\n"
     ]
    },
    {
     "name": "stdout",
     "output_type": "stream",
     "text": [
      "Epoch Training: 59, Loss: 0.0035, Accuracy: 1.0000\n"
     ]
    },
    {
     "name": "stdout",
     "output_type": "stream",
     "text": [
      "Epoch Test: 59, Loss: 0.1703, Accuracy: 0.9700\n"
     ]
    },
    {
     "name": "stdout",
     "output_type": "stream",
     "text": [
      "Finished Training !\n"
     ]
    },
    {
     "name": "stdout",
     "output_type": "stream",
     "text": [
      "\n",
      " Run 2/5 sur TPU Core 0...\n"
     ]
    },
    {
     "name": "stdout",
     "output_type": "stream",
     "text": [
      "Epoch Training: 0, Loss: 2.1328, Accuracy: 0.3162\n"
     ]
    },
    {
     "name": "stdout",
     "output_type": "stream",
     "text": [
      "Epoch Test: 0, Loss: 1.9965, Accuracy: 0.4850\n"
     ]
    },
    {
     "name": "stdout",
     "output_type": "stream",
     "text": [
      "Epoch Training: 1, Loss: 1.8157, Accuracy: 0.4062\n"
     ]
    },
    {
     "name": "stdout",
     "output_type": "stream",
     "text": [
      "Epoch Test: 1, Loss: 1.8006, Accuracy: 0.5504\n"
     ]
    },
    {
     "name": "stdout",
     "output_type": "stream",
     "text": [
      "Epoch Training: 2, Loss: 1.6054, Accuracy: 0.4907\n"
     ]
    },
    {
     "name": "stdout",
     "output_type": "stream",
     "text": [
      "Epoch Test: 2, Loss: 1.5783, Accuracy: 0.5477\n"
     ]
    },
    {
     "name": "stdout",
     "output_type": "stream",
     "text": [
      "Epoch Training: 3, Loss: 1.4477, Accuracy: 0.5284\n"
     ]
    },
    {
     "name": "stdout",
     "output_type": "stream",
     "text": [
      "Epoch Test: 3, Loss: 1.3706, Accuracy: 0.6431\n"
     ]
    },
    {
     "name": "stdout",
     "output_type": "stream",
     "text": [
      "Epoch Training: 4, Loss: 1.3056, Accuracy: 0.5561\n"
     ]
    },
    {
     "name": "stdout",
     "output_type": "stream",
     "text": [
      "Epoch Test: 4, Loss: 1.1681, Accuracy: 0.6921\n"
     ]
    },
    {
     "name": "stdout",
     "output_type": "stream",
     "text": [
      "Epoch Training: 5, Loss: 1.1413, Accuracy: 0.6229\n"
     ]
    },
    {
     "name": "stdout",
     "output_type": "stream",
     "text": [
      "Epoch Test: 5, Loss: 0.9570, Accuracy: 0.7657\n"
     ]
    },
    {
     "name": "stdout",
     "output_type": "stream",
     "text": [
      "Epoch Training: 6, Loss: 1.0061, Accuracy: 0.6637\n"
     ]
    },
    {
     "name": "stdout",
     "output_type": "stream",
     "text": [
      "Epoch Test: 6, Loss: 0.8290, Accuracy: 0.7820\n"
     ]
    },
    {
     "name": "stdout",
     "output_type": "stream",
     "text": [
      "Epoch Training: 7, Loss: 0.8785, Accuracy: 0.7144\n"
     ]
    },
    {
     "name": "stdout",
     "output_type": "stream",
     "text": [
      "Epoch Test: 7, Loss: 0.6775, Accuracy: 0.8256\n"
     ]
    },
    {
     "name": "stdout",
     "output_type": "stream",
     "text": [
      "Epoch Training: 8, Loss: 0.7787, Accuracy: 0.7391\n"
     ]
    },
    {
     "name": "stdout",
     "output_type": "stream",
     "text": [
      "Epoch Test: 8, Loss: 0.5786, Accuracy: 0.8719\n"
     ]
    },
    {
     "name": "stdout",
     "output_type": "stream",
     "text": [
      "Epoch Training: 9, Loss: 0.6842, Accuracy: 0.7843\n"
     ]
    },
    {
     "name": "stdout",
     "output_type": "stream",
     "text": [
      "Epoch Test: 9, Loss: 0.5027, Accuracy: 0.8856\n"
     ]
    },
    {
     "name": "stdout",
     "output_type": "stream",
     "text": [
      "Epoch Training: 10, Loss: 0.6055, Accuracy: 0.8120\n"
     ]
    },
    {
     "name": "stdout",
     "output_type": "stream",
     "text": [
      "Epoch Test: 10, Loss: 0.4224, Accuracy: 0.9046\n"
     ]
    },
    {
     "name": "stdout",
     "output_type": "stream",
     "text": [
      "Epoch Training: 11, Loss: 0.5201, Accuracy: 0.8396\n"
     ]
    },
    {
     "name": "stdout",
     "output_type": "stream",
     "text": [
      "Epoch Test: 11, Loss: 0.3903, Accuracy: 0.9155\n"
     ]
    },
    {
     "name": "stdout",
     "output_type": "stream",
     "text": [
      "Epoch Training: 12, Loss: 0.4382, Accuracy: 0.8793\n"
     ]
    },
    {
     "name": "stdout",
     "output_type": "stream",
     "text": [
      "Epoch Test: 12, Loss: 0.3503, Accuracy: 0.9101\n"
     ]
    },
    {
     "name": "stdout",
     "output_type": "stream",
     "text": [
      "Epoch Training: 13, Loss: 0.3689, Accuracy: 0.9070\n"
     ]
    },
    {
     "name": "stdout",
     "output_type": "stream",
     "text": [
      "Epoch Test: 13, Loss: 0.2623, Accuracy: 0.9428\n"
     ]
    },
    {
     "name": "stdout",
     "output_type": "stream",
     "text": [
      "Epoch Training: 14, Loss: 0.3056, Accuracy: 0.9311\n"
     ]
    },
    {
     "name": "stdout",
     "output_type": "stream",
     "text": [
      "Epoch Test: 14, Loss: 0.2289, Accuracy: 0.9510\n"
     ]
    },
    {
     "name": "stdout",
     "output_type": "stream",
     "text": [
      "Epoch Training: 15, Loss: 0.2658, Accuracy: 0.9301\n"
     ]
    },
    {
     "name": "stdout",
     "output_type": "stream",
     "text": [
      "Epoch Test: 15, Loss: 0.1984, Accuracy: 0.9646\n"
     ]
    },
    {
     "name": "stdout",
     "output_type": "stream",
     "text": [
      "Epoch Training: 16, Loss: 0.2098, Accuracy: 0.9487\n"
     ]
    },
    {
     "name": "stdout",
     "output_type": "stream",
     "text": [
      "Epoch Test: 16, Loss: 0.1345, Accuracy: 0.9728\n"
     ]
    },
    {
     "name": "stdout",
     "output_type": "stream",
     "text": [
      "Epoch Training: 17, Loss: 0.1887, Accuracy: 0.9517\n"
     ]
    },
    {
     "name": "stdout",
     "output_type": "stream",
     "text": [
      "Epoch Test: 17, Loss: 0.1348, Accuracy: 0.9728\n"
     ]
    },
    {
     "name": "stdout",
     "output_type": "stream",
     "text": [
      "Epoch Training: 18, Loss: 0.1510, Accuracy: 0.9658\n"
     ]
    },
    {
     "name": "stdout",
     "output_type": "stream",
     "text": [
      "Epoch Test: 18, Loss: 0.1213, Accuracy: 0.9673\n"
     ]
    },
    {
     "name": "stdout",
     "output_type": "stream",
     "text": [
      "Epoch Training: 19, Loss: 0.1304, Accuracy: 0.9708\n"
     ]
    },
    {
     "name": "stdout",
     "output_type": "stream",
     "text": [
      "Epoch Test: 19, Loss: 0.0987, Accuracy: 0.9782\n"
     ]
    },
    {
     "name": "stdout",
     "output_type": "stream",
     "text": [
      "Epoch Training: 20, Loss: 0.1063, Accuracy: 0.9764\n"
     ]
    },
    {
     "name": "stdout",
     "output_type": "stream",
     "text": [
      "Epoch Test: 20, Loss: 0.1198, Accuracy: 0.9728\n"
     ]
    },
    {
     "name": "stdout",
     "output_type": "stream",
     "text": [
      "Epoch Training: 21, Loss: 0.0988, Accuracy: 0.9794\n"
     ]
    },
    {
     "name": "stdout",
     "output_type": "stream",
     "text": [
      "Epoch Test: 21, Loss: 0.0888, Accuracy: 0.9782\n"
     ]
    },
    {
     "name": "stdout",
     "output_type": "stream",
     "text": [
      "Epoch Training: 22, Loss: 0.0947, Accuracy: 0.9749\n"
     ]
    },
    {
     "name": "stdout",
     "output_type": "stream",
     "text": [
      "Epoch Test: 22, Loss: 0.1059, Accuracy: 0.9755\n"
     ]
    },
    {
     "name": "stdout",
     "output_type": "stream",
     "text": [
      "Epoch Training: 23, Loss: 0.0856, Accuracy: 0.9784\n"
     ]
    },
    {
     "name": "stdout",
     "output_type": "stream",
     "text": [
      "Epoch Test: 23, Loss: 0.0852, Accuracy: 0.9864\n"
     ]
    },
    {
     "name": "stdout",
     "output_type": "stream",
     "text": [
      "Epoch Training: 24, Loss: 0.0756, Accuracy: 0.9809\n"
     ]
    },
    {
     "name": "stdout",
     "output_type": "stream",
     "text": [
      "Epoch Test: 24, Loss: 0.0809, Accuracy: 0.9837\n"
     ]
    },
    {
     "name": "stdout",
     "output_type": "stream",
     "text": [
      "Epoch Training: 25, Loss: 0.0650, Accuracy: 0.9834\n"
     ]
    },
    {
     "name": "stdout",
     "output_type": "stream",
     "text": [
      "Epoch Test: 25, Loss: 0.0826, Accuracy: 0.9809\n"
     ]
    },
    {
     "name": "stdout",
     "output_type": "stream",
     "text": [
      "Epoch Training: 26, Loss: 0.0640, Accuracy: 0.9849\n"
     ]
    },
    {
     "name": "stdout",
     "output_type": "stream",
     "text": [
      "Epoch Test: 26, Loss: 0.0764, Accuracy: 0.9891\n"
     ]
    },
    {
     "name": "stdout",
     "output_type": "stream",
     "text": [
      "Epoch Training: 27, Loss: 0.0539, Accuracy: 0.9889\n"
     ]
    },
    {
     "name": "stdout",
     "output_type": "stream",
     "text": [
      "Epoch Test: 27, Loss: 0.0638, Accuracy: 0.9837\n"
     ]
    },
    {
     "name": "stdout",
     "output_type": "stream",
     "text": [
      "Epoch Training: 28, Loss: 0.0553, Accuracy: 0.9854\n"
     ]
    },
    {
     "name": "stdout",
     "output_type": "stream",
     "text": [
      "Epoch Test: 28, Loss: 0.0595, Accuracy: 0.9891\n"
     ]
    },
    {
     "name": "stdout",
     "output_type": "stream",
     "text": [
      "Epoch Training: 29, Loss: 0.0535, Accuracy: 0.9854\n"
     ]
    },
    {
     "name": "stdout",
     "output_type": "stream",
     "text": [
      "Epoch Test: 29, Loss: 0.0986, Accuracy: 0.9755\n"
     ]
    },
    {
     "name": "stdout",
     "output_type": "stream",
     "text": [
      "Epoch Training: 30, Loss: 0.0429, Accuracy: 0.9904\n"
     ]
    },
    {
     "name": "stdout",
     "output_type": "stream",
     "text": [
      "Epoch Test: 30, Loss: 0.0628, Accuracy: 0.9837\n"
     ]
    },
    {
     "name": "stdout",
     "output_type": "stream",
     "text": [
      "Epoch Training: 31, Loss: 0.0438, Accuracy: 0.9879\n"
     ]
    },
    {
     "name": "stdout",
     "output_type": "stream",
     "text": [
      "Epoch Test: 31, Loss: 0.0668, Accuracy: 0.9864\n"
     ]
    },
    {
     "name": "stdout",
     "output_type": "stream",
     "text": [
      "Epoch Training: 32, Loss: 0.0434, Accuracy: 0.9899\n"
     ]
    },
    {
     "name": "stdout",
     "output_type": "stream",
     "text": [
      "Epoch Test: 32, Loss: 0.0606, Accuracy: 0.9837\n"
     ]
    },
    {
     "name": "stdout",
     "output_type": "stream",
     "text": [
      "Epoch Training: 33, Loss: 0.0357, Accuracy: 0.9910\n"
     ]
    },
    {
     "name": "stdout",
     "output_type": "stream",
     "text": [
      "Epoch Test: 33, Loss: 0.0577, Accuracy: 0.9864\n"
     ]
    },
    {
     "name": "stdout",
     "output_type": "stream",
     "text": [
      "Epoch Training: 34, Loss: 0.0361, Accuracy: 0.9915\n"
     ]
    },
    {
     "name": "stdout",
     "output_type": "stream",
     "text": [
      "Epoch Test: 34, Loss: 0.0581, Accuracy: 0.9837\n"
     ]
    },
    {
     "name": "stdout",
     "output_type": "stream",
     "text": [
      "Epoch Training: 35, Loss: 0.0305, Accuracy: 0.9920\n"
     ]
    },
    {
     "name": "stdout",
     "output_type": "stream",
     "text": [
      "Epoch Test: 35, Loss: 0.0632, Accuracy: 0.9864\n"
     ]
    },
    {
     "name": "stdout",
     "output_type": "stream",
     "text": [
      "Epoch Training: 36, Loss: 0.0266, Accuracy: 0.9935\n"
     ]
    },
    {
     "name": "stdout",
     "output_type": "stream",
     "text": [
      "Epoch Test: 36, Loss: 0.0609, Accuracy: 0.9809\n"
     ]
    },
    {
     "name": "stdout",
     "output_type": "stream",
     "text": [
      "Epoch Training: 37, Loss: 0.0305, Accuracy: 0.9920\n"
     ]
    },
    {
     "name": "stdout",
     "output_type": "stream",
     "text": [
      "Epoch Test: 37, Loss: 0.0634, Accuracy: 0.9864\n"
     ]
    },
    {
     "name": "stdout",
     "output_type": "stream",
     "text": [
      "Epoch Training: 38, Loss: 0.0213, Accuracy: 0.9950\n"
     ]
    },
    {
     "name": "stdout",
     "output_type": "stream",
     "text": [
      "Epoch Test: 38, Loss: 0.0509, Accuracy: 0.9891\n"
     ]
    },
    {
     "name": "stdout",
     "output_type": "stream",
     "text": [
      "Epoch Training: 39, Loss: 0.0184, Accuracy: 0.9970\n"
     ]
    },
    {
     "name": "stdout",
     "output_type": "stream",
     "text": [
      "Epoch Test: 39, Loss: 0.0699, Accuracy: 0.9837\n"
     ]
    },
    {
     "name": "stdout",
     "output_type": "stream",
     "text": [
      "Epoch Training: 40, Loss: 0.0208, Accuracy: 0.9960\n"
     ]
    },
    {
     "name": "stdout",
     "output_type": "stream",
     "text": [
      "Epoch Test: 40, Loss: 0.0707, Accuracy: 0.9837\n"
     ]
    },
    {
     "name": "stdout",
     "output_type": "stream",
     "text": [
      "Epoch Training: 41, Loss: 0.0156, Accuracy: 0.9975\n"
     ]
    },
    {
     "name": "stdout",
     "output_type": "stream",
     "text": [
      "Epoch Test: 41, Loss: 0.0584, Accuracy: 0.9837\n"
     ]
    },
    {
     "name": "stdout",
     "output_type": "stream",
     "text": [
      "Epoch Training: 42, Loss: 0.0141, Accuracy: 0.9985\n"
     ]
    },
    {
     "name": "stdout",
     "output_type": "stream",
     "text": [
      "Epoch Test: 42, Loss: 0.0617, Accuracy: 0.9864\n"
     ]
    },
    {
     "name": "stdout",
     "output_type": "stream",
     "text": [
      "Epoch Training: 43, Loss: 0.0163, Accuracy: 0.9970\n"
     ]
    },
    {
     "name": "stdout",
     "output_type": "stream",
     "text": [
      "Epoch Test: 43, Loss: 0.0555, Accuracy: 0.9891\n"
     ]
    },
    {
     "name": "stdout",
     "output_type": "stream",
     "text": [
      "Epoch Training: 44, Loss: 0.0120, Accuracy: 0.9970\n"
     ]
    },
    {
     "name": "stdout",
     "output_type": "stream",
     "text": [
      "Epoch Test: 44, Loss: 0.0544, Accuracy: 0.9891\n"
     ]
    },
    {
     "name": "stdout",
     "output_type": "stream",
     "text": [
      "Epoch Training: 45, Loss: 0.0154, Accuracy: 0.9965\n"
     ]
    },
    {
     "name": "stdout",
     "output_type": "stream",
     "text": [
      "Epoch Test: 45, Loss: 0.0515, Accuracy: 0.9864\n"
     ]
    },
    {
     "name": "stdout",
     "output_type": "stream",
     "text": [
      "Epoch Training: 46, Loss: 0.0101, Accuracy: 0.9980\n"
     ]
    },
    {
     "name": "stdout",
     "output_type": "stream",
     "text": [
      "Epoch Test: 46, Loss: 0.0720, Accuracy: 0.9837\n"
     ]
    },
    {
     "name": "stdout",
     "output_type": "stream",
     "text": [
      "Epoch Training: 47, Loss: 0.0084, Accuracy: 0.9995\n"
     ]
    },
    {
     "name": "stdout",
     "output_type": "stream",
     "text": [
      "Epoch Test: 47, Loss: 0.0529, Accuracy: 0.9864\n"
     ]
    },
    {
     "name": "stdout",
     "output_type": "stream",
     "text": [
      "Epoch Training: 48, Loss: 0.0086, Accuracy: 0.9990\n"
     ]
    },
    {
     "name": "stdout",
     "output_type": "stream",
     "text": [
      "Epoch Test: 48, Loss: 0.0696, Accuracy: 0.9864\n"
     ]
    },
    {
     "name": "stdout",
     "output_type": "stream",
     "text": [
      "Epoch Training: 49, Loss: 0.0055, Accuracy: 1.0000\n"
     ]
    },
    {
     "name": "stdout",
     "output_type": "stream",
     "text": [
      "Epoch Test: 49, Loss: 0.0520, Accuracy: 0.9864\n"
     ]
    },
    {
     "name": "stdout",
     "output_type": "stream",
     "text": [
      "Epoch Training: 50, Loss: 0.0089, Accuracy: 0.9990\n"
     ]
    },
    {
     "name": "stdout",
     "output_type": "stream",
     "text": [
      "Epoch Test: 50, Loss: 0.0577, Accuracy: 0.9891\n"
     ]
    },
    {
     "name": "stdout",
     "output_type": "stream",
     "text": [
      "Epoch Training: 51, Loss: 0.0080, Accuracy: 1.0000\n"
     ]
    },
    {
     "name": "stdout",
     "output_type": "stream",
     "text": [
      "Epoch Test: 51, Loss: 0.0594, Accuracy: 0.9891\n"
     ]
    },
    {
     "name": "stdout",
     "output_type": "stream",
     "text": [
      "Epoch Training: 52, Loss: 0.0085, Accuracy: 0.9985\n"
     ]
    },
    {
     "name": "stdout",
     "output_type": "stream",
     "text": [
      "Epoch Test: 52, Loss: 0.0625, Accuracy: 0.9864\n"
     ]
    },
    {
     "name": "stdout",
     "output_type": "stream",
     "text": [
      "Epoch Training: 53, Loss: 0.0075, Accuracy: 0.9990\n"
     ]
    },
    {
     "name": "stdout",
     "output_type": "stream",
     "text": [
      "Epoch Test: 53, Loss: 0.0518, Accuracy: 0.9891\n"
     ]
    },
    {
     "name": "stdout",
     "output_type": "stream",
     "text": [
      "Epoch Training: 54, Loss: 0.0050, Accuracy: 1.0000\n"
     ]
    },
    {
     "name": "stdout",
     "output_type": "stream",
     "text": [
      "Epoch Test: 54, Loss: 0.0523, Accuracy: 0.9891\n"
     ]
    },
    {
     "name": "stdout",
     "output_type": "stream",
     "text": [
      "Epoch Training: 55, Loss: 0.0069, Accuracy: 0.9995\n"
     ]
    },
    {
     "name": "stdout",
     "output_type": "stream",
     "text": [
      "Epoch Test: 55, Loss: 0.0531, Accuracy: 0.9864\n"
     ]
    },
    {
     "name": "stdout",
     "output_type": "stream",
     "text": [
      "Epoch Training: 56, Loss: 0.0039, Accuracy: 1.0000\n"
     ]
    },
    {
     "name": "stdout",
     "output_type": "stream",
     "text": [
      "Epoch Test: 56, Loss: 0.0583, Accuracy: 0.9891\n"
     ]
    },
    {
     "name": "stdout",
     "output_type": "stream",
     "text": [
      "Epoch Training: 57, Loss: 0.0045, Accuracy: 1.0000\n"
     ]
    },
    {
     "name": "stdout",
     "output_type": "stream",
     "text": [
      "Epoch Test: 57, Loss: 0.0533, Accuracy: 0.9891\n"
     ]
    },
    {
     "name": "stdout",
     "output_type": "stream",
     "text": [
      "Epoch Training: 58, Loss: 0.0050, Accuracy: 0.9995\n"
     ]
    },
    {
     "name": "stdout",
     "output_type": "stream",
     "text": [
      "Epoch Test: 58, Loss: 0.0479, Accuracy: 0.9918\n"
     ]
    },
    {
     "name": "stdout",
     "output_type": "stream",
     "text": [
      "Epoch Training: 59, Loss: 0.0063, Accuracy: 0.9995\n"
     ]
    },
    {
     "name": "stdout",
     "output_type": "stream",
     "text": [
      "Epoch Test: 59, Loss: 0.0608, Accuracy: 0.9864\n"
     ]
    },
    {
     "name": "stdout",
     "output_type": "stream",
     "text": [
      "Finished Training !\n"
     ]
    },
    {
     "name": "stdout",
     "output_type": "stream",
     "text": [
      "\n",
      " Run 3/5 sur TPU Core 0...\n"
     ]
    },
    {
     "name": "stdout",
     "output_type": "stream",
     "text": [
      "Epoch Training: 0, Loss: 2.1833, Accuracy: 0.2574\n"
     ]
    },
    {
     "name": "stdout",
     "output_type": "stream",
     "text": [
      "Epoch Test: 0, Loss: 2.0618, Accuracy: 0.3624\n"
     ]
    },
    {
     "name": "stdout",
     "output_type": "stream",
     "text": [
      "Epoch Training: 1, Loss: 1.8381, Accuracy: 0.3826\n"
     ]
    },
    {
     "name": "stdout",
     "output_type": "stream",
     "text": [
      "Epoch Test: 1, Loss: 1.8116, Accuracy: 0.4932\n"
     ]
    },
    {
     "name": "stdout",
     "output_type": "stream",
     "text": [
      "Epoch Training: 2, Loss: 1.5790, Accuracy: 0.4987\n"
     ]
    },
    {
     "name": "stdout",
     "output_type": "stream",
     "text": [
      "Epoch Test: 2, Loss: 1.5695, Accuracy: 0.5504\n"
     ]
    },
    {
     "name": "stdout",
     "output_type": "stream",
     "text": [
      "Epoch Training: 3, Loss: 1.4191, Accuracy: 0.5274\n"
     ]
    },
    {
     "name": "stdout",
     "output_type": "stream",
     "text": [
      "Epoch Test: 3, Loss: 1.3429, Accuracy: 0.6213\n"
     ]
    },
    {
     "name": "stdout",
     "output_type": "stream",
     "text": [
      "Epoch Training: 4, Loss: 1.2063, Accuracy: 0.5978\n"
     ]
    },
    {
     "name": "stdout",
     "output_type": "stream",
     "text": [
      "Epoch Test: 4, Loss: 1.0171, Accuracy: 0.7439\n"
     ]
    },
    {
     "name": "stdout",
     "output_type": "stream",
     "text": [
      "Epoch Training: 5, Loss: 1.0443, Accuracy: 0.6531\n"
     ]
    },
    {
     "name": "stdout",
     "output_type": "stream",
     "text": [
      "Epoch Test: 5, Loss: 0.8385, Accuracy: 0.7629\n"
     ]
    },
    {
     "name": "stdout",
     "output_type": "stream",
     "text": [
      "Epoch Training: 6, Loss: 0.9194, Accuracy: 0.6843\n"
     ]
    },
    {
     "name": "stdout",
     "output_type": "stream",
     "text": [
      "Epoch Test: 6, Loss: 0.7624, Accuracy: 0.8065\n"
     ]
    },
    {
     "name": "stdout",
     "output_type": "stream",
     "text": [
      "Epoch Training: 7, Loss: 0.8129, Accuracy: 0.7396\n"
     ]
    },
    {
     "name": "stdout",
     "output_type": "stream",
     "text": [
      "Epoch Test: 7, Loss: 0.6737, Accuracy: 0.8474\n"
     ]
    },
    {
     "name": "stdout",
     "output_type": "stream",
     "text": [
      "Epoch Training: 8, Loss: 0.7115, Accuracy: 0.7717\n"
     ]
    },
    {
     "name": "stdout",
     "output_type": "stream",
     "text": [
      "Epoch Test: 8, Loss: 0.5361, Accuracy: 0.8610\n"
     ]
    },
    {
     "name": "stdout",
     "output_type": "stream",
     "text": [
      "Epoch Training: 9, Loss: 0.6380, Accuracy: 0.8054\n"
     ]
    },
    {
     "name": "stdout",
     "output_type": "stream",
     "text": [
      "Epoch Test: 9, Loss: 0.4942, Accuracy: 0.8719\n"
     ]
    },
    {
     "name": "stdout",
     "output_type": "stream",
     "text": [
      "Epoch Training: 10, Loss: 0.5320, Accuracy: 0.8532\n"
     ]
    },
    {
     "name": "stdout",
     "output_type": "stream",
     "text": [
      "Epoch Test: 10, Loss: 0.3996, Accuracy: 0.8910\n"
     ]
    },
    {
     "name": "stdout",
     "output_type": "stream",
     "text": [
      "Epoch Training: 11, Loss: 0.4525, Accuracy: 0.8783\n"
     ]
    },
    {
     "name": "stdout",
     "output_type": "stream",
     "text": [
      "Epoch Test: 11, Loss: 0.3222, Accuracy: 0.9210\n"
     ]
    },
    {
     "name": "stdout",
     "output_type": "stream",
     "text": [
      "Epoch Training: 12, Loss: 0.3737, Accuracy: 0.9080\n"
     ]
    },
    {
     "name": "stdout",
     "output_type": "stream",
     "text": [
      "Epoch Test: 12, Loss: 0.2239, Accuracy: 0.9428\n"
     ]
    },
    {
     "name": "stdout",
     "output_type": "stream",
     "text": [
      "Epoch Training: 13, Loss: 0.3040, Accuracy: 0.9216\n"
     ]
    },
    {
     "name": "stdout",
     "output_type": "stream",
     "text": [
      "Epoch Test: 13, Loss: 0.1703, Accuracy: 0.9728\n"
     ]
    },
    {
     "name": "stdout",
     "output_type": "stream",
     "text": [
      "Epoch Training: 14, Loss: 0.2517, Accuracy: 0.9422\n"
     ]
    },
    {
     "name": "stdout",
     "output_type": "stream",
     "text": [
      "Epoch Test: 14, Loss: 0.1345, Accuracy: 0.9700\n"
     ]
    },
    {
     "name": "stdout",
     "output_type": "stream",
     "text": [
      "Epoch Training: 15, Loss: 0.2190, Accuracy: 0.9452\n"
     ]
    },
    {
     "name": "stdout",
     "output_type": "stream",
     "text": [
      "Epoch Test: 15, Loss: 0.1142, Accuracy: 0.9782\n"
     ]
    },
    {
     "name": "stdout",
     "output_type": "stream",
     "text": [
      "Epoch Training: 16, Loss: 0.1849, Accuracy: 0.9558\n"
     ]
    },
    {
     "name": "stdout",
     "output_type": "stream",
     "text": [
      "Epoch Test: 16, Loss: 0.0893, Accuracy: 0.9782\n"
     ]
    },
    {
     "name": "stdout",
     "output_type": "stream",
     "text": [
      "Epoch Training: 17, Loss: 0.1608, Accuracy: 0.9613\n"
     ]
    },
    {
     "name": "stdout",
     "output_type": "stream",
     "text": [
      "Epoch Test: 17, Loss: 0.0898, Accuracy: 0.9728\n"
     ]
    },
    {
     "name": "stdout",
     "output_type": "stream",
     "text": [
      "Epoch Training: 18, Loss: 0.1399, Accuracy: 0.9623\n"
     ]
    },
    {
     "name": "stdout",
     "output_type": "stream",
     "text": [
      "Epoch Test: 18, Loss: 0.0720, Accuracy: 0.9809\n"
     ]
    },
    {
     "name": "stdout",
     "output_type": "stream",
     "text": [
      "Epoch Training: 19, Loss: 0.1171, Accuracy: 0.9734\n"
     ]
    },
    {
     "name": "stdout",
     "output_type": "stream",
     "text": [
      "Epoch Test: 19, Loss: 0.0809, Accuracy: 0.9809\n"
     ]
    },
    {
     "name": "stdout",
     "output_type": "stream",
     "text": [
      "Epoch Training: 20, Loss: 0.1069, Accuracy: 0.9739\n"
     ]
    },
    {
     "name": "stdout",
     "output_type": "stream",
     "text": [
      "Epoch Test: 20, Loss: 0.0535, Accuracy: 0.9864\n"
     ]
    },
    {
     "name": "stdout",
     "output_type": "stream",
     "text": [
      "Epoch Training: 21, Loss: 0.0900, Accuracy: 0.9789\n"
     ]
    },
    {
     "name": "stdout",
     "output_type": "stream",
     "text": [
      "Epoch Test: 21, Loss: 0.0594, Accuracy: 0.9864\n"
     ]
    },
    {
     "name": "stdout",
     "output_type": "stream",
     "text": [
      "Epoch Training: 22, Loss: 0.0831, Accuracy: 0.9784\n"
     ]
    },
    {
     "name": "stdout",
     "output_type": "stream",
     "text": [
      "Epoch Test: 22, Loss: 0.0566, Accuracy: 0.9864\n"
     ]
    },
    {
     "name": "stdout",
     "output_type": "stream",
     "text": [
      "Epoch Training: 23, Loss: 0.0778, Accuracy: 0.9839\n"
     ]
    },
    {
     "name": "stdout",
     "output_type": "stream",
     "text": [
      "Epoch Test: 23, Loss: 0.0529, Accuracy: 0.9837\n"
     ]
    },
    {
     "name": "stdout",
     "output_type": "stream",
     "text": [
      "Epoch Training: 24, Loss: 0.0674, Accuracy: 0.9824\n"
     ]
    },
    {
     "name": "stdout",
     "output_type": "stream",
     "text": [
      "Epoch Test: 24, Loss: 0.0514, Accuracy: 0.9837\n"
     ]
    },
    {
     "name": "stdout",
     "output_type": "stream",
     "text": [
      "Epoch Training: 25, Loss: 0.0607, Accuracy: 0.9864\n"
     ]
    },
    {
     "name": "stdout",
     "output_type": "stream",
     "text": [
      "Epoch Test: 25, Loss: 0.0529, Accuracy: 0.9864\n"
     ]
    },
    {
     "name": "stdout",
     "output_type": "stream",
     "text": [
      "Epoch Training: 26, Loss: 0.0488, Accuracy: 0.9879\n"
     ]
    },
    {
     "name": "stdout",
     "output_type": "stream",
     "text": [
      "Epoch Test: 26, Loss: 0.0691, Accuracy: 0.9837\n"
     ]
    },
    {
     "name": "stdout",
     "output_type": "stream",
     "text": [
      "Epoch Training: 27, Loss: 0.0577, Accuracy: 0.9859\n"
     ]
    },
    {
     "name": "stdout",
     "output_type": "stream",
     "text": [
      "Epoch Test: 27, Loss: 0.0471, Accuracy: 0.9864\n"
     ]
    },
    {
     "name": "stdout",
     "output_type": "stream",
     "text": [
      "Epoch Training: 28, Loss: 0.0460, Accuracy: 0.9899\n"
     ]
    },
    {
     "name": "stdout",
     "output_type": "stream",
     "text": [
      "Epoch Test: 28, Loss: 0.0343, Accuracy: 0.9918\n"
     ]
    },
    {
     "name": "stdout",
     "output_type": "stream",
     "text": [
      "Epoch Training: 29, Loss: 0.0368, Accuracy: 0.9915\n"
     ]
    },
    {
     "name": "stdout",
     "output_type": "stream",
     "text": [
      "Epoch Test: 29, Loss: 0.0413, Accuracy: 0.9891\n"
     ]
    },
    {
     "name": "stdout",
     "output_type": "stream",
     "text": [
      "Epoch Training: 30, Loss: 0.0358, Accuracy: 0.9904\n"
     ]
    },
    {
     "name": "stdout",
     "output_type": "stream",
     "text": [
      "Epoch Test: 30, Loss: 0.0510, Accuracy: 0.9891\n"
     ]
    },
    {
     "name": "stdout",
     "output_type": "stream",
     "text": [
      "Epoch Training: 31, Loss: 0.0348, Accuracy: 0.9915\n"
     ]
    },
    {
     "name": "stdout",
     "output_type": "stream",
     "text": [
      "Epoch Test: 31, Loss: 0.0458, Accuracy: 0.9891\n"
     ]
    },
    {
     "name": "stdout",
     "output_type": "stream",
     "text": [
      "Epoch Training: 32, Loss: 0.0328, Accuracy: 0.9920\n"
     ]
    },
    {
     "name": "stdout",
     "output_type": "stream",
     "text": [
      "Epoch Test: 32, Loss: 0.0349, Accuracy: 0.9946\n"
     ]
    },
    {
     "name": "stdout",
     "output_type": "stream",
     "text": [
      "Epoch Training: 33, Loss: 0.0308, Accuracy: 0.9920\n"
     ]
    },
    {
     "name": "stdout",
     "output_type": "stream",
     "text": [
      "Epoch Test: 33, Loss: 0.0534, Accuracy: 0.9891\n"
     ]
    },
    {
     "name": "stdout",
     "output_type": "stream",
     "text": [
      "Epoch Training: 34, Loss: 0.0344, Accuracy: 0.9904\n"
     ]
    },
    {
     "name": "stdout",
     "output_type": "stream",
     "text": [
      "Epoch Test: 34, Loss: 0.0413, Accuracy: 0.9864\n"
     ]
    },
    {
     "name": "stdout",
     "output_type": "stream",
     "text": [
      "Epoch Training: 35, Loss: 0.0240, Accuracy: 0.9940\n"
     ]
    },
    {
     "name": "stdout",
     "output_type": "stream",
     "text": [
      "Epoch Test: 35, Loss: 0.0316, Accuracy: 0.9918\n"
     ]
    },
    {
     "name": "stdout",
     "output_type": "stream",
     "text": [
      "Epoch Training: 36, Loss: 0.0237, Accuracy: 0.9950\n"
     ]
    },
    {
     "name": "stdout",
     "output_type": "stream",
     "text": [
      "Epoch Test: 36, Loss: 0.0440, Accuracy: 0.9918\n"
     ]
    },
    {
     "name": "stdout",
     "output_type": "stream",
     "text": [
      "Epoch Training: 37, Loss: 0.0162, Accuracy: 0.9965\n"
     ]
    },
    {
     "name": "stdout",
     "output_type": "stream",
     "text": [
      "Epoch Test: 37, Loss: 0.0458, Accuracy: 0.9918\n"
     ]
    },
    {
     "name": "stdout",
     "output_type": "stream",
     "text": [
      "Epoch Training: 38, Loss: 0.0186, Accuracy: 0.9975\n"
     ]
    },
    {
     "name": "stdout",
     "output_type": "stream",
     "text": [
      "Epoch Test: 38, Loss: 0.0483, Accuracy: 0.9891\n"
     ]
    },
    {
     "name": "stdout",
     "output_type": "stream",
     "text": [
      "Epoch Training: 39, Loss: 0.0158, Accuracy: 0.9980\n"
     ]
    },
    {
     "name": "stdout",
     "output_type": "stream",
     "text": [
      "Epoch Test: 39, Loss: 0.0538, Accuracy: 0.9891\n"
     ]
    },
    {
     "name": "stdout",
     "output_type": "stream",
     "text": [
      "Epoch Training: 40, Loss: 0.0112, Accuracy: 1.0000\n"
     ]
    },
    {
     "name": "stdout",
     "output_type": "stream",
     "text": [
      "Epoch Test: 40, Loss: 0.0445, Accuracy: 0.9891\n"
     ]
    },
    {
     "name": "stdout",
     "output_type": "stream",
     "text": [
      "Epoch Training: 41, Loss: 0.0101, Accuracy: 0.9995\n"
     ]
    },
    {
     "name": "stdout",
     "output_type": "stream",
     "text": [
      "Epoch Test: 41, Loss: 0.0359, Accuracy: 0.9946\n"
     ]
    },
    {
     "name": "stdout",
     "output_type": "stream",
     "text": [
      "Epoch Training: 42, Loss: 0.0120, Accuracy: 0.9975\n"
     ]
    },
    {
     "name": "stdout",
     "output_type": "stream",
     "text": [
      "Epoch Test: 42, Loss: 0.0400, Accuracy: 0.9946\n"
     ]
    },
    {
     "name": "stdout",
     "output_type": "stream",
     "text": [
      "Epoch Training: 43, Loss: 0.0133, Accuracy: 0.9975\n"
     ]
    },
    {
     "name": "stdout",
     "output_type": "stream",
     "text": [
      "Epoch Test: 43, Loss: 0.0437, Accuracy: 0.9891\n"
     ]
    },
    {
     "name": "stdout",
     "output_type": "stream",
     "text": [
      "Epoch Training: 44, Loss: 0.0140, Accuracy: 0.9970\n"
     ]
    },
    {
     "name": "stdout",
     "output_type": "stream",
     "text": [
      "Epoch Test: 44, Loss: 0.0454, Accuracy: 0.9918\n"
     ]
    },
    {
     "name": "stdout",
     "output_type": "stream",
     "text": [
      "Epoch Training: 45, Loss: 0.0166, Accuracy: 0.9975\n"
     ]
    },
    {
     "name": "stdout",
     "output_type": "stream",
     "text": [
      "Epoch Test: 45, Loss: 0.0543, Accuracy: 0.9891\n"
     ]
    },
    {
     "name": "stdout",
     "output_type": "stream",
     "text": [
      "Epoch Training: 46, Loss: 0.0102, Accuracy: 0.9985\n"
     ]
    },
    {
     "name": "stdout",
     "output_type": "stream",
     "text": [
      "Epoch Test: 46, Loss: 0.0449, Accuracy: 0.9918\n"
     ]
    },
    {
     "name": "stdout",
     "output_type": "stream",
     "text": [
      "Epoch Training: 47, Loss: 0.0097, Accuracy: 0.9990\n"
     ]
    },
    {
     "name": "stdout",
     "output_type": "stream",
     "text": [
      "Epoch Test: 47, Loss: 0.0340, Accuracy: 0.9946\n"
     ]
    },
    {
     "name": "stdout",
     "output_type": "stream",
     "text": [
      "Epoch Training: 48, Loss: 0.0078, Accuracy: 0.9995\n"
     ]
    },
    {
     "name": "stdout",
     "output_type": "stream",
     "text": [
      "Epoch Test: 48, Loss: 0.0317, Accuracy: 0.9946\n"
     ]
    },
    {
     "name": "stdout",
     "output_type": "stream",
     "text": [
      "Epoch Training: 49, Loss: 0.0077, Accuracy: 0.9985\n"
     ]
    },
    {
     "name": "stdout",
     "output_type": "stream",
     "text": [
      "Epoch Test: 49, Loss: 0.0427, Accuracy: 0.9918\n"
     ]
    },
    {
     "name": "stdout",
     "output_type": "stream",
     "text": [
      "Epoch Training: 50, Loss: 0.0104, Accuracy: 0.9970\n"
     ]
    },
    {
     "name": "stdout",
     "output_type": "stream",
     "text": [
      "Epoch Test: 50, Loss: 0.0445, Accuracy: 0.9891\n"
     ]
    },
    {
     "name": "stdout",
     "output_type": "stream",
     "text": [
      "Epoch Training: 51, Loss: 0.0081, Accuracy: 0.9990\n"
     ]
    },
    {
     "name": "stdout",
     "output_type": "stream",
     "text": [
      "Epoch Test: 51, Loss: 0.0497, Accuracy: 0.9918\n"
     ]
    },
    {
     "name": "stdout",
     "output_type": "stream",
     "text": [
      "Epoch Training: 52, Loss: 0.0060, Accuracy: 1.0000\n"
     ]
    },
    {
     "name": "stdout",
     "output_type": "stream",
     "text": [
      "Epoch Test: 52, Loss: 0.0455, Accuracy: 0.9946\n"
     ]
    },
    {
     "name": "stdout",
     "output_type": "stream",
     "text": [
      "Epoch Training: 53, Loss: 0.0069, Accuracy: 0.9985\n"
     ]
    },
    {
     "name": "stdout",
     "output_type": "stream",
     "text": [
      "Epoch Test: 53, Loss: 0.0437, Accuracy: 0.9946\n"
     ]
    },
    {
     "name": "stdout",
     "output_type": "stream",
     "text": [
      "Epoch Training: 54, Loss: 0.0049, Accuracy: 0.9995\n"
     ]
    },
    {
     "name": "stdout",
     "output_type": "stream",
     "text": [
      "Epoch Test: 54, Loss: 0.0402, Accuracy: 0.9946\n"
     ]
    },
    {
     "name": "stdout",
     "output_type": "stream",
     "text": [
      "Epoch Training: 55, Loss: 0.0058, Accuracy: 0.9990\n"
     ]
    },
    {
     "name": "stdout",
     "output_type": "stream",
     "text": [
      "Epoch Test: 55, Loss: 0.0432, Accuracy: 0.9946\n"
     ]
    },
    {
     "name": "stdout",
     "output_type": "stream",
     "text": [
      "Epoch Training: 56, Loss: 0.0036, Accuracy: 1.0000\n"
     ]
    },
    {
     "name": "stdout",
     "output_type": "stream",
     "text": [
      "Epoch Test: 56, Loss: 0.0409, Accuracy: 0.9946\n"
     ]
    },
    {
     "name": "stdout",
     "output_type": "stream",
     "text": [
      "Epoch Training: 57, Loss: 0.0037, Accuracy: 0.9995\n"
     ]
    },
    {
     "name": "stdout",
     "output_type": "stream",
     "text": [
      "Epoch Test: 57, Loss: 0.0458, Accuracy: 0.9918\n"
     ]
    },
    {
     "name": "stdout",
     "output_type": "stream",
     "text": [
      "Epoch Training: 58, Loss: 0.0040, Accuracy: 0.9995\n"
     ]
    },
    {
     "name": "stdout",
     "output_type": "stream",
     "text": [
      "Epoch Test: 58, Loss: 0.0432, Accuracy: 0.9918\n"
     ]
    },
    {
     "name": "stdout",
     "output_type": "stream",
     "text": [
      "Epoch Training: 59, Loss: 0.0045, Accuracy: 0.9995\n"
     ]
    },
    {
     "name": "stdout",
     "output_type": "stream",
     "text": [
      "Epoch Test: 59, Loss: 0.0475, Accuracy: 0.9918\n"
     ]
    },
    {
     "name": "stdout",
     "output_type": "stream",
     "text": [
      "Finished Training !\n"
     ]
    },
    {
     "name": "stdout",
     "output_type": "stream",
     "text": [
      "\n",
      " Run 4/5 sur TPU Core 0...\n"
     ]
    },
    {
     "name": "stdout",
     "output_type": "stream",
     "text": [
      "Epoch Training: 0, Loss: 2.1705, Accuracy: 0.2800\n"
     ]
    },
    {
     "name": "stdout",
     "output_type": "stream",
     "text": [
      "Epoch Test: 0, Loss: 2.1062, Accuracy: 0.4687\n"
     ]
    },
    {
     "name": "stdout",
     "output_type": "stream",
     "text": [
      "Epoch Training: 1, Loss: 1.8071, Accuracy: 0.4087\n"
     ]
    },
    {
     "name": "stdout",
     "output_type": "stream",
     "text": [
      "Epoch Test: 1, Loss: 1.8304, Accuracy: 0.4905\n"
     ]
    },
    {
     "name": "stdout",
     "output_type": "stream",
     "text": [
      "Epoch Training: 2, Loss: 1.5830, Accuracy: 0.4852\n"
     ]
    },
    {
     "name": "stdout",
     "output_type": "stream",
     "text": [
      "Epoch Test: 2, Loss: 1.6056, Accuracy: 0.5559\n"
     ]
    },
    {
     "name": "stdout",
     "output_type": "stream",
     "text": [
      "Epoch Training: 3, Loss: 1.4074, Accuracy: 0.5229\n"
     ]
    },
    {
     "name": "stdout",
     "output_type": "stream",
     "text": [
      "Epoch Test: 3, Loss: 1.4078, Accuracy: 0.6022\n"
     ]
    },
    {
     "name": "stdout",
     "output_type": "stream",
     "text": [
      "Epoch Training: 4, Loss: 1.2574, Accuracy: 0.5907\n"
     ]
    },
    {
     "name": "stdout",
     "output_type": "stream",
     "text": [
      "Epoch Test: 4, Loss: 1.1823, Accuracy: 0.6649\n"
     ]
    },
    {
     "name": "stdout",
     "output_type": "stream",
     "text": [
      "Epoch Training: 5, Loss: 1.1001, Accuracy: 0.6224\n"
     ]
    },
    {
     "name": "stdout",
     "output_type": "stream",
     "text": [
      "Epoch Test: 5, Loss: 0.9875, Accuracy: 0.7248\n"
     ]
    },
    {
     "name": "stdout",
     "output_type": "stream",
     "text": [
      "Epoch Training: 6, Loss: 0.9597, Accuracy: 0.6762\n"
     ]
    },
    {
     "name": "stdout",
     "output_type": "stream",
     "text": [
      "Epoch Test: 6, Loss: 0.8404, Accuracy: 0.7984\n"
     ]
    },
    {
     "name": "stdout",
     "output_type": "stream",
     "text": [
      "Epoch Training: 7, Loss: 0.8570, Accuracy: 0.7230\n"
     ]
    },
    {
     "name": "stdout",
     "output_type": "stream",
     "text": [
      "Epoch Test: 7, Loss: 0.7355, Accuracy: 0.8065\n"
     ]
    },
    {
     "name": "stdout",
     "output_type": "stream",
     "text": [
      "Epoch Training: 8, Loss: 0.7583, Accuracy: 0.7552\n"
     ]
    },
    {
     "name": "stdout",
     "output_type": "stream",
     "text": [
      "Epoch Test: 8, Loss: 0.6830, Accuracy: 0.8229\n"
     ]
    },
    {
     "name": "stdout",
     "output_type": "stream",
     "text": [
      "Epoch Training: 9, Loss: 0.6684, Accuracy: 0.7868\n"
     ]
    },
    {
     "name": "stdout",
     "output_type": "stream",
     "text": [
      "Epoch Test: 9, Loss: 0.5842, Accuracy: 0.8229\n"
     ]
    },
    {
     "name": "stdout",
     "output_type": "stream",
     "text": [
      "Epoch Training: 10, Loss: 0.5884, Accuracy: 0.8291\n"
     ]
    },
    {
     "name": "stdout",
     "output_type": "stream",
     "text": [
      "Epoch Test: 10, Loss: 0.5001, Accuracy: 0.8719\n"
     ]
    },
    {
     "name": "stdout",
     "output_type": "stream",
     "text": [
      "Epoch Training: 11, Loss: 0.4979, Accuracy: 0.8627\n"
     ]
    },
    {
     "name": "stdout",
     "output_type": "stream",
     "text": [
      "Epoch Test: 11, Loss: 0.4235, Accuracy: 0.9074\n"
     ]
    },
    {
     "name": "stdout",
     "output_type": "stream",
     "text": [
      "Epoch Training: 12, Loss: 0.4179, Accuracy: 0.8854\n"
     ]
    },
    {
     "name": "stdout",
     "output_type": "stream",
     "text": [
      "Epoch Test: 12, Loss: 0.3987, Accuracy: 0.9155\n"
     ]
    },
    {
     "name": "stdout",
     "output_type": "stream",
     "text": [
      "Epoch Training: 13, Loss: 0.3337, Accuracy: 0.9090\n"
     ]
    },
    {
     "name": "stdout",
     "output_type": "stream",
     "text": [
      "Epoch Test: 13, Loss: 0.3199, Accuracy: 0.9428\n"
     ]
    },
    {
     "name": "stdout",
     "output_type": "stream",
     "text": [
      "Epoch Training: 14, Loss: 0.2615, Accuracy: 0.9377\n"
     ]
    },
    {
     "name": "stdout",
     "output_type": "stream",
     "text": [
      "Epoch Test: 14, Loss: 0.2579, Accuracy: 0.9537\n"
     ]
    },
    {
     "name": "stdout",
     "output_type": "stream",
     "text": [
      "Epoch Training: 15, Loss: 0.2073, Accuracy: 0.9522\n"
     ]
    },
    {
     "name": "stdout",
     "output_type": "stream",
     "text": [
      "Epoch Test: 15, Loss: 0.2405, Accuracy: 0.9482\n"
     ]
    },
    {
     "name": "stdout",
     "output_type": "stream",
     "text": [
      "Epoch Training: 16, Loss: 0.1678, Accuracy: 0.9598\n"
     ]
    },
    {
     "name": "stdout",
     "output_type": "stream",
     "text": [
      "Epoch Test: 16, Loss: 0.2113, Accuracy: 0.9591\n"
     ]
    },
    {
     "name": "stdout",
     "output_type": "stream",
     "text": [
      "Epoch Training: 17, Loss: 0.1440, Accuracy: 0.9658\n"
     ]
    },
    {
     "name": "stdout",
     "output_type": "stream",
     "text": [
      "Epoch Test: 17, Loss: 0.2082, Accuracy: 0.9591\n"
     ]
    },
    {
     "name": "stdout",
     "output_type": "stream",
     "text": [
      "Epoch Training: 18, Loss: 0.1328, Accuracy: 0.9638\n"
     ]
    },
    {
     "name": "stdout",
     "output_type": "stream",
     "text": [
      "Epoch Test: 18, Loss: 0.1641, Accuracy: 0.9700\n"
     ]
    },
    {
     "name": "stdout",
     "output_type": "stream",
     "text": [
      "Epoch Training: 19, Loss: 0.1017, Accuracy: 0.9809\n"
     ]
    },
    {
     "name": "stdout",
     "output_type": "stream",
     "text": [
      "Epoch Test: 19, Loss: 0.1448, Accuracy: 0.9728\n"
     ]
    },
    {
     "name": "stdout",
     "output_type": "stream",
     "text": [
      "Epoch Training: 20, Loss: 0.0920, Accuracy: 0.9799\n"
     ]
    },
    {
     "name": "stdout",
     "output_type": "stream",
     "text": [
      "Epoch Test: 20, Loss: 0.1383, Accuracy: 0.9755\n"
     ]
    },
    {
     "name": "stdout",
     "output_type": "stream",
     "text": [
      "Epoch Training: 21, Loss: 0.0810, Accuracy: 0.9824\n"
     ]
    },
    {
     "name": "stdout",
     "output_type": "stream",
     "text": [
      "Epoch Test: 21, Loss: 0.1445, Accuracy: 0.9700\n"
     ]
    },
    {
     "name": "stdout",
     "output_type": "stream",
     "text": [
      "Epoch Training: 22, Loss: 0.0731, Accuracy: 0.9859\n"
     ]
    },
    {
     "name": "stdout",
     "output_type": "stream",
     "text": [
      "Epoch Test: 22, Loss: 0.1709, Accuracy: 0.9591\n"
     ]
    },
    {
     "name": "stdout",
     "output_type": "stream",
     "text": [
      "Epoch Training: 23, Loss: 0.0698, Accuracy: 0.9839\n"
     ]
    },
    {
     "name": "stdout",
     "output_type": "stream",
     "text": [
      "Epoch Test: 23, Loss: 0.1255, Accuracy: 0.9646\n"
     ]
    },
    {
     "name": "stdout",
     "output_type": "stream",
     "text": [
      "Epoch Training: 24, Loss: 0.0641, Accuracy: 0.9839\n"
     ]
    },
    {
     "name": "stdout",
     "output_type": "stream",
     "text": [
      "Epoch Test: 24, Loss: 0.1178, Accuracy: 0.9728\n"
     ]
    },
    {
     "name": "stdout",
     "output_type": "stream",
     "text": [
      "Epoch Training: 25, Loss: 0.0494, Accuracy: 0.9874\n"
     ]
    },
    {
     "name": "stdout",
     "output_type": "stream",
     "text": [
      "Epoch Test: 25, Loss: 0.1147, Accuracy: 0.9728\n"
     ]
    },
    {
     "name": "stdout",
     "output_type": "stream",
     "text": [
      "Epoch Training: 26, Loss: 0.0436, Accuracy: 0.9915\n"
     ]
    },
    {
     "name": "stdout",
     "output_type": "stream",
     "text": [
      "Epoch Test: 26, Loss: 0.1090, Accuracy: 0.9700\n"
     ]
    },
    {
     "name": "stdout",
     "output_type": "stream",
     "text": [
      "Epoch Training: 27, Loss: 0.0446, Accuracy: 0.9899\n"
     ]
    },
    {
     "name": "stdout",
     "output_type": "stream",
     "text": [
      "Epoch Test: 27, Loss: 0.0956, Accuracy: 0.9755\n"
     ]
    },
    {
     "name": "stdout",
     "output_type": "stream",
     "text": [
      "Epoch Training: 28, Loss: 0.0412, Accuracy: 0.9915\n"
     ]
    },
    {
     "name": "stdout",
     "output_type": "stream",
     "text": [
      "Epoch Test: 28, Loss: 0.1051, Accuracy: 0.9728\n"
     ]
    },
    {
     "name": "stdout",
     "output_type": "stream",
     "text": [
      "Epoch Training: 29, Loss: 0.0366, Accuracy: 0.9925\n"
     ]
    },
    {
     "name": "stdout",
     "output_type": "stream",
     "text": [
      "Epoch Test: 29, Loss: 0.1152, Accuracy: 0.9755\n"
     ]
    },
    {
     "name": "stdout",
     "output_type": "stream",
     "text": [
      "Epoch Training: 30, Loss: 0.0333, Accuracy: 0.9930\n"
     ]
    },
    {
     "name": "stdout",
     "output_type": "stream",
     "text": [
      "Epoch Test: 30, Loss: 0.0973, Accuracy: 0.9700\n"
     ]
    },
    {
     "name": "stdout",
     "output_type": "stream",
     "text": [
      "Epoch Training: 31, Loss: 0.0321, Accuracy: 0.9925\n"
     ]
    },
    {
     "name": "stdout",
     "output_type": "stream",
     "text": [
      "Epoch Test: 31, Loss: 0.1066, Accuracy: 0.9809\n"
     ]
    },
    {
     "name": "stdout",
     "output_type": "stream",
     "text": [
      "Epoch Training: 32, Loss: 0.0342, Accuracy: 0.9904\n"
     ]
    },
    {
     "name": "stdout",
     "output_type": "stream",
     "text": [
      "Epoch Test: 32, Loss: 0.1049, Accuracy: 0.9809\n"
     ]
    },
    {
     "name": "stdout",
     "output_type": "stream",
     "text": [
      "Epoch Training: 33, Loss: 0.0262, Accuracy: 0.9950\n"
     ]
    },
    {
     "name": "stdout",
     "output_type": "stream",
     "text": [
      "Epoch Test: 33, Loss: 0.0943, Accuracy: 0.9837\n"
     ]
    },
    {
     "name": "stdout",
     "output_type": "stream",
     "text": [
      "Epoch Training: 34, Loss: 0.0232, Accuracy: 0.9945\n"
     ]
    },
    {
     "name": "stdout",
     "output_type": "stream",
     "text": [
      "Epoch Test: 34, Loss: 0.1050, Accuracy: 0.9809\n"
     ]
    },
    {
     "name": "stdout",
     "output_type": "stream",
     "text": [
      "Epoch Training: 35, Loss: 0.0240, Accuracy: 0.9940\n"
     ]
    },
    {
     "name": "stdout",
     "output_type": "stream",
     "text": [
      "Epoch Test: 35, Loss: 0.0836, Accuracy: 0.9782\n"
     ]
    },
    {
     "name": "stdout",
     "output_type": "stream",
     "text": [
      "Epoch Training: 36, Loss: 0.0315, Accuracy: 0.9899\n"
     ]
    },
    {
     "name": "stdout",
     "output_type": "stream",
     "text": [
      "Epoch Test: 36, Loss: 0.1258, Accuracy: 0.9782\n"
     ]
    },
    {
     "name": "stdout",
     "output_type": "stream",
     "text": [
      "Epoch Training: 37, Loss: 0.0337, Accuracy: 0.9930\n"
     ]
    },
    {
     "name": "stdout",
     "output_type": "stream",
     "text": [
      "Epoch Test: 37, Loss: 0.0776, Accuracy: 0.9837\n"
     ]
    },
    {
     "name": "stdout",
     "output_type": "stream",
     "text": [
      "Epoch Training: 38, Loss: 0.0155, Accuracy: 0.9970\n"
     ]
    },
    {
     "name": "stdout",
     "output_type": "stream",
     "text": [
      "Epoch Test: 38, Loss: 0.0938, Accuracy: 0.9837\n"
     ]
    },
    {
     "name": "stdout",
     "output_type": "stream",
     "text": [
      "Epoch Training: 39, Loss: 0.0195, Accuracy: 0.9950\n"
     ]
    },
    {
     "name": "stdout",
     "output_type": "stream",
     "text": [
      "Epoch Test: 39, Loss: 0.1006, Accuracy: 0.9837\n"
     ]
    },
    {
     "name": "stdout",
     "output_type": "stream",
     "text": [
      "Epoch Training: 40, Loss: 0.0186, Accuracy: 0.9965\n"
     ]
    },
    {
     "name": "stdout",
     "output_type": "stream",
     "text": [
      "Epoch Test: 40, Loss: 0.0898, Accuracy: 0.9864\n"
     ]
    },
    {
     "name": "stdout",
     "output_type": "stream",
     "text": [
      "Epoch Training: 41, Loss: 0.0114, Accuracy: 0.9990\n"
     ]
    },
    {
     "name": "stdout",
     "output_type": "stream",
     "text": [
      "Epoch Test: 41, Loss: 0.1093, Accuracy: 0.9837\n"
     ]
    },
    {
     "name": "stdout",
     "output_type": "stream",
     "text": [
      "Epoch Training: 42, Loss: 0.0141, Accuracy: 0.9975\n"
     ]
    },
    {
     "name": "stdout",
     "output_type": "stream",
     "text": [
      "Epoch Test: 42, Loss: 0.0950, Accuracy: 0.9837\n"
     ]
    },
    {
     "name": "stdout",
     "output_type": "stream",
     "text": [
      "Epoch Training: 43, Loss: 0.0118, Accuracy: 0.9975\n"
     ]
    },
    {
     "name": "stdout",
     "output_type": "stream",
     "text": [
      "Epoch Test: 43, Loss: 0.1038, Accuracy: 0.9809\n"
     ]
    },
    {
     "name": "stdout",
     "output_type": "stream",
     "text": [
      "Epoch Training: 44, Loss: 0.0133, Accuracy: 0.9975\n"
     ]
    },
    {
     "name": "stdout",
     "output_type": "stream",
     "text": [
      "Epoch Test: 44, Loss: 0.1063, Accuracy: 0.9809\n"
     ]
    },
    {
     "name": "stdout",
     "output_type": "stream",
     "text": [
      "Epoch Training: 45, Loss: 0.0109, Accuracy: 0.9985\n"
     ]
    },
    {
     "name": "stdout",
     "output_type": "stream",
     "text": [
      "Epoch Test: 45, Loss: 0.1090, Accuracy: 0.9837\n"
     ]
    },
    {
     "name": "stdout",
     "output_type": "stream",
     "text": [
      "Epoch Training: 46, Loss: 0.0083, Accuracy: 0.9990\n"
     ]
    },
    {
     "name": "stdout",
     "output_type": "stream",
     "text": [
      "Epoch Test: 46, Loss: 0.1106, Accuracy: 0.9837\n"
     ]
    },
    {
     "name": "stdout",
     "output_type": "stream",
     "text": [
      "Epoch Training: 47, Loss: 0.0082, Accuracy: 0.9995\n"
     ]
    },
    {
     "name": "stdout",
     "output_type": "stream",
     "text": [
      "Epoch Test: 47, Loss: 0.1206, Accuracy: 0.9782\n"
     ]
    },
    {
     "name": "stdout",
     "output_type": "stream",
     "text": [
      "Epoch Training: 48, Loss: 0.0101, Accuracy: 0.9990\n"
     ]
    },
    {
     "name": "stdout",
     "output_type": "stream",
     "text": [
      "Epoch Test: 48, Loss: 0.1194, Accuracy: 0.9782\n"
     ]
    },
    {
     "name": "stdout",
     "output_type": "stream",
     "text": [
      "Epoch Training: 49, Loss: 0.0115, Accuracy: 0.9975\n"
     ]
    },
    {
     "name": "stdout",
     "output_type": "stream",
     "text": [
      "Epoch Test: 49, Loss: 0.1045, Accuracy: 0.9837\n"
     ]
    },
    {
     "name": "stdout",
     "output_type": "stream",
     "text": [
      "Epoch Training: 50, Loss: 0.0089, Accuracy: 0.9995\n"
     ]
    },
    {
     "name": "stdout",
     "output_type": "stream",
     "text": [
      "Epoch Test: 50, Loss: 0.1027, Accuracy: 0.9864\n"
     ]
    },
    {
     "name": "stdout",
     "output_type": "stream",
     "text": [
      "Epoch Training: 51, Loss: 0.0064, Accuracy: 1.0000\n"
     ]
    },
    {
     "name": "stdout",
     "output_type": "stream",
     "text": [
      "Epoch Test: 51, Loss: 0.1131, Accuracy: 0.9837\n"
     ]
    },
    {
     "name": "stdout",
     "output_type": "stream",
     "text": [
      "Epoch Training: 52, Loss: 0.0057, Accuracy: 0.9990\n"
     ]
    },
    {
     "name": "stdout",
     "output_type": "stream",
     "text": [
      "Epoch Test: 52, Loss: 0.0848, Accuracy: 0.9837\n"
     ]
    },
    {
     "name": "stdout",
     "output_type": "stream",
     "text": [
      "Epoch Training: 53, Loss: 0.0059, Accuracy: 0.9995\n"
     ]
    },
    {
     "name": "stdout",
     "output_type": "stream",
     "text": [
      "Epoch Test: 53, Loss: 0.1102, Accuracy: 0.9837\n"
     ]
    },
    {
     "name": "stdout",
     "output_type": "stream",
     "text": [
      "Epoch Training: 54, Loss: 0.0053, Accuracy: 0.9995\n"
     ]
    },
    {
     "name": "stdout",
     "output_type": "stream",
     "text": [
      "Epoch Test: 54, Loss: 0.1137, Accuracy: 0.9782\n"
     ]
    },
    {
     "name": "stdout",
     "output_type": "stream",
     "text": [
      "Epoch Training: 55, Loss: 0.0058, Accuracy: 1.0000\n"
     ]
    },
    {
     "name": "stdout",
     "output_type": "stream",
     "text": [
      "Epoch Test: 55, Loss: 0.1039, Accuracy: 0.9837\n"
     ]
    },
    {
     "name": "stdout",
     "output_type": "stream",
     "text": [
      "Epoch Training: 56, Loss: 0.0060, Accuracy: 0.9985\n"
     ]
    },
    {
     "name": "stdout",
     "output_type": "stream",
     "text": [
      "Epoch Test: 56, Loss: 0.0950, Accuracy: 0.9837\n"
     ]
    },
    {
     "name": "stdout",
     "output_type": "stream",
     "text": [
      "Epoch Training: 57, Loss: 0.0046, Accuracy: 0.9995\n"
     ]
    },
    {
     "name": "stdout",
     "output_type": "stream",
     "text": [
      "Epoch Test: 57, Loss: 0.1046, Accuracy: 0.9809\n"
     ]
    },
    {
     "name": "stdout",
     "output_type": "stream",
     "text": [
      "Epoch Training: 58, Loss: 0.0052, Accuracy: 0.9990\n"
     ]
    },
    {
     "name": "stdout",
     "output_type": "stream",
     "text": [
      "Epoch Test: 58, Loss: 0.0920, Accuracy: 0.9864\n"
     ]
    },
    {
     "name": "stdout",
     "output_type": "stream",
     "text": [
      "Epoch Training: 59, Loss: 0.0038, Accuracy: 1.0000\n"
     ]
    },
    {
     "name": "stdout",
     "output_type": "stream",
     "text": [
      "Epoch Test: 59, Loss: 0.0993, Accuracy: 0.9837\n"
     ]
    },
    {
     "name": "stdout",
     "output_type": "stream",
     "text": [
      "Finished Training !\n"
     ]
    },
    {
     "name": "stdout",
     "output_type": "stream",
     "text": [
      "\n",
      " Run 5/5 sur TPU Core 0...\n"
     ]
    },
    {
     "name": "stdout",
     "output_type": "stream",
     "text": [
      "Epoch Training: 0, Loss: 2.1250, Accuracy: 0.3348\n"
     ]
    },
    {
     "name": "stdout",
     "output_type": "stream",
     "text": [
      "Epoch Test: 0, Loss: 1.9948, Accuracy: 0.4305\n"
     ]
    },
    {
     "name": "stdout",
     "output_type": "stream",
     "text": [
      "Epoch Training: 1, Loss: 1.7396, Accuracy: 0.4329\n"
     ]
    },
    {
     "name": "stdout",
     "output_type": "stream",
     "text": [
      "Epoch Test: 1, Loss: 1.7378, Accuracy: 0.5559\n"
     ]
    },
    {
     "name": "stdout",
     "output_type": "stream",
     "text": [
      "Epoch Training: 2, Loss: 1.5304, Accuracy: 0.4917\n"
     ]
    },
    {
     "name": "stdout",
     "output_type": "stream",
     "text": [
      "Epoch Test: 2, Loss: 1.4837, Accuracy: 0.6104\n"
     ]
    },
    {
     "name": "stdout",
     "output_type": "stream",
     "text": [
      "Epoch Training: 3, Loss: 1.3668, Accuracy: 0.5450\n"
     ]
    },
    {
     "name": "stdout",
     "output_type": "stream",
     "text": [
      "Epoch Test: 3, Loss: 1.3084, Accuracy: 0.6458\n"
     ]
    },
    {
     "name": "stdout",
     "output_type": "stream",
     "text": [
      "Epoch Training: 4, Loss: 1.2232, Accuracy: 0.5842\n"
     ]
    },
    {
     "name": "stdout",
     "output_type": "stream",
     "text": [
      "Epoch Test: 4, Loss: 1.1008, Accuracy: 0.6458\n"
     ]
    },
    {
     "name": "stdout",
     "output_type": "stream",
     "text": [
      "Epoch Training: 5, Loss: 1.0780, Accuracy: 0.6355\n"
     ]
    },
    {
     "name": "stdout",
     "output_type": "stream",
     "text": [
      "Epoch Test: 5, Loss: 0.9569, Accuracy: 0.7112\n"
     ]
    },
    {
     "name": "stdout",
     "output_type": "stream",
     "text": [
      "Epoch Training: 6, Loss: 0.9365, Accuracy: 0.6742\n"
     ]
    },
    {
     "name": "stdout",
     "output_type": "stream",
     "text": [
      "Epoch Test: 6, Loss: 0.7648, Accuracy: 0.7657\n"
     ]
    },
    {
     "name": "stdout",
     "output_type": "stream",
     "text": [
      "Epoch Training: 7, Loss: 0.8226, Accuracy: 0.7240\n"
     ]
    },
    {
     "name": "stdout",
     "output_type": "stream",
     "text": [
      "Epoch Test: 7, Loss: 0.7141, Accuracy: 0.7984\n"
     ]
    },
    {
     "name": "stdout",
     "output_type": "stream",
     "text": [
      "Epoch Training: 8, Loss: 0.7280, Accuracy: 0.7592\n"
     ]
    },
    {
     "name": "stdout",
     "output_type": "stream",
     "text": [
      "Epoch Test: 8, Loss: 0.6404, Accuracy: 0.8365\n"
     ]
    },
    {
     "name": "stdout",
     "output_type": "stream",
     "text": [
      "Epoch Training: 9, Loss: 0.6340, Accuracy: 0.8089\n"
     ]
    },
    {
     "name": "stdout",
     "output_type": "stream",
     "text": [
      "Epoch Test: 9, Loss: 0.5204, Accuracy: 0.8828\n"
     ]
    },
    {
     "name": "stdout",
     "output_type": "stream",
     "text": [
      "Epoch Training: 10, Loss: 0.5397, Accuracy: 0.8477\n"
     ]
    },
    {
     "name": "stdout",
     "output_type": "stream",
     "text": [
      "Epoch Test: 10, Loss: 0.4617, Accuracy: 0.8856\n"
     ]
    },
    {
     "name": "stdout",
     "output_type": "stream",
     "text": [
      "Epoch Training: 11, Loss: 0.4452, Accuracy: 0.8859\n"
     ]
    },
    {
     "name": "stdout",
     "output_type": "stream",
     "text": [
      "Epoch Test: 11, Loss: 0.3783, Accuracy: 0.9155\n"
     ]
    },
    {
     "name": "stdout",
     "output_type": "stream",
     "text": [
      "Epoch Training: 12, Loss: 0.3499, Accuracy: 0.9150\n"
     ]
    },
    {
     "name": "stdout",
     "output_type": "stream",
     "text": [
      "Epoch Test: 12, Loss: 0.2881, Accuracy: 0.9455\n"
     ]
    },
    {
     "name": "stdout",
     "output_type": "stream",
     "text": [
      "Epoch Training: 13, Loss: 0.2810, Accuracy: 0.9281\n"
     ]
    },
    {
     "name": "stdout",
     "output_type": "stream",
     "text": [
      "Epoch Test: 13, Loss: 0.2652, Accuracy: 0.9346\n"
     ]
    },
    {
     "name": "stdout",
     "output_type": "stream",
     "text": [
      "Epoch Training: 14, Loss: 0.2350, Accuracy: 0.9477\n"
     ]
    },
    {
     "name": "stdout",
     "output_type": "stream",
     "text": [
      "Epoch Test: 14, Loss: 0.2005, Accuracy: 0.9646\n"
     ]
    },
    {
     "name": "stdout",
     "output_type": "stream",
     "text": [
      "Epoch Training: 15, Loss: 0.1777, Accuracy: 0.9598\n"
     ]
    },
    {
     "name": "stdout",
     "output_type": "stream",
     "text": [
      "Epoch Test: 15, Loss: 0.1533, Accuracy: 0.9673\n"
     ]
    },
    {
     "name": "stdout",
     "output_type": "stream",
     "text": [
      "Epoch Training: 16, Loss: 0.1529, Accuracy: 0.9638\n"
     ]
    },
    {
     "name": "stdout",
     "output_type": "stream",
     "text": [
      "Epoch Test: 16, Loss: 0.1535, Accuracy: 0.9591\n"
     ]
    },
    {
     "name": "stdout",
     "output_type": "stream",
     "text": [
      "Epoch Training: 17, Loss: 0.1111, Accuracy: 0.9759\n"
     ]
    },
    {
     "name": "stdout",
     "output_type": "stream",
     "text": [
      "Epoch Test: 17, Loss: 0.1564, Accuracy: 0.9591\n"
     ]
    },
    {
     "name": "stdout",
     "output_type": "stream",
     "text": [
      "Epoch Training: 18, Loss: 0.1150, Accuracy: 0.9723\n"
     ]
    },
    {
     "name": "stdout",
     "output_type": "stream",
     "text": [
      "Epoch Test: 18, Loss: 0.1618, Accuracy: 0.9537\n"
     ]
    },
    {
     "name": "stdout",
     "output_type": "stream",
     "text": [
      "Epoch Training: 19, Loss: 0.0977, Accuracy: 0.9789\n"
     ]
    },
    {
     "name": "stdout",
     "output_type": "stream",
     "text": [
      "Epoch Test: 19, Loss: 0.1154, Accuracy: 0.9700\n"
     ]
    },
    {
     "name": "stdout",
     "output_type": "stream",
     "text": [
      "Epoch Training: 20, Loss: 0.0749, Accuracy: 0.9859\n"
     ]
    },
    {
     "name": "stdout",
     "output_type": "stream",
     "text": [
      "Epoch Test: 20, Loss: 0.1092, Accuracy: 0.9700\n"
     ]
    },
    {
     "name": "stdout",
     "output_type": "stream",
     "text": [
      "Epoch Training: 21, Loss: 0.0671, Accuracy: 0.9829\n"
     ]
    },
    {
     "name": "stdout",
     "output_type": "stream",
     "text": [
      "Epoch Test: 21, Loss: 0.1050, Accuracy: 0.9755\n"
     ]
    },
    {
     "name": "stdout",
     "output_type": "stream",
     "text": [
      "Epoch Training: 22, Loss: 0.0719, Accuracy: 0.9814\n"
     ]
    },
    {
     "name": "stdout",
     "output_type": "stream",
     "text": [
      "Epoch Test: 22, Loss: 0.1289, Accuracy: 0.9619\n"
     ]
    },
    {
     "name": "stdout",
     "output_type": "stream",
     "text": [
      "Epoch Training: 23, Loss: 0.0463, Accuracy: 0.9899\n"
     ]
    },
    {
     "name": "stdout",
     "output_type": "stream",
     "text": [
      "Epoch Test: 23, Loss: 0.1040, Accuracy: 0.9700\n"
     ]
    },
    {
     "name": "stdout",
     "output_type": "stream",
     "text": [
      "Epoch Training: 24, Loss: 0.0480, Accuracy: 0.9884\n"
     ]
    },
    {
     "name": "stdout",
     "output_type": "stream",
     "text": [
      "Epoch Test: 24, Loss: 0.0971, Accuracy: 0.9728\n"
     ]
    },
    {
     "name": "stdout",
     "output_type": "stream",
     "text": [
      "Epoch Training: 25, Loss: 0.0495, Accuracy: 0.9874\n"
     ]
    },
    {
     "name": "stdout",
     "output_type": "stream",
     "text": [
      "Epoch Test: 25, Loss: 0.1078, Accuracy: 0.9700\n"
     ]
    },
    {
     "name": "stdout",
     "output_type": "stream",
     "text": [
      "Epoch Training: 26, Loss: 0.0473, Accuracy: 0.9910\n"
     ]
    },
    {
     "name": "stdout",
     "output_type": "stream",
     "text": [
      "Epoch Test: 26, Loss: 0.1242, Accuracy: 0.9700\n"
     ]
    },
    {
     "name": "stdout",
     "output_type": "stream",
     "text": [
      "Epoch Training: 27, Loss: 0.0292, Accuracy: 0.9945\n"
     ]
    },
    {
     "name": "stdout",
     "output_type": "stream",
     "text": [
      "Epoch Test: 27, Loss: 0.1189, Accuracy: 0.9700\n"
     ]
    },
    {
     "name": "stdout",
     "output_type": "stream",
     "text": [
      "Epoch Training: 28, Loss: 0.0356, Accuracy: 0.9920\n"
     ]
    },
    {
     "name": "stdout",
     "output_type": "stream",
     "text": [
      "Epoch Test: 28, Loss: 0.1125, Accuracy: 0.9700\n"
     ]
    },
    {
     "name": "stdout",
     "output_type": "stream",
     "text": [
      "Epoch Training: 29, Loss: 0.0296, Accuracy: 0.9920\n"
     ]
    },
    {
     "name": "stdout",
     "output_type": "stream",
     "text": [
      "Epoch Test: 29, Loss: 0.1282, Accuracy: 0.9728\n"
     ]
    },
    {
     "name": "stdout",
     "output_type": "stream",
     "text": [
      "Epoch Training: 30, Loss: 0.0243, Accuracy: 0.9945\n"
     ]
    },
    {
     "name": "stdout",
     "output_type": "stream",
     "text": [
      "Epoch Test: 30, Loss: 0.1336, Accuracy: 0.9700\n"
     ]
    },
    {
     "name": "stdout",
     "output_type": "stream",
     "text": [
      "Epoch Training: 31, Loss: 0.0224, Accuracy: 0.9950\n"
     ]
    },
    {
     "name": "stdout",
     "output_type": "stream",
     "text": [
      "Epoch Test: 31, Loss: 0.1242, Accuracy: 0.9700\n"
     ]
    },
    {
     "name": "stdout",
     "output_type": "stream",
     "text": [
      "Epoch Training: 32, Loss: 0.0234, Accuracy: 0.9945\n"
     ]
    },
    {
     "name": "stdout",
     "output_type": "stream",
     "text": [
      "Epoch Test: 32, Loss: 0.1292, Accuracy: 0.9700\n"
     ]
    },
    {
     "name": "stdout",
     "output_type": "stream",
     "text": [
      "Epoch Training: 33, Loss: 0.0243, Accuracy: 0.9940\n"
     ]
    },
    {
     "name": "stdout",
     "output_type": "stream",
     "text": [
      "Epoch Test: 33, Loss: 0.1513, Accuracy: 0.9646\n"
     ]
    },
    {
     "name": "stdout",
     "output_type": "stream",
     "text": [
      "Epoch Training: 34, Loss: 0.0151, Accuracy: 0.9975\n"
     ]
    },
    {
     "name": "stdout",
     "output_type": "stream",
     "text": [
      "Epoch Test: 34, Loss: 0.1343, Accuracy: 0.9728\n"
     ]
    },
    {
     "name": "stdout",
     "output_type": "stream",
     "text": [
      "Epoch Training: 35, Loss: 0.0156, Accuracy: 0.9985\n"
     ]
    },
    {
     "name": "stdout",
     "output_type": "stream",
     "text": [
      "Epoch Test: 35, Loss: 0.1218, Accuracy: 0.9728\n"
     ]
    },
    {
     "name": "stdout",
     "output_type": "stream",
     "text": [
      "Epoch Training: 36, Loss: 0.0229, Accuracy: 0.9940\n"
     ]
    },
    {
     "name": "stdout",
     "output_type": "stream",
     "text": [
      "Epoch Test: 36, Loss: 0.0981, Accuracy: 0.9755\n"
     ]
    },
    {
     "name": "stdout",
     "output_type": "stream",
     "text": [
      "Epoch Training: 37, Loss: 0.0134, Accuracy: 0.9975\n"
     ]
    },
    {
     "name": "stdout",
     "output_type": "stream",
     "text": [
      "Epoch Test: 37, Loss: 0.1336, Accuracy: 0.9728\n"
     ]
    },
    {
     "name": "stdout",
     "output_type": "stream",
     "text": [
      "Epoch Training: 38, Loss: 0.0139, Accuracy: 0.9970\n"
     ]
    },
    {
     "name": "stdout",
     "output_type": "stream",
     "text": [
      "Epoch Test: 38, Loss: 0.1229, Accuracy: 0.9755\n"
     ]
    },
    {
     "name": "stdout",
     "output_type": "stream",
     "text": [
      "Epoch Training: 39, Loss: 0.0131, Accuracy: 0.9985\n"
     ]
    },
    {
     "name": "stdout",
     "output_type": "stream",
     "text": [
      "Epoch Test: 39, Loss: 0.1234, Accuracy: 0.9755\n"
     ]
    },
    {
     "name": "stdout",
     "output_type": "stream",
     "text": [
      "Epoch Training: 40, Loss: 0.0142, Accuracy: 0.9965\n"
     ]
    },
    {
     "name": "stdout",
     "output_type": "stream",
     "text": [
      "Epoch Test: 40, Loss: 0.1688, Accuracy: 0.9728\n"
     ]
    },
    {
     "name": "stdout",
     "output_type": "stream",
     "text": [
      "Epoch Training: 41, Loss: 0.0107, Accuracy: 0.9980\n"
     ]
    },
    {
     "name": "stdout",
     "output_type": "stream",
     "text": [
      "Epoch Test: 41, Loss: 0.1195, Accuracy: 0.9755\n"
     ]
    },
    {
     "name": "stdout",
     "output_type": "stream",
     "text": [
      "Epoch Training: 42, Loss: 0.0140, Accuracy: 0.9960\n"
     ]
    },
    {
     "name": "stdout",
     "output_type": "stream",
     "text": [
      "Epoch Test: 42, Loss: 0.1393, Accuracy: 0.9700\n"
     ]
    },
    {
     "name": "stdout",
     "output_type": "stream",
     "text": [
      "Epoch Training: 43, Loss: 0.0097, Accuracy: 0.9985\n"
     ]
    },
    {
     "name": "stdout",
     "output_type": "stream",
     "text": [
      "Epoch Test: 43, Loss: 0.1437, Accuracy: 0.9755\n"
     ]
    },
    {
     "name": "stdout",
     "output_type": "stream",
     "text": [
      "Epoch Training: 44, Loss: 0.0096, Accuracy: 0.9995\n"
     ]
    },
    {
     "name": "stdout",
     "output_type": "stream",
     "text": [
      "Epoch Test: 44, Loss: 0.1362, Accuracy: 0.9728\n"
     ]
    },
    {
     "name": "stdout",
     "output_type": "stream",
     "text": [
      "Epoch Training: 45, Loss: 0.0062, Accuracy: 1.0000\n"
     ]
    },
    {
     "name": "stdout",
     "output_type": "stream",
     "text": [
      "Epoch Test: 45, Loss: 0.1418, Accuracy: 0.9755\n"
     ]
    },
    {
     "name": "stdout",
     "output_type": "stream",
     "text": [
      "Epoch Training: 46, Loss: 0.0078, Accuracy: 0.9995\n"
     ]
    },
    {
     "name": "stdout",
     "output_type": "stream",
     "text": [
      "Epoch Test: 46, Loss: 0.1341, Accuracy: 0.9755\n"
     ]
    },
    {
     "name": "stdout",
     "output_type": "stream",
     "text": [
      "Epoch Training: 47, Loss: 0.0056, Accuracy: 0.9995\n"
     ]
    },
    {
     "name": "stdout",
     "output_type": "stream",
     "text": [
      "Epoch Test: 47, Loss: 0.1663, Accuracy: 0.9755\n"
     ]
    },
    {
     "name": "stdout",
     "output_type": "stream",
     "text": [
      "Epoch Training: 48, Loss: 0.0085, Accuracy: 0.9975\n"
     ]
    },
    {
     "name": "stdout",
     "output_type": "stream",
     "text": [
      "Epoch Test: 48, Loss: 0.1811, Accuracy: 0.9782\n"
     ]
    },
    {
     "name": "stdout",
     "output_type": "stream",
     "text": [
      "Epoch Training: 49, Loss: 0.0046, Accuracy: 1.0000\n"
     ]
    },
    {
     "name": "stdout",
     "output_type": "stream",
     "text": [
      "Epoch Test: 49, Loss: 0.1406, Accuracy: 0.9728\n"
     ]
    },
    {
     "name": "stdout",
     "output_type": "stream",
     "text": [
      "Epoch Training: 50, Loss: 0.0047, Accuracy: 0.9995\n"
     ]
    },
    {
     "name": "stdout",
     "output_type": "stream",
     "text": [
      "Epoch Test: 50, Loss: 0.1452, Accuracy: 0.9728\n"
     ]
    },
    {
     "name": "stdout",
     "output_type": "stream",
     "text": [
      "Epoch Training: 51, Loss: 0.0055, Accuracy: 0.9985\n"
     ]
    },
    {
     "name": "stdout",
     "output_type": "stream",
     "text": [
      "Epoch Test: 51, Loss: 0.1411, Accuracy: 0.9728\n"
     ]
    },
    {
     "name": "stdout",
     "output_type": "stream",
     "text": [
      "Epoch Training: 52, Loss: 0.0057, Accuracy: 0.9985\n"
     ]
    },
    {
     "name": "stdout",
     "output_type": "stream",
     "text": [
      "Epoch Test: 52, Loss: 0.1308, Accuracy: 0.9782\n"
     ]
    },
    {
     "name": "stdout",
     "output_type": "stream",
     "text": [
      "Epoch Training: 53, Loss: 0.0039, Accuracy: 1.0000\n"
     ]
    },
    {
     "name": "stdout",
     "output_type": "stream",
     "text": [
      "Epoch Test: 53, Loss: 0.1374, Accuracy: 0.9755\n"
     ]
    },
    {
     "name": "stdout",
     "output_type": "stream",
     "text": [
      "Epoch Training: 54, Loss: 0.0027, Accuracy: 1.0000\n"
     ]
    },
    {
     "name": "stdout",
     "output_type": "stream",
     "text": [
      "Epoch Test: 54, Loss: 0.1403, Accuracy: 0.9782\n"
     ]
    },
    {
     "name": "stdout",
     "output_type": "stream",
     "text": [
      "Epoch Training: 55, Loss: 0.0047, Accuracy: 0.9995\n"
     ]
    },
    {
     "name": "stdout",
     "output_type": "stream",
     "text": [
      "Epoch Test: 55, Loss: 0.1391, Accuracy: 0.9755\n"
     ]
    },
    {
     "name": "stdout",
     "output_type": "stream",
     "text": [
      "Epoch Training: 56, Loss: 0.0025, Accuracy: 1.0000\n"
     ]
    },
    {
     "name": "stdout",
     "output_type": "stream",
     "text": [
      "Epoch Test: 56, Loss: 0.1399, Accuracy: 0.9755\n"
     ]
    },
    {
     "name": "stdout",
     "output_type": "stream",
     "text": [
      "Epoch Training: 57, Loss: 0.0030, Accuracy: 0.9995\n"
     ]
    },
    {
     "name": "stdout",
     "output_type": "stream",
     "text": [
      "Epoch Test: 57, Loss: 0.1610, Accuracy: 0.9755\n"
     ]
    },
    {
     "name": "stdout",
     "output_type": "stream",
     "text": [
      "Epoch Training: 58, Loss: 0.0026, Accuracy: 1.0000\n"
     ]
    },
    {
     "name": "stdout",
     "output_type": "stream",
     "text": [
      "Epoch Test: 58, Loss: 0.1426, Accuracy: 0.9728\n"
     ]
    },
    {
     "name": "stdout",
     "output_type": "stream",
     "text": [
      "Epoch Training: 59, Loss: 0.0038, Accuracy: 0.9995\n"
     ]
    },
    {
     "name": "stdout",
     "output_type": "stream",
     "text": [
      "Epoch Test: 59, Loss: 0.1558, Accuracy: 0.9755\n"
     ]
    },
    {
     "name": "stdout",
     "output_type": "stream",
     "text": [
      "Finished Training !\n"
     ]
    }
   ],
   "source": [
    "#from multiprocessing import Queue\n",
    "import torch.multiprocessing as mp\n",
    "\n",
    "\n",
    "import time\n",
    "mainDir='/kaggle/input/mynumpyfiles/NumpyDS'\n",
    "nbFold=5\n",
    "num_epochs=60\n",
    "manager = mp.Manager()  # ✅ Crée un manager pour gérer des objets entre processus\n",
    "results_queue = manager.Queue()  # ✅ Création de la queue compatible avec `xmp.spawn()`\n",
    "\n",
    "xmp.spawn(_mp_fn, args=(results_queue, nbFold, myGlobalDs, mainDir, num_epochs), nprocs=xm.xrt_world_size(), start_method='fork')\n",
    "\n",
    "# 📌 Collecte des résultats\n",
    "train_losses, test_losses, train_accuracies, test_accuracies = [], [], [], []\n",
    "time.sleep(5) \n",
    "while not results_queue.empty():\n",
    "    t_loss, te_loss, t_acc, te_acc = results_queue.get()\n",
    "    train_losses.append(t_loss)\n",
    "    test_losses.append(te_loss)\n",
    "    train_accuracies.append(t_acc)\n",
    "    test_accuracies.append(te_acc)\n",
    "\n",
    "# 📌 Sauvegarde des résultats\n",
    "np.save(\"/kaggle/working/epoch_train_losses.npy\", np.array(train_losses))\n",
    "np.save(\"/kaggle/working/epoch_test_losses.npy\", np.array(test_losses))\n",
    "np.save(\"/kaggle/working/epoch_train_accuracies.npy\", np.array(train_accuracies))\n",
    "np.save(\"/kaggle/working/epoch_test_accuracies.npy\", np.array(test_accuracies))"
   ]
  }
 ],
 "metadata": {
  "kaggle": {
   "accelerator": "tpu1vmV38",
   "dataSources": [
    {
     "datasetId": 6624622,
     "sourceId": 10691564,
     "sourceType": "datasetVersion"
    }
   ],
   "dockerImageVersionId": 30886,
   "isGpuEnabled": false,
   "isInternetEnabled": true,
   "language": "python",
   "sourceType": "notebook"
  },
  "kernelspec": {
   "display_name": "Python 3",
   "language": "python",
   "name": "python3"
  },
  "language_info": {
   "codemirror_mode": {
    "name": "ipython",
    "version": 3
   },
   "file_extension": ".py",
   "mimetype": "text/x-python",
   "name": "python",
   "nbconvert_exporter": "python",
   "pygments_lexer": "ipython3",
   "version": "3.10.16"
  },
  "papermill": {
   "default_parameters": {},
   "duration": 24876.917048,
   "end_time": "2025-02-25T03:50:43.428561",
   "environment_variables": {},
   "exception": null,
   "input_path": "__notebook__.ipynb",
   "output_path": "__notebook__.ipynb",
   "parameters": {},
   "start_time": "2025-02-24T20:56:06.511513",
   "version": "2.6.0"
  }
 },
 "nbformat": 4,
 "nbformat_minor": 5
}
