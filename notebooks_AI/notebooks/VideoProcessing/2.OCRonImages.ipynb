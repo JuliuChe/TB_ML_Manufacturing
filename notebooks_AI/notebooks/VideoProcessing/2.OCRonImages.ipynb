{
 "cells": [
  {
   "cell_type": "markdown",
   "source": [
    "\n",
    "## OCR on Images\n",
    "### OCR with pyTesseract \n",
    "#### On whole image"
   ],
   "metadata": {
    "collapsed": false
   },
   "id": "68f085f0701ed0eb"
  },
  {
   "cell_type": "code",
   "execution_count": 5,
   "outputs": [
    {
     "name": "stdout",
     "output_type": "stream",
     "text": [
      "Number of contours: 21533\n",
      "Box number :  1 Text: \n",
      "Box number :  2 Text: ne mamas |\n",
      "Box number :  3 Text: aes Seber\n",
      "Box number :  4 Text: AOE ie ef\n",
      "Box number :  5 Text: La Te |\n",
      "Box number :  6 Text: Gi cc ae\n",
      "Box number :  7 Text: fo% Se |\n",
      "\n",
      "Box number :  8 Text: \n",
      "Box number :  9 Text: TAL\n",
      "Box number :  10 Text: Pe DUREE: SOUS. TENSI OIG83: 125245,\n",
      "Box number :  11 Text: \n",
      "Box number :  12 Text: oe ee et\n",
      "Box number :  13 Text: EIT sma re\n",
      "\n",
      "Box number :  14 Text: \n"
     ]
    }
   ],
   "source": [
    "from pytesseract import pytesseract\n",
    "import cv2\n",
    "import numpy as np\n",
    "\n",
    "def processImage(path_to_image, path_to_output):\n",
    "    pytesseract.tesseract_cmd = r'C:/Program Files/Tesseract-OCR/tesseract.exe'\n",
    "    image=cv2.imread(path_to_image)\n",
    "    #Converting image to gray level\n",
    "    gray=cv2.cvtColor(image, cv2.COLOR_BGR2GRAY)\n",
    "   \n",
    "    #Improve contrast\n",
    "    clahe = cv2.createCLAHE(clipLimit=2.0, tileGridSize=(8, 8))\n",
    "    clahe_gray=clahe.apply(gray)\n",
    "    cv2.imwrite(path_to_output + '/1.clayTest.jpg', clahe_gray)\n",
    "    \n",
    "    #Apply adaptive thresholding\n",
    "    treshImage=cv2.adaptiveThreshold(clahe_gray, 255, cv2.ADAPTIVE_THRESH_GAUSSIAN_C, cv2.THRESH_BINARY_INV, 11, 2)\n",
    "    cv2.imwrite(path_to_output + '/2.treshTest.jpg', treshImage)\n",
    "    \n",
    "    #Extract contours\n",
    "    contours, hierarchy = cv2.findContours(treshImage, cv2.RETR_TREE, cv2.CHAIN_APPROX_SIMPLE)\n",
    "    print('Number of contours:', len(contours))\n",
    "    \n",
    "    #Convert back to color image\n",
    "    imContour=treshImage.copy()\n",
    "    imContour = cv2.cvtColor(imContour, cv2.COLOR_GRAY2BGR)\n",
    "    cv2.drawContours(imContour, contours, -1, (255,0,0), thickness=1)\n",
    "    cv2.imwrite(path_to_output +'/3.contourTest.jpg', imContour)\n",
    "        \n",
    "    \n",
    "    myImage=cv2.cvtColor(treshImage.copy(), cv2.COLOR_GRAY2BGR)\n",
    "    \n",
    "    #Iterating over contours to detect potential bounding boxes\n",
    "    potential_boxes=[]\n",
    "    for contour in contours:\n",
    "        (x,y,w,h) = cv2.boundingRect(contour)\n",
    "        if w>50 and h>10 and w<250 and h<20:\n",
    "            cv2.rectangle(myImage, (x,y), (x+w, y+h), (0,255,0), 2)\n",
    "            potential_boxes.append((x,y,w,h))\n",
    "            \n",
    "    #Save image with potential bounding boxes\n",
    "    cv2.imwrite(path_to_output + '/4.LargeTest.jpg', myImage)\n",
    "    \n",
    "    \n",
    "    mybox=0 \n",
    "    for (x,y,w,h) in potential_boxes:\n",
    "        mybox+=1\n",
    "        roi=myImage[y:y+h, x:x+w]\n",
    "        config=('-l eng --oem 1 --psm 7')\n",
    "        cv2.putText(myImage,str(mybox), (x,y), cv2.FONT_HERSHEY_SIMPLEX, 0.5, (255,0,255), 2)\n",
    "        text=pytesseract.image_to_string(roi, config=config)\n",
    "        print('Box number : ', mybox, 'Text:', text)\n",
    "    cv2.imwrite(path_to_output + '/5.numTest.jpg', myImage)\n",
    "    cv2.destroyAllWindows()\n",
    "    return \n",
    "\n",
    "processImage('F:/Data_BachelorHES/3.Video_CNC/6.pyTesseractOCR/frame10075.jpg', 'F:/Data_BachelorHES/3.Video_CNC/6.pyTesseractOCR/fullImageOCR')  "
   ],
   "metadata": {
    "collapsed": false,
    "ExecuteTime": {
     "end_time": "2025-03-01T09:19:52.108532600Z",
     "start_time": "2025-03-01T09:19:48.005344600Z"
    }
   },
   "id": "17f55adca3193531"
  },
  {
   "cell_type": "markdown",
   "source": [
    "\n",
    "#### On cropped image\n"
   ],
   "metadata": {
    "collapsed": false
   },
   "id": "7fce7a68ceea8001"
  },
  {
   "cell_type": "code",
   "execution_count": 26,
   "outputs": [],
   "source": [
    "def preprocess_with_closing_opening(image, kernel_size=(3,3)):\n",
    "    \"\"\"\n",
    "    Preprocess the image by applying morphological closing followed by opening.\n",
    "    \"\"\"\n",
    "    # Morphological Closing: Fill gaps within characters\n",
    "    kernel = cv2.getStructuringElement(cv2.MORPH_RECT,kernel_size)\n",
    "    closing = cv2.morphologyEx(image, cv2.MORPH_CLOSE, kernel, iterations=1)\n",
    "    \n",
    "    # Morphological Opening: Remove noise\n",
    "    opening = cv2.morphologyEx(closing, cv2.MORPH_OPEN, kernel, iterations=1)\n",
    "    \n",
    "    return opening"
   ],
   "metadata": {
    "collapsed": false,
    "ExecuteTime": {
     "end_time": "2025-03-01T15:19:17.080324500Z",
     "start_time": "2025-03-01T15:19:17.016841600Z"
    }
   },
   "id": "8fbd303f8540e772"
  },
  {
   "cell_type": "code",
   "execution_count": 17,
   "outputs": [
    {
     "name": "stdout",
     "output_type": "stream",
     "text": [
      "number of contours: 1868\n",
      "Box number :  1    Text: fus Ka”     Box coordinate (x,y,w,h) : ( 82 235 31 9 )\n",
      "Box number :  2    Text: ar 2     Box coordinate (x,y,w,h) : ( 24 188 26 10 )\n",
      "Box number :  3    Text: MISE X-05. Sd 2 =     Box coordinate (x,y,w,h) : ( 12 74 82 18 )\n",
      "Box number :  4    Text: môsea     Box coordinate (x,y,w,h) : ( 198 3 28 9 )\n",
      "Box number :  5    Text: HEC     Box coordinate (x,y,w,h) : ( 82 0 36 10 )\n"
     ]
    }
   ],
   "source": [
    "def OCRonCroppedImages(myImagePath, myImageName, destIntermedDir):\n",
    "    #Prepare image Name for testing\n",
    "    myImageNameRaw=myImageName.split('.')[0]\n",
    "    \n",
    "    \n",
    "    #Define path to tesseract\n",
    "    pytesseract.tesseract_cmd = r'C:/Program Files/Tesseract-OCR/tesseract.exe'\n",
    "    \n",
    "    #load Image in grayScale\n",
    "    originalImage = cv2.imread(myImagePath+myImageName, cv2.IMREAD_GRAYSCALE)\n",
    "    \n",
    "    #Apply scaling of the image\n",
    "    #Apply CLAHE to improve contrast\n",
    "    clahe = cv2.createCLAHE(clipLimit=2.0, tileGridSize=(8, 8))\n",
    "    claheImg=clahe.apply(originalImage)\n",
    "    \n",
    "    #Apply adaptive thresholding\n",
    "    threshImage=cv2.adaptiveThreshold(claheImg, 255, cv2.ADAPTIVE_THRESH_GAUSSIAN_C, cv2.THRESH_BINARY_INV, 11, 2)\n",
    "\n",
    "    \n",
    "    #Apply morphological opening / closing\n",
    "    cleanedImage=preprocess_with_closing_opening(threshImage,(1,1))\n",
    "    \n",
    "        #Find contours and save a copy with green contours\n",
    "    contours, hierarchy = cv2.findContours(cleanedImage, cv2.RETR_TREE, cv2.CHAIN_APPROX_SIMPLE)\n",
    "    \n",
    "    cleanedImage=cv2.cvtColor(cleanedImage, cv2.COLOR_GRAY2BGR)\n",
    "    \n",
    "    #Result image\n",
    "    resultImage = cv2.imread(myImagePath+myImageName)\n",
    "     #Iterating over contours to detect potential bounding boxes\n",
    "    potential_boxes=[]\n",
    "    print(f\"number of contours: {len(contours)}\")\n",
    "    for contour in contours:\n",
    "        (x,y,w,h) = cv2.boundingRect(contour)\n",
    "        #Draw boundingBoxes on image in green\n",
    "        cv2.rectangle(resultImage, (x,y), (x+w, y+h), (0,255,0), 1)  \n",
    "        if w>20 and h>5 and w<250 and h<200: \n",
    "            #Draw relevant bounding boxes on image in red\n",
    "            cv2.rectangle(resultImage, (x,y), (x+w, y+h), (0,0,255), 2)    \n",
    "            area = w*h\n",
    "            potential_boxes.append((x,y,w,h))\n",
    "    cv2.imwrite('{}boxes_{}'.format(destIntermedDir, myImageName), resultImage)\n",
    "    \n",
    "    text=[]\n",
    "    for idx,(x,y,w,h) in enumerate(potential_boxes):\n",
    "        roi=cv2.cvtColor(cleanedImage[y:y+h, x:x+w], cv2.COLOR_BGR2GRAY)\n",
    "        \n",
    "        #preprocess ROI for better OCR quality\n",
    "        roi=cv2.resize(roi, None, fx=2, fy=2, interpolation=cv2.INTER_LINEAR)\n",
    "        roi=cv2.GaussianBlur(roi, (5,5), 0) #reduce noise inside the ROI\n",
    "        ret, roi = cv2.threshold(roi, 0, 255, cv2.THRESH_BINARY + cv2.THRESH_OTSU)\n",
    "        \n",
    "        #Process bounding box and display recognized characters\n",
    "        config=('-l fra --oem 1 --psm 7')\n",
    "        text.append(pytesseract.image_to_string(roi, config=config).strip())\n",
    "        print('Box number : ', idx+1, '   Text:', text[idx], '    Box coordinate (x,y,w,h) : (', x, y, w, h, ')')\n",
    "\n",
    "OCRonCroppedImages('F:/Data_BachelorHES/3.Video_CNC/6.pyTesseractOCR/','cropped_frame_10075.jpg', 'F:/Data_BachelorHES/3.Video_CNC/6.pyTesseractOCR/croppedImageOCR/')    \n",
    "\n"
   ],
   "metadata": {
    "collapsed": false,
    "ExecuteTime": {
     "end_time": "2025-03-01T10:17:56.790971700Z",
     "start_time": "2025-03-01T10:17:53.604352500Z"
    }
   },
   "id": "173ff6529caa9f00"
  },
  {
   "cell_type": "markdown",
   "source": [
    "## OCR using PaddleOCR"
   ],
   "metadata": {
    "collapsed": false
   },
   "id": "3fa726387c2d41fa"
  },
  {
   "cell_type": "code",
   "execution_count": 30,
   "outputs": [],
   "source": [
    "#To install paddle OCR, run this line in the terminal\n",
    "\n",
    "#pip install paddleocr --user"
   ],
   "metadata": {
    "collapsed": false,
    "ExecuteTime": {
     "end_time": "2025-03-01T15:25:15.045101800Z",
     "start_time": "2025-03-01T15:25:14.897807900Z"
    }
   },
   "id": "b9f3e7dc4fea8dd9"
  },
  {
   "cell_type": "markdown",
   "source": [
    "\n",
    "### First Test on whole image without preprocessing"
   ],
   "metadata": {
    "collapsed": false
   },
   "id": "988d278986a5e428"
  },
  {
   "cell_type": "code",
   "execution_count": 19,
   "outputs": [
    {
     "name": "stdout",
     "output_type": "stream",
     "text": [
      "[2025/03/01 12:02:37] ppocr DEBUG: Namespace(help='==SUPPRESS==', use_gpu=False, use_xpu=False, use_npu=False, use_mlu=False, ir_optim=True, use_tensorrt=False, min_subgraph_size=15, precision='fp32', gpu_mem=500, gpu_id=0, image_dir=None, page_num=0, det_algorithm='DB', det_model_dir='C:\\\\Users\\\\Julie/.paddleocr/whl\\\\det\\\\en\\\\en_PP-OCRv3_det_infer', det_limit_side_len=960, det_limit_type='max', det_box_type='quad', det_db_thresh=0.3, det_db_box_thresh=0.6, det_db_unclip_ratio=1.5, max_batch_size=10, use_dilation=False, det_db_score_mode='fast', det_east_score_thresh=0.8, det_east_cover_thresh=0.1, det_east_nms_thresh=0.2, det_sast_score_thresh=0.5, det_sast_nms_thresh=0.2, det_pse_thresh=0, det_pse_box_thresh=0.85, det_pse_min_area=16, det_pse_scale=1, scales=[8, 16, 32], alpha=1.0, beta=1.0, fourier_degree=5, rec_algorithm='SVTR_LCNet', rec_model_dir='C:\\\\Users\\\\Julie/.paddleocr/whl\\\\rec\\\\en\\\\en_PP-OCRv4_rec_infer', rec_image_inverse=True, rec_image_shape='3, 48, 320', rec_batch_num=6, max_text_length=25, rec_char_dict_path='C:\\\\Users\\\\Julie\\\\AppData\\\\Roaming\\\\Python\\\\Python39\\\\site-packages\\\\paddleocr\\\\ppocr\\\\utils\\\\en_dict.txt', use_space_char=True, vis_font_path='./doc/fonts/simfang.ttf', drop_score=0.5, e2e_algorithm='PGNet', e2e_model_dir=None, e2e_limit_side_len=768, e2e_limit_type='max', e2e_pgnet_score_thresh=0.5, e2e_char_dict_path='./ppocr/utils/ic15_dict.txt', e2e_pgnet_valid_set='totaltext', e2e_pgnet_mode='fast', use_angle_cls=True, cls_model_dir='C:\\\\Users\\\\Julie/.paddleocr/whl\\\\cls\\\\ch_ppocr_mobile_v2.0_cls_infer', cls_image_shape='3, 48, 192', label_list=['0', '180'], cls_batch_num=6, cls_thresh=0.9, enable_mkldnn=False, cpu_threads=10, use_pdserving=False, warmup=False, sr_model_dir=None, sr_image_shape='3, 32, 128', sr_batch_num=1, draw_img_save_dir='./inference_results', save_crop_res=False, crop_res_save_dir='./output', use_mp=False, total_process_num=1, process_id=0, benchmark=False, save_log_path='./log_output/', show_log=True, use_onnx=False, return_word_box=False, output='./output', table_max_len=488, table_algorithm='TableAttn', table_model_dir=None, merge_no_span_structure=True, table_char_dict_path=None, formula_algorithm='LaTeXOCR', formula_model_dir=None, formula_char_dict_path=None, formula_batch_num=1, layout_model_dir=None, layout_dict_path=None, layout_score_threshold=0.5, layout_nms_threshold=0.5, kie_algorithm='LayoutXLM', ser_model_dir=None, re_model_dir=None, use_visual_backbone=True, ser_dict_path='../train_data/XFUND/class_list_xfun.txt', ocr_order_method=None, mode='structure', image_orientation=False, layout=True, table=True, formula=False, ocr=True, recovery=False, recovery_to_markdown=False, use_pdf2docx_api=False, invert=False, binarize=False, alphacolor=(255, 255, 255), lang='en', det=True, rec=True, type='ocr', savefile=False, ocr_version='PP-OCRv4', structure_version='PP-StructureV2')\n",
      "[2025/03/01 12:02:42] ppocr DEBUG: dt_boxes num : 101, elapsed : 1.407721996307373\n",
      "[2025/03/01 12:02:43] ppocr DEBUG: cls num  : 101, elapsed : 0.7709980010986328\n",
      "[2025/03/01 12:02:53] ppocr DEBUG: rec_res num  : 101, elapsed : 10.805877923965454\n",
      "[[[[[656.0, 17.0], [744.0, 19.0], [744.0, 33.0], [656.0, 32.0]], ('ONCTIONNEMENT', 0.991362988948822)], [[[761.0, 22.0], [780.0, 22.0], [780.0, 32.0], [761.0, 32.0]], ('MEH', 0.7483503222465515)], [[[456.0, 32.0], [552.0, 32.0], [552.0, 45.0], [456.0, 45.0]], ('B/H-6000103705.dn', 0.9387577176094055)], [[[647.0, 36.0], [723.0, 39.0], [722.0, 52.0], [646.0, 49.0]], ('CODES ACTIF', 0.9715512990951538)], [[[899.0, 44.0], [968.0, 44.0], [968.0, 57.0], [899.0, 57.0]], ('OUTIL ACTIF', 0.9217243194580078)], [[[699.0, 54.0], [754.0, 57.0], [753.0, 72.0], [698.0, 69.0]], ('MVI RAPIDE', 0.8586810827255249)], [[[999.0, 45.0], [1040.0, 45.0], [1040.0, 58.0], [999.0, 58.0]], ('I.ARRO', 0.9501116275787354)], [[[405.0, 61.0], [423.0, 61.0], [423.0, 70.0], [405.0, 70.0]], ('N334', 0.9684045314788818)], [[[456.0, 62.0], [549.0, 62.0], [549.0, 75.0], [456.0, 75.0]], ('-184.473Y12.076', 0.9483535289764404)], [[[656.0, 56.0], [671.0, 56.0], [671.0, 68.0], [656.0, 68.0]], ('G8O', 0.6256954669952393)], [[[698.0, 67.0], [784.0, 70.0], [784.0, 85.0], [697.0, 82.0]], ('POSITION ABSOLUE', 0.9220001697540283)], [[[849.0, 61.0], [869.0, 61.0], [869.0, 74.0], [849.0, 74.0]], ('D07', 0.9245261549949646)], [[[916.0, 58.0], [964.0, 58.0], [964.0, 71.0], [916.0, 71.0]], ('P2012', 0.866534411907196)], [[[428.0, 77.0], [593.0, 79.0], [593.0, 94.0], [428.0, 91.0]], ('G98 G83 Z-16.764 R2.Q2.F1040.', 0.858468770980835)], [[[655.0, 69.0], [672.0, 69.0], [672.0, 79.0], [655.0, 79.0]], ('690', 0.8488629460334778)], [[[655.0, 78.0], [673.0, 78.0], [673.0, 94.0], [655.0, 94.0]], ('G40', 0.897639274597168)], [[[699.0, 81.0], [840.0, 85.0], [840.0, 98.0], [699.0, 94.0]], ('ANNULER CONPENSATION FRATSE', 0.927104115486145)], [[[849.0, 73.0], [867.0, 73.0], [867.0, 85.0], [849.0, 85.0]], ('H07', 0.9026293754577637)], [[[892.0, 75.0], [947.0, 75.0], [947.0, 90.0], [892.0, 90.0]], ('OAD115VIE', 0.9407460689544678)], [[[849.0, 86.0], [865.0, 86.0], [865.0, 98.0], [849.0, 98.0]], ('HOE', 0.9695179462432861)], [[[955.0, 79.0], [975.0, 79.0], [975.0, 89.0], [955.0, 89.0]], ('1003', 0.8446381092071533)], [[[489.0, 98.0], [519.0, 98.0], [519.0, 107.0], [489.0, 107.0]], ('20.567', 0.9695143103599548)], [[[653.0, 91.0], [673.0, 91.0], [673.0, 107.0], [653.0, 107.0]], ('GBO', 0.6486517786979675)], [[[699.0, 93.0], [768.0, 94.0], [768.0, 109.0], [699.0, 107.0]], ('ANNULER CYCLE', 0.9618854522705078)], [[[401.0, 104.0], [483.0, 106.0], [483.0, 119.0], [401.0, 118.0]], ('390X-85.322', 0.9130750894546509)], [[[653.0, 106.0], [673.0, 106.0], [673.0, 119.0], [653.0, 119.0]], ('G59', 0.8874988555908203)], [[[696.0, 106.0], [773.0, 107.0], [773.0, 122.0], [696.0, 120.0]], ('DECAL ORIG #59', 0.8973504900932312)], [[[851.0, 99.0], [863.0, 99.0], [863.0, 110.0], [851.0, 110.0]], ('12', 0.9939727783203125)], [[[486.0, 112.0], [523.0, 116.0], [522.0, 130.0], [485.0, 127.0]], ('13.857', 0.9199213981628418)], [[[886.0, 118.0], [974.0, 121.0], [973.0, 134.0], [885.0, 131.0]], ('TYPE DOUTIL NON', 0.9325569272041321)], [[[403.0, 132.0], [493.0, 132.0], [493.0, 146.0], [403.0, 146.0]], ('N3420 G80 G00 ZS.', 0.8183258175849915)], [[[399.0, 156.0], [497.0, 159.0], [497.0, 174.0], [399.0, 171.0]], ('N3450 G28 G91 ZO.', 0.8451477885246277)], [[[401.0, 151.0], [449.0, 151.0], [449.0, 160.0], [401.0, 160.0]], ('N3440 H09', 0.8917683362960815)], [[[838.0, 149.0], [897.0, 151.0], [897.0, 164.0], [837.0, 163.0]], ('ONCTIONNE', 0.9955926537513733)], [[[134.0, 163.0], [219.0, 166.0], [218.0, 184.0], [133.0, 181.0]], ('POWER ON', 0.9625089168548584)], [[[253.0, 165.0], [340.0, 170.0], [339.0, 188.0], [252.0, 184.0]], ('POWER OFF', 0.9534770250320435)], [[[400.0, 168.0], [472.0, 168.0], [472.0, 177.0], [400.0, 177.0]], ('N3460G90H01', 0.8430424332618713)], [[[662.0, 173.0], [826.0, 179.0], [825.0, 193.0], [661.0, 188.0]], ('DUREE S0US TENSION:3683:12:24', 0.8654817342758179)], [[[667.0, 201.0], [819.0, 205.0], [818.0, 220.0], [666.0, 216.0]], ('DUREE DEMARRAGE CYQ475:46:33', 0.9126976728439331)], [[[398.0, 226.0], [541.0, 230.0], [541.0, 245.0], [397.0, 241.0]], ('N34701006V309-12', 0.8675562143325806)], [[[398.0, 235.0], [450.0, 239.0], [449.0, 252.0], [397.0, 249.0]], ('N3480114', 0.9252404570579529)], [[[667.0, 227.0], [770.0, 232.0], [769.0, 245.0], [666.0, 241.0]], ('DUREE AVANCE DE COL', 0.9505232572555542)], [[[395.0, 262.0], [452.0, 265.0], [451.0, 280.0], [394.0, 276.0]], ('N3510', 0.8718665242195129)], [[[666.0, 253.0], [764.0, 256.0], [764.0, 269.0], [665.0, 266.0]], ('30 COMPTEUR n1', 0.8666640520095825)], [[[776.0, 258.0], [805.0, 258.0], [805.0, 269.0], [776.0, 269.0]], ('14018', 0.9967034459114075)], [[[664.0, 271.0], [761.0, 274.0], [761.0, 287.0], [664.0, 284.0]], ('M30 COMPTEUR n2', 0.8559221625328064)], [[[777.0, 277.0], [804.0, 277.0], [804.0, 287.0], [777.0, 287.0]], ('14018', 0.9977467656135559)], [[[805.0, 300.0], [853.0, 300.0], [853.0, 314.0], [805.0, 314.0]], ('0.000000', 0.9622466564178467)], [[[805.0, 312.0], [854.0, 315.0], [853.0, 330.0], [804.0, 327.0]], ('0.000000', 0.9529654383659363)], [[[889.0, 303.0], [940.0, 303.0], [940.0, 316.0], [889.0, 316.0]], ('CE CYCLE', 0.8881286382675171)], [[[960.0, 304.0], [1001.0, 304.0], [1001.0, 318.0], [960.0, 318.0]], ('007:43', 0.9265943169593811)], [[[887.0, 316.0], [1001.0, 318.0], [1001.0, 332.0], [887.0, 331.0]], ('DERNIER CYCI20:00', 0.8956699967384338)], [[[642.0, 339.0], [701.0, 340.0], [701.0, 354.0], [641.0, 352.0]], ('POSITION:', 0.9848313927650452)], [[[709.0, 343.0], [751.0, 343.0], [751.0, 352.0], [709.0, 352.0]], ('TRAVAIL', 0.9837070107460022)], [[[166.0, 353.0], [299.0, 356.0], [298.0, 375.0], [165.0, 372.0]], ('EMERGENCY STOP', 0.9621004462242126)], [[[907.0, 345.0], [1036.0, 351.0], [1036.0, 364.0], [906.0, 358.0]], ('COMPTEURS ET TEMPORI', 0.9404431581497192)], [[[486.0, 360.0], [555.0, 361.0], [554.0, 376.0], [485.0, 374.0]], ('SPINDLE LOAD', 0.961963415145874)], [[[577.0, 365.0], [608.0, 365.0], [608.0, 376.0], [577.0, 376.0]], ('1.6', 0.9600912928581238)], [[[685.0, 368.0], [731.0, 368.0], [731.0, 381.0], [685.0, 381.0]], ('-85.322', 0.9519429206848145)], [[[715.0, 359.0], [732.0, 359.0], [732.0, 368.0], [715.0, 368.0]], ('(MM', 0.7903701663017273)], [[[483.0, 370.0], [556.0, 375.0], [555.0, 389.0], [482.0, 385.0]], ('SURFACE SPEED:', 0.940628170967102)], [[[867.0, 361.0], [884.0, 361.0], [884.0, 371.0], [867.0, 371.0]], ('CHAI', 0.9467817544937134)], [[[908.0, 365.0], [949.0, 365.0], [949.0, 379.0], [908.0, 379.0]], ('CECYCLE', 0.9480529427528381)], [[[873.0, 375.0], [887.0, 375.0], [887.0, 385.0], [873.0, 385.0]], ('6%', 0.9679183959960938)], [[[981.0, 367.0], [1021.0, 367.0], [1021.0, 381.0], [981.0, 381.0]], ('007:43', 0.9086068272590637)], [[[393.0, 381.0], [441.0, 381.0], [441.0, 394.0], [393.0, 394.0]], ('OVERRIDES', 0.9956283569335938)], [[[501.0, 385.0], [553.0, 385.0], [553.0, 398.0], [501.0, 398.0]], ('CHARG COP', 0.9450275897979736)], [[[569.0, 377.0], [588.0, 377.0], [588.0, 388.0], [569.0, 388.0]], ('225', 0.9972131848335266)], [[[578.0, 385.0], [619.0, 388.0], [618.0, 401.0], [577.0, 398.0]], ('0.04334', 0.9741589426994324)], [[[688.0, 382.0], [731.0, 382.0], [731.0, 397.0], [688.0, 397.0]], ('20.567', 0.9931022524833679)], [[[904.0, 377.0], [970.0, 380.0], [969.0, 395.0], [904.0, 392.0]], ('DERNIER CYCL', 0.9508323073387146)], [[[905.0, 390.0], [934.0, 394.0], [932.0, 408.0], [903.0, 404.0]], ('RESTE', 0.9954386949539185)], [[[979.0, 381.0], [1021.0, 381.0], [1021.0, 394.0], [979.0, 394.0]], ('0:20:00', 0.8632129430770874)], [[[404.0, 392.0], [464.0, 395.0], [464.0, 408.0], [404.0, 405.0]], ('AVAN.100%', 0.8993642330169678)], [[[501.0, 397.0], [553.0, 397.0], [553.0, 410.0], [501.0, 410.0]], ('VI.AVANC', 0.9558889865875244)], [[[563.0, 395.0], [614.0, 399.0], [613.0, 413.0], [562.0, 410.0]], ('1040.0000', 0.968949019908905)], [[[691.0, 398.0], [729.0, 398.0], [729.0, 412.0], [691.0, 412.0]], ('1.929', 0.8297271728515625)], [[[392.0, 402.0], [463.0, 405.0], [462.0, 420.0], [392.0, 417.0]], ('BROCHE100%', 0.9441849589347839)], [[[868.0, 402.0], [888.0, 402.0], [888.0, 416.0], [868.0, 416.0]], ('%E', 0.6035045385360718)], [[[979.0, 393.0], [1022.0, 396.0], [1021.0, 411.0], [978.0, 407.0]], ('0:12:17', 0.8494645357131958)], [[[401.0, 415.0], [459.0, 418.0], [458.0, 433.0], [400.0, 430.0]], ('RAPIDE25', 0.9139822125434875)], [[[491.0, 406.0], [555.0, 409.0], [554.0, 424.0], [490.0, 421.0]], ('ACTIVE FEED:', 0.9397353529930115)], [[[563.0, 407.0], [612.0, 411.0], [611.0, 424.0], [562.0, 421.0]], ('1040.0000', 0.9588634967803955)], [[[903.0, 408.0], [1000.0, 409.0], [1000.0, 424.0], [903.0, 422.0]], ('3O COMPTEUR ', 0.7488455176353455)], [[[903.0, 417.0], [990.0, 424.0], [989.0, 437.0], [902.0, 430.0]], ('30 COMPTEUR n2', 0.8323634266853333)], [[[995.0, 410.0], [1027.0, 410.0], [1027.0, 425.0], [995.0, 425.0]], ('14018', 0.9917451739311218)], [[[906.0, 429.0], [991.0, 432.0], [990.0, 446.0], [905.0, 443.0]], ('BOUCLES RESTANTE', 0.9590492844581604)], [[[997.0, 424.0], [1025.0, 424.0], [1025.0, 434.0], [997.0, 434.0]], ('14010', 0.9903814196586609)], [[[393.0, 434.0], [424.0, 434.0], [424.0, 445.0], [393.0, 445.0]], ('BROCHE', 0.9776166081428528)], [[[425.0, 434.0], [469.0, 434.0], [469.0, 447.0], [425.0, 447.0]], ('CHARG', 0.9820044636726379)], [[[404.0, 453.0], [449.0, 453.0], [449.0, 466.0], [404.0, 466.0]], ('ENOUURS', 0.5416445136070251)], [[[691.0, 463.0], [711.0, 463.0], [711.0, 472.0], [691.0, 472.0]], ('AVAN', 0.9111519455909729)], [[[656.0, 488.0], [736.0, 491.0], [736.0, 504.0], [656.0, 501.0]], ('CONVOY EN AVANT', 0.9411137700080872)], [[[176.0, 589.0], [276.0, 592.0], [276.0, 609.0], [176.0, 606.0]], ('HANDLE JOG', 0.9620673060417175)], [[[405.0, 581.0], [446.0, 584.0], [445.0, 599.0], [404.0, 595.0]], ('RESET', 0.997288703918457)]]]\n",
      "Recognized text : ONCTIONNEMENT, confidence: 0.991362988948822\n",
      "Recognized text : MEH, confidence: 0.7483503222465515\n",
      "Recognized text : B/H-6000103705.dn, confidence: 0.9387577176094055\n",
      "Recognized text : CODES ACTIF, confidence: 0.9715512990951538\n",
      "Recognized text : OUTIL ACTIF, confidence: 0.9217243194580078\n",
      "Recognized text : MVI RAPIDE, confidence: 0.8586810827255249\n",
      "Recognized text : I.ARRO, confidence: 0.9501116275787354\n",
      "Recognized text : N334, confidence: 0.9684045314788818\n",
      "Recognized text : -184.473Y12.076, confidence: 0.9483535289764404\n",
      "Recognized text : G8O, confidence: 0.6256954669952393\n",
      "Recognized text : POSITION ABSOLUE, confidence: 0.9220001697540283\n",
      "Recognized text : D07, confidence: 0.9245261549949646\n",
      "Recognized text : P2012, confidence: 0.866534411907196\n",
      "Recognized text : G98 G83 Z-16.764 R2.Q2.F1040., confidence: 0.858468770980835\n",
      "Recognized text : 690, confidence: 0.8488629460334778\n",
      "Recognized text : G40, confidence: 0.897639274597168\n",
      "Recognized text : ANNULER CONPENSATION FRATSE, confidence: 0.927104115486145\n",
      "Recognized text : H07, confidence: 0.9026293754577637\n",
      "Recognized text : OAD115VIE, confidence: 0.9407460689544678\n",
      "Recognized text : HOE, confidence: 0.9695179462432861\n",
      "Recognized text : 1003, confidence: 0.8446381092071533\n",
      "Recognized text : 20.567, confidence: 0.9695143103599548\n",
      "Recognized text : GBO, confidence: 0.6486517786979675\n",
      "Recognized text : ANNULER CYCLE, confidence: 0.9618854522705078\n",
      "Recognized text : 390X-85.322, confidence: 0.9130750894546509\n",
      "Recognized text : G59, confidence: 0.8874988555908203\n",
      "Recognized text : DECAL ORIG #59, confidence: 0.8973504900932312\n",
      "Recognized text : 12, confidence: 0.9939727783203125\n",
      "Recognized text : 13.857, confidence: 0.9199213981628418\n",
      "Recognized text : TYPE DOUTIL NON, confidence: 0.9325569272041321\n",
      "Recognized text : N3420 G80 G00 ZS., confidence: 0.8183258175849915\n",
      "Recognized text : N3450 G28 G91 ZO., confidence: 0.8451477885246277\n",
      "Recognized text : N3440 H09, confidence: 0.8917683362960815\n",
      "Recognized text : ONCTIONNE, confidence: 0.9955926537513733\n",
      "Recognized text : POWER ON, confidence: 0.9625089168548584\n",
      "Recognized text : POWER OFF, confidence: 0.9534770250320435\n",
      "Recognized text : N3460G90H01, confidence: 0.8430424332618713\n",
      "Recognized text : DUREE S0US TENSION:3683:12:24, confidence: 0.8654817342758179\n",
      "Recognized text : DUREE DEMARRAGE CYQ475:46:33, confidence: 0.9126976728439331\n",
      "Recognized text : N34701006V309-12, confidence: 0.8675562143325806\n",
      "Recognized text : N3480114, confidence: 0.9252404570579529\n",
      "Recognized text : DUREE AVANCE DE COL, confidence: 0.9505232572555542\n",
      "Recognized text : N3510, confidence: 0.8718665242195129\n",
      "Recognized text : 30 COMPTEUR n1, confidence: 0.8666640520095825\n",
      "Recognized text : 14018, confidence: 0.9967034459114075\n",
      "Recognized text : M30 COMPTEUR n2, confidence: 0.8559221625328064\n",
      "Recognized text : 14018, confidence: 0.9977467656135559\n",
      "Recognized text : 0.000000, confidence: 0.9622466564178467\n",
      "Recognized text : 0.000000, confidence: 0.9529654383659363\n",
      "Recognized text : CE CYCLE, confidence: 0.8881286382675171\n",
      "Recognized text : 007:43, confidence: 0.9265943169593811\n",
      "Recognized text : DERNIER CYCI20:00, confidence: 0.8956699967384338\n",
      "Recognized text : POSITION:, confidence: 0.9848313927650452\n",
      "Recognized text : TRAVAIL, confidence: 0.9837070107460022\n",
      "Recognized text : EMERGENCY STOP, confidence: 0.9621004462242126\n",
      "Recognized text : COMPTEURS ET TEMPORI, confidence: 0.9404431581497192\n",
      "Recognized text : SPINDLE LOAD, confidence: 0.961963415145874\n",
      "Recognized text : 1.6, confidence: 0.9600912928581238\n",
      "Recognized text : -85.322, confidence: 0.9519429206848145\n",
      "Recognized text : (MM, confidence: 0.7903701663017273\n",
      "Recognized text : SURFACE SPEED:, confidence: 0.940628170967102\n",
      "Recognized text : CHAI, confidence: 0.9467817544937134\n",
      "Recognized text : CECYCLE, confidence: 0.9480529427528381\n",
      "Recognized text : 6%, confidence: 0.9679183959960938\n",
      "Recognized text : 007:43, confidence: 0.9086068272590637\n",
      "Recognized text : OVERRIDES, confidence: 0.9956283569335938\n",
      "Recognized text : CHARG COP, confidence: 0.9450275897979736\n",
      "Recognized text : 225, confidence: 0.9972131848335266\n",
      "Recognized text : 0.04334, confidence: 0.9741589426994324\n",
      "Recognized text : 20.567, confidence: 0.9931022524833679\n",
      "Recognized text : DERNIER CYCL, confidence: 0.9508323073387146\n",
      "Recognized text : RESTE, confidence: 0.9954386949539185\n",
      "Recognized text : 0:20:00, confidence: 0.8632129430770874\n",
      "Recognized text : AVAN.100%, confidence: 0.8993642330169678\n",
      "Recognized text : VI.AVANC, confidence: 0.9558889865875244\n",
      "Recognized text : 1040.0000, confidence: 0.968949019908905\n",
      "Recognized text : 1.929, confidence: 0.8297271728515625\n",
      "Recognized text : BROCHE100%, confidence: 0.9441849589347839\n",
      "Recognized text : %E, confidence: 0.6035045385360718\n",
      "Recognized text : 0:12:17, confidence: 0.8494645357131958\n",
      "Recognized text : RAPIDE25, confidence: 0.9139822125434875\n",
      "Recognized text : ACTIVE FEED:, confidence: 0.9397353529930115\n",
      "Recognized text : 1040.0000, confidence: 0.9588634967803955\n",
      "Recognized text : 3O COMPTEUR , confidence: 0.7488455176353455\n",
      "Recognized text : 30 COMPTEUR n2, confidence: 0.8323634266853333\n",
      "Recognized text : 14018, confidence: 0.9917451739311218\n",
      "Recognized text : BOUCLES RESTANTE, confidence: 0.9590492844581604\n",
      "Recognized text : 14010, confidence: 0.9903814196586609\n",
      "Recognized text : BROCHE, confidence: 0.9776166081428528\n",
      "Recognized text : CHARG, confidence: 0.9820044636726379\n",
      "Recognized text : ENOUURS, confidence: 0.5416445136070251\n",
      "Recognized text : AVAN, confidence: 0.9111519455909729\n",
      "Recognized text : CONVOY EN AVANT, confidence: 0.9411137700080872\n",
      "Recognized text : HANDLE JOG, confidence: 0.9620673060417175\n",
      "Recognized text : RESET, confidence: 0.997288703918457\n"
     ]
    }
   ],
   "source": [
    "from paddleocr import PaddleOCR\n",
    "\n",
    "\n",
    "def paddle_ocr(my_image_path, my_image_name):\n",
    "    srcImg= my_image_path + my_image_name\n",
    "    \n",
    "    ocr=PaddleOCR(use_angle_cls=True, lang='en') # need to run only once to download and load model into memory\n",
    "    \n",
    "    results=ocr.ocr(srcImg, cls=True)\n",
    "    print(results)\n",
    "    for line in results[0]:\n",
    "        txt, confidence = line[1]\n",
    "        print(f'Recognized text : {txt}, confidence: {confidence}')\n",
    "    return results\n",
    "    \n",
    "\n",
    "myResult=paddle_ocr('F:/Data_BachelorHES/3.Video_CNC/7.paddleOCR/','frame10075.jpg')    "
   ],
   "metadata": {
    "collapsed": false,
    "ExecuteTime": {
     "end_time": "2025-03-01T11:02:54.266353400Z",
     "start_time": "2025-03-01T11:02:19.110365500Z"
    }
   },
   "id": "b95904f477bc9cf2"
  },
  {
   "cell_type": "code",
   "execution_count": 22,
   "outputs": [],
   "source": [
    "import os \n",
    "\n",
    "os.environ[\"OMP_NUM_THREADS\"] = \"8\"\n",
    "\n",
    "#Call the OCR model and download it\n",
    "ocr=PaddleOCR(use_angle_cls=True, lang='en', use_gpu=\"False\", cpu_threads=8) "
   ],
   "metadata": {
    "collapsed": false,
    "ExecuteTime": {
     "end_time": "2025-03-01T13:52:19.638847600Z",
     "start_time": "2025-03-01T13:52:13.459786400Z"
    }
   },
   "id": "80c1fbb7817b0b88"
  },
  {
   "cell_type": "markdown",
   "source": [
    "\n",
    "### Second Test on cropped image with preprocessing"
   ],
   "metadata": {
    "collapsed": false
   },
   "id": "f1b9daa5947c30f9"
  },
  {
   "cell_type": "code",
   "execution_count": 24,
   "outputs": [],
   "source": [
    "\n",
    "import logging\n",
    "\n",
    "# Désactiver les logs de PaddleOCR\n",
    "logging.getLogger(\"ppocr\").setLevel(logging.ERROR)\n",
    "\n",
    "\n",
    "def paddleOCRWhiteRegions (myImagePath, myImageName, destIntermedDir, whiteThresh=0.45):\n",
    "   \n",
    "    srcImg=myImagePath+myImageName\n",
    "   \n",
    "    Img=cv2.imread(srcImg, cv2.IMREAD_COLOR)\n",
    "   \n",
    "    Img=cv2.resize(Img,(0,0), fx=2.0, fy=2.0, interpolation=cv2.INTER_NEAREST) \n",
    "   \n",
    "    grayImg=cv2.cvtColor(Img, cv2.COLOR_BGR2GRAY)\n",
    "   \n",
    "    threshImage=cv2.adaptiveThreshold(grayImg, 255, cv2.ADAPTIVE_THRESH_GAUSSIAN_C, cv2.THRESH_BINARY_INV, 15, 5)\n",
    "    \n",
    "    ocrPath=destIntermedDir+\"ocr_image.png\"\n",
    "    cv2.imwrite(ocrPath, Img)\n",
    "    \n",
    "    \n",
    "    myDictInfos = {\n",
    "        'ImageName': myImageName,\n",
    "        'Frame_Number': int(myImageName.split('_')[-1].split('.')[0]),\n",
    "        'Detected_Text': {\n",
    "            'Text_Box_(x,y,w,h)': [],\n",
    "            'Text': [],\n",
    "            'Confidence': [],\n",
    "            'White_Ratio': [],\n",
    "            'FilePath': []\n",
    "        }\n",
    "    }\n",
    "\n",
    "    \n",
    "    results=ocr.ocr(ocrPath, cls=True)\n",
    "    \n",
    "    if not results[0]:\n",
    "        print(\"No text detected\")\n",
    "        return myDictInfos\n",
    "    for line in results[0]:\n",
    "        coord, (txt, confidence) = line\n",
    "        xMin=int(min([point[0] for point in coord]))\n",
    "        xMax=int(max([point[0] for point in coord]))\n",
    "        yMin=int(min([point[1] for point in coord]))\n",
    "        yMax=int(max([point[1] for point in coord]))\n",
    "        region=threshImage[yMin:yMax, xMin:xMax]\n",
    "        h,w=yMax-yMin, xMax-xMin\n",
    "        totalPixels = region.size\n",
    "        whitePixels = cv2.countNonZero(region)\n",
    "        whiteRatio = whitePixels / float(totalPixels)\n",
    "        \n",
    "        if whiteRatio>=whiteThresh and (xMin>300 or yMin>20):\n",
    "                myRegionImagePath=destIntermedDir+'Img_{}_Region_{}_WRatio_{}_txt_{}_conf_{}.png'.format(myDictInfos['Frame_Number'],(xMin,yMin,w,h), np.round(whiteRatio,2), txt, np.round(confidence,3))\n",
    "                myDictInfos['Detected_Text']['Text_Box_(x,y,w,h)'].append((xMin,yMin,w,h))\n",
    "                \n",
    "                myDictInfos['Detected_Text']['Text'].append(txt)\n",
    "                \n",
    "                myDictInfos['Detected_Text']['Confidence'].append(confidence)\n",
    "                \n",
    "                myDictInfos['Detected_Text']['White_Ratio'].append(whiteRatio)\n",
    "                \n",
    "                myDictInfos['Detected_Text']['FilePath'].append(myRegionImagePath)\n",
    "                \n",
    "                cv2.imwrite(myRegionImagePath,region)\n",
    "                \n",
    "    return myDictInfos\n",
    "\n",
    "\n",
    "myResultWhite= paddleOCRWhiteRegions ('F:/Data_BachelorHES/3.Video_CNC/7.paddleOCR/','cropped_frame_10075.jpg', 'F:/Data_BachelorHES/3.Video_CNC/7.paddleOCR/croppedImageOCR/',)"
   ],
   "metadata": {
    "collapsed": false,
    "ExecuteTime": {
     "end_time": "2025-03-01T13:53:02.396481800Z",
     "start_time": "2025-03-01T13:52:58.277015800Z"
    }
   },
   "id": "cd6a973f8b1041db"
  },
  {
   "cell_type": "code",
   "execution_count": 25,
   "outputs": [
    {
     "name": "stdout",
     "output_type": "stream",
     "text": [
      "{'ImageName': 'cropped_frame_10075.jpg', 'Frame_Number': 10075, 'Detected_Text': {'Text_Box_(x,y,w,h)': [(395, 6, 98, 20), (24, 147, 162, 20)], 'Text': ['NO0003390', '3390-85.322'], 'Confidence': [0.9211666584014893, 0.9037150740623474], 'White_Ratio': [0.5331632653061225, 0.557716049382716], 'FilePath': ['F:/Data_BachelorHES/3.Video_CNC/7.paddleOCR/croppedImageOCR/Img_10075_Region_(395, 6, 98, 20)_WRatio_0.53_txt_NO0003390_conf_0.921.png', 'F:/Data_BachelorHES/3.Video_CNC/7.paddleOCR/croppedImageOCR/Img_10075_Region_(24, 147, 162, 20)_WRatio_0.56_txt_3390-85.322_conf_0.904.png']}}\n"
     ]
    }
   ],
   "source": [
    "print(myResultWhite)"
   ],
   "metadata": {
    "collapsed": false,
    "ExecuteTime": {
     "end_time": "2025-03-01T14:06:10.072542300Z",
     "start_time": "2025-03-01T14:06:09.936569200Z"
    }
   },
   "id": "30bb83f74ff2d544"
  },
  {
   "cell_type": "code",
   "execution_count": null,
   "outputs": [],
   "source": [],
   "metadata": {
    "collapsed": false
   },
   "id": "ac721de8bbd08c57"
  }
 ],
 "metadata": {
  "kernelspec": {
   "display_name": "Python 3",
   "language": "python",
   "name": "python3"
  },
  "language_info": {
   "codemirror_mode": {
    "name": "ipython",
    "version": 2
   },
   "file_extension": ".py",
   "mimetype": "text/x-python",
   "name": "python",
   "nbconvert_exporter": "python",
   "pygments_lexer": "ipython2",
   "version": "2.7.6"
  }
 },
 "nbformat": 4,
 "nbformat_minor": 5
}
