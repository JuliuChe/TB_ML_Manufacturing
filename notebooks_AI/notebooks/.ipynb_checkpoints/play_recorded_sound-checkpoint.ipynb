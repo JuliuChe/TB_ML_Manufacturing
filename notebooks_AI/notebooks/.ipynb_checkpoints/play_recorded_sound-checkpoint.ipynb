{
 "cells": [
  {
   "cell_type": "code",
   "execution_count": 2,
   "id": "initial_id",
   "metadata": {
    "ExecuteTime": {
     "end_time": "2024-10-21T08:24:17.230820900Z",
     "start_time": "2024-10-21T08:24:17.225909100Z"
    }
   },
   "outputs": [
    {
     "name": "stdout",
     "output_type": "stream",
     "text": [
      "Reading file: ../data/PMPM_RAW_BIN_10s_20241021_094654.csv\n"
     ]
    }
   ],
   "source": [
    "import simpleaudio as sa\n",
    "filename='../data/PMPM_RAW_BIN_10s_20241021_094654.csv'\n",
    "print('Reading file:',filename)"
   ]
  },
  {
   "cell_type": "code",
   "execution_count": 3,
   "id": "234b304f06c31266",
   "metadata": {
    "ExecuteTime": {
     "end_time": "2024-10-21T08:24:17.258969100Z",
     "start_time": "2024-10-21T08:24:17.234136Z"
    },
    "collapsed": false,
    "jupyter": {
     "outputs_hidden": false
    }
   },
   "outputs": [
    {
     "name": "stdout",
     "output_type": "stream",
     "text": [
      "b'\\x00\\x00\\xec\\xff\\xef\\xff\\xf0\\xff\\xef\\xff\\xef\\xff\\xf4\\xff\\xf2\\xff\\xf1\\xff\\xed\\xff'\n"
     ]
    }
   ],
   "source": [
    "# Lire le fichier .csv qui contient le flux de bytes\n",
    "with open(filename, 'rb') as f:\n",
    "    byte_stream = f.read()  # Lire tout le fichier comme un flux de bytes\n",
    "print(byte_stream[0:20])\n"
   ]
  },
  {
   "cell_type": "code",
   "execution_count": 4,
   "id": "123c57b22033000a",
   "metadata": {
    "ExecuteTime": {
     "end_time": "2024-10-21T08:25:08.520981900Z",
     "start_time": "2024-10-21T08:25:08.062364Z"
    },
    "collapsed": false,
    "jupyter": {
     "outputs_hidden": false
    }
   },
   "outputs": [],
   "source": [
    "import  struct\n",
    "num_values = len(byte_stream) // 2  # Calcul du nombre d'entiers\n",
    "values = []\n",
    "for i in range(num_values):\n",
    "    two_bytes = byte_stream[i*2:(i*2)+2]\n",
    "    value = struct.unpack('<h', two_bytes)[0]  # '<h' pour 2 bytes en short int\n",
    "    values.append(value)"
   ]
  },
  {
   "cell_type": "code",
   "execution_count": 5,
   "id": "ce402310b59d00c5",
   "metadata": {
    "ExecuteTime": {
     "end_time": "2024-10-21T10:01:03.327089400Z",
     "start_time": "2024-10-21T10:01:03.312916300Z"
    },
    "collapsed": false,
    "jupyter": {
     "outputs_hidden": false
    }
   },
   "outputs": [
    {
     "name": "stdout",
     "output_type": "stream",
     "text": [
      "[0, -20, -17, -16, -17, -17, -12, -14, -15, -19, -17, -19, -20, -19, -15, -19, -19, -20, -20, -17, -16, -17, -17, -16, -16, -16, -20, -19, -17, -16, -17, -16, -17, -15, -16, -14, -14, -15, -16, -20, -24, -16, -19, -16, -15, -20, -19, -15, -19, -19, -20, 0, -20, -19, -16, -14, -14, -12, -14, -16, -16, -16, -19, -16, -17, -15, -15, -16, -17, -16, -17, -19, -15, -16, -17, -17, -16, -19, -20, -20, -17, -16, -16, -17, -16, -17, -17, -17, -19, -15, -17, -20, -17, -15, -17, -17, -16, -15, -16, -14, -19, -19, 0, -19, -19]\n",
      "510000\n"
     ]
    }
   ],
   "source": [
    "print(values[:105])\n",
    "print(len(values))"
   ]
  },
  {
   "cell_type": "code",
   "execution_count": 6,
   "id": "d394b187daf185c1",
   "metadata": {
    "ExecuteTime": {
     "end_time": "2024-10-21T10:21:40.081244300Z",
     "start_time": "2024-10-21T10:21:39.966071600Z"
    },
    "collapsed": false,
    "jupyter": {
     "outputs_hidden": false
    }
   },
   "outputs": [],
   "source": [
    "import numpy as np\n",
    "\n",
    "npValues=np.array(values, dtype=np.int16)\n",
    "start_size=1\n",
    "sound_size=50\n",
    "slice_size=start_size+sound_size\n",
    "num_slice = len(npValues)//slice_size # Nombre de tranches\n",
    "\n",
    "start_indices=np.concatenate([np.arange(i*slice_size, i*slice_size+start_size) for i in range(num_slice)])\n",
    "sound_indices=np.concatenate([np.arange(i*slice_size, i*slice_size+sound_size) for i in range(num_slice)])\n",
    "startValues=npValues[start_indices]\n",
    "soundValues=npValues[sound_indices]\n"
   ]
  },
  {
   "cell_type": "code",
   "execution_count": 7,
   "id": "5df188cc8302d802",
   "metadata": {
    "ExecuteTime": {
     "end_time": "2024-10-21T10:22:27.341851Z",
     "start_time": "2024-10-21T10:22:27.333139900Z"
    },
    "collapsed": false,
    "jupyter": {
     "outputs_hidden": false
    }
   },
   "outputs": [
    {
     "name": "stdout",
     "output_type": "stream",
     "text": [
      "[0 0 0 0 0 0 0 0 0 0]\n",
      "10000 (10000,) 0 0\n",
      "[  0 -20 -17 -16 -17 -17 -12 -14 -15 -19]\n",
      "500000 (500000,) 39 -91\n",
      "510000 (510000,)\n",
      "10000\n"
     ]
    }
   ],
   "source": [
    "print(startValues[:10])\n",
    "print(len(startValues), startValues.shape, np.max(startValues), np.min(startValues))\n",
    "print(soundValues[:10])\n",
    "print(len(soundValues), soundValues.shape,np.max(soundValues),np.min(soundValues))\n",
    "print(len(npValues), npValues.shape)\n",
    "print(num_slice)\n"
   ]
  },
  {
   "cell_type": "code",
   "execution_count": 8,
   "id": "6587a0e96cd8939a",
   "metadata": {
    "ExecuteTime": {
     "end_time": "2024-10-21T11:54:38.411730300Z",
     "start_time": "2024-10-21T11:54:25.635107500Z"
    },
    "collapsed": false,
    "jupyter": {
     "outputs_hidden": false
    }
   },
   "outputs": [
    {
     "name": "stdout",
     "output_type": "stream",
     "text": [
      "[  0 -20 -17 -16 -17 -17 -12 -14 -15 -19 -17 -19 -20 -19 -15 -19 -19 -20\n",
      " -20 -17]\n",
      "441000 (441000,) 12644 -32767\n",
      "441000 (441000,) 18966 -32768\n"
     ]
    }
   ],
   "source": [
    "\n",
    "\n",
    "import scipy.signal as signal\n",
    "\n",
    "fs=50000\n",
    "ft=44100\n",
    "amplify=1.5\n",
    "#audio = values*(2**15-1)/np.max(np.abs(values))\n",
    "audio = soundValues.copy()\n",
    "print(audio[:20])\n",
    "# Convert to 16-bit data\n",
    "#audio = audio.astype(np.int16)\n",
    "audio_resampled = signal.resample(audio, int(len(audio)*ft/fs))\n",
    "audio_resampled = np.int16(audio_resampled*(2**15-1)/np.max(np.abs(audio_resampled)))\n",
    "print(len(audio_resampled), audio_resampled.shape,np.max(audio_resampled),np.min(audio_resampled))\n",
    "\n",
    "\n",
    "audio_amplified = audio_resampled*amplify\n",
    "audio_amplified=np.clip(audio_amplified, -2**15, 2**15-1)\n",
    "audio_amplified=np.int16(audio_amplified)\n",
    "print(len(audio_amplified), audio_amplified.shape,np.max(audio_amplified),np.min(audio_amplified))\n",
    "\n"
   ]
  },
  {
   "cell_type": "code",
   "execution_count": 9,
   "id": "3e615e7189fe7a59",
   "metadata": {
    "ExecuteTime": {
     "end_time": "2024-10-21T11:59:07.256545400Z",
     "start_time": "2024-10-21T11:58:54.192549300Z"
    },
    "collapsed": false,
    "jupyter": {
     "outputs_hidden": false
    }
   },
   "outputs": [],
   "source": [
    "# Start playback\n",
    "play_obj = sa.play_buffer(audio_amplified, 1, 2, ft)\n",
    "\n",
    "# Wait for playback to finish before exiting\n",
    "play_obj.wait_done()"
   ]
  },
  {
   "cell_type": "code",
   "execution_count": 10,
   "id": "ba4c34441f6c3e2f",
   "metadata": {
    "ExecuteTime": {
     "end_time": "2024-10-21T11:58:30.221932500Z",
     "start_time": "2024-10-21T11:58:27.216834800Z"
    },
    "collapsed": false,
    "jupyter": {
     "outputs_hidden": false
    }
   },
   "outputs": [],
   "source": [
    "play_obj = sa.play_buffer(audio_amplified, 1, 2, ft)\n"
   ]
  },
  {
   "cell_type": "code",
   "execution_count": 11,
   "id": "5430efee1180306e",
   "metadata": {
    "ExecuteTime": {
     "end_time": "2024-10-21T11:58:40.337821200Z",
     "start_time": "2024-10-21T11:58:30.230463700Z"
    },
    "collapsed": false,
    "jupyter": {
     "outputs_hidden": false
    }
   },
   "outputs": [],
   "source": [
    "play_obj.wait_done()"
   ]
  },
  {
   "cell_type": "code",
   "execution_count": 12,
   "id": "37969e76043d2196",
   "metadata": {
    "ExecuteTime": {
     "end_time": "2024-10-21T12:03:05.958090700Z",
     "start_time": "2024-10-21T12:03:04.873272600Z"
    },
    "collapsed": false,
    "jupyter": {
     "outputs_hidden": false
    }
   },
   "outputs": [
    {
     "name": "stdout",
     "output_type": "stream",
     "text": [
      "Fichier .wav enregistré avec succès.\n"
     ]
    }
   ],
   "source": [
    "from scipy.io import wavfile\n",
    "\n",
    "# Exemple d'array numpy (ton tableau d'entiers)\n",
    "data = audio_amplified.copy()  # Remplace par ton tableau réel\n",
    "\n",
    "# Définir la fréquence d'échantillonnage (par exemple, 44100 Hz)\n",
    "sampling_rate = ft  # Fréquence d'échantillonnage en Hz\n",
    "\n",
    "# Enregistrer en fichier .wav\n",
    "wavfile.write(\"firstRecording.wav\", sampling_rate, data)\n",
    "\n",
    "print(\"Fichier .wav enregistré avec succès.\")"
   ]
  },
  {
   "cell_type": "code",
   "execution_count": 144,
   "id": "387625f23dfa7e92",
   "metadata": {
    "ExecuteTime": {
     "end_time": "2024-10-22T08:43:02.953860800Z",
     "start_time": "2024-10-22T08:43:02.866602300Z"
    },
    "collapsed": false,
    "jupyter": {
     "outputs_hidden": false
    }
   },
   "outputs": [
    {
     "ename": "TypeError",
     "evalue": "unsupported operand type(s) for //: 'list' and 'float'",
     "output_type": "error",
     "traceback": [
      "\u001b[1;31m---------------------------------------------------------------------------\u001b[0m",
      "\u001b[1;31mTypeError\u001b[0m                                 Traceback (most recent call last)",
      "Cell \u001b[1;32mIn[144], line 20\u001b[0m\n\u001b[0;32m     18\u001b[0m \u001b[38;5;66;03m# Calcul des coefficients du filtre Butterworth passe-bas\u001b[39;00m\n\u001b[0;32m     19\u001b[0m order \u001b[38;5;241m=\u001b[39m \u001b[38;5;241m6\u001b[39m\u001b[38;5;66;03m# Ordre du filtre (tu peux ajuster cela pour rendre la transition plus ou moins nette)\u001b[39;00m\n\u001b[1;32m---> 20\u001b[0m normal_cutoff \u001b[38;5;241m=\u001b[39m \u001b[43m(\u001b[49m\u001b[43mcutoff_freq\u001b[49m\u001b[43m)\u001b[49m\u001b[43m \u001b[49m\u001b[38;5;241;43m/\u001b[39;49m\u001b[38;5;241;43m/\u001b[39;49m\u001b[43m \u001b[49m\u001b[43mnyquist_freq\u001b[49m  \u001b[38;5;66;03m# Normalisation par rapport à la fréquence de Nyquist\u001b[39;00m\n\u001b[0;32m     21\u001b[0m b_b, a_b \u001b[38;5;241m=\u001b[39m signal\u001b[38;5;241m.\u001b[39mbutter(order, normal_cutoff, btype\u001b[38;5;241m=\u001b[39m\u001b[38;5;124m'\u001b[39m\u001b[38;5;124mlow\u001b[39m\u001b[38;5;124m'\u001b[39m, analog\u001b[38;5;241m=\u001b[39m\u001b[38;5;28;01mFalse\u001b[39;00m)\n\u001b[0;32m     23\u001b[0m \u001b[38;5;66;03m# Paramètres du filtre elliptique\u001b[39;00m\n\u001b[0;32m     24\u001b[0m \u001b[38;5;66;03m#order = 2  # Ordre du filtre\u001b[39;00m\n\u001b[0;32m     25\u001b[0m \u001b[38;5;66;03m#ripple = 3  # Ripple dans la bande passante (en dB)\u001b[39;00m\n\u001b[1;32m   (...)\u001b[0m\n\u001b[0;32m     29\u001b[0m \n\u001b[0;32m     30\u001b[0m \u001b[38;5;66;03m# Application du filtre au signal\u001b[39;00m\n",
      "\u001b[1;31mTypeError\u001b[0m: unsupported operand type(s) for //: 'list' and 'float'"
     ]
    }
   ],
   "source": [
    "factor = 1\n",
    "oversampled_data = np.zeros(len(audio) * factor)\n",
    "oversampled_data[::factor] = audio  # Insère les données réelles tous les \"factor\" échantillons\n",
    "\n",
    "# Application d'un filtre passe-bas numérique\n",
    "nyquist_freq = 0.5 / factor  # Fréquence de Nyquist du signal suréchantillonné\n",
    "b, a = signal.butter(4, nyquist_freq, btype='low')  # Filtre passe-bas Butterworth\n",
    "filtered_data = signal.filtfilt(b, a, oversampled_data)\n",
    "filtered_data = np.int16(filtered_data*(2**15-1)/np.max(np.abs(filtered_data)))\n",
    "audio_resampled = signal.resample(filtered_data, int(len(audio)*(ft/2)/(fs*factor)))\n",
    "\n",
    "\n",
    "\n",
    "sample_rate = 50000\n",
    "cutoff_freq = [200, 8000]  # Fréquence de coupure à 20 kHz\n",
    "nyquist_freq = sample_rate / 2  # Fréquence de Nyquist, ici 25 kHz\n",
    "\n",
    "# Calcul des coefficients du filtre Butterworth passe-bas\n",
    "order = 6# Ordre du filtre (tu peux ajuster cela pour rendre la transition plus ou moins nette)\n",
    "normal_cutoff = [ c / nyquist_freq for c in cutoff_freq]  # Normalisation par rapport à la fréquence de Nyquist\n",
    "b_b, a_b = signal.butter(order, normal_cutoff, btype='low', analog=False)\n",
    "\n",
    "# Paramètres du filtre elliptique\n",
    "#order = 2  # Ordre du filtre\n",
    "#ripple = 3  # Ripple dans la bande passante (en dB)\n",
    "\n",
    "# Calcul des coefficients du filtre elliptique\n",
    "#b, a = signal.ellip(order, ripple, 40, cutoff_freq / nyquist_freq, btype='low', analog=False)\n",
    "\n",
    "# Application du filtre au signal\n",
    "filtered_audio = signal.filtfilt(b_b, a_b, audio_resampled)\n",
    "\n",
    "#filtered_audio = signal.filtfilt(b, a, filtered_audio)\n",
    "\n",
    "filtered_audio = np.int16(filtered_audio)"
   ]
  },
  {
   "cell_type": "code",
   "execution_count": 141,
   "id": "9c4376a06355ffa0",
   "metadata": {
    "ExecuteTime": {
     "end_time": "2024-10-22T08:42:48.579342400Z",
     "start_time": "2024-10-22T08:40:10.496723400Z"
    },
    "collapsed": false,
    "jupyter": {
     "outputs_hidden": false
    }
   },
   "outputs": [],
   "source": [
    "#filtered_data = filtered_data.copy(order='C')\n",
    "#filtered_data = np.int16(filtered_data*(2**15-1)/np.max(np.abs(filtered_data)))\n",
    "play_obj = sa.play_buffer(filtered_audio, 1, 2, np.int16(ft/2))\n",
    "\n",
    "play_obj.wait_done()"
   ]
  },
  {
   "cell_type": "code",
   "execution_count": 139,
   "id": "b908ab8be0938b3f",
   "metadata": {
    "collapsed": false,
    "jupyter": {
     "outputs_hidden": false
    }
   },
   "outputs": [
    {
     "name": "stdout",
     "output_type": "stream",
     "text": [
      "[     0  -5349  -7064  -6228  -5599  -5439  -5003  -4827  -5438  -6192\n",
      "  -6568  -6800  -6876  -6494  -6028  -6196  -6892  -7271  -6869  -6129\n",
      "  -5792  -5954  -6025  -5712  -5558  -6063  -6748  -6771  -6181  -5751\n",
      "  -5796  -5924  -5819  -5601  -5416  -5184  -4928  -5089  -6036  -7246\n",
      "  -7623  -6885  -5951  -5721  -6052  -6310  -6484  -6726  -6215  -4588\n",
      "  -3677  -4922  -6578  -6429  -5090  -4359  -4592  -5092  -5442  -5707\n",
      "  -6014  -6245  -6145  -5742  -5417  -5436  -5639  -5802  -5988  -6189\n",
      "  -6127  -5831  -5720  -5844  -5902  -6041  -6585  -7136  -6971  -6204\n",
      "  -5664  -5705  -5893  -5875  -5881  -6132  -6289  -6060  -5899  -6233\n",
      "  -6514  -6161  -5725  -5830  -5959  -5611  -5451  -5820  -5552  -4184\n",
      "  -3565  -4858  -6239  -6007  -5237  -5331  -5800  -5876  -5928  -6339\n",
      "  -6637  -6404  -6047  -6087  -6294  -6155  -5801  -5679  -5682  -5452\n",
      "  -5192  -5331  -5800  -6247  -6483  -6375  -5897  -5370  -5212  -5436\n",
      "  -5683  -5811  -6036  -6264  -6048  -5620  -5825  -6614  -6937  -6497\n",
      "  -6201  -6475  -6549  -5893  -5176  -5368  -6587  -7701  -7055  -4722\n",
      "  -3286  -4460  -6459  -6916  -6117  -5552  -5656  -6032  -6302  -6390\n",
      "  -6461  -6482  -6273  -6075  -6221  -6399  -6169  -5824  -5897  -6268\n",
      "  -6542  -6773  -7071  -7027  -6314  -5465  -5389  -6199  -6935  -6707\n",
      "  -5857  -5542  -6203  -7045  -7242  -7038  -7065  -7150  -6739  -6066\n",
      "  -5772  -5794  -5745  -5793  -6193  -6753  -7309  -7534  -6493  -4278\n",
      "  -3053  -4121  -5681  -5822  -5350  -5670  -6353  -6378  -5940  -5901\n",
      "  -6373  -6531  -5881  -5279  -5782  -6769  -6757  -5830  -5435  -5977\n",
      "  -6468  -6343  -6094  -6186  -6401  -6297  -5798  -5218  -4906  -5037\n",
      "  -5574  -6248  -6705  -6759  -6455  -6054  -5870  -5897  -5828  -5554\n",
      "  -5280  -5206  -5371  -5637  -5844  -6183  -6957  -7465  -6265  -3759\n",
      "  -2797  -4697  -6882  -6777  -5471  -5285  -6277  -7093  -7279  -7246\n",
      "  -7127  -6728  -6104  -5613  -5508  -5671  -5876  -6173  -6720  -7370\n",
      "  -7764  -7730  -7294  -6556  -5857  -5583  -5568  -5427  -5536  -6469\n",
      "  -7651  -7953  -7263  -6315  -5592  -5294  -5597  -6250  -6566  -6271\n",
      "  -5831  -5793  -6192  -6550  -6368  -5913  -6069  -6686  -6215  -4434\n",
      "  -3555  -4700  -6032  -6113  -5893  -6302  -6877  -7059  -6761  -6021\n",
      "  -5253  -5087  -5438  -5555  -5178  -4902  -5235  -5926  -6435  -6553\n",
      "  -6343  -6033  -6019  -6458  -6876  -6705  -6066  -5647  -5861  -6384\n",
      "  -6570  -6227  -5833  -5829  -5961  -5735  -5170  -4693  -4681  -5202\n",
      "  -5864  -6298  -6779  -7478  -7556  -6425  -5215  -5132  -5228  -4134\n",
      "  -2970  -3719  -5785  -6915  -6490  -5743  -5615  -5897  -6055  -5945\n",
      "  -5756  -5635  -5513  -5325  -5289  -5619  -6092  -6382  -6551  -6651\n",
      "  -6368  -5700  -5263  -5361  -5524  -5377  -5214  -5425  -5967  -6490\n",
      "  -6617  -6284  -5963  -6163  -6695  -6890  -6458  -5782  -5494  -5862\n",
      "  -6469  -6736  -6678  -6584  -6378  -6126  -6322  -6645  -5706  -3557\n",
      "  -2718  -4622  -7135  -7835  -7229  -6735  -6304  -5580  -5017  -4913\n",
      "  -5069  -5512  -6243  -6812  -7055  -7300  -7406  -6893  -6085  -5777\n",
      "  -5984  -6088  -5881  -5713  -5875  -6215  -6350  -6201  -6066  -6130\n",
      "  -6305  -6437  -6341  -5942  -5478  -5280  -5445  -5871  -6363  -6720\n",
      "  -6911  -6981  -6767  -6131  -5457  -5407  -6107  -6635  -5737  -3832\n",
      "  -3315  -5214  -7265  -7325  -6260  -5679  -5599  -5683  -6191  -6790\n",
      "  -6593  -5784  -5413  -5624  -5772  -5808  -6046  -6220  -6049  -5964\n",
      "  -6336  -6657  -6244  -5371  -5084  -5864  -7005  -7478  -7030  -6303\n",
      "  -6084  -6515  -6971  -6737  -5911  -5531  -6349  -7615  -7981  -7370\n",
      "  -6797  -6749  -6945  -7076  -6849  -6180  -5784  -6119  -5968  -4448\n",
      "  -3461  -4881  -6971  -7105  -5951  -5828  -6908  -7474  -6762  -5832\n",
      "  -5862  -6591  -6976  -6786  -6557  -6383  -5968  -5524  -5487  -5695\n",
      "  -5760  -5861  -6397  -7156  -7493  -7261  -6992  -7133  -7448  -7281\n",
      "  -6450  -5704  -5809  -6365  -6504  -6446  -6943  -7605  -7427  -6586\n",
      "  -6161  -6485  -6999  -7211  -6980  -6594  -6760  -7318  -6644  -4335\n",
      "  -2929  -4312  -6632  -7477  -7404  -7880  -8462  -8091  -7176  -6753\n",
      "  -6886  -7026  -7105  -7308  -7342  -6870  -6313  -6232  -6292  -5887\n",
      "  -5395  -5720  -6867  -7861  -8044  -7765  -7567  -7284  -6588  -5927\n",
      "  -5948  -6480  -7011  -7468  -7829  -7855  -7609  -7430  -7361  -7215\n",
      "  -7006  -6984  -7293  -7636  -7615  -7589  -8249  -8892  -7745  -5104\n",
      "  -3901  -5475  -7529  -7861  -7040  -6362  -6063  -6073  -6520  -7302\n",
      "  -8034  -8338  -8049  -7408  -6956  -6967  -7136  -7067  -6826  -6797\n",
      "  -7199  -7854  -8284  -8135  -7594  -7144  -6952  -6841  -6749  -6793\n",
      "  -6994  -7232  -7400  -7428  -7256  -6979  -6972  -7480  -8065  -8114\n",
      "  -7909  -8158  -8528  -7980  -6628  -6053  -7324  -9115  -8738  -5998\n",
      "  -4279  -5763  -8137  -8441  -7056  -6011  -6233  -7379  -8457  -8636\n",
      "  -8178  -7877  -7800  -7633  -7533  -7606  -7433  -6860  -6406  -6495\n",
      "  -7022  -7738  -8384  -8551  -8015  -7160  -6670  -6840  -7272  -7392\n",
      "  -7331  -7697  -8275  -8190  -7532  -7297  -7670  -7890  -7609  -7176\n",
      "  -6880  -6788  -6966  -7299  -7425  -7371  -7781  -8536  -8046  -5853\n",
      "  -4384  -5435  -7205  -7473  -6834  -6859  -7694  -8449  -8399  -7661\n",
      "  -7134  -7343  -7714  -7617  -7346  -7330  -7289  -6942  -6687  -6897\n",
      "  -7227  -7188  -6873  -6744  -7084  -7740  -8095  -7653  -6917  -6871\n",
      "  -7448  -7729  -7606  -7707  -7961  -7760  -7211  -6995  -7287  -7606\n",
      "  -7573  -7386  -7454  -7741  -7880  -7861  -8078  -8311  -7361  -5001\n",
      "  -3366  -4205  -6071  -6785  -6658  -6944  -7475  -7614  -7531  -7591\n",
      "  -7813  -8141  -8441  -8324  -7495  -6461  -6403  -7665  -8889  -8712\n",
      "  -7657  -7157  -7562  -8134  -8210  -7596  -6508  -5660  -5782  -6684\n",
      "  -7417  -7476  -7208  -7096  -7201  -7207  -6816  -6239  -6132  -6781\n",
      "  -7627  -7947  -7721  -7388  -7109  -6990  -7439  -8091  -7388  -5035\n",
      "  -3460  -4609  -7065  -8401  -8361  -8142  -8374  -8786  -8886  -8537\n",
      "  -8156  -8216  -8516  -8380  -7799  -7706  -8510  -9207  -8826  -7915\n",
      "  -7635  -8026  -8186  -7819  -7554  -7818  -8339  -8764  -9084  -9370\n",
      "  -9409  -8920  -8208  -8065  -8641  -9165  -9080  -8605  -8139  -7936\n",
      "  -8090  -8384  -8566  -8749  -8939  -8864  -8723  -8732  -7905  -5763\n",
      "  -4449  -5849  -8308  -9399  -9445  -9791 -10177  -9634  -8458  -7961\n",
      "  -8563  -9169  -8866  -8164  -7940  -8347  -9124  -9781  -9614  -8649\n",
      "  -7956  -8190  -8638  -8422  -7868  -7965  -8759  -9222  -8913  -8689\n",
      "  -9180  -9677  -9386  -8750  -8540  -8577  -8400  -8366  -9004  -9911\n",
      " -10249  -9912  -9452  -9133  -8708  -8253  -8472  -9243  -8812  -6471\n",
      "  -4773  -6097  -8812  -9911  -9192  -8420  -8606  -9574 -10548 -10565\n",
      "  -9366  -8022  -7862  -8724  -9263  -9137  -9433 -10473 -11025 -10418\n",
      "  -9584  -9257  -8953  -8475  -8625  -9643 -10616 -10960 -11013 -11021\n",
      " -10761 -10141  -9397  -8775  -8394  -8372  -8870  -9785 -10523 -10567\n",
      " -10147  -9919 -10113 -10217  -9623  -8793  -9013  -9985  -9292  -6416\n",
      "  -4807  -6827  -9878 -10767 -10056  -9516  -9159  -8552  -8187  -8473\n",
      "  -9018  -9372  -9581  -9819  -9966  -9732  -9134  -8754  -9148  -9942\n",
      " -10117  -9428  -8826  -9018  -9423  -9253  -8833  -9005  -9850 -10614\n",
      " -10615 -10028  -9614  -9575  -9337  -8843  -8933  -9889 -10765 -10671\n",
      "  -9856  -9235  -9274  -9497  -9134  -8418  -8650  -9947  -9961  -7269]\n"
     ]
    }
   ],
   "source": [
    "print(filtered_data[:1000])"
   ]
  },
  {
   "cell_type": "code",
   "execution_count": null,
   "id": "e29b206b-813a-4b7a-9a5a-82bd826a27e9",
   "metadata": {},
   "outputs": [],
   "source": []
  }
 ],
 "metadata": {
  "kernelspec": {
   "display_name": "Python 3 (ipykernel)",
   "language": "python",
   "name": "python3"
  },
  "language_info": {
   "codemirror_mode": {
    "name": "ipython",
    "version": 3
   },
   "file_extension": ".py",
   "mimetype": "text/x-python",
   "name": "python",
   "nbconvert_exporter": "python",
   "pygments_lexer": "ipython3",
   "version": "3.9.13"
  }
 },
 "nbformat": 4,
 "nbformat_minor": 5
}
