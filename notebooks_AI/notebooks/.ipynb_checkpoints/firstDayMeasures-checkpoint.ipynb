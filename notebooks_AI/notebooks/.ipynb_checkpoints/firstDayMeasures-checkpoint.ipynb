{
 "cells": [
  {
   "cell_type": "code",
   "execution_count": 2,
   "id": "initial_id",
   "metadata": {
    "collapsed": true,
    "ExecuteTime": {
     "end_time": "2024-11-25T10:11:59.058621900Z",
     "start_time": "2024-11-25T10:11:57.960357500Z"
    }
   },
   "outputs": [
    {
     "name": "stdout",
     "output_type": "stream",
     "text": [
      "['F:/Data_BachelorHES/start_haas_vf2ss/PMPM_RAW_BIN_1m_20241116_085931.csv', 'F:/Data_BachelorHES/start_haas_vf2ss/PMPM_RAW_BIN_1m_20241116_090031.csv', 'F:/Data_BachelorHES/start_haas_vf2ss/PMPM_RAW_BIN_1m_20241116_090131.csv', 'F:/Data_BachelorHES/start_haas_vf2ss/PMPM_RAW_BIN_1m_20241116_090231.csv', 'F:/Data_BachelorHES/start_haas_vf2ss/PMPM_RAW_BIN_1m_20241116_090331.csv', 'F:/Data_BachelorHES/start_haas_vf2ss/PMPM_RAW_BIN_1m_20241116_090431.csv', 'F:/Data_BachelorHES/start_haas_vf2ss/PMPM_RAW_BIN_1m_20241116_090531.csv', 'F:/Data_BachelorHES/start_haas_vf2ss/PMPM_RAW_BIN_1m_20241116_090631.csv', 'F:/Data_BachelorHES/start_haas_vf2ss/PMPM_RAW_BIN_1m_20241116_090731.csv', 'F:/Data_BachelorHES/start_haas_vf2ss/PMPM_RAW_BIN_1m_20241116_090831.csv', 'F:/Data_BachelorHES/start_haas_vf2ss/PMPM_RAW_BIN_1m_20241116_090931.csv', 'F:/Data_BachelorHES/start_haas_vf2ss/PMPM_RAW_BIN_1m_20241116_091031.csv', 'F:/Data_BachelorHES/start_haas_vf2ss/PMPM_RAW_BIN_1m_20241116_091131.csv', 'F:/Data_BachelorHES/start_haas_vf2ss/PMPM_RAW_BIN_1m_20241116_091231.csv', 'F:/Data_BachelorHES/start_haas_vf2ss/PMPM_RAW_BIN_1m_20241116_091331.csv', 'F:/Data_BachelorHES/start_haas_vf2ss/PMPM_RAW_BIN_1m_20241116_091431.csv', 'F:/Data_BachelorHES/start_haas_vf2ss/PMPM_RAW_BIN_1m_20241116_091531.csv', 'F:/Data_BachelorHES/start_haas_vf2ss/PMPM_RAW_BIN_1m_20241116_091631.csv', 'F:/Data_BachelorHES/start_haas_vf2ss/PMPM_RAW_BIN_1m_20241116_091731.csv', 'F:/Data_BachelorHES/start_haas_vf2ss/PMPM_RAW_BIN_1m_20241116_091831.csv', 'F:/Data_BachelorHES/start_haas_vf2ss/PMPM_RAW_BIN_1m_20241116_091931.csv', 'F:/Data_BachelorHES/start_haas_vf2ss/PMPM_RAW_BIN_1m_20241116_092031.csv', 'F:/Data_BachelorHES/start_haas_vf2ss/PMPM_RAW_BIN_1m_20241116_092131.csv', 'F:/Data_BachelorHES/start_haas_vf2ss/PMPM_RAW_BIN_1m_20241116_092231.csv', 'F:/Data_BachelorHES/start_haas_vf2ss/PMPM_RAW_BIN_1m_20241116_092331.csv', 'F:/Data_BachelorHES/start_haas_vf2ss/PMPM_RAW_BIN_1m_20241116_092431.csv', 'F:/Data_BachelorHES/start_haas_vf2ss/PMPM_RAW_BIN_1m_20241116_092531.csv', 'F:/Data_BachelorHES/start_haas_vf2ss/PMPM_RAW_BIN_1m_20241116_092631.csv', 'F:/Data_BachelorHES/start_haas_vf2ss/PMPM_RAW_BIN_1m_20241116_092731.csv', 'F:/Data_BachelorHES/start_haas_vf2ss/PMPM_RAW_BIN_1m_20241116_092832.csv', 'F:/Data_BachelorHES/start_haas_vf2ss/PMPM_RAW_BIN_1m_20241116_092932.csv', 'F:/Data_BachelorHES/start_haas_vf2ss/PMPM_RAW_BIN_1m_20241116_093032.csv', 'F:/Data_BachelorHES/start_haas_vf2ss/PMPM_RAW_BIN_1m_20241116_093132.csv', 'F:/Data_BachelorHES/start_haas_vf2ss/PMPM_RAW_BIN_1m_20241116_093232.csv', 'F:/Data_BachelorHES/start_haas_vf2ss/PMPM_RAW_BIN_1m_20241116_093332.csv', 'F:/Data_BachelorHES/start_haas_vf2ss/PMPM_RAW_BIN_1m_20241116_093432.csv', 'F:/Data_BachelorHES/start_haas_vf2ss/PMPM_RAW_BIN_1m_20241116_093532.csv', 'F:/Data_BachelorHES/start_haas_vf2ss/PMPM_RAW_BIN_1m_20241116_093632.csv', 'F:/Data_BachelorHES/start_haas_vf2ss/PMPM_RAW_BIN_1m_20241116_093732.csv', 'F:/Data_BachelorHES/start_haas_vf2ss/PMPM_RAW_BIN_1m_20241116_093832.csv', 'F:/Data_BachelorHES/start_haas_vf2ss/PMPM_RAW_BIN_1m_20241116_093932.csv', 'F:/Data_BachelorHES/start_haas_vf2ss/PMPM_RAW_BIN_1m_20241116_094032.csv', 'F:/Data_BachelorHES/start_haas_vf2ss/PMPM_RAW_BIN_1m_20241116_094132.csv', 'F:/Data_BachelorHES/start_haas_vf2ss/PMPM_RAW_BIN_1m_20241116_094232.csv', 'F:/Data_BachelorHES/start_haas_vf2ss/PMPM_RAW_BIN_1m_20241116_094332.csv', 'F:/Data_BachelorHES/start_haas_vf2ss/PMPM_RAW_BIN_1m_20241116_094432.csv', 'F:/Data_BachelorHES/start_haas_vf2ss/PMPM_RAW_BIN_1m_20241116_094532.csv', 'F:/Data_BachelorHES/start_haas_vf2ss/PMPM_RAW_BIN_1m_20241116_094632.csv', 'F:/Data_BachelorHES/start_haas_vf2ss/PMPM_RAW_BIN_1m_20241116_094732.csv', 'F:/Data_BachelorHES/start_haas_vf2ss/PMPM_RAW_BIN_1m_20241116_094832.csv', 'F:/Data_BachelorHES/start_haas_vf2ss/PMPM_RAW_BIN_1m_20241116_094932.csv', 'F:/Data_BachelorHES/start_haas_vf2ss/PMPM_RAW_BIN_1m_20241116_095032.csv', 'F:/Data_BachelorHES/start_haas_vf2ss/PMPM_RAW_BIN_1m_20241116_095132.csv', 'F:/Data_BachelorHES/start_haas_vf2ss/PMPM_RAW_BIN_1m_20241116_095232.csv', 'F:/Data_BachelorHES/start_haas_vf2ss/PMPM_RAW_BIN_1m_20241116_095332.csv', 'F:/Data_BachelorHES/start_haas_vf2ss/PMPM_RAW_BIN_1m_20241116_095432.csv', 'F:/Data_BachelorHES/start_haas_vf2ss/PMPM_RAW_BIN_1m_20241116_095532.csv', 'F:/Data_BachelorHES/start_haas_vf2ss/PMPM_RAW_BIN_1m_20241116_095632.csv', 'F:/Data_BachelorHES/start_haas_vf2ss/PMPM_RAW_BIN_1m_20241116_095732.csv', 'F:/Data_BachelorHES/start_haas_vf2ss/PMPM_RAW_BIN_1m_20241116_095832.csv', 'F:/Data_BachelorHES/start_haas_vf2ss/PMPM_RAW_BIN_1m_20241116_095932.csv', 'F:/Data_BachelorHES/start_haas_vf2ss/PMPM_RAW_BIN_1m_20241116_100032.csv', 'F:/Data_BachelorHES/start_haas_vf2ss/PMPM_RAW_BIN_1m_20241116_100132.csv', 'F:/Data_BachelorHES/start_haas_vf2ss/PMPM_RAW_BIN_1m_20241116_100232.csv', 'F:/Data_BachelorHES/start_haas_vf2ss/PMPM_RAW_BIN_1m_20241116_100332.csv', 'F:/Data_BachelorHES/start_haas_vf2ss/PMPM_RAW_BIN_1m_20241116_100432.csv', 'F:/Data_BachelorHES/start_haas_vf2ss/PMPM_RAW_BIN_1m_20241116_100532.csv', 'F:/Data_BachelorHES/start_haas_vf2ss/PMPM_RAW_BIN_1m_20241116_100632.csv', 'F:/Data_BachelorHES/start_haas_vf2ss/PMPM_RAW_BIN_1m_20241116_100732.csv', 'F:/Data_BachelorHES/start_haas_vf2ss/PMPM_RAW_BIN_1m_20241116_100832.csv', 'F:/Data_BachelorHES/start_haas_vf2ss/PMPM_RAW_BIN_1m_20241116_100932.csv', 'F:/Data_BachelorHES/start_haas_vf2ss/PMPM_RAW_BIN_1m_20241116_101032.csv', 'F:/Data_BachelorHES/start_haas_vf2ss/PMPM_RAW_BIN_1m_20241116_101132.csv', 'F:/Data_BachelorHES/start_haas_vf2ss/PMPM_RAW_BIN_1m_20241116_101232.csv', 'F:/Data_BachelorHES/start_haas_vf2ss/PMPM_RAW_BIN_1m_20241116_101332.csv', 'F:/Data_BachelorHES/start_haas_vf2ss/PMPM_RAW_BIN_1m_20241116_101432.csv', 'F:/Data_BachelorHES/start_haas_vf2ss/PMPM_RAW_BIN_1m_20241116_101532.csv', 'F:/Data_BachelorHES/start_haas_vf2ss/PMPM_RAW_BIN_1m_20241116_101632.csv', 'F:/Data_BachelorHES/start_haas_vf2ss/PMPM_RAW_BIN_1m_20241116_101732.csv', 'F:/Data_BachelorHES/start_haas_vf2ss/PMPM_RAW_BIN_1m_20241116_101832.csv', 'F:/Data_BachelorHES/start_haas_vf2ss/PMPM_RAW_BIN_1m_20241116_101932.csv', 'F:/Data_BachelorHES/start_haas_vf2ss/PMPM_RAW_BIN_1m_20241116_102032.csv', 'F:/Data_BachelorHES/start_haas_vf2ss/PMPM_RAW_BIN_1m_20241116_102132.csv', 'F:/Data_BachelorHES/start_haas_vf2ss/PMPM_RAW_BIN_1m_20241116_102232.csv', 'F:/Data_BachelorHES/start_haas_vf2ss/PMPM_RAW_BIN_1m_20241116_102332.csv', 'F:/Data_BachelorHES/start_haas_vf2ss/PMPM_RAW_BIN_1m_20241116_102432.csv', 'F:/Data_BachelorHES/start_haas_vf2ss/PMPM_RAW_BIN_1m_20241116_102532.csv', 'F:/Data_BachelorHES/start_haas_vf2ss/PMPM_RAW_BIN_1m_20241116_102632.csv', 'F:/Data_BachelorHES/start_haas_vf2ss/PMPM_RAW_BIN_1m_20241116_102732.csv', 'F:/Data_BachelorHES/start_haas_vf2ss/PMPM_RAW_BIN_1m_20241116_102832.csv', 'F:/Data_BachelorHES/start_haas_vf2ss/PMPM_RAW_BIN_1m_20241116_102932.csv', 'F:/Data_BachelorHES/start_haas_vf2ss/PMPM_RAW_BIN_1m_20241116_103032.csv', 'F:/Data_BachelorHES/start_haas_vf2ss/PMPM_RAW_BIN_1m_20241116_103132.csv', 'F:/Data_BachelorHES/start_haas_vf2ss/PMPM_RAW_BIN_1m_20241116_103232.csv', 'F:/Data_BachelorHES/start_haas_vf2ss/PMPM_RAW_BIN_1m_20241116_103332.csv', 'F:/Data_BachelorHES/start_haas_vf2ss/PMPM_RAW_BIN_1m_20241116_103432.csv', 'F:/Data_BachelorHES/start_haas_vf2ss/PMPM_RAW_BIN_1m_20241116_103532.csv', 'F:/Data_BachelorHES/start_haas_vf2ss/PMPM_RAW_BIN_1m_20241116_103632.csv', 'F:/Data_BachelorHES/start_haas_vf2ss/PMPM_RAW_BIN_1m_20241116_103732.csv', 'F:/Data_BachelorHES/start_haas_vf2ss/PMPM_RAW_BIN_1m_20241116_103832.csv', 'F:/Data_BachelorHES/start_haas_vf2ss/PMPM_RAW_BIN_1m_20241116_103932.csv', 'F:/Data_BachelorHES/start_haas_vf2ss/PMPM_RAW_BIN_1m_20241116_104032.csv', 'F:/Data_BachelorHES/start_haas_vf2ss/PMPM_RAW_BIN_1m_20241116_104132.csv', 'F:/Data_BachelorHES/start_haas_vf2ss/PMPM_RAW_BIN_1m_20241116_104232.csv', 'F:/Data_BachelorHES/start_haas_vf2ss/PMPM_RAW_BIN_1m_20241116_104332.csv', 'F:/Data_BachelorHES/start_haas_vf2ss/PMPM_RAW_BIN_1m_20241116_104432.csv', 'F:/Data_BachelorHES/start_haas_vf2ss/PMPM_RAW_BIN_1m_20241116_104532.csv', 'F:/Data_BachelorHES/start_haas_vf2ss/PMPM_RAW_BIN_1m_20241116_104632.csv', 'F:/Data_BachelorHES/start_haas_vf2ss/PMPM_RAW_BIN_1m_20241116_104732.csv', 'F:/Data_BachelorHES/start_haas_vf2ss/PMPM_RAW_BIN_1m_20241116_104832.csv', 'F:/Data_BachelorHES/start_haas_vf2ss/PMPM_RAW_BIN_1m_20241116_104932.csv', 'F:/Data_BachelorHES/start_haas_vf2ss/PMPM_RAW_BIN_1m_20241116_105032.csv', 'F:/Data_BachelorHES/start_haas_vf2ss/PMPM_RAW_BIN_1m_20241116_105132.csv', 'F:/Data_BachelorHES/start_haas_vf2ss/PMPM_RAW_BIN_1m_20241116_105232.csv', 'F:/Data_BachelorHES/start_haas_vf2ss/PMPM_RAW_BIN_1m_20241116_105332.csv', 'F:/Data_BachelorHES/start_haas_vf2ss/PMPM_RAW_BIN_1m_20241116_105432.csv', 'F:/Data_BachelorHES/start_haas_vf2ss/PMPM_RAW_BIN_1m_20241116_105532.csv', 'F:/Data_BachelorHES/start_haas_vf2ss/PMPM_RAW_BIN_1m_20241116_105632.csv', 'F:/Data_BachelorHES/start_haas_vf2ss/PMPM_RAW_BIN_1m_20241116_105732.csv', 'F:/Data_BachelorHES/start_haas_vf2ss/PMPM_RAW_BIN_1m_20241116_105832.csv', 'F:/Data_BachelorHES/start_haas_vf2ss/PMPM_RAW_BIN_1m_20241116_105932.csv', 'F:/Data_BachelorHES/start_haas_vf2ss/PMPM_RAW_BIN_1m_20241116_110033.csv', 'F:/Data_BachelorHES/start_haas_vf2ss/PMPM_RAW_BIN_1m_20241116_110133.csv', 'F:/Data_BachelorHES/start_haas_vf2ss/PMPM_RAW_BIN_1m_20241116_110233.csv', 'F:/Data_BachelorHES/start_haas_vf2ss/PMPM_RAW_BIN_1m_20241116_110333.csv', 'F:/Data_BachelorHES/start_haas_vf2ss/PMPM_RAW_BIN_1m_20241116_110433.csv', 'F:/Data_BachelorHES/start_haas_vf2ss/PMPM_RAW_BIN_1m_20241116_110533.csv', 'F:/Data_BachelorHES/start_haas_vf2ss/PMPM_RAW_BIN_1m_20241116_110633.csv', 'F:/Data_BachelorHES/start_haas_vf2ss/PMPM_RAW_BIN_1m_20241116_110733.csv', 'F:/Data_BachelorHES/start_haas_vf2ss/PMPM_RAW_BIN_1m_20241116_110833.csv', 'F:/Data_BachelorHES/start_haas_vf2ss/PMPM_RAW_BIN_1m_20241116_110933.csv', 'F:/Data_BachelorHES/start_haas_vf2ss/PMPM_RAW_BIN_1m_20241116_111033.csv', 'F:/Data_BachelorHES/start_haas_vf2ss/PMPM_RAW_BIN_1m_20241116_111133.csv', 'F:/Data_BachelorHES/start_haas_vf2ss/PMPM_RAW_BIN_1m_20241116_111233.csv', 'F:/Data_BachelorHES/start_haas_vf2ss/PMPM_RAW_BIN_1m_20241116_111333.csv', 'F:/Data_BachelorHES/start_haas_vf2ss/PMPM_RAW_BIN_1m_20241116_111433.csv', 'F:/Data_BachelorHES/start_haas_vf2ss/PMPM_RAW_BIN_1m_20241116_111533.csv', 'F:/Data_BachelorHES/start_haas_vf2ss/PMPM_RAW_BIN_1m_20241116_111633.csv', 'F:/Data_BachelorHES/start_haas_vf2ss/PMPM_RAW_BIN_1m_20241116_111733.csv', 'F:/Data_BachelorHES/start_haas_vf2ss/PMPM_RAW_BIN_1m_20241116_111833.csv', 'F:/Data_BachelorHES/start_haas_vf2ss/PMPM_RAW_BIN_1m_20241116_111933.csv', 'F:/Data_BachelorHES/start_haas_vf2ss/PMPM_RAW_BIN_1m_20241116_112033.csv', 'F:/Data_BachelorHES/start_haas_vf2ss/PMPM_RAW_BIN_1m_20241116_112133.csv', 'F:/Data_BachelorHES/start_haas_vf2ss/PMPM_RAW_BIN_1m_20241116_112233.csv', 'F:/Data_BachelorHES/start_haas_vf2ss/PMPM_RAW_BIN_1m_20241116_112333.csv', 'F:/Data_BachelorHES/start_haas_vf2ss/PMPM_RAW_BIN_1m_20241116_112433.csv', 'F:/Data_BachelorHES/start_haas_vf2ss/PMPM_RAW_BIN_1m_20241116_112533.csv', 'F:/Data_BachelorHES/start_haas_vf2ss/PMPM_RAW_BIN_1m_20241116_112633.csv', 'F:/Data_BachelorHES/start_haas_vf2ss/PMPM_RAW_BIN_1m_20241116_112733.csv', 'F:/Data_BachelorHES/start_haas_vf2ss/PMPM_RAW_BIN_1m_20241116_112833.csv', 'F:/Data_BachelorHES/start_haas_vf2ss/PMPM_RAW_BIN_1m_20241116_112933.csv', 'F:/Data_BachelorHES/start_haas_vf2ss/PMPM_RAW_BIN_1m_20241116_113033.csv', 'F:/Data_BachelorHES/start_haas_vf2ss/PMPM_RAW_BIN_1m_20241116_113133.csv', 'F:/Data_BachelorHES/start_haas_vf2ss/PMPM_RAW_BIN_1m_20241116_113233.csv', 'F:/Data_BachelorHES/start_haas_vf2ss/PMPM_RAW_BIN_1m_20241116_113333.csv', 'F:/Data_BachelorHES/start_haas_vf2ss/PMPM_RAW_BIN_1m_20241116_113433.csv', 'F:/Data_BachelorHES/start_haas_vf2ss/PMPM_RAW_BIN_1m_20241116_113533.csv', 'F:/Data_BachelorHES/start_haas_vf2ss/PMPM_RAW_BIN_1m_20241116_113633.csv', 'F:/Data_BachelorHES/start_haas_vf2ss/PMPM_RAW_BIN_1m_20241116_113733.csv', 'F:/Data_BachelorHES/start_haas_vf2ss/PMPM_RAW_BIN_1m_20241116_113833.csv', 'F:/Data_BachelorHES/start_haas_vf2ss/PMPM_RAW_BIN_1m_20241116_113933.csv', 'F:/Data_BachelorHES/start_haas_vf2ss/PMPM_RAW_BIN_1m_20241116_114033.csv', 'F:/Data_BachelorHES/start_haas_vf2ss/PMPM_RAW_BIN_1m_20241116_114133.csv', 'F:/Data_BachelorHES/start_haas_vf2ss/PMPM_RAW_BIN_1m_20241116_114233.csv', 'F:/Data_BachelorHES/start_haas_vf2ss/PMPM_RAW_BIN_1m_20241116_114333.csv', 'F:/Data_BachelorHES/start_haas_vf2ss/PMPM_RAW_BIN_1m_20241118_095918.csv', 'F:/Data_BachelorHES/start_haas_vf2ss/PMPM_RAW_BIN_1m_20241118_100018.csv', 'F:/Data_BachelorHES/start_haas_vf2ss/PMPM_RAW_BIN_1m_20241118_100118.csv', 'F:/Data_BachelorHES/start_haas_vf2ss/PMPM_RAW_BIN_1m_20241118_100218.csv', 'F:/Data_BachelorHES/start_haas_vf2ss/PMPM_RAW_BIN_1m_20241118_100318.csv', 'F:/Data_BachelorHES/start_haas_vf2ss/PMPM_RAW_BIN_1m_20241118_100418.csv', 'F:/Data_BachelorHES/start_haas_vf2ss/PMPM_RAW_BIN_1m_20241118_100518.csv', 'F:/Data_BachelorHES/start_haas_vf2ss/PMPM_RAW_BIN_1m_20241118_100618.csv', 'F:/Data_BachelorHES/start_haas_vf2ss/PMPM_RAW_BIN_1m_20241118_100718.csv', 'F:/Data_BachelorHES/start_haas_vf2ss/PMPM_RAW_BIN_1m_20241118_100818.csv', 'F:/Data_BachelorHES/start_haas_vf2ss/PMPM_RAW_BIN_1m_20241118_100918.csv', 'F:/Data_BachelorHES/start_haas_vf2ss/PMPM_RAW_BIN_1m_20241118_101018.csv', 'F:/Data_BachelorHES/start_haas_vf2ss/PMPM_RAW_BIN_1m_20241118_101118.csv', 'F:/Data_BachelorHES/start_haas_vf2ss/PMPM_RAW_BIN_1m_20241118_101218.csv', 'F:/Data_BachelorHES/start_haas_vf2ss/PMPM_RAW_BIN_1m_20241118_101318.csv', 'F:/Data_BachelorHES/start_haas_vf2ss/PMPM_RAW_BIN_1m_20241118_101418.csv', 'F:/Data_BachelorHES/start_haas_vf2ss/PMPM_RAW_BIN_1m_20241118_101518.csv', 'F:/Data_BachelorHES/start_haas_vf2ss/PMPM_RAW_BIN_1m_20241118_101618.csv', 'F:/Data_BachelorHES/start_haas_vf2ss/PMPM_RAW_BIN_1m_20241118_101718.csv', 'F:/Data_BachelorHES/start_haas_vf2ss/PMPM_RAW_BIN_1m_20241118_101818.csv', 'F:/Data_BachelorHES/start_haas_vf2ss/PMPM_RAW_BIN_1m_20241118_101918.csv', 'F:/Data_BachelorHES/start_haas_vf2ss/PMPM_RAW_BIN_1m_20241118_102018.csv', 'F:/Data_BachelorHES/start_haas_vf2ss/PMPM_RAW_BIN_1m_20241118_102118.csv', 'F:/Data_BachelorHES/start_haas_vf2ss/PMPM_RAW_BIN_1m_20241118_102218.csv', 'F:/Data_BachelorHES/start_haas_vf2ss/PMPM_RAW_BIN_1m_20241118_102318.csv', 'F:/Data_BachelorHES/start_haas_vf2ss/PMPM_RAW_BIN_1m_20241118_102418.csv', 'F:/Data_BachelorHES/start_haas_vf2ss/PMPM_RAW_BIN_1m_20241118_102518.csv', 'F:/Data_BachelorHES/start_haas_vf2ss/PMPM_RAW_BIN_1m_20241118_102618.csv', 'F:/Data_BachelorHES/start_haas_vf2ss/PMPM_RAW_BIN_1m_20241118_102718.csv', 'F:/Data_BachelorHES/start_haas_vf2ss/PMPM_RAW_BIN_1m_20241118_102818.csv', 'F:/Data_BachelorHES/start_haas_vf2ss/PMPM_RAW_BIN_1m_20241118_102918.csv', 'F:/Data_BachelorHES/start_haas_vf2ss/PMPM_RAW_BIN_1m_20241118_103018.csv', 'F:/Data_BachelorHES/start_haas_vf2ss/PMPM_RAW_BIN_1m_20241118_103118.csv', 'F:/Data_BachelorHES/start_haas_vf2ss/PMPM_RAW_BIN_1m_20241118_103218.csv', 'F:/Data_BachelorHES/start_haas_vf2ss/PMPM_RAW_BIN_1m_20241118_103318.csv', 'F:/Data_BachelorHES/start_haas_vf2ss/PMPM_RAW_BIN_1m_20241118_103418.csv', 'F:/Data_BachelorHES/start_haas_vf2ss/PMPM_RAW_BIN_1m_20241118_103518.csv', 'F:/Data_BachelorHES/start_haas_vf2ss/PMPM_RAW_BIN_1m_20241118_103618.csv', 'F:/Data_BachelorHES/start_haas_vf2ss/PMPM_RAW_BIN_1m_20241118_103718.csv', 'F:/Data_BachelorHES/start_haas_vf2ss/PMPM_RAW_BIN_1m_20241118_103818.csv', 'F:/Data_BachelorHES/start_haas_vf2ss/PMPM_RAW_BIN_1m_20241118_103918.csv', 'F:/Data_BachelorHES/start_haas_vf2ss/PMPM_RAW_BIN_1m_20241118_104018.csv', 'F:/Data_BachelorHES/start_haas_vf2ss/PMPM_RAW_BIN_1m_20241118_104118.csv', 'F:/Data_BachelorHES/start_haas_vf2ss/PMPM_RAW_BIN_1m_20241118_104218.csv', 'F:/Data_BachelorHES/start_haas_vf2ss/PMPM_RAW_BIN_1m_20241118_104318.csv', 'F:/Data_BachelorHES/start_haas_vf2ss/PMPM_RAW_BIN_1m_20241118_104418.csv', 'F:/Data_BachelorHES/start_haas_vf2ss/PMPM_RAW_BIN_1m_20241118_104518.csv', 'F:/Data_BachelorHES/start_haas_vf2ss/PMPM_RAW_BIN_1m_20241118_104618.csv', 'F:/Data_BachelorHES/start_haas_vf2ss/PMPM_RAW_BIN_1m_20241118_104718.csv', 'F:/Data_BachelorHES/start_haas_vf2ss/PMPM_RAW_BIN_1m_20241118_104818.csv', 'F:/Data_BachelorHES/start_haas_vf2ss/PMPM_RAW_BIN_1m_20241118_104918.csv', 'F:/Data_BachelorHES/start_haas_vf2ss/PMPM_RAW_BIN_1m_20241118_105018.csv', 'F:/Data_BachelorHES/start_haas_vf2ss/PMPM_RAW_BIN_1m_20241118_105118.csv', 'F:/Data_BachelorHES/start_haas_vf2ss/PMPM_RAW_BIN_1m_20241118_105218.csv', 'F:/Data_BachelorHES/start_haas_vf2ss/PMPM_RAW_BIN_1m_20241118_105318.csv', 'F:/Data_BachelorHES/start_haas_vf2ss/PMPM_RAW_BIN_1m_20241118_105418.csv', 'F:/Data_BachelorHES/start_haas_vf2ss/PMPM_RAW_BIN_1m_20241118_105518.csv', 'F:/Data_BachelorHES/start_haas_vf2ss/PMPM_RAW_BIN_1m_20241118_105618.csv', 'F:/Data_BachelorHES/start_haas_vf2ss/PMPM_RAW_BIN_1m_20241118_105718.csv', 'F:/Data_BachelorHES/start_haas_vf2ss/PMPM_RAW_BIN_1m_20241118_105818.csv', 'F:/Data_BachelorHES/start_haas_vf2ss/PMPM_RAW_BIN_1m_20241118_105918.csv', 'F:/Data_BachelorHES/start_haas_vf2ss/PMPM_RAW_BIN_1m_20241118_110018.csv', 'F:/Data_BachelorHES/start_haas_vf2ss/PMPM_RAW_BIN_1m_20241118_110118.csv', 'F:/Data_BachelorHES/start_haas_vf2ss/PMPM_RAW_BIN_1m_20241118_110218.csv', 'F:/Data_BachelorHES/start_haas_vf2ss/PMPM_RAW_BIN_1m_20241118_110318.csv', 'F:/Data_BachelorHES/start_haas_vf2ss/PMPM_RAW_BIN_1m_20241118_110418.csv', 'F:/Data_BachelorHES/start_haas_vf2ss/PMPM_RAW_BIN_1m_20241118_110518.csv', 'F:/Data_BachelorHES/start_haas_vf2ss/PMPM_RAW_BIN_1m_20241118_110618.csv', 'F:/Data_BachelorHES/start_haas_vf2ss/PMPM_RAW_BIN_1m_20241118_110718.csv', 'F:/Data_BachelorHES/start_haas_vf2ss/PMPM_RAW_BIN_1m_20241118_110818.csv', 'F:/Data_BachelorHES/start_haas_vf2ss/PMPM_RAW_BIN_1m_20241118_110918.csv', 'F:/Data_BachelorHES/start_haas_vf2ss/PMPM_RAW_BIN_1m_20241118_111018.csv', 'F:/Data_BachelorHES/start_haas_vf2ss/PMPM_RAW_BIN_1m_20241118_111119.csv', 'F:/Data_BachelorHES/start_haas_vf2ss/PMPM_RAW_BIN_1m_20241118_111219.csv', 'F:/Data_BachelorHES/start_haas_vf2ss/PMPM_RAW_BIN_1m_20241118_111319.csv', 'F:/Data_BachelorHES/start_haas_vf2ss/PMPM_RAW_BIN_1m_20241118_111419.csv', 'F:/Data_BachelorHES/start_haas_vf2ss/PMPM_RAW_BIN_1m_20241118_111519.csv', 'F:/Data_BachelorHES/start_haas_vf2ss/PMPM_RAW_BIN_1m_20241118_111619.csv', 'F:/Data_BachelorHES/start_haas_vf2ss/PMPM_RAW_BIN_1m_20241118_111719.csv', 'F:/Data_BachelorHES/start_haas_vf2ss/PMPM_RAW_BIN_1m_20241118_111819.csv', 'F:/Data_BachelorHES/start_haas_vf2ss/PMPM_RAW_BIN_1m_20241118_111919.csv', 'F:/Data_BachelorHES/start_haas_vf2ss/PMPM_RAW_BIN_1m_20241118_112019.csv', 'F:/Data_BachelorHES/start_haas_vf2ss/PMPM_RAW_BIN_1m_20241118_112119.csv', 'F:/Data_BachelorHES/start_haas_vf2ss/PMPM_RAW_BIN_1m_20241118_112219.csv', 'F:/Data_BachelorHES/start_haas_vf2ss/PMPM_RAW_BIN_1m_20241118_112319.csv', 'F:/Data_BachelorHES/start_haas_vf2ss/PMPM_RAW_BIN_1m_20241118_112419.csv', 'F:/Data_BachelorHES/start_haas_vf2ss/PMPM_RAW_BIN_1m_20241118_112519.csv', 'F:/Data_BachelorHES/start_haas_vf2ss/PMPM_RAW_BIN_1m_20241118_112619.csv', 'F:/Data_BachelorHES/start_haas_vf2ss/PMPM_RAW_BIN_1m_20241118_112719.csv', 'F:/Data_BachelorHES/start_haas_vf2ss/PMPM_RAW_BIN_1m_20241118_112819.csv', 'F:/Data_BachelorHES/start_haas_vf2ss/PMPM_RAW_BIN_1m_20241118_112919.csv', 'F:/Data_BachelorHES/start_haas_vf2ss/PMPM_RAW_BIN_1m_20241118_113019.csv', 'F:/Data_BachelorHES/start_haas_vf2ss/PMPM_RAW_BIN_1m_20241118_113119.csv', 'F:/Data_BachelorHES/start_haas_vf2ss/PMPM_RAW_BIN_1m_20241118_113219.csv', 'F:/Data_BachelorHES/start_haas_vf2ss/PMPM_RAW_BIN_1m_20241118_113319.csv', 'F:/Data_BachelorHES/start_haas_vf2ss/PMPM_RAW_BIN_1m_20241118_113419.csv', 'F:/Data_BachelorHES/start_haas_vf2ss/PMPM_RAW_BIN_1m_20241118_113519.csv', 'F:/Data_BachelorHES/start_haas_vf2ss/PMPM_RAW_BIN_1m_20241118_113619.csv', 'F:/Data_BachelorHES/start_haas_vf2ss/PMPM_RAW_BIN_1m_20241118_113719.csv', 'F:/Data_BachelorHES/start_haas_vf2ss/PMPM_RAW_BIN_1m_20241118_113819.csv', 'F:/Data_BachelorHES/start_haas_vf2ss/PMPM_RAW_BIN_1m_20241118_113919.csv', 'F:/Data_BachelorHES/start_haas_vf2ss/PMPM_RAW_BIN_1m_20241118_114019.csv', 'F:/Data_BachelorHES/start_haas_vf2ss/PMPM_RAW_BIN_1m_20241118_114119.csv', 'F:/Data_BachelorHES/start_haas_vf2ss/PMPM_RAW_BIN_1m_20241118_114219.csv', 'F:/Data_BachelorHES/start_haas_vf2ss/PMPM_RAW_BIN_1m_20241118_114319.csv', 'F:/Data_BachelorHES/start_haas_vf2ss/PMPM_RAW_BIN_1m_20241118_114419.csv', 'F:/Data_BachelorHES/start_haas_vf2ss/PMPM_RAW_BIN_1m_20241118_114519.csv', 'F:/Data_BachelorHES/start_haas_vf2ss/PMPM_RAW_BIN_1m_20241118_114619.csv', 'F:/Data_BachelorHES/start_haas_vf2ss/PMPM_RAW_BIN_1m_20241118_114719.csv', 'F:/Data_BachelorHES/start_haas_vf2ss/PMPM_RAW_BIN_1m_20241118_114819.csv', 'F:/Data_BachelorHES/start_haas_vf2ss/PMPM_RAW_BIN_1m_20241118_114919.csv', 'F:/Data_BachelorHES/start_haas_vf2ss/PMPM_RAW_BIN_1m_20241118_115019.csv', 'F:/Data_BachelorHES/start_haas_vf2ss/PMPM_RAW_BIN_1m_20241118_115119.csv', 'F:/Data_BachelorHES/start_haas_vf2ss/PMPM_RAW_BIN_1m_20241118_115219.csv', 'F:/Data_BachelorHES/start_haas_vf2ss/PMPM_RAW_BIN_1m_20241118_115319.csv', 'F:/Data_BachelorHES/start_haas_vf2ss/PMPM_RAW_BIN_1m_20241118_115419.csv', 'F:/Data_BachelorHES/start_haas_vf2ss/PMPM_RAW_BIN_1m_20241118_115519.csv', 'F:/Data_BachelorHES/start_haas_vf2ss/PMPM_RAW_BIN_1m_20241118_115619.csv', 'F:/Data_BachelorHES/start_haas_vf2ss/PMPM_RAW_BIN_1m_20241118_115719.csv', 'F:/Data_BachelorHES/start_haas_vf2ss/PMPM_RAW_BIN_1m_20241118_115819.csv', 'F:/Data_BachelorHES/start_haas_vf2ss/PMPM_RAW_BIN_1m_20241118_115919.csv', 'F:/Data_BachelorHES/start_haas_vf2ss/PMPM_RAW_BIN_1m_20241118_120019.csv', 'F:/Data_BachelorHES/start_haas_vf2ss/PMPM_RAW_BIN_1m_20241118_120119.csv', 'F:/Data_BachelorHES/start_haas_vf2ss/PMPM_RAW_BIN_1m_20241118_120219.csv', 'F:/Data_BachelorHES/start_haas_vf2ss/PMPM_RAW_BIN_1m_20241118_120319.csv', 'F:/Data_BachelorHES/start_haas_vf2ss/PMPM_RAW_BIN_1m_20241118_120419.csv', 'F:/Data_BachelorHES/start_haas_vf2ss/PMPM_RAW_BIN_1m_20241118_120519.csv', 'F:/Data_BachelorHES/start_haas_vf2ss/PMPM_RAW_BIN_1m_20241118_120619.csv', 'F:/Data_BachelorHES/start_haas_vf2ss/PMPM_RAW_BIN_1m_20241118_120719.csv', 'F:/Data_BachelorHES/start_haas_vf2ss/PMPM_RAW_BIN_1m_20241118_120819.csv', 'F:/Data_BachelorHES/start_haas_vf2ss/PMPM_RAW_BIN_1m_20241118_120919.csv', 'F:/Data_BachelorHES/start_haas_vf2ss/PMPM_RAW_BIN_1m_20241118_121019.csv', 'F:/Data_BachelorHES/start_haas_vf2ss/PMPM_RAW_BIN_1m_20241118_121119.csv', 'F:/Data_BachelorHES/start_haas_vf2ss/PMPM_RAW_BIN_1m_20241118_121219.csv', 'F:/Data_BachelorHES/start_haas_vf2ss/PMPM_RAW_BIN_1m_20241118_121319.csv', 'F:/Data_BachelorHES/start_haas_vf2ss/PMPM_RAW_BIN_1m_20241118_121419.csv', 'F:/Data_BachelorHES/start_haas_vf2ss/PMPM_RAW_BIN_1m_20241118_121519.csv', 'F:/Data_BachelorHES/start_haas_vf2ss/PMPM_RAW_BIN_1m_20241118_121619.csv', 'F:/Data_BachelorHES/start_haas_vf2ss/PMPM_RAW_BIN_1m_20241118_121719.csv', 'F:/Data_BachelorHES/start_haas_vf2ss/PMPM_RAW_BIN_1m_20241118_121819.csv', 'F:/Data_BachelorHES/start_haas_vf2ss/PMPM_RAW_BIN_1m_20241118_121919.csv', 'F:/Data_BachelorHES/start_haas_vf2ss/PMPM_RAW_BIN_1m_20241118_122019.csv', 'F:/Data_BachelorHES/start_haas_vf2ss/PMPM_RAW_BIN_1m_20241118_122119.csv', 'F:/Data_BachelorHES/start_haas_vf2ss/PMPM_RAW_BIN_1m_20241118_122219.csv', 'F:/Data_BachelorHES/start_haas_vf2ss/PMPM_RAW_BIN_1m_20241118_122319.csv', 'F:/Data_BachelorHES/start_haas_vf2ss/PMPM_RAW_BIN_1m_20241118_122419.csv', 'F:/Data_BachelorHES/start_haas_vf2ss/PMPM_RAW_BIN_1m_20241118_122519.csv', 'F:/Data_BachelorHES/start_haas_vf2ss/PMPM_RAW_BIN_1m_20241118_122619.csv', 'F:/Data_BachelorHES/start_haas_vf2ss/PMPM_RAW_BIN_1m_20241118_122719.csv', 'F:/Data_BachelorHES/start_haas_vf2ss/PMPM_RAW_BIN_1m_20241118_122819.csv', 'F:/Data_BachelorHES/start_haas_vf2ss/PMPM_RAW_BIN_1m_20241118_122919.csv', 'F:/Data_BachelorHES/start_haas_vf2ss/PMPM_RAW_BIN_1m_20241118_123019.csv', 'F:/Data_BachelorHES/start_haas_vf2ss/PMPM_RAW_BIN_1m_20241118_123119.csv', 'F:/Data_BachelorHES/start_haas_vf2ss/PMPM_RAW_BIN_1m_20241118_123219.csv', 'F:/Data_BachelorHES/start_haas_vf2ss/PMPM_RAW_BIN_1m_20241118_123319.csv', 'F:/Data_BachelorHES/start_haas_vf2ss/PMPM_RAW_BIN_1m_20241118_123419.csv', 'F:/Data_BachelorHES/start_haas_vf2ss/PMPM_RAW_BIN_1m_20241118_123519.csv', 'F:/Data_BachelorHES/start_haas_vf2ss/PMPM_RAW_BIN_1m_20241118_123619.csv', 'F:/Data_BachelorHES/start_haas_vf2ss/PMPM_RAW_BIN_1m_20241118_123719.csv', 'F:/Data_BachelorHES/start_haas_vf2ss/PMPM_RAW_BIN_1m_20241118_123819.csv', 'F:/Data_BachelorHES/start_haas_vf2ss/PMPM_RAW_BIN_1m_20241118_123919.csv', 'F:/Data_BachelorHES/start_haas_vf2ss/PMPM_RAW_BIN_1m_20241118_124019.csv', 'F:/Data_BachelorHES/start_haas_vf2ss/PMPM_RAW_BIN_1m_20241118_124119.csv', 'F:/Data_BachelorHES/start_haas_vf2ss/PMPM_RAW_BIN_1m_20241118_124220.csv', 'F:/Data_BachelorHES/start_haas_vf2ss/PMPM_RAW_BIN_1m_20241118_124320.csv', 'F:/Data_BachelorHES/start_haas_vf2ss/PMPM_RAW_BIN_1m_20241118_124420.csv', 'F:/Data_BachelorHES/start_haas_vf2ss/PMPM_RAW_BIN_1m_20241118_124520.csv', 'F:/Data_BachelorHES/start_haas_vf2ss/PMPM_RAW_BIN_1m_20241118_124620.csv', 'F:/Data_BachelorHES/start_haas_vf2ss/PMPM_RAW_BIN_1m_20241118_124720.csv', 'F:/Data_BachelorHES/start_haas_vf2ss/PMPM_RAW_BIN_1m_20241118_124820.csv', 'F:/Data_BachelorHES/start_haas_vf2ss/PMPM_RAW_BIN_1m_20241118_124920.csv', 'F:/Data_BachelorHES/start_haas_vf2ss/PMPM_RAW_BIN_1m_20241118_125020.csv', 'F:/Data_BachelorHES/start_haas_vf2ss/PMPM_RAW_BIN_1m_20241118_125120.csv', 'F:/Data_BachelorHES/start_haas_vf2ss/PMPM_RAW_BIN_1m_20241118_125220.csv', 'F:/Data_BachelorHES/start_haas_vf2ss/PMPM_RAW_BIN_1m_20241118_125320.csv', 'F:/Data_BachelorHES/start_haas_vf2ss/PMPM_RAW_BIN_1m_20241118_125420.csv', 'F:/Data_BachelorHES/start_haas_vf2ss/PMPM_RAW_BIN_1m_20241118_125520.csv', 'F:/Data_BachelorHES/start_haas_vf2ss/PMPM_RAW_BIN_1m_20241118_125620.csv', 'F:/Data_BachelorHES/start_haas_vf2ss/PMPM_RAW_BIN_1m_20241118_125720.csv', 'F:/Data_BachelorHES/start_haas_vf2ss/PMPM_RAW_BIN_1m_20241118_125820.csv', 'F:/Data_BachelorHES/start_haas_vf2ss/PMPM_RAW_BIN_1m_20241118_125920.csv', 'F:/Data_BachelorHES/start_haas_vf2ss/PMPM_RAW_BIN_1m_20241118_130020.csv', 'F:/Data_BachelorHES/start_haas_vf2ss/PMPM_RAW_BIN_1m_20241118_130120.csv', 'F:/Data_BachelorHES/start_haas_vf2ss/PMPM_RAW_BIN_1m_20241118_130220.csv', 'F:/Data_BachelorHES/start_haas_vf2ss/PMPM_RAW_BIN_1m_20241118_130320.csv', 'F:/Data_BachelorHES/start_haas_vf2ss/PMPM_RAW_BIN_1m_20241118_130420.csv', 'F:/Data_BachelorHES/start_haas_vf2ss/PMPM_RAW_BIN_1m_20241118_130520.csv', 'F:/Data_BachelorHES/start_haas_vf2ss/PMPM_RAW_BIN_1m_20241118_130620.csv', 'F:/Data_BachelorHES/start_haas_vf2ss/PMPM_RAW_BIN_1m_20241118_130720.csv', 'F:/Data_BachelorHES/start_haas_vf2ss/PMPM_RAW_BIN_1m_20241118_130820.csv', 'F:/Data_BachelorHES/start_haas_vf2ss/PMPM_RAW_BIN_1m_20241118_130920.csv', 'F:/Data_BachelorHES/start_haas_vf2ss/PMPM_RAW_BIN_1m_20241118_131020.csv', 'F:/Data_BachelorHES/start_haas_vf2ss/PMPM_RAW_BIN_1m_20241118_131120.csv', 'F:/Data_BachelorHES/start_haas_vf2ss/PMPM_RAW_BIN_1m_20241118_131220.csv', 'F:/Data_BachelorHES/start_haas_vf2ss/PMPM_RAW_BIN_1m_20241118_131320.csv', 'F:/Data_BachelorHES/start_haas_vf2ss/PMPM_RAW_BIN_1m_20241118_131420.csv', 'F:/Data_BachelorHES/start_haas_vf2ss/PMPM_RAW_BIN_1m_20241118_131520.csv', 'F:/Data_BachelorHES/start_haas_vf2ss/PMPM_RAW_BIN_1m_20241118_131620.csv', 'F:/Data_BachelorHES/start_haas_vf2ss/PMPM_RAW_BIN_1m_20241118_131720.csv', 'F:/Data_BachelorHES/start_haas_vf2ss/PMPM_RAW_BIN_1m_20241118_131820.csv', 'F:/Data_BachelorHES/start_haas_vf2ss/PMPM_RAW_BIN_1m_20241118_131920.csv', 'F:/Data_BachelorHES/start_haas_vf2ss/PMPM_RAW_BIN_1m_20241118_132020.csv', 'F:/Data_BachelorHES/start_haas_vf2ss/PMPM_RAW_BIN_1m_20241118_132120.csv', 'F:/Data_BachelorHES/start_haas_vf2ss/PMPM_RAW_BIN_1m_20241118_132220.csv', 'F:/Data_BachelorHES/start_haas_vf2ss/PMPM_RAW_BIN_1m_20241118_132320.csv', 'F:/Data_BachelorHES/start_haas_vf2ss/PMPM_RAW_BIN_1m_20241118_132420.csv', 'F:/Data_BachelorHES/start_haas_vf2ss/PMPM_RAW_BIN_1m_20241118_132520.csv', 'F:/Data_BachelorHES/start_haas_vf2ss/PMPM_RAW_BIN_1m_20241118_132620.csv', 'F:/Data_BachelorHES/start_haas_vf2ss/PMPM_RAW_BIN_1m_20241118_132720.csv', 'F:/Data_BachelorHES/start_haas_vf2ss/PMPM_RAW_BIN_1m_20241118_132820.csv', 'F:/Data_BachelorHES/start_haas_vf2ss/PMPM_RAW_BIN_1m_20241118_132920.csv', 'F:/Data_BachelorHES/start_haas_vf2ss/PMPM_RAW_BIN_1m_20241118_133020.csv', 'F:/Data_BachelorHES/start_haas_vf2ss/PMPM_RAW_BIN_1m_20241118_133120.csv', 'F:/Data_BachelorHES/start_haas_vf2ss/PMPM_RAW_BIN_1m_20241118_133220.csv', 'F:/Data_BachelorHES/start_haas_vf2ss/PMPM_RAW_BIN_1m_20241118_133320.csv', 'F:/Data_BachelorHES/start_haas_vf2ss/PMPM_RAW_BIN_1m_20241118_133420.csv', 'F:/Data_BachelorHES/start_haas_vf2ss/PMPM_RAW_BIN_1m_20241118_133520.csv', 'F:/Data_BachelorHES/start_haas_vf2ss/PMPM_RAW_BIN_1m_20241118_133620.csv', 'F:/Data_BachelorHES/start_haas_vf2ss/PMPM_RAW_BIN_1m_20241118_133720.csv', 'F:/Data_BachelorHES/start_haas_vf2ss/PMPM_RAW_BIN_1m_20241118_133820.csv', 'F:/Data_BachelorHES/start_haas_vf2ss/PMPM_RAW_BIN_1m_20241118_133920.csv', 'F:/Data_BachelorHES/start_haas_vf2ss/PMPM_RAW_BIN_1m_20241118_134020.csv', 'F:/Data_BachelorHES/start_haas_vf2ss/PMPM_RAW_BIN_1m_20241118_134120.csv', 'F:/Data_BachelorHES/start_haas_vf2ss/PMPM_RAW_BIN_1m_20241118_134220.csv', 'F:/Data_BachelorHES/start_haas_vf2ss/PMPM_RAW_BIN_1m_20241118_134320.csv', 'F:/Data_BachelorHES/start_haas_vf2ss/PMPM_RAW_BIN_1m_20241118_134420.csv', 'F:/Data_BachelorHES/start_haas_vf2ss/PMPM_RAW_BIN_1m_20241118_134520.csv', 'F:/Data_BachelorHES/start_haas_vf2ss/PMPM_RAW_BIN_1m_20241118_134620.csv', 'F:/Data_BachelorHES/start_haas_vf2ss/PMPM_RAW_BIN_1m_20241118_134720.csv', 'F:/Data_BachelorHES/start_haas_vf2ss/PMPM_RAW_BIN_1m_20241118_134820.csv', 'F:/Data_BachelorHES/start_haas_vf2ss/PMPM_RAW_BIN_1m_20241118_134920.csv', 'F:/Data_BachelorHES/start_haas_vf2ss/PMPM_RAW_BIN_1m_20241118_135020.csv', 'F:/Data_BachelorHES/start_haas_vf2ss/PMPM_RAW_BIN_1m_20241118_135120.csv', 'F:/Data_BachelorHES/start_haas_vf2ss/PMPM_RAW_BIN_1m_20241118_135220.csv', 'F:/Data_BachelorHES/start_haas_vf2ss/PMPM_RAW_BIN_1m_20241118_135320.csv', 'F:/Data_BachelorHES/start_haas_vf2ss/PMPM_RAW_BIN_1m_20241118_135420.csv', 'F:/Data_BachelorHES/start_haas_vf2ss/PMPM_RAW_BIN_1m_20241118_135520.csv', 'F:/Data_BachelorHES/start_haas_vf2ss/PMPM_RAW_BIN_1m_20241118_135620.csv', 'F:/Data_BachelorHES/start_haas_vf2ss/PMPM_RAW_BIN_1m_20241118_135720.csv', 'F:/Data_BachelorHES/start_haas_vf2ss/PMPM_RAW_BIN_1m_20241118_135820.csv', 'F:/Data_BachelorHES/start_haas_vf2ss/PMPM_RAW_BIN_1m_20241118_135920.csv', 'F:/Data_BachelorHES/start_haas_vf2ss/PMPM_RAW_BIN_1m_20241118_140020.csv', 'F:/Data_BachelorHES/start_haas_vf2ss/PMPM_RAW_BIN_1m_20241118_140120.csv', 'F:/Data_BachelorHES/start_haas_vf2ss/PMPM_RAW_BIN_1m_20241118_140220.csv', 'F:/Data_BachelorHES/start_haas_vf2ss/PMPM_RAW_BIN_1m_20241118_140320.csv', 'F:/Data_BachelorHES/start_haas_vf2ss/PMPM_RAW_BIN_1m_20241118_140420.csv', 'F:/Data_BachelorHES/start_haas_vf2ss/PMPM_RAW_BIN_1m_20241118_140520.csv', 'F:/Data_BachelorHES/start_haas_vf2ss/PMPM_RAW_BIN_1m_20241118_140620.csv', 'F:/Data_BachelorHES/start_haas_vf2ss/PMPM_RAW_BIN_1m_20241118_140720.csv', 'F:/Data_BachelorHES/start_haas_vf2ss/PMPM_RAW_BIN_1m_20241118_140820.csv', 'F:/Data_BachelorHES/start_haas_vf2ss/PMPM_RAW_BIN_1m_20241118_140920.csv', 'F:/Data_BachelorHES/start_haas_vf2ss/PMPM_RAW_BIN_1m_20241118_141020.csv', 'F:/Data_BachelorHES/start_haas_vf2ss/PMPM_RAW_BIN_1m_20241118_141120.csv', 'F:/Data_BachelorHES/start_haas_vf2ss/PMPM_RAW_BIN_1m_20241118_141220.csv', 'F:/Data_BachelorHES/start_haas_vf2ss/PMPM_RAW_BIN_1m_20241118_141321.csv', 'F:/Data_BachelorHES/start_haas_vf2ss/PMPM_RAW_BIN_1m_20241118_141421.csv', 'F:/Data_BachelorHES/start_haas_vf2ss/PMPM_RAW_BIN_1m_20241118_141521.csv', 'F:/Data_BachelorHES/start_haas_vf2ss/PMPM_RAW_BIN_1m_20241118_141621.csv', 'F:/Data_BachelorHES/start_haas_vf2ss/PMPM_RAW_BIN_1m_20241118_141721.csv', 'F:/Data_BachelorHES/start_haas_vf2ss/PMPM_RAW_BIN_1m_20241118_141821.csv', 'F:/Data_BachelorHES/start_haas_vf2ss/PMPM_RAW_BIN_1m_20241118_141921.csv', 'F:/Data_BachelorHES/start_haas_vf2ss/PMPM_RAW_BIN_1m_20241118_142021.csv', 'F:/Data_BachelorHES/start_haas_vf2ss/PMPM_RAW_BIN_1m_20241118_142121.csv', 'F:/Data_BachelorHES/start_haas_vf2ss/PMPM_RAW_BIN_1m_20241118_142221.csv', 'F:/Data_BachelorHES/start_haas_vf2ss/PMPM_RAW_BIN_1m_20241118_142321.csv', 'F:/Data_BachelorHES/start_haas_vf2ss/PMPM_RAW_BIN_1m_20241118_142421.csv', 'F:/Data_BachelorHES/start_haas_vf2ss/PMPM_RAW_BIN_1m_20241118_142521.csv', 'F:/Data_BachelorHES/start_haas_vf2ss/PMPM_RAW_BIN_1m_20241118_142621.csv', 'F:/Data_BachelorHES/start_haas_vf2ss/PMPM_RAW_BIN_1m_20241118_142721.csv', 'F:/Data_BachelorHES/start_haas_vf2ss/PMPM_RAW_BIN_1m_20241118_142821.csv', 'F:/Data_BachelorHES/start_haas_vf2ss/PMPM_RAW_BIN_1m_20241118_142921.csv', 'F:/Data_BachelorHES/start_haas_vf2ss/PMPM_RAW_BIN_1m_20241118_143021.csv', 'F:/Data_BachelorHES/start_haas_vf2ss/PMPM_RAW_BIN_1m_20241118_143121.csv', 'F:/Data_BachelorHES/start_haas_vf2ss/PMPM_RAW_BIN_1m_20241118_143221.csv', 'F:/Data_BachelorHES/start_haas_vf2ss/PMPM_RAW_BIN_1m_20241118_143321.csv', 'F:/Data_BachelorHES/start_haas_vf2ss/PMPM_RAW_BIN_1m_20241118_143421.csv', 'F:/Data_BachelorHES/start_haas_vf2ss/PMPM_RAW_BIN_1m_20241118_143521.csv', 'F:/Data_BachelorHES/start_haas_vf2ss/PMPM_RAW_BIN_1m_20241118_143621.csv', 'F:/Data_BachelorHES/start_haas_vf2ss/PMPM_RAW_BIN_1m_20241118_143721.csv', 'F:/Data_BachelorHES/start_haas_vf2ss/PMPM_RAW_BIN_1m_20241118_143821.csv', 'F:/Data_BachelorHES/start_haas_vf2ss/PMPM_RAW_BIN_1m_20241118_143921.csv', 'F:/Data_BachelorHES/start_haas_vf2ss/PMPM_RAW_BIN_1m_20241118_144021.csv', 'F:/Data_BachelorHES/start_haas_vf2ss/PMPM_RAW_BIN_1m_20241118_144121.csv', 'F:/Data_BachelorHES/start_haas_vf2ss/PMPM_RAW_BIN_1m_20241118_144221.csv', 'F:/Data_BachelorHES/start_haas_vf2ss/PMPM_RAW_BIN_1m_20241118_144321.csv', 'F:/Data_BachelorHES/start_haas_vf2ss/PMPM_RAW_BIN_1m_20241118_144421.csv', 'F:/Data_BachelorHES/start_haas_vf2ss/PMPM_RAW_BIN_1m_20241118_144521.csv', 'F:/Data_BachelorHES/start_haas_vf2ss/PMPM_RAW_BIN_1m_20241118_144621.csv', 'F:/Data_BachelorHES/start_haas_vf2ss/PMPM_RAW_BIN_1m_20241118_144721.csv', 'F:/Data_BachelorHES/start_haas_vf2ss/PMPM_RAW_BIN_1m_20241118_144821.csv', 'F:/Data_BachelorHES/start_haas_vf2ss/PMPM_RAW_BIN_1m_20241118_144921.csv', 'F:/Data_BachelorHES/start_haas_vf2ss/PMPM_RAW_BIN_1m_20241118_145021.csv', 'F:/Data_BachelorHES/start_haas_vf2ss/PMPM_RAW_BIN_1m_20241118_145121.csv', 'F:/Data_BachelorHES/start_haas_vf2ss/PMPM_RAW_BIN_1m_20241118_145221.csv', 'F:/Data_BachelorHES/start_haas_vf2ss/PMPM_RAW_BIN_1m_20241118_145321.csv', 'F:/Data_BachelorHES/start_haas_vf2ss/PMPM_RAW_BIN_1m_20241118_145421.csv', 'F:/Data_BachelorHES/start_haas_vf2ss/PMPM_RAW_BIN_1m_20241118_145521.csv', 'F:/Data_BachelorHES/start_haas_vf2ss/PMPM_RAW_BIN_1m_20241118_145621.csv', 'F:/Data_BachelorHES/start_haas_vf2ss/PMPM_RAW_BIN_1m_20241118_145721.csv', 'F:/Data_BachelorHES/start_haas_vf2ss/PMPM_RAW_BIN_1m_20241118_145821.csv', 'F:/Data_BachelorHES/start_haas_vf2ss/PMPM_RAW_BIN_1m_20241118_145921.csv', 'F:/Data_BachelorHES/start_haas_vf2ss/PMPM_RAW_BIN_1m_20241118_150021.csv', 'F:/Data_BachelorHES/start_haas_vf2ss/PMPM_RAW_BIN_1m_20241118_150121.csv', 'F:/Data_BachelorHES/start_haas_vf2ss/PMPM_RAW_BIN_1m_20241118_150221.csv', 'F:/Data_BachelorHES/start_haas_vf2ss/PMPM_RAW_BIN_1m_20241118_150321.csv', 'F:/Data_BachelorHES/start_haas_vf2ss/PMPM_RAW_BIN_1m_20241118_150421.csv', 'F:/Data_BachelorHES/start_haas_vf2ss/PMPM_RAW_BIN_1m_20241118_150521.csv', 'F:/Data_BachelorHES/start_haas_vf2ss/PMPM_RAW_BIN_1m_20241118_150621.csv', 'F:/Data_BachelorHES/start_haas_vf2ss/PMPM_RAW_BIN_1m_20241118_150721.csv', 'F:/Data_BachelorHES/start_haas_vf2ss/PMPM_RAW_BIN_1m_20241118_150821.csv', 'F:/Data_BachelorHES/start_haas_vf2ss/PMPM_RAW_BIN_1m_20241118_150921.csv', 'F:/Data_BachelorHES/start_haas_vf2ss/PMPM_RAW_BIN_1m_20241118_151021.csv', 'F:/Data_BachelorHES/start_haas_vf2ss/PMPM_RAW_BIN_1m_20241118_151121.csv', 'F:/Data_BachelorHES/start_haas_vf2ss/PMPM_RAW_BIN_1m_20241118_151221.csv', 'F:/Data_BachelorHES/start_haas_vf2ss/PMPM_RAW_BIN_1m_20241118_151321.csv', 'F:/Data_BachelorHES/start_haas_vf2ss/PMPM_RAW_BIN_1m_20241118_151421.csv', 'F:/Data_BachelorHES/start_haas_vf2ss/PMPM_RAW_BIN_1m_20241118_151521.csv', 'F:/Data_BachelorHES/start_haas_vf2ss/PMPM_RAW_BIN_1m_20241118_151621.csv', 'F:/Data_BachelorHES/start_haas_vf2ss/PMPM_RAW_BIN_1m_20241118_151721.csv', 'F:/Data_BachelorHES/start_haas_vf2ss/PMPM_RAW_BIN_1m_20241118_151821.csv', 'F:/Data_BachelorHES/start_haas_vf2ss/PMPM_RAW_BIN_1m_20241118_151921.csv', 'F:/Data_BachelorHES/start_haas_vf2ss/PMPM_RAW_BIN_1m_20241118_152021.csv', 'F:/Data_BachelorHES/start_haas_vf2ss/PMPM_RAW_BIN_1m_20241118_152121.csv', 'F:/Data_BachelorHES/start_haas_vf2ss/PMPM_RAW_BIN_1m_20241118_152221.csv', 'F:/Data_BachelorHES/start_haas_vf2ss/PMPM_RAW_BIN_1m_20241118_152321.csv', 'F:/Data_BachelorHES/start_haas_vf2ss/PMPM_RAW_BIN_1m_20241118_152421.csv', 'F:/Data_BachelorHES/start_haas_vf2ss/PMPM_RAW_BIN_1m_20241118_152521.csv', 'F:/Data_BachelorHES/start_haas_vf2ss/PMPM_RAW_BIN_1m_20241118_152621.csv', 'F:/Data_BachelorHES/start_haas_vf2ss/PMPM_RAW_BIN_1m_20241118_152721.csv', 'F:/Data_BachelorHES/start_haas_vf2ss/PMPM_RAW_BIN_1m_20241118_152821.csv', 'F:/Data_BachelorHES/start_haas_vf2ss/PMPM_RAW_BIN_1m_20241118_152921.csv', 'F:/Data_BachelorHES/start_haas_vf2ss/PMPM_RAW_BIN_1m_20241118_153021.csv', 'F:/Data_BachelorHES/start_haas_vf2ss/PMPM_RAW_BIN_1m_20241118_153121.csv', 'F:/Data_BachelorHES/start_haas_vf2ss/PMPM_RAW_BIN_1m_20241118_153221.csv', 'F:/Data_BachelorHES/start_haas_vf2ss/PMPM_RAW_BIN_1m_20241118_191324.csv', 'F:/Data_BachelorHES/start_haas_vf2ss/PMPM_RAW_BIN_1m_20241118_191424.csv', 'F:/Data_BachelorHES/start_haas_vf2ss/PMPM_RAW_BIN_1m_20241118_191524.csv', 'F:/Data_BachelorHES/start_haas_vf2ss/PMPM_RAW_BIN_1m_20241118_191624.csv', 'F:/Data_BachelorHES/start_haas_vf2ss/PMPM_RAW_BIN_1m_20241118_191724.csv', 'F:/Data_BachelorHES/start_haas_vf2ss/PMPM_RAW_BIN_1m_20241118_191824.csv', 'F:/Data_BachelorHES/start_haas_vf2ss/PMPM_RAW_BIN_1m_20241118_191924.csv', 'F:/Data_BachelorHES/start_haas_vf2ss/PMPM_RAW_BIN_1m_20241118_192024.csv', 'F:/Data_BachelorHES/start_haas_vf2ss/PMPM_RAW_BIN_1m_20241118_192124.csv', 'F:/Data_BachelorHES/start_haas_vf2ss/PMPM_RAW_BIN_1m_20241118_192224.csv', 'F:/Data_BachelorHES/start_haas_vf2ss/PMPM_RAW_BIN_1m_20241118_192324.csv', 'F:/Data_BachelorHES/start_haas_vf2ss/PMPM_RAW_BIN_1m_20241118_192424.csv', 'F:/Data_BachelorHES/start_haas_vf2ss/PMPM_RAW_BIN_1m_20241118_192524.csv', 'F:/Data_BachelorHES/start_haas_vf2ss/PMPM_RAW_BIN_1m_20241118_192624.csv', 'F:/Data_BachelorHES/start_haas_vf2ss/PMPM_RAW_BIN_1m_20241118_192724.csv', 'F:/Data_BachelorHES/start_haas_vf2ss/PMPM_RAW_BIN_1m_20241118_192824.csv', 'F:/Data_BachelorHES/start_haas_vf2ss/PMPM_RAW_BIN_1m_20241118_192924.csv', 'F:/Data_BachelorHES/start_haas_vf2ss/PMPM_RAW_BIN_1m_20241118_193024.csv', 'F:/Data_BachelorHES/start_haas_vf2ss/PMPM_RAW_BIN_1m_20241118_193124.csv', 'F:/Data_BachelorHES/start_haas_vf2ss/PMPM_RAW_BIN_1m_20241118_193224.csv', 'F:/Data_BachelorHES/start_haas_vf2ss/PMPM_RAW_BIN_1m_20241118_193324.csv', 'F:/Data_BachelorHES/start_haas_vf2ss/PMPM_RAW_BIN_1m_20241118_193424.csv', 'F:/Data_BachelorHES/start_haas_vf2ss/PMPM_RAW_BIN_1m_20241118_193524.csv', 'F:/Data_BachelorHES/start_haas_vf2ss/PMPM_RAW_BIN_1m_20241118_193624.csv', 'F:/Data_BachelorHES/start_haas_vf2ss/PMPM_RAW_BIN_1m_20241118_193724.csv', 'F:/Data_BachelorHES/start_haas_vf2ss/PMPM_RAW_BIN_1m_20241118_193824.csv', 'F:/Data_BachelorHES/start_haas_vf2ss/PMPM_RAW_BIN_1m_20241118_193924.csv', 'F:/Data_BachelorHES/start_haas_vf2ss/PMPM_RAW_BIN_1m_20241118_194024.csv', 'F:/Data_BachelorHES/start_haas_vf2ss/PMPM_RAW_BIN_1m_20241118_194124.csv', 'F:/Data_BachelorHES/start_haas_vf2ss/PMPM_RAW_BIN_1m_20241118_194224.csv', 'F:/Data_BachelorHES/start_haas_vf2ss/PMPM_RAW_BIN_1m_20241118_194324.csv', 'F:/Data_BachelorHES/start_haas_vf2ss/PMPM_RAW_BIN_1m_20241118_194424.csv', 'F:/Data_BachelorHES/start_haas_vf2ss/PMPM_RAW_BIN_1m_20241118_194524.csv', 'F:/Data_BachelorHES/start_haas_vf2ss/PMPM_RAW_BIN_1m_20241118_194624.csv', 'F:/Data_BachelorHES/start_haas_vf2ss/PMPM_RAW_BIN_1m_20241118_194724.csv', 'F:/Data_BachelorHES/start_haas_vf2ss/PMPM_RAW_BIN_1m_20241118_194824.csv', 'F:/Data_BachelorHES/start_haas_vf2ss/PMPM_RAW_BIN_1m_20241118_194924.csv', 'F:/Data_BachelorHES/start_haas_vf2ss/PMPM_RAW_BIN_1m_20241118_195024.csv', 'F:/Data_BachelorHES/start_haas_vf2ss/PMPM_RAW_BIN_1m_20241118_195124.csv', 'F:/Data_BachelorHES/start_haas_vf2ss/PMPM_RAW_BIN_1m_20241118_195224.csv', 'F:/Data_BachelorHES/start_haas_vf2ss/PMPM_RAW_BIN_1m_20241118_195324.csv', 'F:/Data_BachelorHES/start_haas_vf2ss/PMPM_RAW_BIN_1m_20241118_195424.csv', 'F:/Data_BachelorHES/start_haas_vf2ss/PMPM_RAW_BIN_1m_20241118_195524.csv', 'F:/Data_BachelorHES/start_haas_vf2ss/PMPM_RAW_BIN_1m_20241118_195624.csv', 'F:/Data_BachelorHES/start_haas_vf2ss/PMPM_RAW_BIN_1m_20241118_195724.csv', 'F:/Data_BachelorHES/start_haas_vf2ss/PMPM_RAW_BIN_1m_20241118_195824.csv', 'F:/Data_BachelorHES/start_haas_vf2ss/PMPM_RAW_BIN_1m_20241118_195924.csv', 'F:/Data_BachelorHES/start_haas_vf2ss/PMPM_RAW_BIN_1m_20241118_200024.csv', 'F:/Data_BachelorHES/start_haas_vf2ss/PMPM_RAW_BIN_1m_20241118_200124.csv', 'F:/Data_BachelorHES/start_haas_vf2ss/PMPM_RAW_BIN_1m_20241118_200224.csv', 'F:/Data_BachelorHES/start_haas_vf2ss/PMPM_RAW_BIN_1m_20241118_200324.csv', 'F:/Data_BachelorHES/start_haas_vf2ss/PMPM_RAW_BIN_1m_20241118_200424.csv', 'F:/Data_BachelorHES/start_haas_vf2ss/PMPM_RAW_BIN_1m_20241118_200524.csv', 'F:/Data_BachelorHES/start_haas_vf2ss/PMPM_RAW_BIN_1m_20241118_200624.csv', 'F:/Data_BachelorHES/start_haas_vf2ss/PMPM_RAW_BIN_1m_20241118_200724.csv', 'F:/Data_BachelorHES/start_haas_vf2ss/PMPM_RAW_BIN_1m_20241118_200824.csv', 'F:/Data_BachelorHES/start_haas_vf2ss/PMPM_RAW_BIN_1m_20241118_200924.csv', 'F:/Data_BachelorHES/start_haas_vf2ss/PMPM_RAW_BIN_1m_20241118_201024.csv', 'F:/Data_BachelorHES/start_haas_vf2ss/PMPM_RAW_BIN_1m_20241118_201124.csv', 'F:/Data_BachelorHES/start_haas_vf2ss/PMPM_RAW_BIN_1m_20241118_201224.csv', 'F:/Data_BachelorHES/start_haas_vf2ss/PMPM_RAW_BIN_1m_20241118_201324.csv', 'F:/Data_BachelorHES/start_haas_vf2ss/PMPM_RAW_BIN_1m_20241118_201425.csv', 'F:/Data_BachelorHES/start_haas_vf2ss/PMPM_RAW_BIN_1m_20241118_201525.csv', 'F:/Data_BachelorHES/start_haas_vf2ss/PMPM_RAW_BIN_1m_20241118_201625.csv', 'F:/Data_BachelorHES/start_haas_vf2ss/PMPM_RAW_BIN_1m_20241118_201725.csv', 'F:/Data_BachelorHES/start_haas_vf2ss/PMPM_RAW_BIN_1m_20241118_201825.csv', 'F:/Data_BachelorHES/start_haas_vf2ss/PMPM_RAW_BIN_1m_20241118_201925.csv', 'F:/Data_BachelorHES/start_haas_vf2ss/PMPM_RAW_BIN_1m_20241118_202025.csv', 'F:/Data_BachelorHES/start_haas_vf2ss/PMPM_RAW_BIN_1m_20241118_202125.csv', 'F:/Data_BachelorHES/start_haas_vf2ss/PMPM_RAW_BIN_1m_20241118_202225.csv', 'F:/Data_BachelorHES/start_haas_vf2ss/PMPM_RAW_BIN_1m_20241118_202325.csv', 'F:/Data_BachelorHES/start_haas_vf2ss/PMPM_RAW_BIN_1m_20241118_202425.csv', 'F:/Data_BachelorHES/start_haas_vf2ss/PMPM_RAW_BIN_1m_20241118_202525.csv', 'F:/Data_BachelorHES/start_haas_vf2ss/PMPM_RAW_BIN_1m_20241118_202625.csv', 'F:/Data_BachelorHES/start_haas_vf2ss/PMPM_RAW_BIN_1m_20241118_202725.csv', 'F:/Data_BachelorHES/start_haas_vf2ss/PMPM_RAW_BIN_1m_20241118_202825.csv', 'F:/Data_BachelorHES/start_haas_vf2ss/PMPM_RAW_BIN_1m_20241118_202925.csv', 'F:/Data_BachelorHES/start_haas_vf2ss/PMPM_RAW_BIN_1m_20241118_203025.csv', 'F:/Data_BachelorHES/start_haas_vf2ss/PMPM_RAW_BIN_1m_20241118_203125.csv', 'F:/Data_BachelorHES/start_haas_vf2ss/PMPM_RAW_BIN_1m_20241118_203225.csv', 'F:/Data_BachelorHES/start_haas_vf2ss/PMPM_RAW_BIN_1m_20241118_203325.csv', 'F:/Data_BachelorHES/start_haas_vf2ss/PMPM_RAW_BIN_1m_20241118_203425.csv', 'F:/Data_BachelorHES/start_haas_vf2ss/PMPM_RAW_BIN_1m_20241118_203525.csv', 'F:/Data_BachelorHES/start_haas_vf2ss/PMPM_RAW_BIN_1m_20241118_203625.csv', 'F:/Data_BachelorHES/start_haas_vf2ss/PMPM_RAW_BIN_1m_20241118_203725.csv', 'F:/Data_BachelorHES/start_haas_vf2ss/PMPM_RAW_BIN_1m_20241118_203825.csv', 'F:/Data_BachelorHES/start_haas_vf2ss/PMPM_RAW_BIN_1m_20241118_203925.csv', 'F:/Data_BachelorHES/start_haas_vf2ss/PMPM_RAW_BIN_1m_20241118_204025.csv', 'F:/Data_BachelorHES/start_haas_vf2ss/PMPM_RAW_BIN_1m_20241118_204125.csv', 'F:/Data_BachelorHES/start_haas_vf2ss/PMPM_RAW_BIN_1m_20241118_204225.csv', 'F:/Data_BachelorHES/start_haas_vf2ss/PMPM_RAW_BIN_1m_20241118_204325.csv', 'F:/Data_BachelorHES/start_haas_vf2ss/PMPM_RAW_BIN_1m_20241118_204425.csv', 'F:/Data_BachelorHES/start_haas_vf2ss/PMPM_RAW_BIN_1m_20241118_204525.csv', 'F:/Data_BachelorHES/start_haas_vf2ss/PMPM_RAW_BIN_1m_20241118_204625.csv', 'F:/Data_BachelorHES/start_haas_vf2ss/PMPM_RAW_BIN_1m_20241118_204725.csv', 'F:/Data_BachelorHES/start_haas_vf2ss/PMPM_RAW_BIN_1m_20241118_204825.csv', 'F:/Data_BachelorHES/start_haas_vf2ss/PMPM_RAW_BIN_1m_20241118_204925.csv', 'F:/Data_BachelorHES/start_haas_vf2ss/PMPM_RAW_BIN_1m_20241118_205025.csv', 'F:/Data_BachelorHES/start_haas_vf2ss/PMPM_RAW_BIN_1m_20241118_205125.csv', 'F:/Data_BachelorHES/start_haas_vf2ss/PMPM_RAW_BIN_1m_20241118_205225.csv', 'F:/Data_BachelorHES/start_haas_vf2ss/PMPM_RAW_BIN_1m_20241118_205325.csv', 'F:/Data_BachelorHES/start_haas_vf2ss/PMPM_RAW_BIN_1m_20241118_205425.csv', 'F:/Data_BachelorHES/start_haas_vf2ss/PMPM_RAW_BIN_1m_20241118_205525.csv', 'F:/Data_BachelorHES/start_haas_vf2ss/PMPM_RAW_BIN_1m_20241118_205625.csv', 'F:/Data_BachelorHES/start_haas_vf2ss/PMPM_RAW_BIN_1m_20241118_205725.csv', 'F:/Data_BachelorHES/start_haas_vf2ss/PMPM_RAW_BIN_1m_20241118_205825.csv', 'F:/Data_BachelorHES/start_haas_vf2ss/PMPM_RAW_BIN_1m_20241118_205925.csv', 'F:/Data_BachelorHES/start_haas_vf2ss/PMPM_RAW_BIN_1m_20241118_210025.csv', 'F:/Data_BachelorHES/start_haas_vf2ss/PMPM_RAW_BIN_1m_20241118_210125.csv', 'F:/Data_BachelorHES/start_haas_vf2ss/PMPM_RAW_BIN_1m_20241118_210225.csv', 'F:/Data_BachelorHES/start_haas_vf2ss/PMPM_RAW_BIN_1m_20241118_210325.csv', 'F:/Data_BachelorHES/start_haas_vf2ss/PMPM_RAW_BIN_1m_20241118_210425.csv', 'F:/Data_BachelorHES/start_haas_vf2ss/PMPM_RAW_BIN_1m_20241118_210525.csv', 'F:/Data_BachelorHES/start_haas_vf2ss/PMPM_RAW_BIN_1m_20241118_210625.csv', 'F:/Data_BachelorHES/start_haas_vf2ss/PMPM_RAW_BIN_1m_20241118_210725.csv', 'F:/Data_BachelorHES/start_haas_vf2ss/PMPM_RAW_BIN_1m_20241118_210825.csv', 'F:/Data_BachelorHES/start_haas_vf2ss/PMPM_RAW_BIN_1m_20241118_210925.csv', 'F:/Data_BachelorHES/start_haas_vf2ss/PMPM_RAW_BIN_1m_20241118_211025.csv', 'F:/Data_BachelorHES/start_haas_vf2ss/PMPM_RAW_BIN_1m_20241118_211125.csv', 'F:/Data_BachelorHES/start_haas_vf2ss/PMPM_RAW_BIN_1m_20241118_211225.csv', 'F:/Data_BachelorHES/start_haas_vf2ss/PMPM_RAW_BIN_1m_20241118_211325.csv', 'F:/Data_BachelorHES/start_haas_vf2ss/PMPM_RAW_BIN_1m_20241118_211425.csv', 'F:/Data_BachelorHES/start_haas_vf2ss/PMPM_RAW_BIN_1m_20241118_211525.csv', 'F:/Data_BachelorHES/start_haas_vf2ss/PMPM_RAW_BIN_1m_20241118_211625.csv', 'F:/Data_BachelorHES/start_haas_vf2ss/PMPM_RAW_BIN_1m_20241118_211725.csv', 'F:/Data_BachelorHES/start_haas_vf2ss/PMPM_RAW_BIN_1m_20241118_211825.csv', 'F:/Data_BachelorHES/start_haas_vf2ss/PMPM_RAW_BIN_1m_20241118_211925.csv', 'F:/Data_BachelorHES/start_haas_vf2ss/PMPM_RAW_BIN_1m_20241118_212025.csv', 'F:/Data_BachelorHES/start_haas_vf2ss/PMPM_RAW_BIN_1m_20241118_212125.csv', 'F:/Data_BachelorHES/start_haas_vf2ss/PMPM_RAW_BIN_1m_20241118_212225.csv', 'F:/Data_BachelorHES/start_haas_vf2ss/PMPM_RAW_BIN_1m_20241118_212325.csv', 'F:/Data_BachelorHES/start_haas_vf2ss/PMPM_RAW_BIN_1m_20241118_212425.csv', 'F:/Data_BachelorHES/start_haas_vf2ss/PMPM_RAW_BIN_1m_20241118_212525.csv', 'F:/Data_BachelorHES/start_haas_vf2ss/PMPM_RAW_BIN_1m_20241118_212625.csv', 'F:/Data_BachelorHES/start_haas_vf2ss/PMPM_RAW_BIN_1m_20241118_212725.csv', 'F:/Data_BachelorHES/start_haas_vf2ss/PMPM_RAW_BIN_1m_20241118_212825.csv', 'F:/Data_BachelorHES/start_haas_vf2ss/PMPM_RAW_BIN_1m_20241118_212925.csv', 'F:/Data_BachelorHES/start_haas_vf2ss/PMPM_RAW_BIN_1m_20241118_213025.csv', 'F:/Data_BachelorHES/start_haas_vf2ss/PMPM_RAW_BIN_1m_20241118_213125.csv', 'F:/Data_BachelorHES/start_haas_vf2ss/PMPM_RAW_BIN_1m_20241118_213225.csv', 'F:/Data_BachelorHES/start_haas_vf2ss/PMPM_RAW_BIN_1m_20241118_213325.csv', 'F:/Data_BachelorHES/start_haas_vf2ss/PMPM_RAW_BIN_1m_20241118_213425.csv', 'F:/Data_BachelorHES/start_haas_vf2ss/PMPM_RAW_BIN_1m_20241118_213525.csv', 'F:/Data_BachelorHES/start_haas_vf2ss/PMPM_RAW_BIN_1m_20241118_213625.csv', 'F:/Data_BachelorHES/start_haas_vf2ss/PMPM_RAW_BIN_1m_20241118_213725.csv', 'F:/Data_BachelorHES/start_haas_vf2ss/PMPM_RAW_BIN_1m_20241118_213825.csv', 'F:/Data_BachelorHES/start_haas_vf2ss/PMPM_RAW_BIN_1m_20241118_213925.csv', 'F:/Data_BachelorHES/start_haas_vf2ss/PMPM_RAW_BIN_1m_20241118_214025.csv', 'F:/Data_BachelorHES/start_haas_vf2ss/PMPM_RAW_BIN_1m_20241118_214125.csv', 'F:/Data_BachelorHES/start_haas_vf2ss/PMPM_RAW_BIN_1m_20241118_214225.csv', 'F:/Data_BachelorHES/start_haas_vf2ss/PMPM_RAW_BIN_1m_20241118_214325.csv', 'F:/Data_BachelorHES/start_haas_vf2ss/PMPM_RAW_BIN_1m_20241118_214425.csv', 'F:/Data_BachelorHES/start_haas_vf2ss/PMPM_RAW_BIN_1m_20241118_214526.csv', 'F:/Data_BachelorHES/start_haas_vf2ss/PMPM_RAW_BIN_1m_20241118_214626.csv', 'F:/Data_BachelorHES/start_haas_vf2ss/PMPM_RAW_BIN_1m_20241118_214726.csv', 'F:/Data_BachelorHES/start_haas_vf2ss/PMPM_RAW_BIN_1m_20241118_214826.csv', 'F:/Data_BachelorHES/start_haas_vf2ss/PMPM_RAW_BIN_1m_20241118_214926.csv', 'F:/Data_BachelorHES/start_haas_vf2ss/PMPM_RAW_BIN_1m_20241118_215026.csv', 'F:/Data_BachelorHES/start_haas_vf2ss/PMPM_RAW_BIN_1m_20241118_215126.csv', 'F:/Data_BachelorHES/start_haas_vf2ss/PMPM_RAW_BIN_1m_20241118_215226.csv', 'F:/Data_BachelorHES/start_haas_vf2ss/PMPM_RAW_BIN_1m_20241118_215326.csv', 'F:/Data_BachelorHES/start_haas_vf2ss/PMPM_RAW_BIN_1m_20241118_215426.csv', 'F:/Data_BachelorHES/start_haas_vf2ss/PMPM_RAW_BIN_1m_20241118_215526.csv', 'F:/Data_BachelorHES/start_haas_vf2ss/PMPM_RAW_BIN_1m_20241118_215626.csv', 'F:/Data_BachelorHES/start_haas_vf2ss/PMPM_RAW_BIN_1m_20241118_215726.csv', 'F:/Data_BachelorHES/start_haas_vf2ss/PMPM_RAW_BIN_1m_20241118_215826.csv', 'F:/Data_BachelorHES/start_haas_vf2ss/PMPM_RAW_BIN_1m_20241118_215926.csv', 'F:/Data_BachelorHES/start_haas_vf2ss/PMPM_RAW_BIN_1m_20241118_220026.csv', 'F:/Data_BachelorHES/start_haas_vf2ss/PMPM_RAW_BIN_1m_20241118_220126.csv', 'F:/Data_BachelorHES/start_haas_vf2ss/PMPM_RAW_BIN_1m_20241118_220226.csv', 'F:/Data_BachelorHES/start_haas_vf2ss/PMPM_RAW_BIN_1m_20241118_220326.csv', 'F:/Data_BachelorHES/start_haas_vf2ss/PMPM_RAW_BIN_1m_20241118_220426.csv', 'F:/Data_BachelorHES/start_haas_vf2ss/PMPM_RAW_BIN_1m_20241118_220526.csv', 'F:/Data_BachelorHES/start_haas_vf2ss/PMPM_RAW_BIN_1m_20241118_220626.csv', 'F:/Data_BachelorHES/start_haas_vf2ss/PMPM_RAW_BIN_1m_20241118_220726.csv', 'F:/Data_BachelorHES/start_haas_vf2ss/PMPM_RAW_BIN_1m_20241118_220826.csv', 'F:/Data_BachelorHES/start_haas_vf2ss/PMPM_RAW_BIN_1m_20241118_220926.csv', 'F:/Data_BachelorHES/start_haas_vf2ss/PMPM_RAW_BIN_1m_20241118_221026.csv', 'F:/Data_BachelorHES/start_haas_vf2ss/PMPM_RAW_BIN_1m_20241118_221126.csv', 'F:/Data_BachelorHES/start_haas_vf2ss/PMPM_RAW_BIN_1m_20241118_221226.csv', 'F:/Data_BachelorHES/start_haas_vf2ss/PMPM_RAW_BIN_1m_20241118_221326.csv', 'F:/Data_BachelorHES/start_haas_vf2ss/PMPM_RAW_BIN_1m_20241118_221426.csv', 'F:/Data_BachelorHES/start_haas_vf2ss/PMPM_RAW_BIN_1m_20241118_221526.csv', 'F:/Data_BachelorHES/start_haas_vf2ss/PMPM_RAW_BIN_1m_20241118_221626.csv', 'F:/Data_BachelorHES/start_haas_vf2ss/PMPM_RAW_BIN_1m_20241118_221726.csv', 'F:/Data_BachelorHES/start_haas_vf2ss/PMPM_RAW_BIN_1m_20241118_221826.csv', 'F:/Data_BachelorHES/start_haas_vf2ss/PMPM_RAW_BIN_1m_20241118_221926.csv', 'F:/Data_BachelorHES/start_haas_vf2ss/PMPM_RAW_BIN_1m_20241118_222026.csv', 'F:/Data_BachelorHES/start_haas_vf2ss/PMPM_RAW_BIN_1m_20241118_222126.csv', 'F:/Data_BachelorHES/start_haas_vf2ss/PMPM_RAW_BIN_1m_20241118_222226.csv', 'F:/Data_BachelorHES/start_haas_vf2ss/PMPM_RAW_BIN_1m_20241118_222326.csv', 'F:/Data_BachelorHES/start_haas_vf2ss/PMPM_RAW_BIN_1m_20241118_222426.csv', 'F:/Data_BachelorHES/start_haas_vf2ss/PMPM_RAW_BIN_1m_20241118_222526.csv', 'F:/Data_BachelorHES/start_haas_vf2ss/PMPM_RAW_BIN_1m_20241118_222626.csv', 'F:/Data_BachelorHES/start_haas_vf2ss/PMPM_RAW_BIN_1m_20241118_222726.csv', 'F:/Data_BachelorHES/start_haas_vf2ss/PMPM_RAW_BIN_1m_20241118_222826.csv', 'F:/Data_BachelorHES/start_haas_vf2ss/PMPM_RAW_BIN_1m_20241118_222926.csv', 'F:/Data_BachelorHES/start_haas_vf2ss/PMPM_RAW_BIN_1m_20241118_223026.csv', 'F:/Data_BachelorHES/start_haas_vf2ss/PMPM_RAW_BIN_1m_20241118_223126.csv', 'F:/Data_BachelorHES/start_haas_vf2ss/PMPM_RAW_BIN_1m_20241118_223226.csv', 'F:/Data_BachelorHES/start_haas_vf2ss/PMPM_RAW_BIN_1m_20241118_223326.csv', 'F:/Data_BachelorHES/start_haas_vf2ss/PMPM_RAW_BIN_1m_20241118_223426.csv', 'F:/Data_BachelorHES/start_haas_vf2ss/PMPM_RAW_BIN_1m_20241118_223526.csv', 'F:/Data_BachelorHES/start_haas_vf2ss/PMPM_RAW_BIN_1m_20241118_223626.csv', 'F:/Data_BachelorHES/start_haas_vf2ss/PMPM_RAW_BIN_1m_20241118_223726.csv', 'F:/Data_BachelorHES/start_haas_vf2ss/PMPM_RAW_BIN_1m_20241118_223826.csv', 'F:/Data_BachelorHES/start_haas_vf2ss/PMPM_RAW_BIN_1m_20241118_223926.csv', 'F:/Data_BachelorHES/start_haas_vf2ss/PMPM_RAW_BIN_1m_20241118_224026.csv', 'F:/Data_BachelorHES/start_haas_vf2ss/PMPM_RAW_BIN_1m_20241118_224126.csv', 'F:/Data_BachelorHES/start_haas_vf2ss/PMPM_RAW_BIN_1m_20241118_224226.csv', 'F:/Data_BachelorHES/start_haas_vf2ss/PMPM_RAW_BIN_1m_20241118_224326.csv', 'F:/Data_BachelorHES/start_haas_vf2ss/PMPM_RAW_BIN_1m_20241118_224426.csv', 'F:/Data_BachelorHES/start_haas_vf2ss/PMPM_RAW_BIN_1m_20241118_224526.csv', 'F:/Data_BachelorHES/start_haas_vf2ss/PMPM_RAW_BIN_1m_20241118_224626.csv', 'F:/Data_BachelorHES/start_haas_vf2ss/PMPM_RAW_BIN_1m_20241118_224726.csv', 'F:/Data_BachelorHES/start_haas_vf2ss/PMPM_RAW_BIN_1m_20241118_224826.csv', 'F:/Data_BachelorHES/start_haas_vf2ss/PMPM_RAW_BIN_1m_20241118_224926.csv', 'F:/Data_BachelorHES/start_haas_vf2ss/PMPM_RAW_BIN_1m_20241118_225026.csv', 'F:/Data_BachelorHES/start_haas_vf2ss/PMPM_RAW_BIN_1m_20241118_225126.csv', 'F:/Data_BachelorHES/start_haas_vf2ss/PMPM_RAW_BIN_1m_20241118_225226.csv', 'F:/Data_BachelorHES/start_haas_vf2ss/PMPM_RAW_BIN_1m_20241118_225326.csv', 'F:/Data_BachelorHES/start_haas_vf2ss/PMPM_RAW_BIN_1m_20241118_225426.csv', 'F:/Data_BachelorHES/start_haas_vf2ss/PMPM_RAW_BIN_1m_20241118_225526.csv', 'F:/Data_BachelorHES/start_haas_vf2ss/PMPM_RAW_BIN_1m_20241118_225626.csv', 'F:/Data_BachelorHES/start_haas_vf2ss/PMPM_RAW_BIN_1m_20241118_225726.csv', 'F:/Data_BachelorHES/start_haas_vf2ss/PMPM_RAW_BIN_1m_20241118_225826.csv', 'F:/Data_BachelorHES/start_haas_vf2ss/PMPM_RAW_BIN_1m_20241118_225926.csv', 'F:/Data_BachelorHES/start_haas_vf2ss/PMPM_RAW_BIN_1m_20241118_230026.csv', 'F:/Data_BachelorHES/start_haas_vf2ss/PMPM_RAW_BIN_1m_20241118_230126.csv', 'F:/Data_BachelorHES/start_haas_vf2ss/PMPM_RAW_BIN_1m_20241118_230226.csv', 'F:/Data_BachelorHES/start_haas_vf2ss/PMPM_RAW_BIN_1m_20241118_230326.csv', 'F:/Data_BachelorHES/start_haas_vf2ss/PMPM_RAW_BIN_1m_20241118_230426.csv', 'F:/Data_BachelorHES/start_haas_vf2ss/PMPM_RAW_BIN_1m_20241118_230526.csv', 'F:/Data_BachelorHES/start_haas_vf2ss/PMPM_RAW_BIN_1m_20241118_230626.csv', 'F:/Data_BachelorHES/start_haas_vf2ss/PMPM_RAW_BIN_1m_20241118_230726.csv', 'F:/Data_BachelorHES/start_haas_vf2ss/PMPM_RAW_BIN_1m_20241118_230826.csv', 'F:/Data_BachelorHES/start_haas_vf2ss/PMPM_RAW_BIN_1m_20241118_230926.csv', 'F:/Data_BachelorHES/start_haas_vf2ss/PMPM_RAW_BIN_1m_20241118_231026.csv', 'F:/Data_BachelorHES/start_haas_vf2ss/PMPM_RAW_BIN_1m_20241118_231126.csv', 'F:/Data_BachelorHES/start_haas_vf2ss/PMPM_RAW_BIN_1m_20241118_231226.csv', 'F:/Data_BachelorHES/start_haas_vf2ss/PMPM_RAW_BIN_1m_20241118_231326.csv', 'F:/Data_BachelorHES/start_haas_vf2ss/PMPM_RAW_BIN_1m_20241118_231426.csv', 'F:/Data_BachelorHES/start_haas_vf2ss/PMPM_RAW_BIN_1m_20241118_231527.csv', 'F:/Data_BachelorHES/start_haas_vf2ss/PMPM_RAW_BIN_1m_20241118_231627.csv', 'F:/Data_BachelorHES/start_haas_vf2ss/PMPM_RAW_BIN_1m_20241118_231727.csv', 'F:/Data_BachelorHES/start_haas_vf2ss/PMPM_RAW_BIN_1m_20241118_231827.csv', 'F:/Data_BachelorHES/start_haas_vf2ss/PMPM_RAW_BIN_1m_20241118_231927.csv', 'F:/Data_BachelorHES/start_haas_vf2ss/PMPM_RAW_BIN_1m_20241118_232027.csv', 'F:/Data_BachelorHES/start_haas_vf2ss/PMPM_RAW_BIN_1m_20241118_232127.csv', 'F:/Data_BachelorHES/start_haas_vf2ss/PMPM_RAW_BIN_1m_20241118_232227.csv', 'F:/Data_BachelorHES/start_haas_vf2ss/PMPM_RAW_BIN_1m_20241118_232327.csv', 'F:/Data_BachelorHES/start_haas_vf2ss/PMPM_RAW_BIN_1m_20241118_232427.csv', 'F:/Data_BachelorHES/start_haas_vf2ss/PMPM_RAW_BIN_1m_20241118_232527.csv', 'F:/Data_BachelorHES/start_haas_vf2ss/PMPM_RAW_BIN_1m_20241118_232627.csv', 'F:/Data_BachelorHES/start_haas_vf2ss/PMPM_RAW_BIN_1m_20241118_232727.csv', 'F:/Data_BachelorHES/start_haas_vf2ss/PMPM_RAW_BIN_1m_20241118_232827.csv', 'F:/Data_BachelorHES/start_haas_vf2ss/PMPM_RAW_BIN_1m_20241118_232927.csv', 'F:/Data_BachelorHES/start_haas_vf2ss/PMPM_RAW_BIN_1m_20241118_233027.csv', 'F:/Data_BachelorHES/start_haas_vf2ss/PMPM_RAW_BIN_1m_20241118_233127.csv', 'F:/Data_BachelorHES/start_haas_vf2ss/PMPM_RAW_BIN_1m_20241118_233227.csv', 'F:/Data_BachelorHES/start_haas_vf2ss/PMPM_RAW_BIN_1m_20241118_233327.csv', 'F:/Data_BachelorHES/start_haas_vf2ss/PMPM_RAW_BIN_1m_20241118_233427.csv', 'F:/Data_BachelorHES/start_haas_vf2ss/PMPM_RAW_BIN_1m_20241118_233527.csv', 'F:/Data_BachelorHES/start_haas_vf2ss/PMPM_RAW_BIN_1m_20241118_233627.csv', 'F:/Data_BachelorHES/start_haas_vf2ss/PMPM_RAW_BIN_1m_20241118_233727.csv', 'F:/Data_BachelorHES/start_haas_vf2ss/PMPM_RAW_BIN_1m_20241118_233827.csv', 'F:/Data_BachelorHES/start_haas_vf2ss/PMPM_RAW_BIN_1m_20241118_233927.csv', 'F:/Data_BachelorHES/start_haas_vf2ss/PMPM_RAW_BIN_1m_20241118_234027.csv', 'F:/Data_BachelorHES/start_haas_vf2ss/PMPM_RAW_BIN_1m_20241118_234127.csv', 'F:/Data_BachelorHES/start_haas_vf2ss/PMPM_RAW_BIN_1m_20241118_234227.csv', 'F:/Data_BachelorHES/start_haas_vf2ss/PMPM_RAW_BIN_1m_20241118_234327.csv', 'F:/Data_BachelorHES/start_haas_vf2ss/PMPM_RAW_BIN_1m_20241118_234427.csv', 'F:/Data_BachelorHES/start_haas_vf2ss/PMPM_RAW_BIN_1m_20241118_234527.csv', 'F:/Data_BachelorHES/start_haas_vf2ss/PMPM_RAW_BIN_1m_20241118_234627.csv', 'F:/Data_BachelorHES/start_haas_vf2ss/PMPM_RAW_BIN_1m_20241118_234727.csv', 'F:/Data_BachelorHES/start_haas_vf2ss/PMPM_RAW_BIN_1m_20241118_234827.csv', 'F:/Data_BachelorHES/start_haas_vf2ss/PMPM_RAW_BIN_1m_20241118_234927.csv', 'F:/Data_BachelorHES/start_haas_vf2ss/PMPM_RAW_BIN_1m_20241118_235027.csv', 'F:/Data_BachelorHES/start_haas_vf2ss/PMPM_RAW_BIN_1m_20241118_235127.csv', 'F:/Data_BachelorHES/start_haas_vf2ss/PMPM_RAW_BIN_1m_20241118_235227.csv', 'F:/Data_BachelorHES/start_haas_vf2ss/PMPM_RAW_BIN_1m_20241118_235327.csv', 'F:/Data_BachelorHES/start_haas_vf2ss/PMPM_RAW_BIN_1m_20241118_235427.csv', 'F:/Data_BachelorHES/start_haas_vf2ss/PMPM_RAW_BIN_1m_20241118_235527.csv', 'F:/Data_BachelorHES/start_haas_vf2ss/PMPM_RAW_BIN_1m_20241118_235627.csv', 'F:/Data_BachelorHES/start_haas_vf2ss/PMPM_RAW_BIN_1m_20241118_235727.csv', 'F:/Data_BachelorHES/start_haas_vf2ss/PMPM_RAW_BIN_1m_20241118_235827.csv', 'F:/Data_BachelorHES/start_haas_vf2ss/PMPM_RAW_BIN_1m_20241118_235927.csv', 'F:/Data_BachelorHES/start_haas_vf2ss/PMPM_RAW_BIN_1m_20241119_000027.csv', 'F:/Data_BachelorHES/start_haas_vf2ss/PMPM_RAW_BIN_1m_20241119_000127.csv', 'F:/Data_BachelorHES/start_haas_vf2ss/PMPM_RAW_BIN_1m_20241119_000227.csv', 'F:/Data_BachelorHES/start_haas_vf2ss/PMPM_RAW_BIN_1m_20241119_000327.csv', 'F:/Data_BachelorHES/start_haas_vf2ss/PMPM_RAW_BIN_1m_20241119_000427.csv', 'F:/Data_BachelorHES/start_haas_vf2ss/PMPM_RAW_BIN_1m_20241119_000527.csv', 'F:/Data_BachelorHES/start_haas_vf2ss/PMPM_RAW_BIN_1m_20241119_000627.csv', 'F:/Data_BachelorHES/start_haas_vf2ss/PMPM_RAW_BIN_1m_20241119_000727.csv', 'F:/Data_BachelorHES/start_haas_vf2ss/PMPM_RAW_BIN_1m_20241119_000827.csv', 'F:/Data_BachelorHES/start_haas_vf2ss/PMPM_RAW_BIN_1m_20241119_000927.csv', 'F:/Data_BachelorHES/start_haas_vf2ss/PMPM_RAW_BIN_1m_20241119_001027.csv', 'F:/Data_BachelorHES/start_haas_vf2ss/PMPM_RAW_BIN_1m_20241119_001127.csv', 'F:/Data_BachelorHES/start_haas_vf2ss/PMPM_RAW_BIN_1m_20241119_001227.csv', 'F:/Data_BachelorHES/start_haas_vf2ss/PMPM_RAW_BIN_1m_20241119_001327.csv', 'F:/Data_BachelorHES/start_haas_vf2ss/PMPM_RAW_BIN_1m_20241119_001427.csv', 'F:/Data_BachelorHES/start_haas_vf2ss/PMPM_RAW_BIN_1m_20241119_001527.csv', 'F:/Data_BachelorHES/start_haas_vf2ss/PMPM_RAW_BIN_1m_20241119_001627.csv', 'F:/Data_BachelorHES/start_haas_vf2ss/PMPM_RAW_BIN_1m_20241119_001727.csv', 'F:/Data_BachelorHES/start_haas_vf2ss/PMPM_RAW_BIN_1m_20241119_001827.csv', 'F:/Data_BachelorHES/start_haas_vf2ss/PMPM_RAW_BIN_1m_20241119_001927.csv', 'F:/Data_BachelorHES/start_haas_vf2ss/PMPM_RAW_BIN_1m_20241119_002027.csv', 'F:/Data_BachelorHES/start_haas_vf2ss/PMPM_RAW_BIN_1m_20241119_002127.csv', 'F:/Data_BachelorHES/start_haas_vf2ss/PMPM_RAW_BIN_1m_20241119_002227.csv', 'F:/Data_BachelorHES/start_haas_vf2ss/PMPM_RAW_BIN_1m_20241119_002327.csv', 'F:/Data_BachelorHES/start_haas_vf2ss/PMPM_RAW_BIN_1m_20241119_002427.csv', 'F:/Data_BachelorHES/start_haas_vf2ss/PMPM_RAW_BIN_1m_20241119_002527.csv', 'F:/Data_BachelorHES/start_haas_vf2ss/PMPM_RAW_BIN_1m_20241119_002627.csv', 'F:/Data_BachelorHES/start_haas_vf2ss/PMPM_RAW_BIN_1m_20241119_002727.csv', 'F:/Data_BachelorHES/start_haas_vf2ss/PMPM_RAW_BIN_1m_20241119_002827.csv', 'F:/Data_BachelorHES/start_haas_vf2ss/PMPM_RAW_BIN_1m_20241119_002927.csv', 'F:/Data_BachelorHES/start_haas_vf2ss/PMPM_RAW_BIN_1m_20241119_003027.csv', 'F:/Data_BachelorHES/start_haas_vf2ss/PMPM_RAW_BIN_1m_20241119_003127.csv', 'F:/Data_BachelorHES/start_haas_vf2ss/PMPM_RAW_BIN_1m_20241119_003227.csv', 'F:/Data_BachelorHES/start_haas_vf2ss/PMPM_RAW_BIN_1m_20241119_003327.csv', 'F:/Data_BachelorHES/start_haas_vf2ss/PMPM_RAW_BIN_1m_20241119_003427.csv', 'F:/Data_BachelorHES/start_haas_vf2ss/PMPM_RAW_BIN_1m_20241119_003527.csv', 'F:/Data_BachelorHES/start_haas_vf2ss/PMPM_RAW_BIN_1m_20241119_003627.csv', 'F:/Data_BachelorHES/start_haas_vf2ss/PMPM_RAW_BIN_1m_20241119_003727.csv', 'F:/Data_BachelorHES/start_haas_vf2ss/PMPM_RAW_BIN_1m_20241119_003827.csv', 'F:/Data_BachelorHES/start_haas_vf2ss/PMPM_RAW_BIN_1m_20241119_003927.csv', 'F:/Data_BachelorHES/start_haas_vf2ss/PMPM_RAW_BIN_1m_20241119_004027.csv', 'F:/Data_BachelorHES/start_haas_vf2ss/PMPM_RAW_BIN_1m_20241119_004127.csv', 'F:/Data_BachelorHES/start_haas_vf2ss/PMPM_RAW_BIN_1m_20241119_004227.csv', 'F:/Data_BachelorHES/start_haas_vf2ss/PMPM_RAW_BIN_1m_20241119_004327.csv', 'F:/Data_BachelorHES/start_haas_vf2ss/PMPM_RAW_BIN_1m_20241119_004427.csv', 'F:/Data_BachelorHES/start_haas_vf2ss/PMPM_RAW_BIN_1m_20241119_004528.csv', 'F:/Data_BachelorHES/start_haas_vf2ss/PMPM_RAW_BIN_1m_20241119_004628.csv', 'F:/Data_BachelorHES/start_haas_vf2ss/PMPM_RAW_BIN_1m_20241119_004728.csv', 'F:/Data_BachelorHES/start_haas_vf2ss/PMPM_RAW_BIN_1m_20241119_004828.csv', 'F:/Data_BachelorHES/start_haas_vf2ss/PMPM_RAW_BIN_1m_20241119_004928.csv', 'F:/Data_BachelorHES/start_haas_vf2ss/PMPM_RAW_BIN_1m_20241119_005028.csv', 'F:/Data_BachelorHES/start_haas_vf2ss/PMPM_RAW_BIN_1m_20241119_005128.csv', 'F:/Data_BachelorHES/start_haas_vf2ss/PMPM_RAW_BIN_1m_20241119_005228.csv', 'F:/Data_BachelorHES/start_haas_vf2ss/PMPM_RAW_BIN_1m_20241119_005328.csv', 'F:/Data_BachelorHES/start_haas_vf2ss/PMPM_RAW_BIN_1m_20241119_005428.csv', 'F:/Data_BachelorHES/start_haas_vf2ss/PMPM_RAW_BIN_1m_20241119_005528.csv', 'F:/Data_BachelorHES/start_haas_vf2ss/PMPM_RAW_BIN_1m_20241119_005628.csv', 'F:/Data_BachelorHES/start_haas_vf2ss/PMPM_RAW_BIN_1m_20241119_005728.csv', 'F:/Data_BachelorHES/start_haas_vf2ss/PMPM_RAW_BIN_1m_20241119_005828.csv', 'F:/Data_BachelorHES/start_haas_vf2ss/PMPM_RAW_BIN_1m_20241119_005928.csv', 'F:/Data_BachelorHES/start_haas_vf2ss/PMPM_RAW_BIN_1m_20241119_010028.csv', 'F:/Data_BachelorHES/start_haas_vf2ss/PMPM_RAW_BIN_1m_20241119_010128.csv', 'F:/Data_BachelorHES/start_haas_vf2ss/PMPM_RAW_BIN_1m_20241119_010228.csv', 'F:/Data_BachelorHES/start_haas_vf2ss/PMPM_RAW_BIN_1m_20241119_010328.csv', 'F:/Data_BachelorHES/start_haas_vf2ss/PMPM_RAW_BIN_1m_20241119_010428.csv', 'F:/Data_BachelorHES/start_haas_vf2ss/PMPM_RAW_BIN_1m_20241119_010528.csv', 'F:/Data_BachelorHES/start_haas_vf2ss/PMPM_RAW_BIN_1m_20241119_010628.csv', 'F:/Data_BachelorHES/start_haas_vf2ss/PMPM_RAW_BIN_1m_20241119_010728.csv', 'F:/Data_BachelorHES/start_haas_vf2ss/PMPM_RAW_BIN_1m_20241119_010828.csv', 'F:/Data_BachelorHES/start_haas_vf2ss/PMPM_RAW_BIN_1m_20241119_010928.csv', 'F:/Data_BachelorHES/start_haas_vf2ss/PMPM_RAW_BIN_1m_20241119_011028.csv', 'F:/Data_BachelorHES/start_haas_vf2ss/PMPM_RAW_BIN_1m_20241119_011128.csv', 'F:/Data_BachelorHES/start_haas_vf2ss/PMPM_RAW_BIN_1m_20241119_011228.csv', 'F:/Data_BachelorHES/start_haas_vf2ss/PMPM_RAW_BIN_1m_20241119_011328.csv', 'F:/Data_BachelorHES/start_haas_vf2ss/PMPM_RAW_BIN_1m_20241119_011428.csv', 'F:/Data_BachelorHES/start_haas_vf2ss/PMPM_RAW_BIN_1m_20241119_011528.csv', 'F:/Data_BachelorHES/start_haas_vf2ss/PMPM_RAW_BIN_1m_20241119_011628.csv', 'F:/Data_BachelorHES/start_haas_vf2ss/PMPM_RAW_BIN_1m_20241119_011728.csv', 'F:/Data_BachelorHES/start_haas_vf2ss/PMPM_RAW_BIN_1m_20241119_011828.csv', 'F:/Data_BachelorHES/start_haas_vf2ss/PMPM_RAW_BIN_1m_20241119_011928.csv', 'F:/Data_BachelorHES/start_haas_vf2ss/PMPM_RAW_BIN_1m_20241119_012028.csv', 'F:/Data_BachelorHES/start_haas_vf2ss/PMPM_RAW_BIN_1m_20241119_012128.csv', 'F:/Data_BachelorHES/start_haas_vf2ss/PMPM_RAW_BIN_1m_20241119_012228.csv', 'F:/Data_BachelorHES/start_haas_vf2ss/PMPM_RAW_BIN_1m_20241119_012328.csv', 'F:/Data_BachelorHES/start_haas_vf2ss/PMPM_RAW_BIN_1m_20241119_012428.csv', 'F:/Data_BachelorHES/start_haas_vf2ss/PMPM_RAW_BIN_1m_20241119_012528.csv', 'F:/Data_BachelorHES/start_haas_vf2ss/PMPM_RAW_BIN_1m_20241119_012628.csv', 'F:/Data_BachelorHES/start_haas_vf2ss/PMPM_RAW_BIN_1m_20241119_012728.csv', 'F:/Data_BachelorHES/start_haas_vf2ss/PMPM_RAW_BIN_1m_20241119_012828.csv', 'F:/Data_BachelorHES/start_haas_vf2ss/PMPM_RAW_BIN_1m_20241119_012928.csv', 'F:/Data_BachelorHES/start_haas_vf2ss/PMPM_RAW_BIN_1m_20241119_013028.csv', 'F:/Data_BachelorHES/start_haas_vf2ss/PMPM_RAW_BIN_1m_20241119_013128.csv', 'F:/Data_BachelorHES/start_haas_vf2ss/PMPM_RAW_BIN_1m_20241119_013228.csv', 'F:/Data_BachelorHES/start_haas_vf2ss/PMPM_RAW_BIN_1m_20241119_013328.csv', 'F:/Data_BachelorHES/start_haas_vf2ss/PMPM_RAW_BIN_1m_20241119_013428.csv', 'F:/Data_BachelorHES/start_haas_vf2ss/PMPM_RAW_BIN_1m_20241119_013528.csv', 'F:/Data_BachelorHES/start_haas_vf2ss/PMPM_RAW_BIN_1m_20241119_013628.csv', 'F:/Data_BachelorHES/start_haas_vf2ss/PMPM_RAW_BIN_1m_20241119_013728.csv', 'F:/Data_BachelorHES/start_haas_vf2ss/PMPM_RAW_BIN_1m_20241119_013828.csv', 'F:/Data_BachelorHES/start_haas_vf2ss/PMPM_RAW_BIN_1m_20241119_013928.csv', 'F:/Data_BachelorHES/start_haas_vf2ss/PMPM_RAW_BIN_1m_20241119_014028.csv', 'F:/Data_BachelorHES/start_haas_vf2ss/PMPM_RAW_BIN_1m_20241119_014128.csv', 'F:/Data_BachelorHES/start_haas_vf2ss/PMPM_RAW_BIN_1m_20241119_014228.csv', 'F:/Data_BachelorHES/start_haas_vf2ss/PMPM_RAW_BIN_1m_20241119_014328.csv', 'F:/Data_BachelorHES/start_haas_vf2ss/PMPM_RAW_BIN_1m_20241119_014428.csv', 'F:/Data_BachelorHES/start_haas_vf2ss/PMPM_RAW_BIN_1m_20241119_014528.csv', 'F:/Data_BachelorHES/start_haas_vf2ss/PMPM_RAW_BIN_1m_20241119_014628.csv', 'F:/Data_BachelorHES/start_haas_vf2ss/PMPM_RAW_BIN_1m_20241119_014728.csv', 'F:/Data_BachelorHES/start_haas_vf2ss/PMPM_RAW_BIN_1m_20241119_014828.csv', 'F:/Data_BachelorHES/start_haas_vf2ss/PMPM_RAW_BIN_1m_20241119_014928.csv', 'F:/Data_BachelorHES/start_haas_vf2ss/PMPM_RAW_BIN_1m_20241119_015028.csv', 'F:/Data_BachelorHES/start_haas_vf2ss/PMPM_RAW_BIN_1m_20241119_015128.csv', 'F:/Data_BachelorHES/start_haas_vf2ss/PMPM_RAW_BIN_1m_20241119_015228.csv', 'F:/Data_BachelorHES/start_haas_vf2ss/PMPM_RAW_BIN_1m_20241119_015328.csv', 'F:/Data_BachelorHES/start_haas_vf2ss/PMPM_RAW_BIN_1m_20241119_015428.csv', 'F:/Data_BachelorHES/start_haas_vf2ss/PMPM_RAW_BIN_1m_20241119_015528.csv', 'F:/Data_BachelorHES/start_haas_vf2ss/PMPM_RAW_BIN_1m_20241119_015628.csv', 'F:/Data_BachelorHES/start_haas_vf2ss/PMPM_RAW_BIN_1m_20241119_015728.csv', 'F:/Data_BachelorHES/start_haas_vf2ss/PMPM_RAW_BIN_1m_20241119_015828.csv', 'F:/Data_BachelorHES/start_haas_vf2ss/PMPM_RAW_BIN_1m_20241119_015928.csv', 'F:/Data_BachelorHES/start_haas_vf2ss/PMPM_RAW_BIN_1m_20241119_020028.csv', 'F:/Data_BachelorHES/start_haas_vf2ss/PMPM_RAW_BIN_1m_20241119_020128.csv', 'F:/Data_BachelorHES/start_haas_vf2ss/PMPM_RAW_BIN_1m_20241119_020228.csv', 'F:/Data_BachelorHES/start_haas_vf2ss/PMPM_RAW_BIN_1m_20241119_020328.csv', 'F:/Data_BachelorHES/start_haas_vf2ss/PMPM_RAW_BIN_1m_20241119_020428.csv', 'F:/Data_BachelorHES/start_haas_vf2ss/PMPM_RAW_BIN_1m_20241119_020528.csv', 'F:/Data_BachelorHES/start_haas_vf2ss/PMPM_RAW_BIN_1m_20241119_020628.csv', 'F:/Data_BachelorHES/start_haas_vf2ss/PMPM_RAW_BIN_1m_20241119_020728.csv', 'F:/Data_BachelorHES/start_haas_vf2ss/PMPM_RAW_BIN_1m_20241119_020828.csv', 'F:/Data_BachelorHES/start_haas_vf2ss/PMPM_RAW_BIN_1m_20241119_020928.csv', 'F:/Data_BachelorHES/start_haas_vf2ss/PMPM_RAW_BIN_1m_20241119_021028.csv', 'F:/Data_BachelorHES/start_haas_vf2ss/PMPM_RAW_BIN_1m_20241119_021128.csv', 'F:/Data_BachelorHES/start_haas_vf2ss/PMPM_RAW_BIN_1m_20241119_021228.csv', 'F:/Data_BachelorHES/start_haas_vf2ss/PMPM_RAW_BIN_1m_20241119_021328.csv', 'F:/Data_BachelorHES/start_haas_vf2ss/PMPM_RAW_BIN_1m_20241119_021428.csv', 'F:/Data_BachelorHES/start_haas_vf2ss/PMPM_RAW_BIN_1m_20241119_021528.csv', 'F:/Data_BachelorHES/start_haas_vf2ss/PMPM_RAW_BIN_1m_20241119_021629.csv', 'F:/Data_BachelorHES/start_haas_vf2ss/PMPM_RAW_BIN_1m_20241119_021729.csv', 'F:/Data_BachelorHES/start_haas_vf2ss/PMPM_RAW_BIN_1m_20241119_021829.csv', 'F:/Data_BachelorHES/start_haas_vf2ss/PMPM_RAW_BIN_1m_20241119_021929.csv', 'F:/Data_BachelorHES/start_haas_vf2ss/PMPM_RAW_BIN_1m_20241119_022029.csv', 'F:/Data_BachelorHES/start_haas_vf2ss/PMPM_RAW_BIN_1m_20241119_022129.csv', 'F:/Data_BachelorHES/start_haas_vf2ss/PMPM_RAW_BIN_1m_20241119_022229.csv', 'F:/Data_BachelorHES/start_haas_vf2ss/PMPM_RAW_BIN_1m_20241119_022329.csv', 'F:/Data_BachelorHES/start_haas_vf2ss/PMPM_RAW_BIN_1m_20241119_022429.csv', 'F:/Data_BachelorHES/start_haas_vf2ss/PMPM_RAW_BIN_1m_20241119_022529.csv', 'F:/Data_BachelorHES/start_haas_vf2ss/PMPM_RAW_BIN_1m_20241119_022629.csv', 'F:/Data_BachelorHES/start_haas_vf2ss/PMPM_RAW_BIN_1m_20241119_022729.csv', 'F:/Data_BachelorHES/start_haas_vf2ss/PMPM_RAW_BIN_1m_20241119_022829.csv', 'F:/Data_BachelorHES/start_haas_vf2ss/PMPM_RAW_BIN_1m_20241119_022929.csv', 'F:/Data_BachelorHES/start_haas_vf2ss/PMPM_RAW_BIN_1m_20241119_023029.csv', 'F:/Data_BachelorHES/start_haas_vf2ss/PMPM_RAW_BIN_1m_20241119_023129.csv', 'F:/Data_BachelorHES/start_haas_vf2ss/PMPM_RAW_BIN_1m_20241119_023229.csv', 'F:/Data_BachelorHES/start_haas_vf2ss/PMPM_RAW_BIN_1m_20241119_023329.csv', 'F:/Data_BachelorHES/start_haas_vf2ss/PMPM_RAW_BIN_1m_20241119_023429.csv', 'F:/Data_BachelorHES/start_haas_vf2ss/PMPM_RAW_BIN_1m_20241119_023529.csv', 'F:/Data_BachelorHES/start_haas_vf2ss/PMPM_RAW_BIN_1m_20241119_023629.csv', 'F:/Data_BachelorHES/start_haas_vf2ss/PMPM_RAW_BIN_1m_20241119_023729.csv', 'F:/Data_BachelorHES/start_haas_vf2ss/PMPM_RAW_BIN_1m_20241119_023829.csv', 'F:/Data_BachelorHES/start_haas_vf2ss/PMPM_RAW_BIN_1m_20241119_023929.csv', 'F:/Data_BachelorHES/start_haas_vf2ss/PMPM_RAW_BIN_1m_20241119_024029.csv', 'F:/Data_BachelorHES/start_haas_vf2ss/PMPM_RAW_BIN_1m_20241119_024129.csv', 'F:/Data_BachelorHES/start_haas_vf2ss/PMPM_RAW_BIN_1m_20241119_024229.csv', 'F:/Data_BachelorHES/start_haas_vf2ss/PMPM_RAW_BIN_1m_20241119_024329.csv', 'F:/Data_BachelorHES/start_haas_vf2ss/PMPM_RAW_BIN_1m_20241119_024429.csv', 'F:/Data_BachelorHES/start_haas_vf2ss/PMPM_RAW_BIN_1m_20241119_024529.csv', 'F:/Data_BachelorHES/start_haas_vf2ss/PMPM_RAW_BIN_1m_20241119_024629.csv', 'F:/Data_BachelorHES/start_haas_vf2ss/PMPM_RAW_BIN_1m_20241119_024729.csv', 'F:/Data_BachelorHES/start_haas_vf2ss/PMPM_RAW_BIN_1m_20241119_024829.csv', 'F:/Data_BachelorHES/start_haas_vf2ss/PMPM_RAW_BIN_1m_20241119_024929.csv', 'F:/Data_BachelorHES/start_haas_vf2ss/PMPM_RAW_BIN_1m_20241119_025029.csv', 'F:/Data_BachelorHES/start_haas_vf2ss/PMPM_RAW_BIN_1m_20241119_025129.csv', 'F:/Data_BachelorHES/start_haas_vf2ss/PMPM_RAW_BIN_1m_20241119_025229.csv', 'F:/Data_BachelorHES/start_haas_vf2ss/PMPM_RAW_BIN_1m_20241119_025329.csv', 'F:/Data_BachelorHES/start_haas_vf2ss/PMPM_RAW_BIN_1m_20241119_025429.csv', 'F:/Data_BachelorHES/start_haas_vf2ss/PMPM_RAW_BIN_1m_20241119_025529.csv', 'F:/Data_BachelorHES/start_haas_vf2ss/PMPM_RAW_BIN_1m_20241119_025629.csv', 'F:/Data_BachelorHES/start_haas_vf2ss/PMPM_RAW_BIN_1m_20241119_025729.csv', 'F:/Data_BachelorHES/start_haas_vf2ss/PMPM_RAW_BIN_1m_20241119_025829.csv', 'F:/Data_BachelorHES/start_haas_vf2ss/PMPM_RAW_BIN_1m_20241119_025929.csv', 'F:/Data_BachelorHES/start_haas_vf2ss/PMPM_RAW_BIN_1m_20241119_030029.csv', 'F:/Data_BachelorHES/start_haas_vf2ss/PMPM_RAW_BIN_1m_20241119_030129.csv', 'F:/Data_BachelorHES/start_haas_vf2ss/PMPM_RAW_BIN_1m_20241119_030229.csv', 'F:/Data_BachelorHES/start_haas_vf2ss/PMPM_RAW_BIN_1m_20241119_030329.csv', 'F:/Data_BachelorHES/start_haas_vf2ss/PMPM_RAW_BIN_1m_20241119_030429.csv', 'F:/Data_BachelorHES/start_haas_vf2ss/PMPM_RAW_BIN_1m_20241119_030529.csv', 'F:/Data_BachelorHES/start_haas_vf2ss/PMPM_RAW_BIN_1m_20241119_030629.csv', 'F:/Data_BachelorHES/start_haas_vf2ss/PMPM_RAW_BIN_1m_20241119_030729.csv', 'F:/Data_BachelorHES/start_haas_vf2ss/PMPM_RAW_BIN_1m_20241119_030829.csv', 'F:/Data_BachelorHES/start_haas_vf2ss/PMPM_RAW_BIN_1m_20241119_030929.csv', 'F:/Data_BachelorHES/start_haas_vf2ss/PMPM_RAW_BIN_1m_20241119_031029.csv', 'F:/Data_BachelorHES/start_haas_vf2ss/PMPM_RAW_BIN_1m_20241119_031129.csv', 'F:/Data_BachelorHES/start_haas_vf2ss/PMPM_RAW_BIN_1m_20241119_031229.csv', 'F:/Data_BachelorHES/start_haas_vf2ss/PMPM_RAW_BIN_1m_20241119_031329.csv', 'F:/Data_BachelorHES/start_haas_vf2ss/PMPM_RAW_BIN_1m_20241119_031429.csv', 'F:/Data_BachelorHES/start_haas_vf2ss/PMPM_RAW_BIN_1m_20241119_031529.csv', 'F:/Data_BachelorHES/start_haas_vf2ss/PMPM_RAW_BIN_1m_20241119_031629.csv', 'F:/Data_BachelorHES/start_haas_vf2ss/PMPM_RAW_BIN_1m_20241119_031729.csv', 'F:/Data_BachelorHES/start_haas_vf2ss/PMPM_RAW_BIN_1m_20241119_031829.csv', 'F:/Data_BachelorHES/start_haas_vf2ss/PMPM_RAW_BIN_1m_20241119_031929.csv', 'F:/Data_BachelorHES/start_haas_vf2ss/PMPM_RAW_BIN_1m_20241119_032029.csv', 'F:/Data_BachelorHES/start_haas_vf2ss/PMPM_RAW_BIN_1m_20241119_032129.csv', 'F:/Data_BachelorHES/start_haas_vf2ss/PMPM_RAW_BIN_1m_20241119_032229.csv', 'F:/Data_BachelorHES/start_haas_vf2ss/PMPM_RAW_BIN_1m_20241119_032329.csv', 'F:/Data_BachelorHES/start_haas_vf2ss/PMPM_RAW_BIN_1m_20241119_032429.csv', 'F:/Data_BachelorHES/start_haas_vf2ss/PMPM_RAW_BIN_1m_20241119_032529.csv', 'F:/Data_BachelorHES/start_haas_vf2ss/PMPM_RAW_BIN_1m_20241119_032629.csv', 'F:/Data_BachelorHES/start_haas_vf2ss/PMPM_RAW_BIN_1m_20241119_032729.csv', 'F:/Data_BachelorHES/start_haas_vf2ss/PMPM_RAW_BIN_1m_20241119_032829.csv', 'F:/Data_BachelorHES/start_haas_vf2ss/PMPM_RAW_BIN_1m_20241119_032929.csv', 'F:/Data_BachelorHES/start_haas_vf2ss/PMPM_RAW_BIN_1m_20241119_033029.csv', 'F:/Data_BachelorHES/start_haas_vf2ss/PMPM_RAW_BIN_1m_20241119_033129.csv', 'F:/Data_BachelorHES/start_haas_vf2ss/PMPM_RAW_BIN_1m_20241119_033229.csv', 'F:/Data_BachelorHES/start_haas_vf2ss/PMPM_RAW_BIN_1m_20241119_033329.csv', 'F:/Data_BachelorHES/start_haas_vf2ss/PMPM_RAW_BIN_1m_20241119_033429.csv', 'F:/Data_BachelorHES/start_haas_vf2ss/PMPM_RAW_BIN_1m_20241119_033529.csv', 'F:/Data_BachelorHES/start_haas_vf2ss/PMPM_RAW_BIN_1m_20241119_033629.csv', 'F:/Data_BachelorHES/start_haas_vf2ss/PMPM_RAW_BIN_1m_20241119_033729.csv', 'F:/Data_BachelorHES/start_haas_vf2ss/PMPM_RAW_BIN_1m_20241119_033829.csv', 'F:/Data_BachelorHES/start_haas_vf2ss/PMPM_RAW_BIN_1m_20241119_033929.csv', 'F:/Data_BachelorHES/start_haas_vf2ss/PMPM_RAW_BIN_1m_20241119_034029.csv', 'F:/Data_BachelorHES/start_haas_vf2ss/PMPM_RAW_BIN_1m_20241119_034129.csv', 'F:/Data_BachelorHES/start_haas_vf2ss/PMPM_RAW_BIN_1m_20241119_034229.csv', 'F:/Data_BachelorHES/start_haas_vf2ss/PMPM_RAW_BIN_1m_20241119_034329.csv', 'F:/Data_BachelorHES/start_haas_vf2ss/PMPM_RAW_BIN_1m_20241119_034429.csv', 'F:/Data_BachelorHES/start_haas_vf2ss/PMPM_RAW_BIN_1m_20241119_034529.csv', 'F:/Data_BachelorHES/start_haas_vf2ss/PMPM_RAW_BIN_1m_20241119_034630.csv', 'F:/Data_BachelorHES/start_haas_vf2ss/PMPM_RAW_BIN_1m_20241119_034730.csv', 'F:/Data_BachelorHES/start_haas_vf2ss/PMPM_RAW_BIN_1m_20241119_034830.csv', 'F:/Data_BachelorHES/start_haas_vf2ss/PMPM_RAW_BIN_1m_20241119_034930.csv', 'F:/Data_BachelorHES/start_haas_vf2ss/PMPM_RAW_BIN_1m_20241119_035030.csv', 'F:/Data_BachelorHES/start_haas_vf2ss/PMPM_RAW_BIN_1m_20241119_035130.csv', 'F:/Data_BachelorHES/start_haas_vf2ss/PMPM_RAW_BIN_1m_20241119_035230.csv', 'F:/Data_BachelorHES/start_haas_vf2ss/PMPM_RAW_BIN_1m_20241119_035330.csv', 'F:/Data_BachelorHES/start_haas_vf2ss/PMPM_RAW_BIN_1m_20241119_035430.csv', 'F:/Data_BachelorHES/start_haas_vf2ss/PMPM_RAW_BIN_1m_20241119_035530.csv', 'F:/Data_BachelorHES/start_haas_vf2ss/PMPM_RAW_BIN_1m_20241119_035630.csv', 'F:/Data_BachelorHES/start_haas_vf2ss/PMPM_RAW_BIN_1m_20241119_035730.csv', 'F:/Data_BachelorHES/start_haas_vf2ss/PMPM_RAW_BIN_1m_20241119_035830.csv', 'F:/Data_BachelorHES/start_haas_vf2ss/PMPM_RAW_BIN_1m_20241119_035930.csv', 'F:/Data_BachelorHES/start_haas_vf2ss/PMPM_RAW_BIN_1m_20241119_040030.csv', 'F:/Data_BachelorHES/start_haas_vf2ss/PMPM_RAW_BIN_1m_20241119_040130.csv', 'F:/Data_BachelorHES/start_haas_vf2ss/PMPM_RAW_BIN_1m_20241119_040230.csv', 'F:/Data_BachelorHES/start_haas_vf2ss/PMPM_RAW_BIN_1m_20241119_040330.csv', 'F:/Data_BachelorHES/start_haas_vf2ss/PMPM_RAW_BIN_1m_20241119_040430.csv', 'F:/Data_BachelorHES/start_haas_vf2ss/PMPM_RAW_BIN_1m_20241119_040530.csv', 'F:/Data_BachelorHES/start_haas_vf2ss/PMPM_RAW_BIN_1m_20241119_040630.csv', 'F:/Data_BachelorHES/start_haas_vf2ss/PMPM_RAW_BIN_1m_20241119_040730.csv', 'F:/Data_BachelorHES/start_haas_vf2ss/PMPM_RAW_BIN_1m_20241119_040830.csv', 'F:/Data_BachelorHES/start_haas_vf2ss/PMPM_RAW_BIN_1m_20241119_040930.csv', 'F:/Data_BachelorHES/start_haas_vf2ss/PMPM_RAW_BIN_1m_20241119_041030.csv', 'F:/Data_BachelorHES/start_haas_vf2ss/PMPM_RAW_BIN_1m_20241119_041130.csv', 'F:/Data_BachelorHES/start_haas_vf2ss/PMPM_RAW_BIN_1m_20241119_041230.csv', 'F:/Data_BachelorHES/start_haas_vf2ss/PMPM_RAW_BIN_1m_20241119_041330.csv', 'F:/Data_BachelorHES/start_haas_vf2ss/PMPM_RAW_BIN_1m_20241119_041430.csv', 'F:/Data_BachelorHES/start_haas_vf2ss/PMPM_RAW_BIN_1m_20241119_041530.csv', 'F:/Data_BachelorHES/start_haas_vf2ss/PMPM_RAW_BIN_1m_20241119_041630.csv', 'F:/Data_BachelorHES/start_haas_vf2ss/PMPM_RAW_BIN_1m_20241119_041730.csv', 'F:/Data_BachelorHES/start_haas_vf2ss/PMPM_RAW_BIN_1m_20241119_041830.csv', 'F:/Data_BachelorHES/start_haas_vf2ss/PMPM_RAW_BIN_1m_20241119_041930.csv', 'F:/Data_BachelorHES/start_haas_vf2ss/PMPM_RAW_BIN_1m_20241119_042030.csv', 'F:/Data_BachelorHES/start_haas_vf2ss/PMPM_RAW_BIN_1m_20241119_042130.csv', 'F:/Data_BachelorHES/start_haas_vf2ss/PMPM_RAW_BIN_1m_20241119_042230.csv', 'F:/Data_BachelorHES/start_haas_vf2ss/PMPM_RAW_BIN_1m_20241119_042330.csv', 'F:/Data_BachelorHES/start_haas_vf2ss/PMPM_RAW_BIN_1m_20241119_042430.csv', 'F:/Data_BachelorHES/start_haas_vf2ss/PMPM_RAW_BIN_1m_20241119_042530.csv', 'F:/Data_BachelorHES/start_haas_vf2ss/PMPM_RAW_BIN_1m_20241119_042630.csv', 'F:/Data_BachelorHES/start_haas_vf2ss/PMPM_RAW_BIN_1m_20241119_042730.csv', 'F:/Data_BachelorHES/start_haas_vf2ss/PMPM_RAW_BIN_1m_20241119_042830.csv', 'F:/Data_BachelorHES/start_haas_vf2ss/PMPM_RAW_BIN_1m_20241119_042930.csv', 'F:/Data_BachelorHES/start_haas_vf2ss/PMPM_RAW_BIN_1m_20241119_043030.csv', 'F:/Data_BachelorHES/start_haas_vf2ss/PMPM_RAW_BIN_1m_20241119_043130.csv', 'F:/Data_BachelorHES/start_haas_vf2ss/PMPM_RAW_BIN_1m_20241119_043230.csv', 'F:/Data_BachelorHES/start_haas_vf2ss/PMPM_RAW_BIN_1m_20241119_043330.csv', 'F:/Data_BachelorHES/start_haas_vf2ss/PMPM_RAW_BIN_1m_20241119_043430.csv', 'F:/Data_BachelorHES/start_haas_vf2ss/PMPM_RAW_BIN_1m_20241119_043530.csv', 'F:/Data_BachelorHES/start_haas_vf2ss/PMPM_RAW_BIN_1m_20241119_043630.csv', 'F:/Data_BachelorHES/start_haas_vf2ss/PMPM_RAW_BIN_1m_20241119_043730.csv', 'F:/Data_BachelorHES/start_haas_vf2ss/PMPM_RAW_BIN_1m_20241119_043830.csv', 'F:/Data_BachelorHES/start_haas_vf2ss/PMPM_RAW_BIN_1m_20241119_043930.csv', 'F:/Data_BachelorHES/start_haas_vf2ss/PMPM_RAW_BIN_1m_20241119_044030.csv', 'F:/Data_BachelorHES/start_haas_vf2ss/PMPM_RAW_BIN_1m_20241119_044130.csv', 'F:/Data_BachelorHES/start_haas_vf2ss/PMPM_RAW_BIN_1m_20241119_044230.csv', 'F:/Data_BachelorHES/start_haas_vf2ss/PMPM_RAW_BIN_1m_20241119_044330.csv', 'F:/Data_BachelorHES/start_haas_vf2ss/PMPM_RAW_BIN_1m_20241119_044430.csv', 'F:/Data_BachelorHES/start_haas_vf2ss/PMPM_RAW_BIN_1m_20241119_044530.csv', 'F:/Data_BachelorHES/start_haas_vf2ss/PMPM_RAW_BIN_1m_20241119_044630.csv', 'F:/Data_BachelorHES/start_haas_vf2ss/PMPM_RAW_BIN_1m_20241119_044730.csv', 'F:/Data_BachelorHES/start_haas_vf2ss/PMPM_RAW_BIN_1m_20241119_044830.csv', 'F:/Data_BachelorHES/start_haas_vf2ss/PMPM_RAW_BIN_1m_20241119_044930.csv', 'F:/Data_BachelorHES/start_haas_vf2ss/PMPM_RAW_BIN_1m_20241119_045030.csv', 'F:/Data_BachelorHES/start_haas_vf2ss/PMPM_RAW_BIN_1m_20241119_045130.csv', 'F:/Data_BachelorHES/start_haas_vf2ss/PMPM_RAW_BIN_1m_20241119_045230.csv', 'F:/Data_BachelorHES/start_haas_vf2ss/PMPM_RAW_BIN_1m_20241119_045330.csv', 'F:/Data_BachelorHES/start_haas_vf2ss/PMPM_RAW_BIN_1m_20241119_045430.csv', 'F:/Data_BachelorHES/start_haas_vf2ss/PMPM_RAW_BIN_1m_20241119_045530.csv', 'F:/Data_BachelorHES/start_haas_vf2ss/PMPM_RAW_BIN_1m_20241119_045630.csv', 'F:/Data_BachelorHES/start_haas_vf2ss/PMPM_RAW_BIN_1m_20241119_045730.csv', 'F:/Data_BachelorHES/start_haas_vf2ss/PMPM_RAW_BIN_1m_20241119_045830.csv', 'F:/Data_BachelorHES/start_haas_vf2ss/PMPM_RAW_BIN_1m_20241119_045930.csv', 'F:/Data_BachelorHES/start_haas_vf2ss/PMPM_RAW_BIN_1m_20241119_050030.csv', 'F:/Data_BachelorHES/start_haas_vf2ss/PMPM_RAW_BIN_1m_20241119_050130.csv', 'F:/Data_BachelorHES/start_haas_vf2ss/PMPM_RAW_BIN_1m_20241119_050230.csv', 'F:/Data_BachelorHES/start_haas_vf2ss/PMPM_RAW_BIN_1m_20241119_050330.csv', 'F:/Data_BachelorHES/start_haas_vf2ss/PMPM_RAW_BIN_1m_20241119_050430.csv', 'F:/Data_BachelorHES/start_haas_vf2ss/PMPM_RAW_BIN_1m_20241119_050530.csv', 'F:/Data_BachelorHES/start_haas_vf2ss/PMPM_RAW_BIN_1m_20241119_050630.csv', 'F:/Data_BachelorHES/start_haas_vf2ss/PMPM_RAW_BIN_1m_20241119_050730.csv', 'F:/Data_BachelorHES/start_haas_vf2ss/PMPM_RAW_BIN_1m_20241119_050830.csv', 'F:/Data_BachelorHES/start_haas_vf2ss/PMPM_RAW_BIN_1m_20241119_050930.csv', 'F:/Data_BachelorHES/start_haas_vf2ss/PMPM_RAW_BIN_1m_20241119_051030.csv', 'F:/Data_BachelorHES/start_haas_vf2ss/PMPM_RAW_BIN_1m_20241119_051130.csv', 'F:/Data_BachelorHES/start_haas_vf2ss/PMPM_RAW_BIN_1m_20241119_051230.csv', 'F:/Data_BachelorHES/start_haas_vf2ss/PMPM_RAW_BIN_1m_20241119_051330.csv', 'F:/Data_BachelorHES/start_haas_vf2ss/PMPM_RAW_BIN_1m_20241119_051430.csv', 'F:/Data_BachelorHES/start_haas_vf2ss/PMPM_RAW_BIN_1m_20241119_051530.csv', 'F:/Data_BachelorHES/start_haas_vf2ss/PMPM_RAW_BIN_1m_20241119_051631.csv', 'F:/Data_BachelorHES/start_haas_vf2ss/PMPM_RAW_BIN_1m_20241119_051731.csv', 'F:/Data_BachelorHES/start_haas_vf2ss/PMPM_RAW_BIN_1m_20241119_051831.csv', 'F:/Data_BachelorHES/start_haas_vf2ss/PMPM_RAW_BIN_1m_20241119_051931.csv', 'F:/Data_BachelorHES/start_haas_vf2ss/PMPM_RAW_BIN_1m_20241119_052031.csv', 'F:/Data_BachelorHES/start_haas_vf2ss/PMPM_RAW_BIN_1m_20241119_052131.csv', 'F:/Data_BachelorHES/start_haas_vf2ss/PMPM_RAW_BIN_1m_20241119_052231.csv', 'F:/Data_BachelorHES/start_haas_vf2ss/PMPM_RAW_BIN_1m_20241119_052331.csv', 'F:/Data_BachelorHES/start_haas_vf2ss/PMPM_RAW_BIN_1m_20241119_052431.csv', 'F:/Data_BachelorHES/start_haas_vf2ss/PMPM_RAW_BIN_1m_20241119_052531.csv', 'F:/Data_BachelorHES/start_haas_vf2ss/PMPM_RAW_BIN_1m_20241119_052631.csv', 'F:/Data_BachelorHES/start_haas_vf2ss/PMPM_RAW_BIN_1m_20241119_052731.csv', 'F:/Data_BachelorHES/start_haas_vf2ss/PMPM_RAW_BIN_1m_20241119_052831.csv', 'F:/Data_BachelorHES/start_haas_vf2ss/PMPM_RAW_BIN_1m_20241119_052931.csv', 'F:/Data_BachelorHES/start_haas_vf2ss/PMPM_RAW_BIN_1m_20241119_053031.csv', 'F:/Data_BachelorHES/start_haas_vf2ss/PMPM_RAW_BIN_1m_20241119_053131.csv', 'F:/Data_BachelorHES/start_haas_vf2ss/PMPM_RAW_BIN_1m_20241119_053231.csv', 'F:/Data_BachelorHES/start_haas_vf2ss/PMPM_RAW_BIN_1m_20241119_053331.csv', 'F:/Data_BachelorHES/start_haas_vf2ss/PMPM_RAW_BIN_1m_20241119_053431.csv', 'F:/Data_BachelorHES/start_haas_vf2ss/PMPM_RAW_BIN_1m_20241119_053531.csv', 'F:/Data_BachelorHES/start_haas_vf2ss/PMPM_RAW_BIN_1m_20241119_053631.csv', 'F:/Data_BachelorHES/start_haas_vf2ss/PMPM_RAW_BIN_1m_20241119_053731.csv', 'F:/Data_BachelorHES/start_haas_vf2ss/PMPM_RAW_BIN_1m_20241119_053831.csv', 'F:/Data_BachelorHES/start_haas_vf2ss/PMPM_RAW_BIN_1m_20241119_053929.csv', 'F:/Data_BachelorHES/start_haas_vf2ss/PMPM_RAW_BIN_1m_20241119_054029.csv', 'F:/Data_BachelorHES/start_haas_vf2ss/PMPM_RAW_BIN_1m_20241119_054129.csv', 'F:/Data_BachelorHES/start_haas_vf2ss/PMPM_RAW_BIN_1m_20241119_054229.csv', 'F:/Data_BachelorHES/start_haas_vf2ss/PMPM_RAW_BIN_1m_20241119_054329.csv', 'F:/Data_BachelorHES/start_haas_vf2ss/PMPM_RAW_BIN_1m_20241119_054429.csv', 'F:/Data_BachelorHES/start_haas_vf2ss/PMPM_RAW_BIN_1m_20241119_054529.csv', 'F:/Data_BachelorHES/start_haas_vf2ss/PMPM_RAW_BIN_1m_20241119_054629.csv', 'F:/Data_BachelorHES/start_haas_vf2ss/PMPM_RAW_BIN_1m_20241119_054729.csv', 'F:/Data_BachelorHES/start_haas_vf2ss/PMPM_RAW_BIN_1m_20241119_054829.csv', 'F:/Data_BachelorHES/start_haas_vf2ss/PMPM_RAW_BIN_1m_20241119_054929.csv', 'F:/Data_BachelorHES/start_haas_vf2ss/PMPM_RAW_BIN_1m_20241119_055029.csv', 'F:/Data_BachelorHES/start_haas_vf2ss/PMPM_RAW_BIN_1m_20241119_055129.csv', 'F:/Data_BachelorHES/start_haas_vf2ss/PMPM_RAW_BIN_1m_20241119_055229.csv', 'F:/Data_BachelorHES/start_haas_vf2ss/PMPM_RAW_BIN_1m_20241119_055329.csv', 'F:/Data_BachelorHES/start_haas_vf2ss/PMPM_RAW_BIN_1m_20241119_055429.csv', 'F:/Data_BachelorHES/start_haas_vf2ss/PMPM_RAW_BIN_1m_20241119_055529.csv', 'F:/Data_BachelorHES/start_haas_vf2ss/PMPM_RAW_BIN_1m_20241119_055629.csv', 'F:/Data_BachelorHES/start_haas_vf2ss/PMPM_RAW_BIN_1m_20241119_055729.csv', 'F:/Data_BachelorHES/start_haas_vf2ss/PMPM_RAW_BIN_1m_20241119_055829.csv', 'F:/Data_BachelorHES/start_haas_vf2ss/PMPM_RAW_BIN_1m_20241119_072713.csv', 'F:/Data_BachelorHES/start_haas_vf2ss/PMPM_RAW_BIN_1m_20241119_072813.csv', 'F:/Data_BachelorHES/start_haas_vf2ss/PMPM_RAW_BIN_1m_20241119_072913.csv', 'F:/Data_BachelorHES/start_haas_vf2ss/PMPM_RAW_BIN_1m_20241119_073013.csv', 'F:/Data_BachelorHES/start_haas_vf2ss/PMPM_RAW_BIN_1m_20241119_073113.csv', 'F:/Data_BachelorHES/start_haas_vf2ss/PMPM_RAW_BIN_1m_20241119_073213.csv', 'F:/Data_BachelorHES/start_haas_vf2ss/PMPM_RAW_BIN_1m_20241119_073313.csv', 'F:/Data_BachelorHES/start_haas_vf2ss/PMPM_RAW_BIN_1m_20241119_073413.csv', 'F:/Data_BachelorHES/start_haas_vf2ss/PMPM_RAW_BIN_1m_20241119_073513.csv', 'F:/Data_BachelorHES/start_haas_vf2ss/PMPM_RAW_BIN_1m_20241119_073613.csv', 'F:/Data_BachelorHES/start_haas_vf2ss/PMPM_RAW_BIN_1m_20241119_073713.csv', 'F:/Data_BachelorHES/start_haas_vf2ss/PMPM_RAW_BIN_1m_20241119_073813.csv', 'F:/Data_BachelorHES/start_haas_vf2ss/PMPM_RAW_BIN_1m_20241119_073913.csv', 'F:/Data_BachelorHES/start_haas_vf2ss/PMPM_RAW_BIN_1m_20241119_074013.csv', 'F:/Data_BachelorHES/start_haas_vf2ss/PMPM_RAW_BIN_1m_20241119_074113.csv', 'F:/Data_BachelorHES/start_haas_vf2ss/PMPM_RAW_BIN_1m_20241119_074213.csv', 'F:/Data_BachelorHES/start_haas_vf2ss/PMPM_RAW_BIN_1m_20241119_074313.csv', 'F:/Data_BachelorHES/start_haas_vf2ss/PMPM_RAW_BIN_1m_20241119_074413.csv', 'F:/Data_BachelorHES/start_haas_vf2ss/PMPM_RAW_BIN_1m_20241119_074513.csv', 'F:/Data_BachelorHES/start_haas_vf2ss/PMPM_RAW_BIN_1m_20241119_074613.csv', 'F:/Data_BachelorHES/start_haas_vf2ss/PMPM_RAW_BIN_1m_20241119_074714.csv', 'F:/Data_BachelorHES/start_haas_vf2ss/PMPM_RAW_BIN_1m_20241119_074814.csv', 'F:/Data_BachelorHES/start_haas_vf2ss/PMPM_RAW_BIN_1m_20241119_074914.csv', 'F:/Data_BachelorHES/start_haas_vf2ss/PMPM_RAW_BIN_1m_20241119_075014.csv', 'F:/Data_BachelorHES/start_haas_vf2ss/PMPM_RAW_BIN_1m_20241119_075114.csv', 'F:/Data_BachelorHES/start_haas_vf2ss/PMPM_RAW_BIN_1m_20241119_075214.csv', 'F:/Data_BachelorHES/start_haas_vf2ss/PMPM_RAW_BIN_1m_20241119_075314.csv', 'F:/Data_BachelorHES/start_haas_vf2ss/PMPM_RAW_BIN_1m_20241119_075414.csv', 'F:/Data_BachelorHES/start_haas_vf2ss/PMPM_RAW_BIN_1m_20241119_075514.csv']\n"
     ]
    }
   ],
   "source": [
    "import datetime\n",
    "from os import listdir\n",
    "from os.path import isfile, join\n",
    "mypath='F:/Data_BachelorHES/start_haas_vf2ss/'\n",
    "onlyfiles = [join(mypath,f) for f in listdir(mypath) if isfile(join(mypath, f))]\n",
    "print(onlyfiles)"
   ]
  },
  {
   "cell_type": "code",
   "execution_count": 3,
   "outputs": [
    {
     "name": "stdout",
     "output_type": "stream",
     "text": [
      "F:/Data_BachelorHES/start_haas_vf2ss/PMPM_RAW_BIN_1m_20241116_114333.csv\n"
     ]
    }
   ],
   "source": [
    "filename_Training=onlyfiles[:165]\n",
    "print(filename_Training[-1])"
   ],
   "metadata": {
    "collapsed": false,
    "ExecuteTime": {
     "end_time": "2024-11-25T10:12:01.308720400Z",
     "start_time": "2024-11-25T10:12:01.238018200Z"
    }
   },
   "id": "aedbcfec382fa443"
  },
  {
   "cell_type": "code",
   "execution_count": 4,
   "outputs": [
    {
     "name": "stdout",
     "output_type": "stream",
     "text": [
      "Reading file: F:/Data_BachelorHES/start_haas_vf2ss/PMPM_RAW_BIN_1m_20241116_085931.csv\n"
     ]
    },
    {
     "ename": "KeyboardInterrupt",
     "evalue": "",
     "output_type": "error",
     "traceback": [
      "\u001B[1;31m---------------------------------------------------------------------------\u001B[0m",
      "\u001B[1;31mKeyboardInterrupt\u001B[0m                         Traceback (most recent call last)",
      "Cell \u001B[1;32mIn[4], line 17\u001B[0m\n\u001B[0;32m     13\u001B[0m     byte_stream \u001B[38;5;241m=\u001B[39m f\u001B[38;5;241m.\u001B[39mread()  \u001B[38;5;66;03m# Lire tout le fichier comme un flux de bytes\u001B[39;00m\n\u001B[0;32m     14\u001B[0m num_values \u001B[38;5;241m=\u001B[39m \u001B[38;5;28mlen\u001B[39m(byte_stream) \u001B[38;5;241m/\u001B[39m\u001B[38;5;241m/\u001B[39m \u001B[38;5;241m2\u001B[39m  \u001B[38;5;66;03m# Calcul du nombre d'entiers\u001B[39;00m\n\u001B[1;32m---> 17\u001B[0m \u001B[38;5;28;01mfor\u001B[39;00m i \u001B[38;5;129;01min\u001B[39;00m \u001B[38;5;28mrange\u001B[39m(num_values):\n\u001B[0;32m     18\u001B[0m     two_bytes \u001B[38;5;241m=\u001B[39m byte_stream[i\u001B[38;5;241m*\u001B[39m\u001B[38;5;241m2\u001B[39m:(i\u001B[38;5;241m*\u001B[39m\u001B[38;5;241m2\u001B[39m)\u001B[38;5;241m+\u001B[39m\u001B[38;5;241m2\u001B[39m]\n\u001B[0;32m     19\u001B[0m     value \u001B[38;5;241m=\u001B[39m struct\u001B[38;5;241m.\u001B[39munpack(\u001B[38;5;124m'\u001B[39m\u001B[38;5;124m<h\u001B[39m\u001B[38;5;124m'\u001B[39m, two_bytes)[\u001B[38;5;241m0\u001B[39m]  \u001B[38;5;66;03m# '<h' pour 2 bytes en short int\u001B[39;00m\n",
      "\u001B[1;31mKeyboardInterrupt\u001B[0m: "
     ]
    }
   ],
   "source": [
    "import struct\n",
    "import numpy as np\n",
    "import csv\n",
    "import pandas as pd\n",
    "ind=0\n",
    "\n",
    "for file in filename_Training:\n",
    "    values = []\n",
    "    print('Reading file:',file)\n",
    "    \n",
    "    # Lire le fichier .csv qui contient le flux de bytes\n",
    "    with open(file, 'rb') as f:\n",
    "        byte_stream = f.read()  # Lire tout le fichier comme un flux de bytes\n",
    "    num_values = len(byte_stream) // 2  # Calcul du nombre d'entiers\n",
    "\n",
    "\n",
    "    for i in range(num_values):\n",
    "        two_bytes = byte_stream[i*2:(i*2)+2]\n",
    "        value = struct.unpack('<h', two_bytes)[0]  # '<h' pour 2 bytes en short int\n",
    "        values.append(value)\n",
    "        \n",
    "    npValues=np.array(values, dtype=np.int16)\n",
    "    if ind==0:\n",
    "        sound_size=50\n",
    "        accelX_size=50\n",
    "        accelY_size=50\n",
    "        accelZ_size=50\n",
    "        slice_size=sound_size+accelX_size+accelY_size+accelZ_size\n",
    "        num_slice = len(npValues)//slice_size # Nombre de tranches\n",
    "    \n",
    "        #start_indices=np.concatenate([np.arange(i*slice_size, i*slice_size+start_size) for i in range(num_slice)])\n",
    "        sound_indices=np.concatenate([np.arange(i*slice_size, i*slice_size+sound_size) for i in range(num_slice)])\n",
    "        accelX_indices=np.concatenate([np.arange(i*slice_size+sound_size, i*slice_size+sound_size+accelX_size) for i in range(num_slice)])\n",
    "        accelY_indices=np.concatenate([np.arange(i*slice_size+sound_size+accelX_size, i*slice_size+sound_size+accelX_size+accelY_size) for i in range(num_slice)])\n",
    "        accelZ_indices=np.concatenate([np.arange(i*slice_size+sound_size+accelX_size+accelY_size, i*slice_size+slice_size) for i in range(num_slice)])\n",
    "        del sound_size, accelY_size, accelX_size, accelZ_size, slice_size, num_slice\n",
    "    soundValues=npValues[sound_indices]\n",
    "    accelXValues=npValues[accelX_indices]\n",
    "    accelYValues=npValues[accelY_indices]\n",
    "    accelZValues=npValues[accelZ_indices]\n",
    "    \n",
    "    myMeasures ={}\n",
    "    myMeasures[\"Sound\"]=soundValues.astype(np.int16, casting='safe')\n",
    "    myMeasures[\"Accel X\"]=accelXValues.astype(np.int16, casting='safe')\n",
    "    myMeasures[\"Accel Y\"]=accelYValues.astype(np.int16, casting='safe')\n",
    "    myMeasures[\"Accel Z\"]=accelZValues.astype(np.int16, casting='safe')\n",
    "    myDfMeas=pd.DataFrame(myMeasures)\n",
    "    \n",
    "    myDfMeas.to_csv('F:/Data_BachelorHES/firstDayMeas/sound.csv', columns=[\"Sound\"], index=False, mode='a', header=False)\n",
    "    myDfMeas.to_csv('F:/Data_BachelorHES/firstDayMeas/accelX.csv', columns=[\"Accel X\"], index=False, mode='a', header=False)\n",
    "    myDfMeas.to_csv('F:/Data_BachelorHES/firstDayMeas/accelY.csv', columns=[\"Accel Y\"], index=False, mode='a', header=False)\n",
    "    myDfMeas.to_csv('F:/Data_BachelorHES/firstDayMeas/accelZ.csv', columns=[\"Accel Z\"], index=False, mode='a', header=False)\n",
    "    ind+=1\n",
    "    print(\"Data from file {} written to csv\".format(file))\n",
    "    del soundValues, accelXValues, accelYValues, accelZValues, myMeasures, myDfMeas, byte_stream, value, two_bytes, npValues\n",
    "del num_values, values, sound_indices, accelX_indices, accelY_indices, accelZ_indices\n",
    "    \n",
    "    \n"
   ],
   "metadata": {
    "collapsed": false,
    "ExecuteTime": {
     "end_time": "2024-11-25T10:12:12.492185800Z",
     "start_time": "2024-11-25T10:12:04.146771100Z"
    }
   },
   "id": "c460307565d383b5"
  },
  {
   "cell_type": "code",
   "execution_count": 5,
   "outputs": [
    {
     "name": "stdout",
     "output_type": "stream",
     "text": [
      "(495000000, 1)\n"
     ]
    }
   ],
   "source": [
    "import pandas as pd\n",
    "sound = pd.read_csv('F:/Data_BachelorHES/firstDayMeas/sound.csv', header=None, names=['values'])\n",
    "sound.head()\n",
    "print(sound.shape)"
   ],
   "metadata": {
    "collapsed": false,
    "ExecuteTime": {
     "end_time": "2024-11-25T10:15:17.359519Z",
     "start_time": "2024-11-25T10:13:06.862824700Z"
    }
   },
   "id": "f106c9f2dd8db0d8"
  },
  {
   "cell_type": "code",
   "execution_count": 7,
   "outputs": [],
   "source": [
    "from scipy.io import wavfile\n",
    "import numpy as np\n",
    "fs=50000\n",
    "wavfile.write(\"F:/Data_BachelorHES/firstDayMeas/Sound1611.wav\", fs, np.int16(sound[\"values\"].to_numpy()))"
   ],
   "metadata": {
    "collapsed": false,
    "ExecuteTime": {
     "end_time": "2024-11-25T10:17:03.088779300Z",
     "start_time": "2024-11-25T10:16:27.074799100Z"
    }
   },
   "id": "4d319d8a5a5be4cd"
  },
  {
   "cell_type": "code",
   "execution_count": 14,
   "outputs": [
    {
     "name": "stdout",
     "output_type": "stream",
     "text": [
      "(495000000, 1) 3098 -32768\n"
     ]
    }
   ],
   "source": [
    "\n",
    "\n",
    "print(sound.values.shape, np.max(sound.values), np.min(sound.values))"
   ],
   "metadata": {
    "collapsed": false,
    "ExecuteTime": {
     "end_time": "2024-11-25T10:01:40.259300800Z",
     "start_time": "2024-11-25T10:01:36.253164400Z"
    }
   },
   "id": "af83b40e298b01ad"
  },
  {
   "cell_type": "code",
   "execution_count": null,
   "outputs": [],
   "source": [
    "import sounddevice as sd\n",
    "sd.play(np.int16(sound[\"values\"].to_numpy()),samplerate=fs)\n",
    "sd.wait()"
   ],
   "metadata": {
    "collapsed": false
   },
   "id": "19c60995698a6aba"
  },
  {
   "cell_type": "code",
   "execution_count": 8,
   "outputs": [
    {
     "name": "stdout",
     "output_type": "stream",
     "text": [
      "[[ 6]\n",
      " [ 1]\n",
      " [ 2]\n",
      " [ 3]\n",
      " [10]]\n",
      "(495000000, 1)\n",
      "0     6\n",
      "1     1\n",
      "2     2\n",
      "3     3\n",
      "4    10\n",
      "Name: values, dtype: int64\n",
      "[ 6  1  2  3 10]\n"
     ]
    }
   ],
   "source": [
    "print(sound.values[:5])\n",
    "print(sound.values.shape)\n",
    "print(sound[\"values\"][:5])\n",
    "print(sound[\"values\"].to_numpy()[:5])"
   ],
   "metadata": {
    "collapsed": false,
    "ExecuteTime": {
     "end_time": "2024-11-26T13:03:46.597943600Z",
     "start_time": "2024-11-26T13:03:46.539532900Z"
    }
   },
   "id": "462faf6f491b9bef"
  },
  {
   "cell_type": "markdown",
   "source": [
    "## Import Images from Video"
   ],
   "metadata": {
    "collapsed": false
   },
   "id": "fb299e04cd32d79a"
  },
  {
   "cell_type": "code",
   "execution_count": 11,
   "outputs": [
    {
     "name": "stdout",
     "output_type": "stream",
     "text": [
      "Collecting opencv-python\n",
      "  Downloading opencv_python-4.10.0.84-cp37-abi3-win_amd64.whl.metadata (20 kB)\n",
      "Requirement already satisfied: numpy>=1.17.0 in c:\\users\\julie\\appdata\\local\\programs\\python\\python39\\lib\\site-packages (from opencv-python) (1.26.3)\n",
      "Downloading opencv_python-4.10.0.84-cp37-abi3-win_amd64.whl (38.8 MB)\n",
      "   ---------------------------------------- 0.0/38.8 MB ? eta -:--:--\n",
      "    --------------------------------------- 0.5/38.8 MB 2.8 MB/s eta 0:00:14\n",
      "   - -------------------------------------- 1.6/38.8 MB 4.7 MB/s eta 0:00:08\n",
      "   -- ------------------------------------- 2.6/38.8 MB 4.4 MB/s eta 0:00:09\n",
      "   --- ------------------------------------ 3.7/38.8 MB 4.7 MB/s eta 0:00:08\n",
      "   ---- ----------------------------------- 4.7/38.8 MB 5.0 MB/s eta 0:00:07\n",
      "   ------ --------------------------------- 6.0/38.8 MB 5.1 MB/s eta 0:00:07\n",
      "   ------- -------------------------------- 7.1/38.8 MB 5.3 MB/s eta 0:00:06\n",
      "   -------- ------------------------------- 8.4/38.8 MB 5.3 MB/s eta 0:00:06\n",
      "   --------- ------------------------------ 9.7/38.8 MB 5.4 MB/s eta 0:00:06\n",
      "   ----------- ---------------------------- 11.0/38.8 MB 5.5 MB/s eta 0:00:06\n",
      "   ------------ --------------------------- 12.1/38.8 MB 5.6 MB/s eta 0:00:05\n",
      "   -------------- ------------------------- 13.6/38.8 MB 5.7 MB/s eta 0:00:05\n",
      "   --------------- ------------------------ 14.9/38.8 MB 5.7 MB/s eta 0:00:05\n",
      "   ---------------- ----------------------- 16.0/38.8 MB 5.7 MB/s eta 0:00:05\n",
      "   ----------------- ---------------------- 17.3/38.8 MB 5.7 MB/s eta 0:00:04\n",
      "   ------------------- -------------------- 18.6/38.8 MB 5.8 MB/s eta 0:00:04\n",
      "   -------------------- ------------------- 19.7/38.8 MB 5.8 MB/s eta 0:00:04\n",
      "   --------------------- ------------------ 21.0/38.8 MB 5.8 MB/s eta 0:00:04\n",
      "   ----------------------- ---------------- 22.5/38.8 MB 5.9 MB/s eta 0:00:03\n",
      "   ------------------------ --------------- 23.9/38.8 MB 6.0 MB/s eta 0:00:03\n",
      "   ------------------------- -------------- 25.2/38.8 MB 6.0 MB/s eta 0:00:03\n",
      "   --------------------------- ------------ 26.7/38.8 MB 6.1 MB/s eta 0:00:02\n",
      "   ----------------------------- ---------- 28.3/38.8 MB 6.1 MB/s eta 0:00:02\n",
      "   ----------------------------- ---------- 29.1/38.8 MB 6.0 MB/s eta 0:00:02\n",
      "   ------------------------------- -------- 30.4/38.8 MB 6.0 MB/s eta 0:00:02\n",
      "   -------------------------------- ------- 31.5/38.8 MB 6.0 MB/s eta 0:00:02\n",
      "   --------------------------------- ------ 32.5/38.8 MB 6.0 MB/s eta 0:00:02\n",
      "   --------------------------------- ------ 32.5/38.8 MB 6.0 MB/s eta 0:00:02\n",
      "   ----------------------------------- ---- 34.6/38.8 MB 6.0 MB/s eta 0:00:01\n",
      "   ------------------------------------ --- 35.7/38.8 MB 5.9 MB/s eta 0:00:01\n",
      "   -------------------------------------- - 37.0/38.8 MB 5.9 MB/s eta 0:00:01\n",
      "   ---------------------------------------  38.3/38.8 MB 5.9 MB/s eta 0:00:01\n",
      "   ---------------------------------------- 38.8/38.8 MB 5.8 MB/s eta 0:00:00\n",
      "Installing collected packages: opencv-python\n",
      "Successfully installed opencv-python-4.10.0.84\n",
      "Note: you may need to restart the kernel to use updated packages.\n"
     ]
    }
   ],
   "source": [
    "pip install opencv-python"
   ],
   "metadata": {
    "collapsed": false,
    "ExecuteTime": {
     "end_time": "2024-11-26T13:26:04.764661900Z",
     "start_time": "2024-11-26T13:25:51.887062700Z"
    }
   },
   "id": "221c6db45b800f8"
  },
  {
   "cell_type": "code",
   "execution_count": 12,
   "outputs": [
    {
     "name": "stdout",
     "output_type": "stream",
     "text": [
      "4.10.0\n"
     ]
    }
   ],
   "source": [
    "import cv2\n",
    "print(cv2.__version__)"
   ],
   "metadata": {
    "collapsed": false,
    "ExecuteTime": {
     "end_time": "2024-11-26T13:26:36.195865400Z",
     "start_time": "2024-11-26T13:26:35.840912100Z"
    }
   },
   "id": "36538bf2498402d6"
  },
  {
   "cell_type": "code",
   "execution_count": 14,
   "outputs": [],
   "source": [
    "from PIL import Image\n",
    "import pytesseract\n",
    "import cv2\n",
    "import os\n",
    "import shutil\n",
    "image_frames='F:/Data_BachelorHES/Video_CNC/images_frames'\n",
    "op=[]\n",
    "\n",
    "def files():\n",
    "    try:\n",
    "        shutil.rmtree(image_frames)\n",
    "    except OSError:\n",
    "        pass\n",
    "    if not os.path.exists(image_frames):\n",
    "        os.makedirs(image_frames)   \n",
    "    src_vid=cv2.VideoCapture('F:/Data_BachelorHES/Video_CNC/Video_CNC.mp4')\n",
    "    return(src_vid)\n",
    "\n",
    "def processVideo(src_vid):\n",
    "    count=0\n",
    "    while src_vid.isOpened():\n",
    "        ret, frame=src_vid.read()\n",
    "        if ret:\n",
    "            name='frame'+str(count)+'.jpg'\n",
    "            #Save a frame every 10 minutes (18000 frames)\n",
    "            if count%18000==0:\n",
    "                print('Save a new frame: ', count)\n",
    "                cv2.imwrite(os.path.join(image_frames, name), frame)\n",
    "            count+=1\n",
    "        else:\n",
    "            break\n",
    "    src_vid.release()\n",
    "    cv2.destroyAllWindows()\n",
    "    return(count)\n"
   ],
   "metadata": {
    "collapsed": false,
    "ExecuteTime": {
     "end_time": "2024-11-26T13:27:29.106444300Z",
     "start_time": "2024-11-26T13:27:29.082025400Z"
    }
   },
   "id": "82a3df604baa931"
  },
  {
   "cell_type": "code",
   "execution_count": 15,
   "outputs": [
    {
     "name": "stdout",
     "output_type": "stream",
     "text": [
      "Save a new frame:  0\n",
      "Save a new frame:  18000\n",
      "Save a new frame:  36000\n",
      "Save a new frame:  54000\n",
      "Save a new frame:  72000\n",
      "Save a new frame:  90000\n",
      "Save a new frame:  108000\n",
      "Save a new frame:  126000\n",
      "Save a new frame:  144000\n",
      "Save a new frame:  162000\n",
      "Save a new frame:  180000\n",
      "Save a new frame:  198000\n",
      "Save a new frame:  216000\n",
      "Save a new frame:  234000\n",
      "Save a new frame:  252000\n",
      "Save a new frame:  270000\n"
     ]
    }
   ],
   "source": [
    "src_vid=files()\n",
    "nb_frames=processVideo(src_vid)"
   ],
   "metadata": {
    "collapsed": false,
    "ExecuteTime": {
     "end_time": "2024-11-26T14:09:18.493118100Z",
     "start_time": "2024-11-26T13:27:36.399417100Z"
    }
   },
   "id": "ae629e1a1bec1910"
  },
  {
   "cell_type": "code",
   "execution_count": 50,
   "outputs": [
    {
     "name": "stdout",
     "output_type": "stream",
     "text": [
      "Number of contours: 9916 (array([[[1254,  719]]], dtype=int32), array([[[1200,  719]],\n",
      "\n",
      "       [[1203,  719]]], dtype=int32), array([[[1194,  719]]], dtype=int32), array([[[1174,  719]]], dtype=int32), array([[[1163,  719]]], dtype=int32))\n"
     ]
    },
    {
     "ename": "KeyboardInterrupt",
     "evalue": "",
     "output_type": "error",
     "traceback": [
      "\u001B[1;31m---------------------------------------------------------------------------\u001B[0m",
      "\u001B[1;31mKeyboardInterrupt\u001B[0m                         Traceback (most recent call last)",
      "Cell \u001B[1;32mIn[50], line 19\u001B[0m\n\u001B[0;32m     16\u001B[0m     cv2\u001B[38;5;241m.\u001B[39mwaitKey(\u001B[38;5;241m0\u001B[39m)\n\u001B[0;32m     17\u001B[0m     \u001B[38;5;28;01mreturn\u001B[39;00m\n\u001B[1;32m---> 19\u001B[0m \u001B[43mprocessImage\u001B[49m\u001B[43m(\u001B[49m\u001B[38;5;124;43m'\u001B[39;49m\u001B[38;5;124;43mF:/Data_BachelorHES/Video_CNC/images_frames/frame18000.jpg\u001B[39;49m\u001B[38;5;124;43m'\u001B[39;49m\u001B[43m)\u001B[49m  \n\u001B[0;32m     20\u001B[0m \u001B[38;5;124;03m\"\"\" \u001B[39;00m\n\u001B[0;32m     21\u001B[0m \u001B[38;5;124;03m    for i in range(nb_frames//18000):\u001B[39;00m\n\u001B[0;32m     22\u001B[0m \u001B[38;5;124;03m        img=Image.open(image_frames+'/frame'+str(i*18000)+'.jpg')\u001B[39;00m\n\u001B[1;32m   (...)\u001B[0m\n\u001B[0;32m     25\u001B[0m \u001B[38;5;124;03m        print('Text from frame', i*18000, ':', text)\u001B[39;00m\n\u001B[0;32m     26\u001B[0m \u001B[38;5;124;03m    return(op)\"\"\"\u001B[39;00m\n",
      "Cell \u001B[1;32mIn[50], line 16\u001B[0m, in \u001B[0;36mprocessImage\u001B[1;34m(path_to_image)\u001B[0m\n\u001B[0;32m     14\u001B[0m cv2\u001B[38;5;241m.\u001B[39mimwrite(\u001B[38;5;124m'\u001B[39m\u001B[38;5;124mF:/Data_BachelorHES/Video_CNC/mytest_cont.jpg\u001B[39m\u001B[38;5;124m'\u001B[39m, imContour)\n\u001B[0;32m     15\u001B[0m cv2\u001B[38;5;241m.\u001B[39mimshow(\u001B[38;5;124m\"\u001B[39m\u001B[38;5;124mContours Dessinés\u001B[39m\u001B[38;5;124m\"\u001B[39m, imContour)\n\u001B[1;32m---> 16\u001B[0m \u001B[43mcv2\u001B[49m\u001B[38;5;241;43m.\u001B[39;49m\u001B[43mwaitKey\u001B[49m\u001B[43m(\u001B[49m\u001B[38;5;241;43m0\u001B[39;49m\u001B[43m)\u001B[49m\n\u001B[0;32m     17\u001B[0m \u001B[38;5;28;01mreturn\u001B[39;00m\n",
      "\u001B[1;31mKeyboardInterrupt\u001B[0m: "
     ]
    }
   ],
   "source": [
    "def processImage(path_to_image):\n",
    "    \n",
    "    image=cv2.imread(path_to_image)\n",
    "    #Converting image to gray level\n",
    "    gray=cv2.cvtColor(image, cv2.COLOR_BGR2GRAY)\n",
    "    clahe = cv2.createCLAHE(clipLimit=2.0, tileGridSize=(8, 8))\n",
    "    clahe_gray=clahe.apply(gray)\n",
    "    treshImage=cv2.adaptiveThreshold(clahe_gray, 255, cv2.ADAPTIVE_THRESH_GAUSSIAN_C, cv2.THRESH_BINARY_INV, 11, 2)\n",
    "    cv2.imwrite('F:/Data_BachelorHES/Video_CNC/mytest.jpg', treshImage)\n",
    "    contours, hier = cv2.findContours(treshImage, cv2.RETR_EXTERNAL, cv2.CHAIN_APPROX_SIMPLE)\n",
    "    print('Number of contours:', len(contours), contours[0:5])\n",
    "    imContour=treshImage.copy()\n",
    "    cv2.drawContours(imContour, contours, -1, (255,0,0), thickness=3)\n",
    "    cv2.imwrite('F:/Data_BachelorHES/Video_CNC/mytest_cont.jpg', imContour)\n",
    "    cv2.imshow(\"Contours Dessinés\", imContour)\n",
    "    cv2.waitKey(0)\n",
    "    return\n",
    "\n",
    "processImage('F:/Data_BachelorHES/Video_CNC/images_frames/frame18000.jpg')  \n",
    "\"\"\" \n",
    "    for i in range(nb_frames//18000):\n",
    "        img=Image.open(image_frames+'/frame'+str(i*18000)+'.jpg')\n",
    "        text=pytesseract.image_to_string(img)\n",
    "        op.append(text)\n",
    "        print('Text from frame', i*18000, ':', text)\n",
    "    return(op)\"\"\"\n"
   ],
   "metadata": {
    "collapsed": false,
    "ExecuteTime": {
     "end_time": "2024-11-26T15:38:09.455758900Z",
     "start_time": "2024-11-26T15:34:26.962731Z"
    }
   },
   "id": "db20b427a0122bd5"
  },
  {
   "cell_type": "code",
   "execution_count": 38,
   "outputs": [
    {
     "name": "stdout",
     "output_type": "stream",
     "text": [
      "4.10.0\n"
     ]
    }
   ],
   "source": [
    "\n",
    "print(cv2.__version__)"
   ],
   "metadata": {
    "collapsed": false,
    "ExecuteTime": {
     "end_time": "2024-11-26T15:11:01.143272Z",
     "start_time": "2024-11-26T15:11:00.954700800Z"
    }
   },
   "id": "ab509488ed37a8d4"
  },
  {
   "cell_type": "code",
   "execution_count": 7,
   "outputs": [
    {
     "name": "stdout",
     "output_type": "stream",
     "text": [
      "List created with : 12000000 elements\n"
     ]
    }
   ],
   "source": [
    "import struct\n",
    "import numpy as np\n",
    "\n",
    "# Lire le fichier .csv qui contient le flux de bytes\n",
    "filename='../data/start_haas_vf2ss/PMPM_RAW_BIN_1m_20241116_085931.csv'\n",
    "\n",
    "with open(filename, 'rb') as f:\n",
    "    byte_stream = f.read()  # Lire tout le fichier comme un flux de bytes\n",
    "num_values = len(byte_stream) // 2  # Calcul du nombre d'entiers\n",
    "values = []\n",
    "\n",
    "for i in range(num_values):\n",
    "    two_bytes = byte_stream[i*2:(i*2)+2]\n",
    "    value = struct.unpack('<h', two_bytes)[0]  # '<h' pour 2 bytes en short int\n",
    "    values.append(value)\n",
    "print(\"List created with : {} elements\".format(len(values)))\n",
    "    \n",
    "npValues=np.array(values, dtype=np.int16)\n",
    "start_size=0\n",
    "sound_size=50\n",
    "accelX_size=50\n",
    "accelY_size=50\n",
    "accelZ_size=50\n",
    "slice_size=start_size+sound_size+accelX_size+accelY_size+accelZ_size\n",
    "num_slice = len(npValues)//slice_size # Nombre de tranches\n",
    "\n",
    "#start_indices=np.concatenate([np.arange(i*slice_size, i*slice_size+start_size) for i in range(num_slice)])\n",
    "sound_indices=np.concatenate([np.arange(i*slice_size+start_size, i*slice_size+sound_size+start_size) for i in range(num_slice)])\n",
    "accelX_indices=np.concatenate([np.arange(i*slice_size+start_size+sound_size, i*slice_size+start_size+sound_size+accelX_size) for i in range(num_slice)])\n",
    "accelY_indices=np.concatenate([np.arange(i*slice_size+start_size+sound_size+accelX_size, i*slice_size++start_size+sound_size+accelX_size+accelY_size) for i in range(num_slice)])\n",
    "accelZ_indices=np.concatenate([np.arange(i*slice_size+start_size+sound_size+accelX_size+accelY_size, i*slice_size+slice_size) for i in range(num_slice)])\n",
    "#startValues=npValues[start_indices]\n",
    "soundValues=npValues[sound_indices]\n",
    "accelXValues=npValues[accelX_indices]\n",
    "accelYValues=npValues[accelY_indices]\n",
    "accelZValues=npValues[accelZ_indices]"
   ],
   "metadata": {
    "collapsed": false,
    "ExecuteTime": {
     "end_time": "2024-11-18T09:15:37.620533600Z",
     "start_time": "2024-11-18T09:15:28.316026500Z"
    }
   },
   "id": "c9846953aecdf1c1"
  },
  {
   "cell_type": "code",
   "execution_count": 44,
   "outputs": [],
   "source": [
    "import csv\n",
    "import pandas as pd\n",
    "from datetime import datetime\n",
    "from datetime import timedelta\n",
    "\n",
    "myTimeStamp=filename.split('_')[-2:]\n",
    "myTimeStamp[-1]=myTimeStamp[-1].split('.')[0]\n",
    "strTimeStamp=myTimeStamp[0]+'_'+myTimeStamp[-1]\n",
    "startTime=datetime.strptime(strTimeStamp, '%Y%m%d_%H%M%S')\n",
    "del myTimeStamp, strTimeStamp\n",
    "myMeasures ={}\n",
    "myMeasures[\"Sound\"]=soundValues.astype(np.int16, casting='safe')\n",
    "myMeasures[\"Accel X\"]=accelXValues.astype(np.int16, casting='safe')\n",
    "myMeasures[\"Accel Y\"]=accelYValues.astype(np.int16, casting='safe')\n",
    "myMeasures[\"Accel Z\"]=accelZValues.astype(np.int16, casting='safe')\n",
    "myMeasures[\"Start Time\"]=startTime\n",
    "        \n",
    "Dates=[startTime+timedelta(microseconds=s*20) for s in range(len(soundValues))]\n",
    "myDfMeasures=pd.DataFrame(myMeasures, index=Dates)\n",
    "myDfMeasures.to_csv('../data/start_haas_vf2ss/SOUNDS.csv', index=False)  \n"
   ],
   "metadata": {
    "collapsed": false,
    "ExecuteTime": {
     "end_time": "2024-11-18T10:54:32.804148600Z",
     "start_time": "2024-11-18T10:53:49.902511200Z"
    }
   },
   "id": "3236445eb4b431ad"
  },
  {
   "cell_type": "code",
   "execution_count": 45,
   "outputs": [],
   "source": [
    "myDfMeasures.to_csv('../data/start_haas_vf2ss/SOUNDS.csv', index=False, mode='a', header=False) \n"
   ],
   "metadata": {
    "collapsed": false,
    "ExecuteTime": {
     "end_time": "2024-11-18T10:55:26.299530400Z",
     "start_time": "2024-11-18T10:54:38.032580700Z"
    }
   },
   "id": "1f6cbe24ff174e44"
  },
  {
   "cell_type": "code",
   "execution_count": 42,
   "outputs": [],
   "source": [
    "myFile=open('../data/start_haas_vf2ss/SOUNDS.csv','r')\n",
    "myFile.close()"
   ],
   "metadata": {
    "collapsed": false,
    "ExecuteTime": {
     "end_time": "2024-11-18T10:40:46.637326200Z",
     "start_time": "2024-11-18T10:40:46.591495600Z"
    }
   },
   "id": "1ebdba2f580b4d4a"
  },
  {
   "cell_type": "code",
   "execution_count": 49,
   "outputs": [],
   "source": [
    "import influxdb_client, os, time\n",
    "from influxdb_client import InfluxDBClient, Point, WritePrecision\n",
    "from influxdb_client.client.write_api import SYNCHRONOUS\n",
    "\n",
    "token = \"QE9pqii3yEdpipMXMupy-A4rWaUdkVoVv-w3gRR93lysoajQ9vG3o3KfCBzt0M_vG34NAmznpAUhsTjhap6Iuw==\"\n",
    "org = \"sdi05\"\n",
    "url = \"https://influx.sdi.hevs.ch\"\n",
    "\n",
    "write_client = influxdb_client.InfluxDBClient(url=url, token=token, org=org)\n"
   ],
   "metadata": {
    "collapsed": false,
    "ExecuteTime": {
     "end_time": "2024-11-18T11:18:26.851905400Z",
     "start_time": "2024-11-18T11:18:26.814573700Z"
    }
   },
   "id": "30587cafa9eba12f"
  },
  {
   "cell_type": "code",
   "execution_count": 53,
   "outputs": [],
   "source": [
    "bucket=\"sdi05\"\n",
    "\n",
    "write_api = write_client.write_api(write_options=SYNCHRONOUS)\n",
    "   \n",
    "\"\"\"for value in range(5):\n",
    "  point = (\n",
    "    Point(\"measurement1\")\n",
    "    .tag(\"tagname1\", \"tagvalue1\")\n",
    "    .field(\"field1\", value)\n",
    "  )\n",
    "  write_api.write(bucket=bucket, org=\"sdi05\", record=point)\n",
    "  time.sleep(1) # separate points by 1 second\"\"\""
   ],
   "metadata": {
    "collapsed": false,
    "ExecuteTime": {
     "end_time": "2024-11-18T15:31:45.629696700Z",
     "start_time": "2024-11-18T15:31:40.371634100Z"
    }
   },
   "id": "db802fdf2ca26e73"
  },
  {
   "cell_type": "code",
   "execution_count": 51,
   "outputs": [
    {
     "name": "stdout",
     "output_type": "stream",
     "text": [
      "FluxRecord() table: 0, {'result': '_result', 'table': 0, '_start': datetime.datetime(2024, 11, 18, 11, 9, 16, 615884, tzinfo=tzutc()), '_stop': datetime.datetime(2024, 11, 18, 11, 19, 16, 615884, tzinfo=tzutc()), '_time': datetime.datetime(2024, 11, 18, 11, 18, 28, 130789, tzinfo=tzutc()), '_value': 0, '_field': 'field1', '_measurement': 'measurement1', 'tagname1': 'tagvalue1'}\n",
      "FluxRecord() table: 0, {'result': '_result', 'table': 0, '_start': datetime.datetime(2024, 11, 18, 11, 9, 16, 615884, tzinfo=tzutc()), '_stop': datetime.datetime(2024, 11, 18, 11, 19, 16, 615884, tzinfo=tzutc()), '_time': datetime.datetime(2024, 11, 18, 11, 18, 29, 414391, tzinfo=tzutc()), '_value': 1, '_field': 'field1', '_measurement': 'measurement1', 'tagname1': 'tagvalue1'}\n",
      "FluxRecord() table: 0, {'result': '_result', 'table': 0, '_start': datetime.datetime(2024, 11, 18, 11, 9, 16, 615884, tzinfo=tzutc()), '_stop': datetime.datetime(2024, 11, 18, 11, 19, 16, 615884, tzinfo=tzutc()), '_time': datetime.datetime(2024, 11, 18, 11, 18, 30, 434349, tzinfo=tzutc()), '_value': 2, '_field': 'field1', '_measurement': 'measurement1', 'tagname1': 'tagvalue1'}\n",
      "FluxRecord() table: 0, {'result': '_result', 'table': 0, '_start': datetime.datetime(2024, 11, 18, 11, 9, 16, 615884, tzinfo=tzutc()), '_stop': datetime.datetime(2024, 11, 18, 11, 19, 16, 615884, tzinfo=tzutc()), '_time': datetime.datetime(2024, 11, 18, 11, 18, 31, 454273, tzinfo=tzutc()), '_value': 3, '_field': 'field1', '_measurement': 'measurement1', 'tagname1': 'tagvalue1'}\n",
      "FluxRecord() table: 0, {'result': '_result', 'table': 0, '_start': datetime.datetime(2024, 11, 18, 11, 9, 16, 615884, tzinfo=tzutc()), '_stop': datetime.datetime(2024, 11, 18, 11, 19, 16, 615884, tzinfo=tzutc()), '_time': datetime.datetime(2024, 11, 18, 11, 18, 32, 473439, tzinfo=tzutc()), '_value': 4, '_field': 'field1', '_measurement': 'measurement1', 'tagname1': 'tagvalue1'}\n"
     ]
    }
   ],
   "source": [
    "#EXAMPLE OF \"SIMPLE\" QUERY\n",
    "query_api = write_client.query_api()\n",
    "\n",
    "query = \"\"\"from(bucket: \"sdi05\")\n",
    " |> range(start: -10m)\n",
    " |> filter(fn: (r) => r._measurement == \"measurement1\")\"\"\"\n",
    "tables = query_api.query(query, org=\"sdi05\")\n",
    "\n",
    "for table in tables:\n",
    "  for record in table.records:\n",
    "    print(record)\n",
    "    "
   ],
   "metadata": {
    "collapsed": false,
    "ExecuteTime": {
     "end_time": "2024-11-18T11:19:16.596677100Z",
     "start_time": "2024-11-18T11:19:16.538863400Z"
    }
   },
   "id": "d3d20d50a659bd3a"
  },
  {
   "cell_type": "code",
   "execution_count": 52,
   "outputs": [
    {
     "name": "stdout",
     "output_type": "stream",
     "text": [
      "FluxRecord() table: 0, {'result': '_result', 'table': 0, '_start': datetime.datetime(2024, 11, 18, 11, 10, 24, 864008, tzinfo=tzutc()), '_stop': datetime.datetime(2024, 11, 18, 11, 20, 24, 864008, tzinfo=tzutc()), '_value': 2.0, '_field': 'field1', '_measurement': 'measurement1', 'tagname1': 'tagvalue1'}\n"
     ]
    }
   ],
   "source": [
    "# EXAMPLE OF \"COMBINED\" QUERY \n",
    "\n",
    "query_api = write_client.query_api()\n",
    "\n",
    "query = \"\"\"from(bucket: \"sdi05\")\n",
    "  |> range(start: -10m)\n",
    "  |> filter(fn: (r) => r._measurement == \"measurement1\")\n",
    "  |> mean()\"\"\"\n",
    "tables = query_api.query(query, org=\"sdi05\")\n",
    "\n",
    "for table in tables:\n",
    "    for record in table.records:\n",
    "        print(record)\n"
   ],
   "metadata": {
    "collapsed": false,
    "ExecuteTime": {
     "end_time": "2024-11-18T11:20:24.841299Z",
     "start_time": "2024-11-18T11:20:24.789382400Z"
    }
   },
   "id": "a40b4be9d7bbdf18"
  },
  {
   "cell_type": "code",
   "execution_count": null,
   "outputs": [],
   "source": [],
   "metadata": {
    "collapsed": false
   },
   "id": "c62484a5c72efb7b"
  },
  {
   "cell_type": "code",
   "execution_count": null,
   "outputs": [],
   "source": [],
   "metadata": {
    "collapsed": false
   },
   "id": "9229da6ad273bcb3"
  },
  {
   "cell_type": "code",
   "execution_count": 13,
   "outputs": [
    {
     "name": "stdout",
     "output_type": "stream",
     "text": [
      "List created with : 12000000 elements\n"
     ]
    }
   ],
   "source": [
    "#Prepare data based on filename\n",
    "import struct\n",
    "import numpy as np\n",
    "from datetime import datetime\n",
    "import pandas as pd\n",
    "import influxdb_client, os, time\n",
    "from influxdb_client import InfluxDBClient, Point, WritePrecision\n",
    "from influxdb_client.client.write_api import ASYNCHRONOUS\n",
    "\n",
    "# Lire le fichier .csv qui contient le flux de bytes\n",
    "filename='../data/start_haas_vf2ss/PMPM_RAW_BIN_1m_20241116_085931.csv'\n",
    "\n",
    "with open(filename, 'rb') as f:\n",
    "    byte_stream = f.read()  # Lire tout le fichier comme un flux de bytes\n",
    "num_values = len(byte_stream) // 2  # Calcul du nombre d'entiers\n",
    "values = []\n",
    "\n",
    "for i in range(num_values):\n",
    "    two_bytes = byte_stream[i*2:(i*2)+2]\n",
    "    value = struct.unpack('<h', two_bytes)[0]  # '<h' pour 2 bytes en short int\n",
    "    values.append(value)\n",
    "print(\"List created with : {} elements\".format(len(values)))\n",
    "    \n",
    "npValues=np.array(values, dtype=np.int16)\n",
    "sound_size=50\n",
    "accelX_size=50\n",
    "accelY_size=50\n",
    "accelZ_size=50\n",
    "slice_size=sound_size+accelX_size+accelY_size+accelZ_size\n",
    "num_slice = len(npValues)//slice_size # Nombre de tranches\n",
    "\n",
    "sound_indices=np.concatenate([np.arange(i*slice_size, i*slice_size+sound_size) for i in range(num_slice)])\n",
    "accelX_indices=np.concatenate([np.arange(i*slice_size+sound_size, i*slice_size+sound_size+accelX_size) for i in range(num_slice)])\n",
    "accelY_indices=np.concatenate([np.arange(i*slice_size+sound_size+accelX_size, i*slice_size+sound_size+accelX_size+accelY_size) for i in range(num_slice)])\n",
    "accelZ_indices=np.concatenate([np.arange(i*slice_size+sound_size+accelX_size+accelY_size, (i+1)*slice_size) for i in range(num_slice)])\n",
    "soundValues=npValues[sound_indices]\n",
    "accelXValues=npValues[accelX_indices]\n",
    "accelYValues=npValues[accelY_indices]\n",
    "accelZValues=npValues[accelZ_indices]\n",
    "\n",
    "del byte_stream, num_values, values, value, two_bytes, npValues,   sound_size, accelX_size, accelY_size, accelZ_size,slice_size, num_slice, sound_indices, accelX_indices, accelY_indices, accelZ_indices   \n",
    "\n",
    "myTimeStamp=filename.split('_')[-2:]\n",
    "myTimeStamp[-1]=myTimeStamp[-1].split('.')[0]\n",
    "strTimeStamp=myTimeStamp[0]+'_'+myTimeStamp[-1]\n",
    "startTime=datetime.strptime(strTimeStamp, '%Y%m%d_%H%M%S')\n",
    "del myTimeStamp, strTimeStamp\n",
    "myMeasures ={}\n",
    "myMeasures[\"Sound\"]=soundValues.astype(np.int16, casting='safe')\n",
    "myMeasures[\"Accel X\"]=accelXValues.astype(np.int16, casting='safe')\n",
    "myMeasures[\"Accel Y\"]=accelYValues.astype(np.int16, casting='safe')\n",
    "myMeasures[\"Accel Z\"]=accelZValues.astype(np.int16, casting='safe')\n",
    "myDfMeas=pd.DataFrame(myMeasures)\n",
    "myDfMeas[\"timestamp\"]=startTime+pd.to_timedelta(myDfMeas.index*20, unit=\"us\")\n",
    "\n",
    "\n",
    "token = \"QE9pqii3yEdpipMXMupy-A4rWaUdkVoVv-w3gRR93lysoajQ9vG3o3KfCBzt0M_vG34NAmznpAUhsTjhap6Iuw==\"\n",
    "org = \"sdi05\"\n",
    "url = \"https://influx.sdi.hevs.ch\"\n",
    "bucket=\"sdi05\"\n",
    "\n",
    "write_client = influxdb_client.InfluxDBClient(url=url, token=token, org=org)\n",
    "write_api = write_client.write_api(write_options=ASYNCHRONOUS)\n",
    "\n",
    "\n"
   ],
   "metadata": {
    "collapsed": false,
    "ExecuteTime": {
     "end_time": "2024-11-19T13:29:42.949359800Z",
     "start_time": "2024-11-19T13:29:26.625567400Z"
    }
   },
   "id": "2e53b942ed0dd282"
  },
  {
   "cell_type": "code",
   "execution_count": 16,
   "outputs": [
    {
     "ename": "KeyboardInterrupt",
     "evalue": "",
     "output_type": "error",
     "traceback": [
      "\u001B[1;31m---------------------------------------------------------------------------\u001B[0m",
      "\u001B[1;31mKeyboardInterrupt\u001B[0m                         Traceback (most recent call last)",
      "Cell \u001B[1;32mIn[16], line 11\u001B[0m\n\u001B[0;32m      9\u001B[0m     \u001B[38;5;66;03m# Lorsque le batch atteint la taille définie, on écrit dans InfluxDB\u001B[39;00m\n\u001B[0;32m     10\u001B[0m     \u001B[38;5;28;01mif\u001B[39;00m \u001B[38;5;28mlen\u001B[39m(points) \u001B[38;5;241m==\u001B[39m batch_size:\n\u001B[1;32m---> 11\u001B[0m         \u001B[43mwrite_api\u001B[49m\u001B[38;5;241;43m.\u001B[39;49m\u001B[43mwrite\u001B[49m\u001B[43m(\u001B[49m\u001B[43mbucket\u001B[49m\u001B[38;5;241;43m=\u001B[39;49m\u001B[43mbucket\u001B[49m\u001B[43m,\u001B[49m\u001B[43m \u001B[49m\u001B[43morg\u001B[49m\u001B[38;5;241;43m=\u001B[39;49m\u001B[43morg\u001B[49m\u001B[43m,\u001B[49m\u001B[43m \u001B[49m\u001B[43mrecord\u001B[49m\u001B[38;5;241;43m=\u001B[39;49m\u001B[43mpoints\u001B[49m\u001B[43m)\u001B[49m\n\u001B[0;32m     12\u001B[0m         points \u001B[38;5;241m=\u001B[39m []  \u001B[38;5;66;03m# Réinitialiser le batch\u001B[39;00m\n\u001B[0;32m     14\u001B[0m \u001B[38;5;28;01mif\u001B[39;00m points:\n",
      "File \u001B[1;32m~\\AppData\\Local\\Programs\\Python\\Python39\\lib\\site-packages\\influxdb_client\\client\\write_api.py:373\u001B[0m, in \u001B[0;36mWriteApi.write\u001B[1;34m(self, bucket, org, record, write_precision, **kwargs)\u001B[0m\n\u001B[0;32m    369\u001B[0m     \u001B[38;5;28;01mreturn\u001B[39;00m \u001B[38;5;28mself\u001B[39m\u001B[38;5;241m.\u001B[39m_write_batching(bucket, org, record,\n\u001B[0;32m    370\u001B[0m                                 write_precision, \u001B[38;5;241m*\u001B[39m\u001B[38;5;241m*\u001B[39mkwargs)\n\u001B[0;32m    372\u001B[0m payloads \u001B[38;5;241m=\u001B[39m defaultdict(\u001B[38;5;28mlist\u001B[39m)\n\u001B[1;32m--> 373\u001B[0m \u001B[38;5;28mself\u001B[39m\u001B[38;5;241m.\u001B[39m_serialize(record, write_precision, payloads, \u001B[38;5;241m*\u001B[39m\u001B[38;5;241m*\u001B[39mkwargs)\n\u001B[0;32m    375\u001B[0m _async_req \u001B[38;5;241m=\u001B[39m \u001B[38;5;28;01mTrue\u001B[39;00m \u001B[38;5;28;01mif\u001B[39;00m \u001B[38;5;28mself\u001B[39m\u001B[38;5;241m.\u001B[39m_write_options\u001B[38;5;241m.\u001B[39mwrite_type \u001B[38;5;241m==\u001B[39m WriteType\u001B[38;5;241m.\u001B[39masynchronous \u001B[38;5;28;01melse\u001B[39;00m \u001B[38;5;28;01mFalse\u001B[39;00m\n\u001B[0;32m    377\u001B[0m \u001B[38;5;28;01mdef\u001B[39;00m \u001B[38;5;21mwrite_payload\u001B[39m(payload):\n",
      "File \u001B[1;32m~\\AppData\\Local\\Programs\\Python\\Python39\\lib\\site-packages\\influxdb_client\\client\\_base.py:495\u001B[0m, in \u001B[0;36m_BaseWriteApi._serialize\u001B[1;34m(self, record, write_precision, payload, **kwargs)\u001B[0m\n\u001B[0;32m    493\u001B[0m \u001B[38;5;28;01melif\u001B[39;00m \u001B[38;5;28misinstance\u001B[39m(record, Iterable):\n\u001B[0;32m    494\u001B[0m     \u001B[38;5;28;01mfor\u001B[39;00m item \u001B[38;5;129;01min\u001B[39;00m record:\n\u001B[1;32m--> 495\u001B[0m         \u001B[38;5;28mself\u001B[39m\u001B[38;5;241m.\u001B[39m_serialize(item, write_precision, payload, \u001B[38;5;241m*\u001B[39m\u001B[38;5;241m*\u001B[39mkwargs)\n",
      "File \u001B[1;32m~\\AppData\\Local\\Programs\\Python\\Python39\\lib\\site-packages\\influxdb_client\\client\\_base.py:480\u001B[0m, in \u001B[0;36m_BaseWriteApi._serialize\u001B[1;34m(self, record, write_precision, payload, **kwargs)\u001B[0m\n\u001B[0;32m    478\u001B[0m     precision_from_point \u001B[38;5;241m=\u001B[39m kwargs\u001B[38;5;241m.\u001B[39mget(\u001B[38;5;124m'\u001B[39m\u001B[38;5;124mprecision_from_point\u001B[39m\u001B[38;5;124m'\u001B[39m, \u001B[38;5;28;01mTrue\u001B[39;00m)\n\u001B[0;32m    479\u001B[0m     precision \u001B[38;5;241m=\u001B[39m record\u001B[38;5;241m.\u001B[39mwrite_precision \u001B[38;5;28;01mif\u001B[39;00m precision_from_point \u001B[38;5;28;01melse\u001B[39;00m write_precision\n\u001B[1;32m--> 480\u001B[0m     \u001B[38;5;28mself\u001B[39m\u001B[38;5;241m.\u001B[39m_serialize(\u001B[43mrecord\u001B[49m\u001B[38;5;241;43m.\u001B[39;49m\u001B[43mto_line_protocol\u001B[49m\u001B[43m(\u001B[49m\u001B[43mprecision\u001B[49m\u001B[38;5;241;43m=\u001B[39;49m\u001B[43mprecision\u001B[49m\u001B[43m)\u001B[49m, precision, payload, \u001B[38;5;241m*\u001B[39m\u001B[38;5;241m*\u001B[39mkwargs)\n\u001B[0;32m    482\u001B[0m \u001B[38;5;28;01melif\u001B[39;00m \u001B[38;5;28misinstance\u001B[39m(record, \u001B[38;5;28mdict\u001B[39m):\n\u001B[0;32m    483\u001B[0m     \u001B[38;5;28mself\u001B[39m\u001B[38;5;241m.\u001B[39m_serialize(Point\u001B[38;5;241m.\u001B[39mfrom_dict(record, write_precision\u001B[38;5;241m=\u001B[39mwrite_precision, \u001B[38;5;241m*\u001B[39m\u001B[38;5;241m*\u001B[39mkwargs),\n\u001B[0;32m    484\u001B[0m                     write_precision, payload, \u001B[38;5;241m*\u001B[39m\u001B[38;5;241m*\u001B[39mkwargs)\n",
      "File \u001B[1;32m~\\AppData\\Local\\Programs\\Python\\Python39\\lib\\site-packages\\influxdb_client\\client\\write\\point.py:236\u001B[0m, in \u001B[0;36mPoint.to_line_protocol\u001B[1;34m(self, precision)\u001B[0m\n\u001B[0;32m    234\u001B[0m \u001B[38;5;28;01mif\u001B[39;00m \u001B[38;5;129;01mnot\u001B[39;00m _fields:\n\u001B[0;32m    235\u001B[0m     \u001B[38;5;28;01mreturn\u001B[39;00m \u001B[38;5;124m\"\u001B[39m\u001B[38;5;124m\"\u001B[39m\n\u001B[1;32m--> 236\u001B[0m _time \u001B[38;5;241m=\u001B[39m \u001B[43m_append_time\u001B[49m\u001B[43m(\u001B[49m\u001B[38;5;28;43mself\u001B[39;49m\u001B[38;5;241;43m.\u001B[39;49m\u001B[43m_time\u001B[49m\u001B[43m,\u001B[49m\u001B[43m \u001B[49m\u001B[38;5;28;43mself\u001B[39;49m\u001B[38;5;241;43m.\u001B[39;49m\u001B[43m_write_precision\u001B[49m\u001B[43m \u001B[49m\u001B[38;5;28;43;01mif\u001B[39;49;00m\u001B[43m \u001B[49m\u001B[43mprecision\u001B[49m\u001B[43m \u001B[49m\u001B[38;5;129;43;01mis\u001B[39;49;00m\u001B[43m \u001B[49m\u001B[38;5;28;43;01mNone\u001B[39;49;00m\u001B[43m \u001B[49m\u001B[38;5;28;43;01melse\u001B[39;49;00m\u001B[43m \u001B[49m\u001B[43mprecision\u001B[49m\u001B[43m)\u001B[49m\n\u001B[0;32m    238\u001B[0m \u001B[38;5;28;01mreturn\u001B[39;00m \u001B[38;5;124mf\u001B[39m\u001B[38;5;124m\"\u001B[39m\u001B[38;5;132;01m{\u001B[39;00m_measurement\u001B[38;5;132;01m}\u001B[39;00m\u001B[38;5;132;01m{\u001B[39;00m_tags\u001B[38;5;132;01m}\u001B[39;00m\u001B[38;5;132;01m{\u001B[39;00m_fields\u001B[38;5;132;01m}\u001B[39;00m\u001B[38;5;132;01m{\u001B[39;00m_time\u001B[38;5;132;01m}\u001B[39;00m\u001B[38;5;124m\"\u001B[39m\n",
      "File \u001B[1;32m~\\AppData\\Local\\Programs\\Python\\Python39\\lib\\site-packages\\influxdb_client\\client\\write\\point.py:316\u001B[0m, in \u001B[0;36m_append_time\u001B[1;34m(time, write_precision)\u001B[0m\n\u001B[0;32m    314\u001B[0m \u001B[38;5;28;01mif\u001B[39;00m time \u001B[38;5;129;01mis\u001B[39;00m \u001B[38;5;28;01mNone\u001B[39;00m:\n\u001B[0;32m    315\u001B[0m     \u001B[38;5;28;01mreturn\u001B[39;00m \u001B[38;5;124m'\u001B[39m\u001B[38;5;124m'\u001B[39m\n\u001B[1;32m--> 316\u001B[0m \u001B[38;5;28;01mreturn\u001B[39;00m \u001B[38;5;124mf\u001B[39m\u001B[38;5;124m\"\u001B[39m\u001B[38;5;124m \u001B[39m\u001B[38;5;132;01m{\u001B[39;00m\u001B[38;5;28mint\u001B[39m(_convert_timestamp(time,\u001B[38;5;250m \u001B[39mwrite_precision))\u001B[38;5;132;01m}\u001B[39;00m\u001B[38;5;124m\"\u001B[39m\n",
      "File \u001B[1;32m~\\AppData\\Local\\Programs\\Python\\Python39\\lib\\site-packages\\influxdb_client\\client\\write\\point.py:347\u001B[0m, in \u001B[0;36m_convert_timestamp\u001B[1;34m(timestamp, precision)\u001B[0m\n\u001B[0;32m    344\u001B[0m \u001B[38;5;28;01mif\u001B[39;00m \u001B[38;5;28misinstance\u001B[39m(timestamp, timedelta) \u001B[38;5;129;01mor\u001B[39;00m \u001B[38;5;28misinstance\u001B[39m(timestamp, datetime):\n\u001B[0;32m    346\u001B[0m     \u001B[38;5;28;01mif\u001B[39;00m \u001B[38;5;28misinstance\u001B[39m(timestamp, datetime):\n\u001B[1;32m--> 347\u001B[0m         timestamp \u001B[38;5;241m=\u001B[39m \u001B[43mdate_helper\u001B[49m\u001B[38;5;241;43m.\u001B[39;49m\u001B[43mto_utc\u001B[49m\u001B[43m(\u001B[49m\u001B[43mtimestamp\u001B[49m\u001B[43m)\u001B[49m \u001B[38;5;241m-\u001B[39m EPOCH\n\u001B[0;32m    349\u001B[0m     ns \u001B[38;5;241m=\u001B[39m date_helper\u001B[38;5;241m.\u001B[39mto_nanoseconds(timestamp)\n\u001B[0;32m    351\u001B[0m     \u001B[38;5;28;01mif\u001B[39;00m precision \u001B[38;5;129;01mis\u001B[39;00m \u001B[38;5;28;01mNone\u001B[39;00m \u001B[38;5;129;01mor\u001B[39;00m precision \u001B[38;5;241m==\u001B[39m WritePrecision\u001B[38;5;241m.\u001B[39mNS:\n",
      "File \u001B[1;32m~\\AppData\\Local\\Programs\\Python\\Python39\\lib\\site-packages\\influxdb_client\\client\\util\\date_utils.py:73\u001B[0m, in \u001B[0;36mDateHelper.to_utc\u001B[1;34m(self, value)\u001B[0m\n\u001B[0;32m     66\u001B[0m \u001B[38;5;250m\u001B[39m\u001B[38;5;124;03m\"\"\"\u001B[39;00m\n\u001B[0;32m     67\u001B[0m \u001B[38;5;124;03mConvert datetime to UTC timezone.\u001B[39;00m\n\u001B[0;32m     68\u001B[0m \n\u001B[0;32m     69\u001B[0m \u001B[38;5;124;03m:param value: datetime\u001B[39;00m\n\u001B[0;32m     70\u001B[0m \u001B[38;5;124;03m:return: datetime in UTC\u001B[39;00m\n\u001B[0;32m     71\u001B[0m \u001B[38;5;124;03m\"\"\"\u001B[39;00m\n\u001B[0;32m     72\u001B[0m \u001B[38;5;28;01mif\u001B[39;00m \u001B[38;5;129;01mnot\u001B[39;00m value\u001B[38;5;241m.\u001B[39mtzinfo:\n\u001B[1;32m---> 73\u001B[0m     \u001B[38;5;28;01mreturn\u001B[39;00m \u001B[38;5;28;43mself\u001B[39;49m\u001B[38;5;241;43m.\u001B[39;49m\u001B[43mto_utc\u001B[49m\u001B[43m(\u001B[49m\u001B[43mvalue\u001B[49m\u001B[38;5;241;43m.\u001B[39;49m\u001B[43mreplace\u001B[49m\u001B[43m(\u001B[49m\u001B[43mtzinfo\u001B[49m\u001B[38;5;241;43m=\u001B[39;49m\u001B[38;5;28;43mself\u001B[39;49m\u001B[38;5;241;43m.\u001B[39;49m\u001B[43mtimezone\u001B[49m\u001B[43m)\u001B[49m\u001B[43m)\u001B[49m\n\u001B[0;32m     74\u001B[0m \u001B[38;5;28;01melse\u001B[39;00m:\n\u001B[0;32m     75\u001B[0m     \u001B[38;5;28;01mreturn\u001B[39;00m value\u001B[38;5;241m.\u001B[39mastimezone(tz\u001B[38;5;241m.\u001B[39mutc)\n",
      "\u001B[1;31mKeyboardInterrupt\u001B[0m: "
     ]
    }
   ],
   "source": [
    "write_api = write_client.write_api(write_options=ASYNCHRONOUS)\n",
    "points=[]\n",
    "batch_size=7000\n",
    "for _, row in myDfMeas.iterrows():\n",
    "\n",
    "    point=Point(\"sensor_data\").field(\"Sound\", row[\"Sound\"]).field(\"Accel X\", row[\"Accel X\"]).field(\"Accel Y\", row[\"Accel Y\"]).field(\"Accel Z\", row[\"Accel Z\"]).time(row[\"timestamp\"], WritePrecision.US)\n",
    "    points.append(point)\n",
    "    \n",
    "    # Lorsque le batch atteint la taille définie, on écrit dans InfluxDB\n",
    "    if len(points) == batch_size:\n",
    "        write_api.write(bucket=bucket, org=org, record=points)\n",
    "        points = []  # Réinitialiser le batch\n",
    "\n",
    "if points:\n",
    "    write_api.write(bucket=bucket, org=org, record=points)\n",
    "\n",
    "print(f\"Fichier {filename} importé avec succès !\")   \n"
   ],
   "metadata": {
    "collapsed": false,
    "ExecuteTime": {
     "end_time": "2024-11-19T13:53:12.936808500Z",
     "start_time": "2024-11-19T13:39:17.544442100Z"
    }
   },
   "id": "22b67469fd2be704"
  },
  {
   "cell_type": "code",
   "execution_count": 19,
   "outputs": [
    {
     "name": "stdout",
     "output_type": "stream",
     "text": [
      "2024-11-16 09:00:21.399980\n"
     ]
    }
   ],
   "source": [],
   "metadata": {
    "collapsed": false,
    "ExecuteTime": {
     "end_time": "2024-11-19T13:55:47.739687Z",
     "start_time": "2024-11-19T13:55:47.652119800Z"
    }
   },
   "id": "e023850401246e68"
  },
  {
   "cell_type": "code",
   "execution_count": null,
   "outputs": [],
   "source": [],
   "metadata": {
    "collapsed": false
   },
   "id": "74517fc055f338fa"
  }
 ],
 "metadata": {
  "kernelspec": {
   "display_name": "Python 3",
   "language": "python",
   "name": "python3"
  },
  "language_info": {
   "codemirror_mode": {
    "name": "ipython",
    "version": 2
   },
   "file_extension": ".py",
   "mimetype": "text/x-python",
   "name": "python",
   "nbconvert_exporter": "python",
   "pygments_lexer": "ipython2",
   "version": "2.7.6"
  }
 },
 "nbformat": 4,
 "nbformat_minor": 5
}
