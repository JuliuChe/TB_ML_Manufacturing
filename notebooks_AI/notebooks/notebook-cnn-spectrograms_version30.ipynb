{
 "cells": [
  {
   "cell_type": "code",
   "execution_count": 1,
   "id": "1099dc20",
   "metadata": {
    "execution": {
     "iopub.execute_input": "2025-02-25T17:45:09.111869Z",
     "iopub.status.busy": "2025-02-25T17:45:09.111616Z",
     "iopub.status.idle": "2025-02-25T17:45:09.118778Z",
     "shell.execute_reply": "2025-02-25T17:45:09.117773Z"
    },
    "papermill": {
     "duration": 0.016648,
     "end_time": "2025-02-25T17:45:09.120167",
     "exception": false,
     "start_time": "2025-02-25T17:45:09.103519",
     "status": "completed"
    },
    "tags": []
   },
   "outputs": [],
   "source": [
    "import os\n",
    "os.environ['PJRT_DEVICE'] = 'TPU'\n"
   ]
  },
  {
   "cell_type": "code",
   "execution_count": 2,
   "id": "25f17484",
   "metadata": {
    "_cell_guid": "b1076dfc-b9ad-4769-8c92-a6c4dae69d19",
    "_uuid": "8f2839f25d086af736a60e9eeb907d3b93b6e0e5",
    "execution": {
     "iopub.execute_input": "2025-02-25T17:45:09.133254Z",
     "iopub.status.busy": "2025-02-25T17:45:09.133025Z",
     "iopub.status.idle": "2025-02-25T17:45:17.268530Z",
     "shell.execute_reply": "2025-02-25T17:45:17.266952Z"
    },
    "papermill": {
     "duration": 8.143666,
     "end_time": "2025-02-25T17:45:17.269914",
     "exception": false,
     "start_time": "2025-02-25T17:45:09.126248",
     "status": "completed"
    },
    "tags": []
   },
   "outputs": [
    {
     "name": "stdout",
     "output_type": "stream",
     "text": [
      "/kaggle/input\n"
     ]
    },
    {
     "name": "stdout",
     "output_type": "stream",
     "text": [
      "/kaggle/input/mynumpyfiles\n"
     ]
    },
    {
     "name": "stdout",
     "output_type": "stream",
     "text": [
      "/kaggle/input/mynumpyfiles/NumpyDS\n"
     ]
    },
    {
     "name": "stdout",
     "output_type": "stream",
     "text": [
      "/kaggle/input/mynumpyfiles/NumpyDS/test_Npy_fold_1\n"
     ]
    },
    {
     "name": "stdout",
     "output_type": "stream",
     "text": [
      "/kaggle/input/mynumpyfiles/NumpyDS/train_Npy_fold_4\n"
     ]
    },
    {
     "name": "stdout",
     "output_type": "stream",
     "text": [
      "/kaggle/input/mynumpyfiles/NumpyDS/train_Npy_fold_2\n"
     ]
    },
    {
     "name": "stdout",
     "output_type": "stream",
     "text": [
      "/kaggle/input/mynumpyfiles/NumpyDS/train_Npy_fold_1\n"
     ]
    },
    {
     "name": "stdout",
     "output_type": "stream",
     "text": [
      "/kaggle/input/mynumpyfiles/NumpyDS/test_Npy_fold_0\n"
     ]
    },
    {
     "name": "stdout",
     "output_type": "stream",
     "text": [
      "/kaggle/input/mynumpyfiles/NumpyDS/test_Npy_fold_2\n"
     ]
    },
    {
     "name": "stdout",
     "output_type": "stream",
     "text": [
      "/kaggle/input/mynumpyfiles/NumpyDS/train_Npy_fold_0\n"
     ]
    },
    {
     "name": "stdout",
     "output_type": "stream",
     "text": [
      "/kaggle/input/mynumpyfiles/NumpyDS/test_Npy_fold_4\n"
     ]
    },
    {
     "name": "stdout",
     "output_type": "stream",
     "text": [
      "/kaggle/input/mynumpyfiles/NumpyDS/test_Npy_fold_3\n"
     ]
    },
    {
     "name": "stdout",
     "output_type": "stream",
     "text": [
      "/kaggle/input/mynumpyfiles/NumpyDS/train_Npy_fold_3\n"
     ]
    }
   ],
   "source": [
    "# This Python 3 environment comes with many helpful analytics libraries installed\n",
    "# It is defined by the kaggle/python Docker image: https://github.com/kaggle/docker-python\n",
    "# For example, here's several helpful packages to load\n",
    "import numpy as np # linear algebra\n",
    "import pandas as pd # data processing, CSV file I/O (e.g. pd.read_csv)\n",
    "\n",
    "# Input data files are available in the read-only \"../input/\" directory\n",
    "# For example, running this (by clicking run or pressing Shift+Enter) will list all files under the input directory\n",
    "\n",
    "import csv\n",
    "for dirname, _, filenames in os.walk('/kaggle/input'):\n",
    "    print(dirname)\n",
    "\n",
    "# You can write up to 20GB to the current directory (/kaggle/working/) that gets preserved as output when you create a version using \"Save & Run All\" \n",
    "# You can also write temporary files to /kaggle/temp/, but they won't be saved outside of the current session"
   ]
  },
  {
   "cell_type": "code",
   "execution_count": 3,
   "id": "c460bf97",
   "metadata": {
    "execution": {
     "iopub.execute_input": "2025-02-25T17:45:17.287183Z",
     "iopub.status.busy": "2025-02-25T17:45:17.286824Z",
     "iopub.status.idle": "2025-02-25T17:46:20.797152Z",
     "shell.execute_reply": "2025-02-25T17:46:20.795387Z"
    },
    "papermill": {
     "duration": 63.521519,
     "end_time": "2025-02-25T17:46:20.799484",
     "exception": false,
     "start_time": "2025-02-25T17:45:17.277965",
     "status": "completed"
    },
    "tags": []
   },
   "outputs": [
    {
     "name": "stdout",
     "output_type": "stream",
     "text": [
      "Requirement already satisfied: pip in /usr/local/lib/python3.10/site-packages (23.0.1)\r\n"
     ]
    },
    {
     "name": "stdout",
     "output_type": "stream",
     "text": [
      "Collecting pip\r\n"
     ]
    },
    {
     "name": "stdout",
     "output_type": "stream",
     "text": [
      "  Downloading pip-25.0.1-py3-none-any.whl (1.8 MB)\r\n",
      "\u001B[?25l     \u001B[90m━━━━━━━━━━━━━━━━━━━━━━━━━━━━━━━━━━━━━━━━\u001B[0m \u001B[32m0.0/1.8 MB\u001B[0m \u001B[31m?\u001B[0m eta \u001B[36m-:--:--\u001B[0m\r",
      "\u001B[2K     \u001B[91m━━━━━━━━━━━━\u001B[0m\u001B[91m╸\u001B[0m\u001B[90m━━━━━━━━━━━━━━━━━━━━━━━━━━━\u001B[0m \u001B[32m0.6/1.8 MB\u001B[0m \u001B[31m17.7 MB/s\u001B[0m eta \u001B[36m0:00:01\u001B[0m"
     ]
    },
    {
     "name": "stdout",
     "output_type": "stream",
     "text": [
      "\r",
      "\u001B[2K     \u001B[91m━━━━━━━━━━━━━━━━━━━━━━━━━━━━━━━━━━━\u001B[0m\u001B[90m╺\u001B[0m\u001B[90m━━━━\u001B[0m \u001B[32m1.6/1.8 MB\u001B[0m \u001B[31m24.3 MB/s\u001B[0m eta \u001B[36m0:00:01\u001B[0m\r",
      "\u001B[2K     \u001B[90m━━━━━━━━━━━━━━━━━━━━━━━━━━━━━━━━━━━━━━━━\u001B[0m \u001B[32m1.8/1.8 MB\u001B[0m \u001B[31m19.2 MB/s\u001B[0m eta \u001B[36m0:00:00\u001B[0m\r\n",
      "\u001B[?25h"
     ]
    },
    {
     "name": "stdout",
     "output_type": "stream",
     "text": [
      "Installing collected packages: pip\r\n",
      "  Attempting uninstall: pip\r\n",
      "    Found existing installation: pip 23.0.1\r\n"
     ]
    },
    {
     "name": "stdout",
     "output_type": "stream",
     "text": [
      "    Uninstalling pip-23.0.1:\r\n"
     ]
    },
    {
     "name": "stdout",
     "output_type": "stream",
     "text": [
      "      Successfully uninstalled pip-23.0.1\r\n"
     ]
    },
    {
     "name": "stdout",
     "output_type": "stream",
     "text": [
      "Successfully installed pip-25.0.1\r\n",
      "\u001B[33mWARNING: Running pip as the 'root' user can result in broken permissions and conflicting behaviour with the system package manager. It is recommended to use a virtual environment instead: https://pip.pypa.io/warnings/venv\u001B[0m\u001B[33m\r\n",
      "\u001B[0m"
     ]
    },
    {
     "name": "stdout",
     "output_type": "stream",
     "text": [
      "Found existing installation: tensorflow 2.18.0\r\n"
     ]
    },
    {
     "name": "stdout",
     "output_type": "stream",
     "text": [
      "Uninstalling tensorflow-2.18.0:\r\n"
     ]
    },
    {
     "name": "stdout",
     "output_type": "stream",
     "text": [
      "  Successfully uninstalled tensorflow-2.18.0\r\n"
     ]
    },
    {
     "name": "stdout",
     "output_type": "stream",
     "text": [
      "\u001B[33mWARNING: Running pip as the 'root' user can result in broken permissions and conflicting behaviour with the system package manager, possibly rendering your system unusable. It is recommended to use a virtual environment instead: https://pip.pypa.io/warnings/venv. Use the --root-user-action option if you know what you are doing and want to suppress this warning.\u001B[0m\u001B[33m\r\n",
      "\u001B[0m"
     ]
    },
    {
     "name": "stdout",
     "output_type": "stream",
     "text": [
      "Collecting tensorflow-cpu\r\n"
     ]
    },
    {
     "name": "stdout",
     "output_type": "stream",
     "text": [
      "  Downloading tensorflow_cpu-2.18.0-cp310-cp310-manylinux_2_17_x86_64.manylinux2014_x86_64.whl.metadata (4.1 kB)\r\n",
      "Requirement already satisfied: absl-py>=1.0.0 in /usr/local/lib/python3.10/site-packages (from tensorflow-cpu) (2.1.0)\r\n",
      "Requirement already satisfied: astunparse>=1.6.0 in /usr/local/lib/python3.10/site-packages (from tensorflow-cpu) (1.6.3)\r\n",
      "Requirement already satisfied: flatbuffers>=24.3.25 in /usr/local/lib/python3.10/site-packages (from tensorflow-cpu) (25.1.24)\r\n",
      "Requirement already satisfied: gast!=0.5.0,!=0.5.1,!=0.5.2,>=0.2.1 in /usr/local/lib/python3.10/site-packages (from tensorflow-cpu) (0.6.0)\r\n",
      "Requirement already satisfied: google-pasta>=0.1.1 in /usr/local/lib/python3.10/site-packages (from tensorflow-cpu) (0.2.0)\r\n"
     ]
    },
    {
     "name": "stdout",
     "output_type": "stream",
     "text": [
      "Requirement already satisfied: libclang>=13.0.0 in /usr/local/lib/python3.10/site-packages (from tensorflow-cpu) (18.1.1)\r\n",
      "Requirement already satisfied: opt-einsum>=2.3.2 in /usr/local/lib/python3.10/site-packages (from tensorflow-cpu) (3.4.0)\r\n",
      "Requirement already satisfied: packaging in /usr/local/lib/python3.10/site-packages (from tensorflow-cpu) (24.2)\r\n",
      "Requirement already satisfied: protobuf!=4.21.0,!=4.21.1,!=4.21.2,!=4.21.3,!=4.21.4,!=4.21.5,<6.0.0dev,>=3.20.3 in /usr/local/lib/python3.10/site-packages (from tensorflow-cpu) (5.29.3)\r\n",
      "Requirement already satisfied: requests<3,>=2.21.0 in /usr/local/lib/python3.10/site-packages (from tensorflow-cpu) (2.32.3)\r\n",
      "Requirement already satisfied: setuptools in /usr/local/lib/python3.10/site-packages (from tensorflow-cpu) (75.8.0)\r\n",
      "Requirement already satisfied: six>=1.12.0 in /usr/local/lib/python3.10/site-packages (from tensorflow-cpu) (1.17.0)\r\n",
      "Requirement already satisfied: termcolor>=1.1.0 in /usr/local/lib/python3.10/site-packages (from tensorflow-cpu) (2.5.0)\r\n",
      "Requirement already satisfied: typing-extensions>=3.6.6 in /usr/local/lib/python3.10/site-packages (from tensorflow-cpu) (4.12.2)\r\n",
      "Requirement already satisfied: wrapt>=1.11.0 in /usr/local/lib/python3.10/site-packages (from tensorflow-cpu) (1.17.2)\r\n",
      "Requirement already satisfied: grpcio<2.0,>=1.24.3 in /usr/local/lib/python3.10/site-packages (from tensorflow-cpu) (1.70.0)\r\n",
      "Requirement already satisfied: tensorboard<2.19,>=2.18 in /usr/local/lib/python3.10/site-packages (from tensorflow-cpu) (2.18.0)\r\n",
      "Requirement already satisfied: keras>=3.5.0 in /usr/local/lib/python3.10/site-packages (from tensorflow-cpu) (3.8.0)\r\n",
      "Requirement already satisfied: numpy<2.1.0,>=1.26.0 in /usr/local/lib/python3.10/site-packages (from tensorflow-cpu) (2.0.2)\r\n",
      "Requirement already satisfied: h5py>=3.11.0 in /usr/local/lib/python3.10/site-packages (from tensorflow-cpu) (3.12.1)\r\n",
      "Requirement already satisfied: ml-dtypes<0.5.0,>=0.4.0 in /usr/local/lib/python3.10/site-packages (from tensorflow-cpu) (0.4.1)\r\n",
      "Requirement already satisfied: tensorflow-io-gcs-filesystem>=0.23.1 in /usr/local/lib/python3.10/site-packages (from tensorflow-cpu) (0.37.1)\r\n",
      "Requirement already satisfied: wheel<1.0,>=0.23.0 in /usr/local/lib/python3.10/site-packages (from astunparse>=1.6.0->tensorflow-cpu) (0.45.1)\r\n",
      "Requirement already satisfied: rich in /usr/local/lib/python3.10/site-packages (from keras>=3.5.0->tensorflow-cpu) (13.9.4)\r\n",
      "Requirement already satisfied: namex in /usr/local/lib/python3.10/site-packages (from keras>=3.5.0->tensorflow-cpu) (0.0.8)\r\n",
      "Requirement already satisfied: optree in /usr/local/lib/python3.10/site-packages (from keras>=3.5.0->tensorflow-cpu) (0.14.0)\r\n",
      "Requirement already satisfied: charset-normalizer<4,>=2 in /usr/local/lib/python3.10/site-packages (from requests<3,>=2.21.0->tensorflow-cpu) (3.4.1)\r\n",
      "Requirement already satisfied: idna<4,>=2.5 in /usr/local/lib/python3.10/site-packages (from requests<3,>=2.21.0->tensorflow-cpu) (3.10)\r\n",
      "Requirement already satisfied: urllib3<3,>=1.21.1 in /usr/local/lib/python3.10/site-packages (from requests<3,>=2.21.0->tensorflow-cpu) (2.3.0)\r\n",
      "Requirement already satisfied: certifi>=2017.4.17 in /usr/local/lib/python3.10/site-packages (from requests<3,>=2.21.0->tensorflow-cpu) (2025.1.31)\r\n",
      "Requirement already satisfied: markdown>=2.6.8 in /usr/local/lib/python3.10/site-packages (from tensorboard<2.19,>=2.18->tensorflow-cpu) (3.7)\r\n",
      "Requirement already satisfied: tensorboard-data-server<0.8.0,>=0.7.0 in /usr/local/lib/python3.10/site-packages (from tensorboard<2.19,>=2.18->tensorflow-cpu) (0.7.2)\r\n",
      "Requirement already satisfied: werkzeug>=1.0.1 in /usr/local/lib/python3.10/site-packages (from tensorboard<2.19,>=2.18->tensorflow-cpu) (3.1.3)\r\n"
     ]
    },
    {
     "name": "stdout",
     "output_type": "stream",
     "text": [
      "Requirement already satisfied: MarkupSafe>=2.1.1 in /usr/local/lib/python3.10/site-packages (from werkzeug>=1.0.1->tensorboard<2.19,>=2.18->tensorflow-cpu) (3.0.2)\r\n",
      "Requirement already satisfied: markdown-it-py>=2.2.0 in /usr/local/lib/python3.10/site-packages (from rich->keras>=3.5.0->tensorflow-cpu) (3.0.0)\r\n",
      "Requirement already satisfied: pygments<3.0.0,>=2.13.0 in /usr/local/lib/python3.10/site-packages (from rich->keras>=3.5.0->tensorflow-cpu) (2.19.1)\r\n",
      "Requirement already satisfied: mdurl~=0.1 in /usr/local/lib/python3.10/site-packages (from markdown-it-py>=2.2.0->rich->keras>=3.5.0->tensorflow-cpu) (0.1.2)\r\n",
      "Downloading tensorflow_cpu-2.18.0-cp310-cp310-manylinux_2_17_x86_64.manylinux2014_x86_64.whl (230.0 MB)\r\n"
     ]
    },
    {
     "name": "stdout",
     "output_type": "stream",
     "text": [
      "\u001B[?25l   \u001B[90m━━━━━━━━━━━━━━━━━━━━━━━━━━━━━━━━━━━━━━━━\u001B[0m \u001B[32m0.0/230.0 MB\u001B[0m \u001B[31m?\u001B[0m eta \u001B[36m-:--:--\u001B[0m"
     ]
    },
    {
     "name": "stdout",
     "output_type": "stream",
     "text": [
      "\r",
      "\u001B[2K   \u001B[91m━\u001B[0m\u001B[91m╸\u001B[0m\u001B[90m━━━━━━━━━━━━━━━━━━━━━━━━━━━━━━━━━━━━━━\u001B[0m \u001B[32m11.0/230.0 MB\u001B[0m \u001B[31m60.9 MB/s\u001B[0m eta \u001B[36m0:00:04\u001B[0m"
     ]
    },
    {
     "name": "stdout",
     "output_type": "stream",
     "text": [
      "\r",
      "\u001B[2K   \u001B[91m━━━━━━━\u001B[0m\u001B[91m╸\u001B[0m\u001B[90m━━━━━━━━━━━━━━━━━━━━━━━━━━━━━━━━\u001B[0m \u001B[32m44.0/230.0 MB\u001B[0m \u001B[31m142.3 MB/s\u001B[0m eta \u001B[36m0:00:02\u001B[0m"
     ]
    },
    {
     "name": "stdout",
     "output_type": "stream",
     "text": [
      "\r",
      "\u001B[2K   \u001B[91m━━━━━━━━━━━\u001B[0m\u001B[90m╺\u001B[0m\u001B[90m━━━━━━━━━━━━━━━━━━━━━━━━━━━━\u001B[0m \u001B[32m64.2/230.0 MB\u001B[0m \u001B[31m110.3 MB/s\u001B[0m eta \u001B[36m0:00:02\u001B[0m"
     ]
    },
    {
     "name": "stdout",
     "output_type": "stream",
     "text": [
      "\r",
      "\u001B[2K   \u001B[91m━━━━━━━━━━━━\u001B[0m\u001B[91m╸\u001B[0m\u001B[90m━━━━━━━━━━━━━━━━━━━━━━━━━━━\u001B[0m \u001B[32m74.2/230.0 MB\u001B[0m \u001B[31m94.4 MB/s\u001B[0m eta \u001B[36m0:00:02\u001B[0m"
     ]
    },
    {
     "name": "stdout",
     "output_type": "stream",
     "text": [
      "\r",
      "\u001B[2K   \u001B[91m━━━━━━━━━━━━━━━━━\u001B[0m\u001B[90m╺\u001B[0m\u001B[90m━━━━━━━━━━━━━━━━━━━━━━\u001B[0m \u001B[32m99.9/230.0 MB\u001B[0m \u001B[31m101.1 MB/s\u001B[0m eta \u001B[36m0:00:02\u001B[0m"
     ]
    },
    {
     "name": "stdout",
     "output_type": "stream",
     "text": [
      "\r",
      "\u001B[2K   \u001B[91m━━━━━━━━━━━━━━━━━━━━━━━━━\u001B[0m\u001B[90m╺\u001B[0m\u001B[90m━━━━━━━━━━━━━\u001B[0m \u001B[32m149.2/230.0 MB\u001B[0m \u001B[31m126.0 MB/s\u001B[0m eta \u001B[36m0:00:01\u001B[0m"
     ]
    },
    {
     "name": "stdout",
     "output_type": "stream",
     "text": [
      "\r",
      "\u001B[2K   \u001B[91m━━━━━━━━━━━━━━━━━━━━━━━━━━\u001B[0m\u001B[90m╺\u001B[0m\u001B[90m━━━━━━━━━━━━\u001B[0m \u001B[32m154.4/230.0 MB\u001B[0m \u001B[31m113.6 MB/s\u001B[0m eta \u001B[36m0:00:01\u001B[0m"
     ]
    },
    {
     "name": "stdout",
     "output_type": "stream",
     "text": [
      "\r",
      "\u001B[2K   \u001B[91m━━━━━━━━━━━━━━━━━━━━━━━━━━━━━━━\u001B[0m\u001B[90m╺\u001B[0m\u001B[90m━━━━━━━\u001B[0m \u001B[32m185.6/230.0 MB\u001B[0m \u001B[31m116.4 MB/s\u001B[0m eta \u001B[36m0:00:01\u001B[0m"
     ]
    },
    {
     "name": "stdout",
     "output_type": "stream",
     "text": [
      "\r",
      "\u001B[2K   \u001B[91m━━━━━━━━━━━━━━━━━━━━━━━━━━━━━━━━━━\u001B[0m\u001B[91m╸\u001B[0m\u001B[90m━━━━\u001B[0m \u001B[32m203.7/230.0 MB\u001B[0m \u001B[31m113.6 MB/s\u001B[0m eta \u001B[36m0:00:01\u001B[0m"
     ]
    },
    {
     "name": "stdout",
     "output_type": "stream",
     "text": [
      "\r",
      "\u001B[2K   \u001B[91m━━━━━━━━━━━━━━━━━━━━━━━━━━━━━━━━━━━\u001B[0m\u001B[91m╸\u001B[0m\u001B[90m━━━\u001B[0m \u001B[32m211.0/230.0 MB\u001B[0m \u001B[31m105.6 MB/s\u001B[0m eta \u001B[36m0:00:01\u001B[0m"
     ]
    },
    {
     "name": "stdout",
     "output_type": "stream",
     "text": [
      "\r",
      "\u001B[2K   \u001B[91m━━━━━━━━━━━━━━━━━━━━━━━━━━━━━━━━━━━━━━\u001B[0m\u001B[91m╸\u001B[0m \u001B[32m229.9/230.0 MB\u001B[0m \u001B[31m110.7 MB/s\u001B[0m eta \u001B[36m0:00:01\u001B[0m"
     ]
    },
    {
     "name": "stdout",
     "output_type": "stream",
     "text": [
      "\r",
      "\u001B[2K   \u001B[91m━━━━━━━━━━━━━━━━━━━━━━━━━━━━━━━━━━━━━━\u001B[0m\u001B[91m╸\u001B[0m \u001B[32m229.9/230.0 MB\u001B[0m \u001B[31m110.7 MB/s\u001B[0m eta \u001B[36m0:00:01\u001B[0m"
     ]
    },
    {
     "name": "stdout",
     "output_type": "stream",
     "text": [
      "\r",
      "\u001B[2K   \u001B[91m━━━━━━━━━━━━━━━━━━━━━━━━━━━━━━━━━━━━━━\u001B[0m\u001B[91m╸\u001B[0m \u001B[32m229.9/230.0 MB\u001B[0m \u001B[31m110.7 MB/s\u001B[0m eta \u001B[36m0:00:01\u001B[0m"
     ]
    },
    {
     "name": "stdout",
     "output_type": "stream",
     "text": [
      "\r",
      "\u001B[2K   \u001B[91m━━━━━━━━━━━━━━━━━━━━━━━━━━━━━━━━━━━━━━\u001B[0m\u001B[91m╸\u001B[0m \u001B[32m229.9/230.0 MB\u001B[0m \u001B[31m110.7 MB/s\u001B[0m eta \u001B[36m0:00:01\u001B[0m"
     ]
    },
    {
     "name": "stdout",
     "output_type": "stream",
     "text": [
      "\r",
      "\u001B[2K   \u001B[91m━━━━━━━━━━━━━━━━━━━━━━━━━━━━━━━━━━━━━━\u001B[0m\u001B[91m╸\u001B[0m \u001B[32m229.9/230.0 MB\u001B[0m \u001B[31m110.7 MB/s\u001B[0m eta \u001B[36m0:00:01\u001B[0m"
     ]
    },
    {
     "name": "stdout",
     "output_type": "stream",
     "text": [
      "\r",
      "\u001B[2K   \u001B[91m━━━━━━━━━━━━━━━━━━━━━━━━━━━━━━━━━━━━━━\u001B[0m\u001B[91m╸\u001B[0m \u001B[32m229.9/230.0 MB\u001B[0m \u001B[31m110.7 MB/s\u001B[0m eta \u001B[36m0:00:01\u001B[0m"
     ]
    },
    {
     "name": "stdout",
     "output_type": "stream",
     "text": [
      "\r",
      "\u001B[2K   \u001B[91m━━━━━━━━━━━━━━━━━━━━━━━━━━━━━━━━━━━━━━\u001B[0m\u001B[91m╸\u001B[0m \u001B[32m229.9/230.0 MB\u001B[0m \u001B[31m110.7 MB/s\u001B[0m eta \u001B[36m0:00:01\u001B[0m"
     ]
    },
    {
     "name": "stdout",
     "output_type": "stream",
     "text": [
      "\r",
      "\u001B[2K   \u001B[91m━━━━━━━━━━━━━━━━━━━━━━━━━━━━━━━━━━━━━━\u001B[0m\u001B[91m╸\u001B[0m \u001B[32m229.9/230.0 MB\u001B[0m \u001B[31m110.7 MB/s\u001B[0m eta \u001B[36m0:00:01\u001B[0m"
     ]
    },
    {
     "name": "stdout",
     "output_type": "stream",
     "text": [
      "\r",
      "\u001B[2K   \u001B[91m━━━━━━━━━━━━━━━━━━━━━━━━━━━━━━━━━━━━━━\u001B[0m\u001B[91m╸\u001B[0m \u001B[32m229.9/230.0 MB\u001B[0m \u001B[31m110.7 MB/s\u001B[0m eta \u001B[36m0:00:01\u001B[0m"
     ]
    },
    {
     "name": "stdout",
     "output_type": "stream",
     "text": [
      "\r",
      "\u001B[2K   \u001B[91m━━━━━━━━━━━━━━━━━━━━━━━━━━━━━━━━━━━━━━\u001B[0m\u001B[91m╸\u001B[0m \u001B[32m229.9/230.0 MB\u001B[0m \u001B[31m110.7 MB/s\u001B[0m eta \u001B[36m0:00:01\u001B[0m"
     ]
    },
    {
     "name": "stdout",
     "output_type": "stream",
     "text": [
      "\r",
      "\u001B[2K   \u001B[91m━━━━━━━━━━━━━━━━━━━━━━━━━━━━━━━━━━━━━━\u001B[0m\u001B[91m╸\u001B[0m \u001B[32m229.9/230.0 MB\u001B[0m \u001B[31m110.7 MB/s\u001B[0m eta \u001B[36m0:00:01\u001B[0m"
     ]
    },
    {
     "name": "stdout",
     "output_type": "stream",
     "text": [
      "\r",
      "\u001B[2K   \u001B[91m━━━━━━━━━━━━━━━━━━━━━━━━━━━━━━━━━━━━━━\u001B[0m\u001B[91m╸\u001B[0m \u001B[32m229.9/230.0 MB\u001B[0m \u001B[31m110.7 MB/s\u001B[0m eta \u001B[36m0:00:01\u001B[0m"
     ]
    },
    {
     "name": "stdout",
     "output_type": "stream",
     "text": [
      "\r",
      "\u001B[2K   \u001B[91m━━━━━━━━━━━━━━━━━━━━━━━━━━━━━━━━━━━━━━\u001B[0m\u001B[91m╸\u001B[0m \u001B[32m229.9/230.0 MB\u001B[0m \u001B[31m110.7 MB/s\u001B[0m eta \u001B[36m0:00:01\u001B[0m"
     ]
    },
    {
     "name": "stdout",
     "output_type": "stream",
     "text": [
      "\r",
      "\u001B[2K   \u001B[91m━━━━━━━━━━━━━━━━━━━━━━━━━━━━━━━━━━━━━━\u001B[0m\u001B[91m╸\u001B[0m \u001B[32m229.9/230.0 MB\u001B[0m \u001B[31m110.7 MB/s\u001B[0m eta \u001B[36m0:00:01\u001B[0m"
     ]
    },
    {
     "name": "stdout",
     "output_type": "stream",
     "text": [
      "\r",
      "\u001B[2K   \u001B[91m━━━━━━━━━━━━━━━━━━━━━━━━━━━━━━━━━━━━━━\u001B[0m\u001B[91m╸\u001B[0m \u001B[32m229.9/230.0 MB\u001B[0m \u001B[31m110.7 MB/s\u001B[0m eta \u001B[36m0:00:01\u001B[0m"
     ]
    },
    {
     "name": "stdout",
     "output_type": "stream",
     "text": [
      "\r",
      "\u001B[2K   \u001B[91m━━━━━━━━━━━━━━━━━━━━━━━━━━━━━━━━━━━━━━\u001B[0m\u001B[91m╸\u001B[0m \u001B[32m229.9/230.0 MB\u001B[0m \u001B[31m110.7 MB/s\u001B[0m eta \u001B[36m0:00:01\u001B[0m"
     ]
    },
    {
     "name": "stdout",
     "output_type": "stream",
     "text": [
      "\r",
      "\u001B[2K   \u001B[91m━━━━━━━━━━━━━━━━━━━━━━━━━━━━━━━━━━━━━━\u001B[0m\u001B[91m╸\u001B[0m \u001B[32m229.9/230.0 MB\u001B[0m \u001B[31m110.7 MB/s\u001B[0m eta \u001B[36m0:00:01\u001B[0m"
     ]
    },
    {
     "name": "stdout",
     "output_type": "stream",
     "text": [
      "\r",
      "\u001B[2K   \u001B[91m━━━━━━━━━━━━━━━━━━━━━━━━━━━━━━━━━━━━━━\u001B[0m\u001B[91m╸\u001B[0m \u001B[32m229.9/230.0 MB\u001B[0m \u001B[31m110.7 MB/s\u001B[0m eta \u001B[36m0:00:01\u001B[0m"
     ]
    },
    {
     "name": "stdout",
     "output_type": "stream",
     "text": [
      "\r",
      "\u001B[2K   \u001B[91m━━━━━━━━━━━━━━━━━━━━━━━━━━━━━━━━━━━━━━\u001B[0m\u001B[91m╸\u001B[0m \u001B[32m229.9/230.0 MB\u001B[0m \u001B[31m110.7 MB/s\u001B[0m eta \u001B[36m0:00:01\u001B[0m"
     ]
    },
    {
     "name": "stdout",
     "output_type": "stream",
     "text": [
      "\r",
      "\u001B[2K   \u001B[91m━━━━━━━━━━━━━━━━━━━━━━━━━━━━━━━━━━━━━━\u001B[0m\u001B[91m╸\u001B[0m \u001B[32m229.9/230.0 MB\u001B[0m \u001B[31m110.7 MB/s\u001B[0m eta \u001B[36m0:00:01\u001B[0m"
     ]
    },
    {
     "name": "stdout",
     "output_type": "stream",
     "text": [
      "\r",
      "\u001B[2K   \u001B[91m━━━━━━━━━━━━━━━━━━━━━━━━━━━━━━━━━━━━━━\u001B[0m\u001B[91m╸\u001B[0m \u001B[32m229.9/230.0 MB\u001B[0m \u001B[31m110.7 MB/s\u001B[0m eta \u001B[36m0:00:01\u001B[0m"
     ]
    },
    {
     "name": "stdout",
     "output_type": "stream",
     "text": [
      "\r",
      "\u001B[2K   \u001B[91m━━━━━━━━━━━━━━━━━━━━━━━━━━━━━━━━━━━━━━\u001B[0m\u001B[91m╸\u001B[0m \u001B[32m229.9/230.0 MB\u001B[0m \u001B[31m110.7 MB/s\u001B[0m eta \u001B[36m0:00:01\u001B[0m"
     ]
    },
    {
     "name": "stdout",
     "output_type": "stream",
     "text": [
      "\r",
      "\u001B[2K   \u001B[91m━━━━━━━━━━━━━━━━━━━━━━━━━━━━━━━━━━━━━━\u001B[0m\u001B[91m╸\u001B[0m \u001B[32m229.9/230.0 MB\u001B[0m \u001B[31m110.7 MB/s\u001B[0m eta \u001B[36m0:00:01\u001B[0m"
     ]
    },
    {
     "name": "stdout",
     "output_type": "stream",
     "text": [
      "\r",
      "\u001B[2K   \u001B[91m━━━━━━━━━━━━━━━━━━━━━━━━━━━━━━━━━━━━━━\u001B[0m\u001B[91m╸\u001B[0m \u001B[32m229.9/230.0 MB\u001B[0m \u001B[31m110.7 MB/s\u001B[0m eta \u001B[36m0:00:01\u001B[0m"
     ]
    },
    {
     "name": "stdout",
     "output_type": "stream",
     "text": [
      "\r",
      "\u001B[2K   \u001B[90m━━━━━━━━━━━━━━━━━━━━━━━━━━━━━━━━━━━━━━━━\u001B[0m \u001B[32m230.0/230.0 MB\u001B[0m \u001B[31m33.3 MB/s\u001B[0m eta \u001B[36m0:00:00\u001B[0m\r\n",
      "\u001B[?25h"
     ]
    },
    {
     "name": "stdout",
     "output_type": "stream",
     "text": [
      "Installing collected packages: tensorflow-cpu\r\n"
     ]
    },
    {
     "name": "stdout",
     "output_type": "stream",
     "text": [
      "Successfully installed tensorflow-cpu-2.18.0\r\n",
      "\u001B[33mWARNING: Running pip as the 'root' user can result in broken permissions and conflicting behaviour with the system package manager, possibly rendering your system unusable. It is recommended to use a virtual environment instead: https://pip.pypa.io/warnings/venv. Use the --root-user-action option if you know what you are doing and want to suppress this warning.\u001B[0m\u001B[33m\r\n",
      "\u001B[0m"
     ]
    }
   ],
   "source": [
    "!pip install --upgrade pip\n",
    "!pip uninstall -y tensorflow && pip install tensorflow-cpu\n"
   ]
  },
  {
   "cell_type": "code",
   "execution_count": 4,
   "id": "b5878a5d",
   "metadata": {
    "execution": {
     "iopub.execute_input": "2025-02-25T17:46:20.823792Z",
     "iopub.status.busy": "2025-02-25T17:46:20.823440Z",
     "iopub.status.idle": "2025-02-25T17:46:55.012333Z",
     "shell.execute_reply": "2025-02-25T17:46:55.011061Z"
    },
    "papermill": {
     "duration": 34.204235,
     "end_time": "2025-02-25T17:46:55.015011",
     "exception": false,
     "start_time": "2025-02-25T17:46:20.810776",
     "status": "completed"
    },
    "tags": []
   },
   "outputs": [],
   "source": [
    "import torch_xla\n",
    "import torch_xla.distributed.parallel_loader as pl\n",
    "import torch_xla.utils.utils as xu\n",
    "import torch_xla.core.xla_model as xm\n",
    "import torch_xla.distributed.xla_multiprocessing as xmp\n",
    "import torch_xla.test.test_utils as test_utils\n",
    "import torch_xla.runtime as xr\n",
    "\n",
    "from torch_xla.distributed.parallel_loader import MpDeviceLoader\n",
    "\n",
    "import torch\n",
    "import torchaudio\n",
    "from torchaudio import transforms\n",
    "\n",
    "import math, random\n",
    "\n",
    "\n",
    "import matplotlib.pyplot as plt\n",
    "import warnings\n",
    "warnings.filterwarnings(\"ignore\")"
   ]
  },
  {
   "cell_type": "code",
   "execution_count": 5,
   "id": "8260354e",
   "metadata": {
    "execution": {
     "iopub.execute_input": "2025-02-25T17:46:55.036939Z",
     "iopub.status.busy": "2025-02-25T17:46:55.036561Z",
     "iopub.status.idle": "2025-02-25T17:46:55.115954Z",
     "shell.execute_reply": "2025-02-25T17:46:55.114542Z"
    },
    "papermill": {
     "duration": 0.092705,
     "end_time": "2025-02-25T17:46:55.118149",
     "exception": false,
     "start_time": "2025-02-25T17:46:55.025444",
     "status": "completed"
    },
    "tags": []
   },
   "outputs": [],
   "source": [
    "myMeta=\"/kaggle/input/mynumpyfiles/NumpyDS/GlobalFoldsFiles_Train_Test_Augmented_Cleaned.csv\"\n",
    "myGlobalDs=pd.read_csv(myMeta)\n",
    "myGlobalDs.drop(myGlobalDs.columns[myGlobalDs.columns.str.contains('unnamed',case = False)],axis = 1, inplace = True)\n",
    "myGlobalDs[\"FilePath\"] = [fpath.replace(\"\\\\\", \"/\") for fpath in myGlobalDs[\"FilePath\"]]"
   ]
  },
  {
   "cell_type": "code",
   "execution_count": 6,
   "id": "ed5ea9d1",
   "metadata": {
    "execution": {
     "iopub.execute_input": "2025-02-25T17:46:55.140910Z",
     "iopub.status.busy": "2025-02-25T17:46:55.140556Z",
     "iopub.status.idle": "2025-02-25T17:46:55.164764Z",
     "shell.execute_reply": "2025-02-25T17:46:55.163510Z"
    },
    "papermill": {
     "duration": 0.037877,
     "end_time": "2025-02-25T17:46:55.166471",
     "exception": false,
     "start_time": "2025-02-25T17:46:55.128594",
     "status": "completed"
    },
    "tags": []
   },
   "outputs": [
    {
     "data": {
      "text/html": [
       "<div>\n",
       "<style scoped>\n",
       "    .dataframe tbody tr th:only-of-type {\n",
       "        vertical-align: middle;\n",
       "    }\n",
       "\n",
       "    .dataframe tbody tr th {\n",
       "        vertical-align: top;\n",
       "    }\n",
       "\n",
       "    .dataframe thead th {\n",
       "        text-align: right;\n",
       "    }\n",
       "</style>\n",
       "<table border=\"1\" class=\"dataframe\">\n",
       "  <thead>\n",
       "    <tr style=\"text-align: right;\">\n",
       "      <th></th>\n",
       "      <th>Fold</th>\n",
       "      <th>Type</th>\n",
       "      <th>nb</th>\n",
       "      <th>Label</th>\n",
       "      <th>condLabel</th>\n",
       "      <th>FileName</th>\n",
       "      <th>FilePath</th>\n",
       "      <th>LabelIDs</th>\n",
       "    </tr>\n",
       "  </thead>\n",
       "  <tbody>\n",
       "    <tr>\n",
       "      <th>0</th>\n",
       "      <td>0</td>\n",
       "      <td>Test</td>\n",
       "      <td>5.0</td>\n",
       "      <td>10_T02 M06 (VHM 309-12)</td>\n",
       "      <td>VHM</td>\n",
       "      <td>0006_label_T02 M06 (VHM 309-12).npy</td>\n",
       "      <td>test_Npy_fold_0/0006_label_T02 M06 (VHM 309-12...</td>\n",
       "      <td>0</td>\n",
       "    </tr>\n",
       "    <tr>\n",
       "      <th>1</th>\n",
       "      <td>0</td>\n",
       "      <td>Test</td>\n",
       "      <td>21.0</td>\n",
       "      <td>10_T02 M06 (VHM 309-12)</td>\n",
       "      <td>VHM</td>\n",
       "      <td>0022_label_T02 M06 (VHM 309-12).npy</td>\n",
       "      <td>test_Npy_fold_0/0022_label_T02 M06 (VHM 309-12...</td>\n",
       "      <td>0</td>\n",
       "    </tr>\n",
       "    <tr>\n",
       "      <th>2</th>\n",
       "      <td>0</td>\n",
       "      <td>Test</td>\n",
       "      <td>27.0</td>\n",
       "      <td>10_T02 M06 (VHM 309-12)</td>\n",
       "      <td>VHM</td>\n",
       "      <td>0028_label_T02 M06 (VHM 309-12).npy</td>\n",
       "      <td>test_Npy_fold_0/0028_label_T02 M06 (VHM 309-12...</td>\n",
       "      <td>0</td>\n",
       "    </tr>\n",
       "    <tr>\n",
       "      <th>3</th>\n",
       "      <td>0</td>\n",
       "      <td>Test</td>\n",
       "      <td>29.0</td>\n",
       "      <td>10_T02 M06 (VHM 309-12)</td>\n",
       "      <td>VHM</td>\n",
       "      <td>0030_label_T02 M06 (VHM 309-12).npy</td>\n",
       "      <td>test_Npy_fold_0/0030_label_T02 M06 (VHM 309-12...</td>\n",
       "      <td>0</td>\n",
       "    </tr>\n",
       "    <tr>\n",
       "      <th>4</th>\n",
       "      <td>0</td>\n",
       "      <td>Test</td>\n",
       "      <td>33.0</td>\n",
       "      <td>10_T02 M06 (VHM 309-12)</td>\n",
       "      <td>VHM</td>\n",
       "      <td>0034_label_T02 M06 (VHM 309-12).npy</td>\n",
       "      <td>test_Npy_fold_0/0034_label_T02 M06 (VHM 309-12...</td>\n",
       "      <td>0</td>\n",
       "    </tr>\n",
       "  </tbody>\n",
       "</table>\n",
       "</div>"
      ],
      "text/plain": [
       "   Fold  Type    nb                    Label condLabel  \\\n",
       "0     0  Test   5.0  10_T02 M06 (VHM 309-12)       VHM   \n",
       "1     0  Test  21.0  10_T02 M06 (VHM 309-12)       VHM   \n",
       "2     0  Test  27.0  10_T02 M06 (VHM 309-12)       VHM   \n",
       "3     0  Test  29.0  10_T02 M06 (VHM 309-12)       VHM   \n",
       "4     0  Test  33.0  10_T02 M06 (VHM 309-12)       VHM   \n",
       "\n",
       "                              FileName  \\\n",
       "0  0006_label_T02 M06 (VHM 309-12).npy   \n",
       "1  0022_label_T02 M06 (VHM 309-12).npy   \n",
       "2  0028_label_T02 M06 (VHM 309-12).npy   \n",
       "3  0030_label_T02 M06 (VHM 309-12).npy   \n",
       "4  0034_label_T02 M06 (VHM 309-12).npy   \n",
       "\n",
       "                                            FilePath  LabelIDs  \n",
       "0  test_Npy_fold_0/0006_label_T02 M06 (VHM 309-12...         0  \n",
       "1  test_Npy_fold_0/0022_label_T02 M06 (VHM 309-12...         0  \n",
       "2  test_Npy_fold_0/0028_label_T02 M06 (VHM 309-12...         0  \n",
       "3  test_Npy_fold_0/0030_label_T02 M06 (VHM 309-12...         0  \n",
       "4  test_Npy_fold_0/0034_label_T02 M06 (VHM 309-12...         0  "
      ]
     },
     "execution_count": 6,
     "metadata": {},
     "output_type": "execute_result"
    }
   ],
   "source": [
    "myGlobalDs.head()"
   ]
  },
  {
   "cell_type": "code",
   "execution_count": 7,
   "id": "cfcba4c6",
   "metadata": {
    "execution": {
     "iopub.execute_input": "2025-02-25T17:46:55.189025Z",
     "iopub.status.busy": "2025-02-25T17:46:55.188739Z",
     "iopub.status.idle": "2025-02-25T17:46:55.205951Z",
     "shell.execute_reply": "2025-02-25T17:46:55.205194Z"
    },
    "papermill": {
     "duration": 0.031088,
     "end_time": "2025-02-25T17:46:55.208053",
     "exception": false,
     "start_time": "2025-02-25T17:46:55.176965",
     "status": "completed"
    },
    "tags": []
   },
   "outputs": [
    {
     "data": {
      "text/html": [
       "<div>\n",
       "<style scoped>\n",
       "    .dataframe tbody tr th:only-of-type {\n",
       "        vertical-align: middle;\n",
       "    }\n",
       "\n",
       "    .dataframe tbody tr th {\n",
       "        vertical-align: top;\n",
       "    }\n",
       "\n",
       "    .dataframe thead th {\n",
       "        text-align: right;\n",
       "    }\n",
       "</style>\n",
       "<table border=\"1\" class=\"dataframe\">\n",
       "  <thead>\n",
       "    <tr style=\"text-align: right;\">\n",
       "      <th></th>\n",
       "      <th>Fold</th>\n",
       "      <th>nb</th>\n",
       "      <th>LabelIDs</th>\n",
       "    </tr>\n",
       "  </thead>\n",
       "  <tbody>\n",
       "    <tr>\n",
       "      <th>count</th>\n",
       "      <td>11780.000000</td>\n",
       "      <td>7215.000000</td>\n",
       "      <td>11780.000000</td>\n",
       "    </tr>\n",
       "    <tr>\n",
       "      <th>mean</th>\n",
       "      <td>2.000000</td>\n",
       "      <td>991.312266</td>\n",
       "      <td>4.573005</td>\n",
       "    </tr>\n",
       "    <tr>\n",
       "      <th>std</th>\n",
       "      <td>1.414274</td>\n",
       "      <td>533.009652</td>\n",
       "      <td>3.262599</td>\n",
       "    </tr>\n",
       "    <tr>\n",
       "      <th>min</th>\n",
       "      <td>0.000000</td>\n",
       "      <td>5.000000</td>\n",
       "      <td>0.000000</td>\n",
       "    </tr>\n",
       "    <tr>\n",
       "      <th>25%</th>\n",
       "      <td>1.000000</td>\n",
       "      <td>515.000000</td>\n",
       "      <td>2.000000</td>\n",
       "    </tr>\n",
       "    <tr>\n",
       "      <th>50%</th>\n",
       "      <td>2.000000</td>\n",
       "      <td>1010.000000</td>\n",
       "      <td>5.000000</td>\n",
       "    </tr>\n",
       "    <tr>\n",
       "      <th>75%</th>\n",
       "      <td>3.000000</td>\n",
       "      <td>1477.000000</td>\n",
       "      <td>7.000000</td>\n",
       "    </tr>\n",
       "    <tr>\n",
       "      <th>max</th>\n",
       "      <td>4.000000</td>\n",
       "      <td>1837.000000</td>\n",
       "      <td>10.000000</td>\n",
       "    </tr>\n",
       "  </tbody>\n",
       "</table>\n",
       "</div>"
      ],
      "text/plain": [
       "               Fold           nb      LabelIDs\n",
       "count  11780.000000  7215.000000  11780.000000\n",
       "mean       2.000000   991.312266      4.573005\n",
       "std        1.414274   533.009652      3.262599\n",
       "min        0.000000     5.000000      0.000000\n",
       "25%        1.000000   515.000000      2.000000\n",
       "50%        2.000000  1010.000000      5.000000\n",
       "75%        3.000000  1477.000000      7.000000\n",
       "max        4.000000  1837.000000     10.000000"
      ]
     },
     "execution_count": 7,
     "metadata": {},
     "output_type": "execute_result"
    }
   ],
   "source": [
    "myGlobalDs.describe()"
   ]
  },
  {
   "cell_type": "code",
   "execution_count": 8,
   "id": "f58e7655",
   "metadata": {
    "execution": {
     "iopub.execute_input": "2025-02-25T17:46:55.230749Z",
     "iopub.status.busy": "2025-02-25T17:46:55.230480Z",
     "iopub.status.idle": "2025-02-25T17:46:59.163087Z",
     "shell.execute_reply": "2025-02-25T17:46:59.161967Z"
    },
    "papermill": {
     "duration": 3.946577,
     "end_time": "2025-02-25T17:46:59.165275",
     "exception": false,
     "start_time": "2025-02-25T17:46:55.218698",
     "status": "completed"
    },
    "tags": []
   },
   "outputs": [],
   "source": [
    "\n",
    "\n",
    "\n",
    "class DataUtils():\n",
    "\n",
    "\n",
    "    #---------------------------------------------\n",
    "    #Align the data to have a fixed duration.\n",
    "    #---------------------------------------------\n",
    "    @staticmethod\n",
    "    def padTruncate(mySig, maxTime, fs):\n",
    "        \"\"\"Pad or truncate the data to have a fixed duration.\n",
    "        Args:\n",
    "            mySig: the signal as a list\n",
    "            maxTime: The maximum time in milliseconds.\n",
    "            fs: the sampling rate in Hz    \n",
    "            \"\"\"\n",
    "        sLen = mySig.shape[0]\n",
    "        trunc=0\n",
    "        maxLen=int(maxTime*int(fs/1000))\n",
    "        if sLen > maxLen:\n",
    "            trunc=1\n",
    "            mySig = mySig[:, :maxLen]\n",
    "        elif sLen < maxLen:\n",
    "            trunc=-1\n",
    "            mySig = np.pad(mySig, ((0, int(maxLen - sLen)),(0,0)), mode='wrap')\n",
    "        \n",
    "        return (trunc, len(mySig), mySig)\n",
    "    \n",
    "    \n",
    "    # ----------------------------\n",
    "    # Generate a Mel Spectrogram Excellent for Audio Data\n",
    "    # ----------------------------\n",
    "    @staticmethod\n",
    "    def mel_spectro_gram(mySig, n_mels=64, n_fft=1024, hop_len=None, fs=50000):\n",
    "        if hop_len is None:\n",
    "            hop_len = n_fft // 4\n",
    "            \n",
    "        top_db = 80\n",
    "        mySig=mySig.astype(np.float32)\n",
    "        mySigTensor=torch.from_numpy(mySig.T)\n",
    "        # spec has shape [channel, n_mels, time], where channel is mono, stereo etc\n",
    "        spec = transforms.MelSpectrogram(fs, n_fft=n_fft, hop_length=hop_len, n_mels=n_mels)(mySigTensor)\n",
    "        # Convert to decibels\n",
    "        spec = transforms.AmplitudeToDB(top_db=top_db)(spec)\n",
    "        spec = spec.unsqueeze(0) if spec.dim() == 2 else spec\n",
    "        return (spec, hop_len)\n",
    "    \n",
    "    # ----------------------------\n",
    "    # Generate a \"classic\" Spectrogram for Accelerometer Data (and applied to audio data as well)\n",
    "    # ----------------------------\n",
    "    @staticmethod\n",
    "    def spectro_gram(mySig, n_fft=1024, hop_len=None, fs=50000):\n",
    "        if hop_len is None:\n",
    "            hop_len = n_fft // 4\n",
    "            \n",
    "        mySig=mySig.astype(np.float32)\n",
    "        mySigTensor=torch.from_numpy(mySig.T)\n",
    "        # spec has shape [channel, n_mels, time], where channel is mono, stereo etc\n",
    "        spec = transforms.Spectrogram(n_fft=n_fft, hop_length=hop_len, power=2)(mySigTensor)\n",
    "        # Convert to decibels\n",
    "        spec = transforms.AmplitudeToDB()(spec)\n",
    "        spec = spec.unsqueeze(0) if spec.dim() == 2 else spec\n",
    "        return (spec, hop_len)\n",
    "    \n",
    "    # ----------------------------\n",
    "    # Visualize a Spectrogram\n",
    "    # ----------------------------\n",
    "    @staticmethod\n",
    "    def show_spectrogram(spec, fs=50000, hop=256, title=\"Spectrogram\", ylabel='Mel Frequency Bands', channels=['Sound', 'AccX', 'AccY', 'AccZ'], mel=False):\n",
    "        nbChannels=spec.shape[0]\n",
    "        fig, axs = plt.subplots(nbChannels, 1, figsize=(18, 12))\n",
    "        if nbChannels==1:\n",
    "            axs=[axs]\n",
    "        timeAxis=np.arange(0, spec.shape[2]*hop, hop)/fs\n",
    "        freqAxis = np.linspace(0, fs / 2, spec.shape[1])\n",
    "        for i in range(nbChannels):\n",
    "            if mel:\n",
    "                img=axs[i].imshow(spec[i].detach().numpy(), aspect='auto', origin='lower', cmap='viridis', extent=[timeAxis[0], timeAxis[-1], 0, spec[i].shape[0]])\n",
    "            else:\n",
    "                img=axs[i].imshow(spec[i].detach().numpy(), aspect='auto', origin='lower', cmap='viridis', extent=[timeAxis[0], timeAxis[-1], freqAxis[0], freqAxis[-1]])\n",
    "                \n",
    "            axs[i].set_title(f\"Channel {channels[i]}\")\n",
    "            axs[i].set_ylabel(ylabel)\n",
    "        plt.xlabel('Time [s]')\n",
    "        plt.suptitle(title)\n",
    "        plt.colorbar(img, ax=axs, orientation='vertical')\n",
    "        plt.show()\n",
    "        \n",
    "    # ----------------------------\n",
    "    # Augment a Spectrogram\n",
    "    # ----------------------------\n",
    "    @staticmethod\n",
    "    def spectro_Augment(spectro, maxMaskPercentage=0.1,nFreqMask=1, nTimeMasks=1):\n",
    "        \"\"\"Augmente ou diminue certaines fréquences du signal\"\"\"\n",
    "        nChannel, nFreq, nSteps = spectro.shape\n",
    "        mask_value=spectro.mean()\n",
    "        aug_spec=spectro.clone()\n",
    "        freqMaskParam=maxMaskPercentage*nFreq\n",
    "        timeMaskParam=maxMaskPercentage*nSteps\n",
    "        \n",
    "        for ch in range(nChannel):\n",
    "            channelSpec=aug_spec[ch]\n",
    "            for _ in range(nFreqMask):\n",
    "                channelSpec=transforms.FrequencyMasking(freqMaskParam)(channelSpec, mask_value)\n",
    "\n",
    "            for _ in range(nTimeMasks):\n",
    "                channelSpec=transforms.TimeMasking(timeMaskParam)(channelSpec, mask_value)\n",
    "            aug_spec[ch]=channelSpec\n",
    "            \n",
    "        return aug_spec\n",
    "        \n"
   ]
  },
  {
   "cell_type": "code",
   "execution_count": 9,
   "id": "d93bb957",
   "metadata": {
    "execution": {
     "iopub.execute_input": "2025-02-25T17:46:59.187509Z",
     "iopub.status.busy": "2025-02-25T17:46:59.187148Z",
     "iopub.status.idle": "2025-02-25T17:46:59.194168Z",
     "shell.execute_reply": "2025-02-25T17:46:59.192941Z"
    },
    "papermill": {
     "duration": 0.019921,
     "end_time": "2025-02-25T17:46:59.195395",
     "exception": false,
     "start_time": "2025-02-25T17:46:59.175474",
     "status": "completed"
    },
    "tags": []
   },
   "outputs": [],
   "source": [
    "\n",
    "from torch.utils.data import DataLoader, Dataset\n",
    "\n",
    "#Creation of a custom class that implements methods from the Dataset class\n",
    "# - Must implement __getitem__(self, odx) and __init__(self)\n",
    "# - Can implement __len__(self) if you want to use the len() function\n",
    "\n",
    "\n",
    "class DataDS(Dataset):\n",
    "    #Initialize the Datset that will be used by the model for training and testing\n",
    "    def __init__(self, df, datapath):\n",
    "        self.df=df #Dataframe containing metadata such as files name, fold number, train/test and labels.\n",
    "        self.datapath=str(datapath)\n",
    "        self.duration=5001.24\n",
    "        self.fs=50000\n",
    "        self.channel=4\n",
    "        \n",
    "    def __len__(self):\n",
    "        return len(self.df)\n",
    "    \n",
    "    \n",
    "    # The getitiem function will :\n",
    "    #   - load the .npy file \n",
    "    #   - Pad or truncate the data\n",
    "    #   - Compute the spectrogram of the Data\n",
    "    #   - Return an augmented spectrogram (WITH 2 FREQUENCIES AND 2 tIMES MASKED)\n",
    "    def __getitem__(self, idx):\n",
    "        row=self.df.iloc[idx]\n",
    "        dirFile=os.path.join(self.datapath,row['FilePath'])\n",
    "        observationLoad=np.load(dirFile)\n",
    "        labelId=row['LabelIDs']\n",
    "        _, lenObs, obs=DataUtils.padTruncate(observationLoad, self.duration, self.fs)\n",
    "        spec, _ = DataUtils.spectro_gram(obs, n_fft=1024, hop_len=None, fs=self.fs)\n",
    "        augspec=DataUtils.spectro_Augment(spec, maxMaskPercentage=0.1,nFreqMask=2, nTimeMasks=2)\n",
    "        return (augspec, labelId)"
   ]
  },
  {
   "cell_type": "code",
   "execution_count": 10,
   "id": "89853df3",
   "metadata": {
    "execution": {
     "iopub.execute_input": "2025-02-25T17:46:59.217338Z",
     "iopub.status.busy": "2025-02-25T17:46:59.217056Z",
     "iopub.status.idle": "2025-02-25T17:46:59.229965Z",
     "shell.execute_reply": "2025-02-25T17:46:59.228717Z"
    },
    "papermill": {
     "duration": 0.02633,
     "end_time": "2025-02-25T17:46:59.231903",
     "exception": false,
     "start_time": "2025-02-25T17:46:59.205573",
     "status": "completed"
    },
    "tags": []
   },
   "outputs": [],
   "source": [
    "import torch.nn.functional as F\n",
    "import torch.nn as nn\n",
    "from torch.nn import init\n",
    "#       Spectrogram   |  Shape  (nbChannel, nbFreq, nbTime)|  DataType \n",
    "#Augmented Spec shape |        torch.Size([4, 513, 977])   |  torch.FloatTensor\n",
    "\n",
    "# ----------------------------\n",
    "# Audio Classification Model\n",
    "# ----------------------------\n",
    "class ToolClassifier (nn.Module):\n",
    "    # ----------------------------\n",
    "    # Build the model architecture\n",
    "    # ----------------------------\n",
    "    def __init__(self):\n",
    "        super().__init__()\n",
    "        conv_layers = []\n",
    "\n",
    "        # First Convolution Block with Relu and Batch Norm. Use Kaiming Initialization\n",
    "        #torch.nn.Conv2d(in_channels, out_channels, kernel_size, stride=1, padding=0, dilation=1, groups=1, bias=True, padding_mode='zeros', device=None, dtype=None)\n",
    "        #This convolution block \n",
    "        inChannels=4\n",
    "        outChannels=16\n",
    "        self.conv1 = nn.Conv2d(inChannels, outChannels, kernel_size=(5, 5), stride=(2, 2), padding=(2, 2))\n",
    "        self.relu1 = nn.ReLU()\n",
    "        self.bn1 = nn.BatchNorm2d(outChannels)\n",
    "        init.kaiming_normal_(self.conv1.weight, a=0.1)\n",
    "        self.conv1.bias.data.zero_()\n",
    "        conv_layers += [self.conv1, self.relu1, self.bn1]\n",
    "\n",
    "        # Second Convolution Block\n",
    "        inChannels=16\n",
    "        outChannels=32\n",
    "        self.conv2 = nn.Conv2d(inChannels, outChannels, kernel_size=(3, 3), stride=(2, 2), padding=(1, 1))\n",
    "        self.relu2 = nn.ReLU()\n",
    "        self.bn2 = nn.BatchNorm2d(outChannels)\n",
    "        init.kaiming_normal_(self.conv2.weight, a=0.1)\n",
    "        self.conv2.bias.data.zero_()\n",
    "        conv_layers += [self.conv2, self.relu2, self.bn2]\n",
    "\n",
    "        # Third Convolution Block\n",
    "        inChannels=32\n",
    "        outChannels=64\n",
    "        self.conv3 = nn.Conv2d(inChannels, outChannels, kernel_size=(3, 3), stride=(2, 2), padding=(1, 1))\n",
    "        self.relu3 = nn.ReLU()\n",
    "        self.bn3 = nn.BatchNorm2d(outChannels)\n",
    "        init.kaiming_normal_(self.conv3.weight, a=0.1)\n",
    "        self.conv3.bias.data.zero_()\n",
    "        conv_layers += [self.conv3, self.relu3, self.bn3]\n",
    "\n",
    "        # Fourth Convolution Block\n",
    "        inChannels=64\n",
    "        outChannels=128\n",
    "        self.conv4 = nn.Conv2d(inChannels, outChannels, kernel_size=(3, 3), stride=(2, 2), padding=(1, 1))\n",
    "        self.relu4 = nn.ReLU()\n",
    "        self.bn4 = nn.BatchNorm2d(outChannels)\n",
    "        init.kaiming_normal_(self.conv4.weight, a=0.1)\n",
    "        self.conv4.bias.data.zero_()\n",
    "        conv_layers += [self.conv4, self.relu4, self.bn4]\n",
    "\n",
    "        # Linear Classifier\n",
    "        self.ap = nn.AdaptiveAvgPool2d(output_size=1)\n",
    "        self.lin = nn.Linear(in_features=outChannels, out_features=11)\n",
    "\n",
    "        # Wrap the Convolutional Blocks\n",
    "        self.conv = nn.Sequential(*conv_layers)\n",
    " \n",
    "    # ----------------------------\n",
    "    # Forward pass computations\n",
    "    # ----------------------------\n",
    "    def forward(self, x):\n",
    "        # Run the convolutional blocks\n",
    "        x = self.conv(x)\n",
    "\n",
    "        # Adaptive pool and flatten for input to linear layer\n",
    "        x = self.ap(x)\n",
    "        x = x.view(x.shape[0], -1)\n",
    "\n",
    "        # Linear layer\n",
    "        x = self.lin(x)\n",
    "\n",
    "        # Final output\n",
    "        return x\n",
    "\n"
   ]
  },
  {
   "cell_type": "code",
   "execution_count": 12,
   "id": "a5121b0e",
   "metadata": {
    "execution": {
     "iopub.execute_input": "2025-02-25T17:47:02.157191Z",
     "iopub.status.busy": "2025-02-25T17:47:02.156775Z",
     "iopub.status.idle": "2025-02-25T17:47:02.169620Z",
     "shell.execute_reply": "2025-02-25T17:47:02.168600Z"
    },
    "papermill": {
     "duration": 0.026213,
     "end_time": "2025-02-25T17:47:02.170972",
     "exception": false,
     "start_time": "2025-02-25T17:47:02.144759",
     "status": "completed"
    },
    "tags": []
   },
   "outputs": [],
   "source": [
    "# ----------------------------\n",
    "# Scaling Function\n",
    "# ----------------------------\n",
    "def normalize_ds(dataloader, device):\n",
    "    #Compute mean and standard deviation accross all train data\n",
    "    # results are mean and std for every spectrogram accross all channels (here mean and std have size (4,513,977))\n",
    "    sumInp=None\n",
    "    sumSqDiff=None\n",
    "    totObs=0\n",
    "    \n",
    "    #iterate over data to calculate global data mean\n",
    "    for i, data in enumerate(dataloader): \n",
    "        \n",
    "        inputs =data[0].to(device)\n",
    "        if sumInp is None:\n",
    "            sumInp=torch.zeros(inputs.size(1),inputs.size(2),inputs.size(3), device=device)\n",
    "            sumSqDiff=torch.zeros(inputs.size(1),inputs.size(2),inputs.size(3), device=device)\n",
    "            \n",
    "        sumInp+=inputs.sum(dim=0)\n",
    "        totObs+=inputs.size(0)\n",
    "        del inputs  # ✅ Libère la mémoire\n",
    "        xm.mark_step()  # ✅ Assure la libération sur TPU\n",
    "        \n",
    "    totMean=sumInp/totObs\n",
    "    \n",
    "    for i, data in enumerate(dataloader):\n",
    "        inputs =data[0].to(device)\n",
    "        sumSqDiff+=((inputs-totMean)**2).sum(dim=0)\n",
    "\n",
    "        del inputs  # ✅ Libère la mémoire\n",
    "        xm.mark_step()  # ✅ Assure la libération sur TPU\n",
    "        \n",
    "    totVar=sumSqDiff/totObs\n",
    "    totStd=torch.sqrt(totVar+1e-8)\n",
    "    return totMean, totStd\n",
    "    "
   ]
  },
  {
   "cell_type": "markdown",
   "id": "722da457",
   "metadata": {
    "papermill": {
     "duration": 0.0102,
     "end_time": "2025-02-25T17:47:02.342940",
     "exception": false,
     "start_time": "2025-02-25T17:47:02.332740",
     "status": "completed"
    },
    "tags": []
   },
   "source": [
    "## Testing and Training functions"
   ]
  },
  {
   "cell_type": "code",
   "execution_count": 20,
   "id": "38ef0dd0",
   "metadata": {
    "execution": {
     "iopub.execute_input": "2025-02-25T17:47:02.435707Z",
     "iopub.status.busy": "2025-02-25T17:47:02.435478Z",
     "iopub.status.idle": "2025-02-25T17:47:02.439247Z",
     "shell.execute_reply": "2025-02-25T17:47:02.438435Z"
    },
    "papermill": {
     "duration": 0.017626,
     "end_time": "2025-02-25T17:47:02.440786",
     "exception": false,
     "start_time": "2025-02-25T17:47:02.423160",
     "status": "completed"
    },
    "tags": []
   },
   "outputs": [],
   "source": [
    "import os\n",
    "import gc\n",
    "import torch\n",
    "import torch.nn as nn\n",
    "import torch.optim as optim\n",
    "import torch_xla.core.xla_model as xm\n",
    "import torch_xla.distributed.parallel_loader as pl\n",
    "import torch_xla.distributed.xla_multiprocessing as xmp\n",
    "from torch.utils.data import DataLoader, DistributedSampler"
   ]
  },
  {
   "cell_type": "code",
   "execution_count": 21,
   "id": "a59c7550",
   "metadata": {
    "execution": {
     "iopub.execute_input": "2025-02-25T17:47:02.463789Z",
     "iopub.status.busy": "2025-02-25T17:47:02.463543Z",
     "iopub.status.idle": "2025-02-25T17:47:02.473025Z",
     "shell.execute_reply": "2025-02-25T17:47:02.472001Z"
    },
    "papermill": {
     "duration": 0.022823,
     "end_time": "2025-02-25T17:47:02.474497",
     "exception": false,
     "start_time": "2025-02-25T17:47:02.451674",
     "status": "completed"
    },
    "tags": []
   },
   "outputs": [],
   "source": [
    "\n",
    "\n",
    "def training_one_epoch(model, optimizer, criterion, scheduler, device, train_dl, trainMean, trainStd, epochNb):\n",
    "        #Put the model in training mode \n",
    "    model.train()\n",
    "    running_loss = 0.0\n",
    "    correct_prediction = 0\n",
    "    total_prediction = 0\n",
    "    \n",
    "    # Repeat for each batch in the training set\n",
    "    for i, data in enumerate(train_dl):\n",
    "        # Get the input features and target labels, and put them on the GPU\n",
    "        inputs, labels = data[0].to(device), data[1].to(device)\n",
    "    \n",
    "        # Normalize the inputs\n",
    "        inputs = (inputs - trainMean.view(1,*trainMean.shape)) / trainStd.view(1,*trainStd.shape)\n",
    "    \n",
    "        # Zero the parameter gradients\n",
    "        optimizer.zero_grad()\n",
    "    \n",
    "        # forward + backward + optimize\n",
    "        outputs = model(inputs)\n",
    "        loss = criterion(outputs, labels)\n",
    "        loss.backward()\n",
    "        \n",
    "\n",
    "        #Use ofd TPU + Scheduler\n",
    "        xm.optimizer_step(optimizer, barrier=True)\n",
    "        xm.mark_step()  # Synchronisation du TPU\n",
    "        scheduler.step()\n",
    "    \n",
    "        # Keep stats for Loss and Accuracy\n",
    "        running_loss += loss.item()\n",
    "    \n",
    "        # Get the predicted class with the highest score\n",
    "        _, prediction = torch.max(outputs,1)\n",
    "        # Count of predictions that matched the target label\n",
    "        correct_prediction += (prediction == labels).sum().item()\n",
    "        total_prediction += prediction.shape[0]\n",
    "            \n",
    "    # Print stats at the end of the epoch for the training stage\n",
    "    num_batches = len(train_dl)\n",
    "    avg_loss = running_loss / num_batches\n",
    "    acc = correct_prediction/total_prediction\n",
    "    xm.master_print(f'Epoch Training: {epochNb}, Loss: {avg_loss:.4f}, Accuracy: {acc:.4f}')\n",
    "    return avg_loss, acc\n",
    "\n",
    "def testing_one_epoch(model, criterion, device, test_dl, trainMean, trainStd, epochNb):\n",
    "    #Evaluate model for each epoch\n",
    "    model.eval()\n",
    "    test_loss = 0.0\n",
    "    correct=0\n",
    "    total=0\n",
    "    \n",
    "    with torch.no_grad():     \n",
    "        for inputs, labels in test_dl:\n",
    "            inputs, labels = inputs.to(device), labels.to(device)\n",
    "            \n",
    "            # Normalize the inputs\n",
    "            inputs = (inputs - trainMean.view(1,*trainMean.shape)) / trainStd.view(1,*trainStd.shape)\n",
    "\n",
    "            #Get prediciitons\n",
    "            outputs = model(inputs)\n",
    "            _, prediction = torch.max(outputs, 1)\n",
    "            \n",
    "            loss = criterion(outputs, labels)\n",
    "            test_loss += loss.item()\n",
    "\n",
    "            correct += (prediction == labels).sum().item()\n",
    "            total += prediction.shape[0]\n",
    "\n",
    "                           \n",
    "    test_acc = correct/total\n",
    "    avg_test_loss=test_loss / len(test_dl)\n",
    "    xm.master_print(f'Epoch Test: {epochNb}, Loss: {avg_test_loss:.4f}, Accuracy: {test_acc:.4f}')\n",
    "    return avg_test_loss, test_acc"
   ]
  },
  {
   "cell_type": "markdown",
   "id": "c62b3ef7",
   "metadata": {
    "papermill": {
     "duration": 0.011553,
     "end_time": "2025-02-25T17:47:02.651411",
     "exception": false,
     "start_time": "2025-02-25T17:47:02.639858",
     "status": "completed"
    },
    "tags": []
   },
   "source": [
    "## Learning curve with respect to size of the training dataset"
   ]
  },
  {
   "cell_type": "code",
   "execution_count": 29,
   "id": "88e6e4a7",
   "metadata": {
    "execution": {
     "iopub.execute_input": "2025-02-25T17:47:02.741627Z",
     "iopub.status.busy": "2025-02-25T17:47:02.741334Z",
     "iopub.status.idle": "2025-02-25T17:47:02.751817Z",
     "shell.execute_reply": "2025-02-25T17:47:02.750987Z"
    },
    "papermill": {
     "duration": 0.024709,
     "end_time": "2025-02-25T17:47:02.753412",
     "exception": false,
     "start_time": "2025-02-25T17:47:02.728703",
     "status": "completed"
    },
    "tags": []
   },
   "outputs": [],
   "source": [
    "def process_train_sizes(run, device, results_queue, myGlobalDs, mainDir, num_epochs, train_size):\n",
    "# 📌 Chargement des données\n",
    "    myTrain = myGlobalDs[(myGlobalDs['Fold'] == run) & (myGlobalDs['Type'] == 'Train')].copy()\n",
    "    myTrain = myTrain.drop(columns=['Fold', 'Type', 'nb', 'condLabel'])\n",
    "    subset_size = int(len(myTrain) * train_size)\n",
    "    subset_indices = np.random.choice(len(myTrain), subset_size, replace=False)\n",
    "    train_subset =  myTrain.iloc[subset_indices].copy()\n",
    "    trainFoldi = DataDS(train_subset, mainDir)\n",
    "\n",
    "    myTest = myGlobalDs[(myGlobalDs['Fold'] == run) & (myGlobalDs['Type'] == 'Test')].copy()\n",
    "    myTest = myTest.drop(columns=['Fold', 'Type', 'nb', 'condLabel'])\n",
    "    testFoldi = DataDS(myTest, mainDir)\n",
    "\n",
    "\n",
    "    # Select subset to be trained\n",
    "\n",
    "\n",
    "    # Distribute datasets on 8 TPU Cores\n",
    "    #train_sampler = DistributedSampler(trainFoldi, num_replicas=xm.xrt_world_size(), rank=xm.get_ordinal(), shuffle=True)\n",
    "    #test_sampler = DistributedSampler(testFoldi, num_replicas=xm.xrt_world_size(), rank=xm.get_ordinal(), shuffle=False)\n",
    "\n",
    "    # Create the DataLoaders\n",
    "    train_dataloader = DataLoader(trainFoldi, batch_size=8, shuffle=True)\n",
    "    test_dataloader = DataLoader(testFoldi, batch_size=8, shuffle=False)\n",
    "    \n",
    "    # Create the model to be trained\n",
    "    myModel = ToolClassifier().to(device)\n",
    "    xm.broadcast_master_param(myModel)\n",
    "    criterion = nn.CrossEntropyLoss()\n",
    "    optimizer = optim.Adam(myModel.parameters(), lr=0.001)\n",
    "    scheduler = torch.optim.lr_scheduler.OneCycleLR(optimizer, max_lr=0.001, steps_per_epoch=len(train_dataloader), epochs=num_epochs, anneal_strategy='linear')\n",
    "\n",
    "    # Get global train mean an dstd for normalization\n",
    "    trainMean, trainStd = normalize_ds(train_dataloader, device)\n",
    "    \n",
    "    # List to store results\n",
    "    train_losses, test_losses, train_accuracies, test_accuracies = [], [], [], []\n",
    "\n",
    "    # train -> test -> train loop for each epoch\n",
    "    #training_one_epoch(model, optimizer, criterion, scheduler, device, train_dl, trainMean, trainStd, epochNb)\n",
    "    #testing_one_epoch(model, criterion, device, test_dl, trainMean, trainStd, epochNb)\n",
    "    for epoch in range(num_epochs):\n",
    "        train_loss, train_acc = training_one_epoch(myModel, optimizer, criterion, scheduler, device, train_dataloader, trainMean, trainStd, epoch)\n",
    "        test_loss, test_acc = testing_one_epoch(myModel, criterion, device, test_dataloader, trainMean, trainStd, epoch)\n",
    "\n",
    "        train_losses.append(train_loss)\n",
    "        test_losses.append(test_loss)\n",
    "        train_accuracies.append(train_acc)\n",
    "        test_accuracies.append(test_acc)\n",
    "\n",
    "        #torch.cuda.empty_cache()  # Libère la mémoire GPU si applicable\n",
    "        gc.collect()  # Libère la mémoire du CPU\n",
    "        xm.mark_step()  # Libère la mémoire TPU\n",
    "\n",
    "    # A TPU sync at the end of an epoch \n",
    "    xm.rendezvous(\"epoch_sync\")\n",
    "    xm.master_print(f\"Training finished for Fold {run} - size of train set is : {train_size*100:.1f}% ({len(train_subset)} samples) \")\n",
    "    \n",
    "    # Send results to main process\n",
    "    results_queue.put((train_size, train_losses, test_losses, train_accuracies, test_accuracies))\n",
    "    \n",
    "    # Cleanup of TPU memory\n",
    "    del myModel\n",
    "    gc.collect()\n",
    "    xm.mark_step()  \n",
    "    xm.master_print(f\"Cleanup over for TPU Core {xm.get_ordinal()}\")\n",
    "    xm.rendezvous(\"cleanup\")"
   ]
  },
  {
   "cell_type": "code",
   "execution_count": 30,
   "id": "9813dcc9",
   "metadata": {
    "execution": {
     "iopub.execute_input": "2025-02-25T17:47:02.777872Z",
     "iopub.status.busy": "2025-02-25T17:47:02.777647Z",
     "iopub.status.idle": "2025-02-25T17:47:02.782069Z",
     "shell.execute_reply": "2025-02-25T17:47:02.781131Z"
    },
    "papermill": {
     "duration": 0.01875,
     "end_time": "2025-02-25T17:47:02.783558",
     "exception": false,
     "start_time": "2025-02-25T17:47:02.764808",
     "status": "completed"
    },
    "tags": []
   },
   "outputs": [],
   "source": [
    "def _mp_fn(index, results_queue, nbFold, myGlobalDS, mainDir, num_epochs, sizes):\n",
    "    device = xm.xla_device()\n",
    "\n",
    "    \n",
    "    for run in range(nbFold):\n",
    "        for s in sizes:\n",
    "            xm.master_print(f\"\\n Run {run+1}/{nbFold} sur TPU Core {xm.get_ordinal()} for size : {s}...\\n\")\n",
    "            process_train_sizes(run, device, results_queue, myGlobalDS, mainDir, num_epochs, s)\n",
    "            xm.rendezvous(\"sync_after_fold\")\n",
    "    xm.master_print(f\"TPU Core {xm.get_ordinal()} is done with all its tasks\")"
   ]
  },
  {
   "cell_type": "markdown",
   "source": [
    "# Execution of Training - Infering and Results exporting"
   ],
   "metadata": {
    "collapsed": false
   },
   "id": "86f2c8b3bdeab462"
  },
  {
   "cell_type": "code",
   "execution_count": 31,
   "id": "5158b9b9",
   "metadata": {
    "execution": {
     "iopub.execute_input": "2025-02-25T17:47:02.853036Z",
     "iopub.status.busy": "2025-02-25T17:47:02.852757Z",
     "iopub.status.idle": "2025-02-25T22:55:20.036895Z",
     "shell.execute_reply": "2025-02-25T22:55:20.035388Z"
    },
    "papermill": {
     "duration": 18497.198907,
     "end_time": "2025-02-25T22:55:20.038843",
     "exception": false,
     "start_time": "2025-02-25T17:47:02.839936",
     "status": "completed"
    },
    "tags": []
   },
   "outputs": [
    {
     "name": "stderr",
     "output_type": "stream",
     "text": [
      "WARNING: Logging before InitGoogle() is written to STDERR\n",
      "E0000 00:00:1740505624.782774      74 common_lib.cc:621] Could not set metric server port: INVALID_ARGUMENT: Could not find SliceBuilder port 8471 in any of the 0 ports provided in `tpu_process_addresses`=\"local\"\n",
      "=== Source Location Trace: === \n",
      "learning/45eac/tfrc/runtime/common_lib.cc:239\n"
     ]
    },
    {
     "name": "stderr",
     "output_type": "stream",
     "text": [
      "WARNING:root:torch_xla.core.xla_model.xla_model.get_ordinal() will be removed in release 2.7. is deprecated. Use torch_xla.runtime.global_ordinal instead.\n"
     ]
    },
    {
     "name": "stdout",
     "output_type": "stream",
     "text": [
      "\n",
      " Run 1/5 sur TPU Core 0 for size : 0.1...\n"
     ]
    },
    {
     "name": "stdout",
     "output_type": "stream",
     "text": [
      "Epoch Training: 0, Loss: 2.3650, Accuracy: 0.1162\n"
     ]
    },
    {
     "name": "stdout",
     "output_type": "stream",
     "text": [
      "Epoch Test: 0, Loss: 2.3461, Accuracy: 0.2997\n"
     ]
    },
    {
     "name": "stdout",
     "output_type": "stream",
     "text": [
      "Epoch Training: 1, Loss: 2.1570, Accuracy: 0.3434\n"
     ]
    },
    {
     "name": "stdout",
     "output_type": "stream",
     "text": [
      "Epoch Test: 1, Loss: 2.3148, Accuracy: 0.3978\n"
     ]
    },
    {
     "name": "stdout",
     "output_type": "stream",
     "text": [
      "Epoch Training: 2, Loss: 1.9227, Accuracy: 0.3333\n"
     ]
    },
    {
     "name": "stdout",
     "output_type": "stream",
     "text": [
      "Epoch Test: 2, Loss: 2.0802, Accuracy: 0.4441\n"
     ]
    },
    {
     "name": "stdout",
     "output_type": "stream",
     "text": [
      "Epoch Training: 3, Loss: 1.7696, Accuracy: 0.4141\n"
     ]
    },
    {
     "name": "stdout",
     "output_type": "stream",
     "text": [
      "Epoch Test: 3, Loss: 2.0688, Accuracy: 0.4550\n"
     ]
    },
    {
     "name": "stdout",
     "output_type": "stream",
     "text": [
      "Epoch Training: 4, Loss: 1.6294, Accuracy: 0.4697\n"
     ]
    },
    {
     "name": "stdout",
     "output_type": "stream",
     "text": [
      "Epoch Test: 4, Loss: 1.8780, Accuracy: 0.4578\n"
     ]
    },
    {
     "name": "stdout",
     "output_type": "stream",
     "text": [
      "Epoch Training: 5, Loss: 1.5282, Accuracy: 0.4899\n"
     ]
    },
    {
     "name": "stdout",
     "output_type": "stream",
     "text": [
      "Epoch Test: 5, Loss: 1.6975, Accuracy: 0.5858\n"
     ]
    },
    {
     "name": "stdout",
     "output_type": "stream",
     "text": [
      "Epoch Training: 6, Loss: 1.4306, Accuracy: 0.5152\n"
     ]
    },
    {
     "name": "stdout",
     "output_type": "stream",
     "text": [
      "Epoch Test: 6, Loss: 1.6200, Accuracy: 0.5068\n"
     ]
    },
    {
     "name": "stdout",
     "output_type": "stream",
     "text": [
      "Epoch Training: 7, Loss: 1.3465, Accuracy: 0.5455\n"
     ]
    },
    {
     "name": "stdout",
     "output_type": "stream",
     "text": [
      "Epoch Test: 7, Loss: 1.6511, Accuracy: 0.5940\n"
     ]
    },
    {
     "name": "stdout",
     "output_type": "stream",
     "text": [
      "Epoch Training: 8, Loss: 1.2626, Accuracy: 0.5859\n"
     ]
    },
    {
     "name": "stdout",
     "output_type": "stream",
     "text": [
      "Epoch Test: 8, Loss: 1.3878, Accuracy: 0.7057\n"
     ]
    },
    {
     "name": "stdout",
     "output_type": "stream",
     "text": [
      "Epoch Training: 9, Loss: 1.2148, Accuracy: 0.5859\n"
     ]
    },
    {
     "name": "stdout",
     "output_type": "stream",
     "text": [
      "Epoch Test: 9, Loss: 1.4206, Accuracy: 0.6322\n"
     ]
    },
    {
     "name": "stdout",
     "output_type": "stream",
     "text": [
      "Epoch Training: 10, Loss: 1.1979, Accuracy: 0.6212\n"
     ]
    },
    {
     "name": "stdout",
     "output_type": "stream",
     "text": [
      "Epoch Test: 10, Loss: 1.3286, Accuracy: 0.6921\n"
     ]
    },
    {
     "name": "stdout",
     "output_type": "stream",
     "text": [
      "Epoch Training: 11, Loss: 1.1749, Accuracy: 0.6061\n"
     ]
    },
    {
     "name": "stdout",
     "output_type": "stream",
     "text": [
      "Epoch Test: 11, Loss: 1.2447, Accuracy: 0.6866\n"
     ]
    },
    {
     "name": "stdout",
     "output_type": "stream",
     "text": [
      "Epoch Training: 12, Loss: 1.0942, Accuracy: 0.6010\n"
     ]
    },
    {
     "name": "stdout",
     "output_type": "stream",
     "text": [
      "Epoch Test: 12, Loss: 1.2681, Accuracy: 0.6812\n"
     ]
    },
    {
     "name": "stdout",
     "output_type": "stream",
     "text": [
      "Epoch Training: 13, Loss: 1.0966, Accuracy: 0.6414\n"
     ]
    },
    {
     "name": "stdout",
     "output_type": "stream",
     "text": [
      "Epoch Test: 13, Loss: 1.1798, Accuracy: 0.7057\n"
     ]
    },
    {
     "name": "stdout",
     "output_type": "stream",
     "text": [
      "Epoch Training: 14, Loss: 1.0510, Accuracy: 0.6616\n"
     ]
    },
    {
     "name": "stdout",
     "output_type": "stream",
     "text": [
      "Epoch Test: 14, Loss: 1.1928, Accuracy: 0.6866\n"
     ]
    },
    {
     "name": "stdout",
     "output_type": "stream",
     "text": [
      "Epoch Training: 15, Loss: 1.0407, Accuracy: 0.6313\n"
     ]
    },
    {
     "name": "stdout",
     "output_type": "stream",
     "text": [
      "Epoch Test: 15, Loss: 1.2244, Accuracy: 0.6921\n"
     ]
    },
    {
     "name": "stdout",
     "output_type": "stream",
     "text": [
      "Epoch Training: 16, Loss: 1.0114, Accuracy: 0.6515\n"
     ]
    },
    {
     "name": "stdout",
     "output_type": "stream",
     "text": [
      "Epoch Test: 16, Loss: 1.1497, Accuracy: 0.7030\n"
     ]
    },
    {
     "name": "stdout",
     "output_type": "stream",
     "text": [
      "Epoch Training: 17, Loss: 1.0356, Accuracy: 0.6616\n"
     ]
    },
    {
     "name": "stdout",
     "output_type": "stream",
     "text": [
      "Epoch Test: 17, Loss: 1.1865, Accuracy: 0.7139\n"
     ]
    },
    {
     "name": "stdout",
     "output_type": "stream",
     "text": [
      "Training finished for Fold 0 - size of train set is : 10.0% (198 samples) \n"
     ]
    },
    {
     "name": "stdout",
     "output_type": "stream",
     "text": [
      "Cleanup over for TPU Core 0\n"
     ]
    },
    {
     "name": "stdout",
     "output_type": "stream",
     "text": [
      "\n",
      " Run 1/5 sur TPU Core 0 for size : 0.3...\n"
     ]
    },
    {
     "name": "stdout",
     "output_type": "stream",
     "text": [
      "Epoch Training: 0, Loss: 2.2614, Accuracy: 0.2047\n"
     ]
    },
    {
     "name": "stdout",
     "output_type": "stream",
     "text": [
      "Epoch Test: 0, Loss: 2.4378, Accuracy: 0.2779\n"
     ]
    },
    {
     "name": "stdout",
     "output_type": "stream",
     "text": [
      "Epoch Training: 1, Loss: 1.8910, Accuracy: 0.4262\n"
     ]
    },
    {
     "name": "stdout",
     "output_type": "stream",
     "text": [
      "Epoch Test: 1, Loss: 2.0223, Accuracy: 0.3706\n"
     ]
    },
    {
     "name": "stdout",
     "output_type": "stream",
     "text": [
      "Epoch Training: 2, Loss: 1.6288, Accuracy: 0.4396\n"
     ]
    },
    {
     "name": "stdout",
     "output_type": "stream",
     "text": [
      "Epoch Test: 2, Loss: 1.8267, Accuracy: 0.4305\n"
     ]
    },
    {
     "name": "stdout",
     "output_type": "stream",
     "text": [
      "Epoch Training: 3, Loss: 1.4864, Accuracy: 0.4883\n"
     ]
    },
    {
     "name": "stdout",
     "output_type": "stream",
     "text": [
      "Epoch Test: 3, Loss: 1.5803, Accuracy: 0.5395\n"
     ]
    },
    {
     "name": "stdout",
     "output_type": "stream",
     "text": [
      "Epoch Training: 4, Loss: 1.3181, Accuracy: 0.5453\n"
     ]
    },
    {
     "name": "stdout",
     "output_type": "stream",
     "text": [
      "Epoch Test: 4, Loss: 1.2610, Accuracy: 0.5313\n"
     ]
    },
    {
     "name": "stdout",
     "output_type": "stream",
     "text": [
      "Epoch Training: 5, Loss: 1.1732, Accuracy: 0.5839\n"
     ]
    },
    {
     "name": "stdout",
     "output_type": "stream",
     "text": [
      "Epoch Test: 5, Loss: 1.2744, Accuracy: 0.6185\n"
     ]
    },
    {
     "name": "stdout",
     "output_type": "stream",
     "text": [
      "Epoch Training: 6, Loss: 1.0551, Accuracy: 0.6309\n"
     ]
    },
    {
     "name": "stdout",
     "output_type": "stream",
     "text": [
      "Epoch Test: 6, Loss: 0.9988, Accuracy: 0.6485\n"
     ]
    },
    {
     "name": "stdout",
     "output_type": "stream",
     "text": [
      "Epoch Training: 7, Loss: 0.9041, Accuracy: 0.6997\n"
     ]
    },
    {
     "name": "stdout",
     "output_type": "stream",
     "text": [
      "Epoch Test: 7, Loss: 0.9349, Accuracy: 0.7193\n"
     ]
    },
    {
     "name": "stdout",
     "output_type": "stream",
     "text": [
      "Epoch Training: 8, Loss: 0.8960, Accuracy: 0.6896\n"
     ]
    },
    {
     "name": "stdout",
     "output_type": "stream",
     "text": [
      "Epoch Test: 8, Loss: 0.9196, Accuracy: 0.7411\n"
     ]
    },
    {
     "name": "stdout",
     "output_type": "stream",
     "text": [
      "Epoch Training: 9, Loss: 0.8266, Accuracy: 0.7265\n"
     ]
    },
    {
     "name": "stdout",
     "output_type": "stream",
     "text": [
      "Epoch Test: 9, Loss: 0.8117, Accuracy: 0.7193\n"
     ]
    },
    {
     "name": "stdout",
     "output_type": "stream",
     "text": [
      "Epoch Training: 10, Loss: 0.7426, Accuracy: 0.7903\n"
     ]
    },
    {
     "name": "stdout",
     "output_type": "stream",
     "text": [
      "Epoch Test: 10, Loss: 0.7563, Accuracy: 0.7875\n"
     ]
    },
    {
     "name": "stdout",
     "output_type": "stream",
     "text": [
      "Epoch Training: 11, Loss: 0.6970, Accuracy: 0.7869\n"
     ]
    },
    {
     "name": "stdout",
     "output_type": "stream",
     "text": [
      "Epoch Test: 11, Loss: 0.7336, Accuracy: 0.8093\n"
     ]
    },
    {
     "name": "stdout",
     "output_type": "stream",
     "text": [
      "Epoch Training: 12, Loss: 0.6495, Accuracy: 0.8087\n"
     ]
    },
    {
     "name": "stdout",
     "output_type": "stream",
     "text": [
      "Epoch Test: 12, Loss: 0.7515, Accuracy: 0.7820\n"
     ]
    },
    {
     "name": "stdout",
     "output_type": "stream",
     "text": [
      "Epoch Training: 13, Loss: 0.6432, Accuracy: 0.7987\n"
     ]
    },
    {
     "name": "stdout",
     "output_type": "stream",
     "text": [
      "Epoch Test: 13, Loss: 0.6981, Accuracy: 0.7738\n"
     ]
    },
    {
     "name": "stdout",
     "output_type": "stream",
     "text": [
      "Epoch Training: 14, Loss: 0.5962, Accuracy: 0.8322\n"
     ]
    },
    {
     "name": "stdout",
     "output_type": "stream",
     "text": [
      "Epoch Test: 14, Loss: 0.6883, Accuracy: 0.8256\n"
     ]
    },
    {
     "name": "stdout",
     "output_type": "stream",
     "text": [
      "Epoch Training: 15, Loss: 0.5929, Accuracy: 0.8205\n"
     ]
    },
    {
     "name": "stdout",
     "output_type": "stream",
     "text": [
      "Epoch Test: 15, Loss: 0.6332, Accuracy: 0.8256\n"
     ]
    },
    {
     "name": "stdout",
     "output_type": "stream",
     "text": [
      "Epoch Training: 16, Loss: 0.5646, Accuracy: 0.8356\n"
     ]
    },
    {
     "name": "stdout",
     "output_type": "stream",
     "text": [
      "Epoch Test: 16, Loss: 0.6153, Accuracy: 0.8474\n"
     ]
    },
    {
     "name": "stdout",
     "output_type": "stream",
     "text": [
      "Epoch Training: 17, Loss: 0.5579, Accuracy: 0.8507\n"
     ]
    },
    {
     "name": "stdout",
     "output_type": "stream",
     "text": [
      "Epoch Test: 17, Loss: 0.6497, Accuracy: 0.8311\n"
     ]
    },
    {
     "name": "stdout",
     "output_type": "stream",
     "text": [
      "Training finished for Fold 0 - size of train set is : 30.0% (596 samples) \n"
     ]
    },
    {
     "name": "stdout",
     "output_type": "stream",
     "text": [
      "Cleanup over for TPU Core 0\n"
     ]
    },
    {
     "name": "stdout",
     "output_type": "stream",
     "text": [
      "\n",
      " Run 1/5 sur TPU Core 0 for size : 0.5...\n"
     ]
    },
    {
     "name": "stdout",
     "output_type": "stream",
     "text": [
      "Epoch Training: 0, Loss: 2.1939, Accuracy: 0.2716\n"
     ]
    },
    {
     "name": "stdout",
     "output_type": "stream",
     "text": [
      "Epoch Test: 0, Loss: 2.0547, Accuracy: 0.3978\n"
     ]
    },
    {
     "name": "stdout",
     "output_type": "stream",
     "text": [
      "Epoch Training: 1, Loss: 1.7863, Accuracy: 0.4266\n"
     ]
    },
    {
     "name": "stdout",
     "output_type": "stream",
     "text": [
      "Epoch Test: 1, Loss: 1.7769, Accuracy: 0.5232\n"
     ]
    },
    {
     "name": "stdout",
     "output_type": "stream",
     "text": [
      "Epoch Training: 2, Loss: 1.5179, Accuracy: 0.5040\n"
     ]
    },
    {
     "name": "stdout",
     "output_type": "stream",
     "text": [
      "Epoch Test: 2, Loss: 1.3646, Accuracy: 0.5995\n"
     ]
    },
    {
     "name": "stdout",
     "output_type": "stream",
     "text": [
      "Epoch Training: 3, Loss: 1.2716, Accuracy: 0.5734\n"
     ]
    },
    {
     "name": "stdout",
     "output_type": "stream",
     "text": [
      "Epoch Test: 3, Loss: 1.0943, Accuracy: 0.6785\n"
     ]
    },
    {
     "name": "stdout",
     "output_type": "stream",
     "text": [
      "Epoch Training: 4, Loss: 1.0766, Accuracy: 0.6318\n"
     ]
    },
    {
     "name": "stdout",
     "output_type": "stream",
     "text": [
      "Epoch Test: 4, Loss: 1.0474, Accuracy: 0.6975\n"
     ]
    },
    {
     "name": "stdout",
     "output_type": "stream",
     "text": [
      "Epoch Training: 5, Loss: 0.9286, Accuracy: 0.6871\n"
     ]
    },
    {
     "name": "stdout",
     "output_type": "stream",
     "text": [
      "Epoch Test: 5, Loss: 0.8487, Accuracy: 0.7847\n"
     ]
    },
    {
     "name": "stdout",
     "output_type": "stream",
     "text": [
      "Epoch Training: 6, Loss: 0.8000, Accuracy: 0.7223\n"
     ]
    },
    {
     "name": "stdout",
     "output_type": "stream",
     "text": [
      "Epoch Test: 6, Loss: 0.6741, Accuracy: 0.8011\n"
     ]
    },
    {
     "name": "stdout",
     "output_type": "stream",
     "text": [
      "Epoch Training: 7, Loss: 0.7366, Accuracy: 0.7394\n"
     ]
    },
    {
     "name": "stdout",
     "output_type": "stream",
     "text": [
      "Epoch Test: 7, Loss: 0.6753, Accuracy: 0.8529\n"
     ]
    },
    {
     "name": "stdout",
     "output_type": "stream",
     "text": [
      "Epoch Training: 8, Loss: 0.6246, Accuracy: 0.8310\n"
     ]
    },
    {
     "name": "stdout",
     "output_type": "stream",
     "text": [
      "Epoch Test: 8, Loss: 0.6079, Accuracy: 0.8256\n"
     ]
    },
    {
     "name": "stdout",
     "output_type": "stream",
     "text": [
      "Epoch Training: 9, Loss: 0.5682, Accuracy: 0.8380\n"
     ]
    },
    {
     "name": "stdout",
     "output_type": "stream",
     "text": [
      "Epoch Test: 9, Loss: 0.4811, Accuracy: 0.8747\n"
     ]
    },
    {
     "name": "stdout",
     "output_type": "stream",
     "text": [
      "Epoch Training: 10, Loss: 0.5103, Accuracy: 0.8521\n"
     ]
    },
    {
     "name": "stdout",
     "output_type": "stream",
     "text": [
      "Epoch Test: 10, Loss: 0.4326, Accuracy: 0.8883\n"
     ]
    },
    {
     "name": "stdout",
     "output_type": "stream",
     "text": [
      "Epoch Training: 11, Loss: 0.4592, Accuracy: 0.8742\n"
     ]
    },
    {
     "name": "stdout",
     "output_type": "stream",
     "text": [
      "Epoch Test: 11, Loss: 0.3894, Accuracy: 0.9101\n"
     ]
    },
    {
     "name": "stdout",
     "output_type": "stream",
     "text": [
      "Epoch Training: 12, Loss: 0.4486, Accuracy: 0.8853\n"
     ]
    },
    {
     "name": "stdout",
     "output_type": "stream",
     "text": [
      "Epoch Test: 12, Loss: 0.3628, Accuracy: 0.9046\n"
     ]
    },
    {
     "name": "stdout",
     "output_type": "stream",
     "text": [
      "Epoch Training: 13, Loss: 0.3964, Accuracy: 0.9085\n"
     ]
    },
    {
     "name": "stdout",
     "output_type": "stream",
     "text": [
      "Epoch Test: 13, Loss: 0.4078, Accuracy: 0.8801\n"
     ]
    },
    {
     "name": "stdout",
     "output_type": "stream",
     "text": [
      "Epoch Training: 14, Loss: 0.3403, Accuracy: 0.9225\n"
     ]
    },
    {
     "name": "stdout",
     "output_type": "stream",
     "text": [
      "Epoch Test: 14, Loss: 0.3276, Accuracy: 0.9101\n"
     ]
    },
    {
     "name": "stdout",
     "output_type": "stream",
     "text": [
      "Epoch Training: 15, Loss: 0.3137, Accuracy: 0.9266\n"
     ]
    },
    {
     "name": "stdout",
     "output_type": "stream",
     "text": [
      "Epoch Test: 15, Loss: 0.3107, Accuracy: 0.9155\n"
     ]
    },
    {
     "name": "stdout",
     "output_type": "stream",
     "text": [
      "Epoch Training: 16, Loss: 0.3173, Accuracy: 0.9356\n"
     ]
    },
    {
     "name": "stdout",
     "output_type": "stream",
     "text": [
      "Epoch Test: 16, Loss: 0.2951, Accuracy: 0.9101\n"
     ]
    },
    {
     "name": "stdout",
     "output_type": "stream",
     "text": [
      "Epoch Training: 17, Loss: 0.2995, Accuracy: 0.9356\n"
     ]
    },
    {
     "name": "stdout",
     "output_type": "stream",
     "text": [
      "Epoch Test: 17, Loss: 0.2879, Accuracy: 0.9210\n"
     ]
    },
    {
     "name": "stdout",
     "output_type": "stream",
     "text": [
      "Training finished for Fold 0 - size of train set is : 50.0% (994 samples) \n"
     ]
    },
    {
     "name": "stdout",
     "output_type": "stream",
     "text": [
      "Cleanup over for TPU Core 0\n"
     ]
    },
    {
     "name": "stdout",
     "output_type": "stream",
     "text": [
      "\n",
      " Run 1/5 sur TPU Core 0 for size : 0.7...\n"
     ]
    },
    {
     "name": "stdout",
     "output_type": "stream",
     "text": [
      "Epoch Training: 0, Loss: 2.1239, Accuracy: 0.2960\n"
     ]
    },
    {
     "name": "stdout",
     "output_type": "stream",
     "text": [
      "Epoch Test: 0, Loss: 2.0609, Accuracy: 0.3324\n"
     ]
    },
    {
     "name": "stdout",
     "output_type": "stream",
     "text": [
      "Epoch Training: 1, Loss: 1.6876, Accuracy: 0.4267\n"
     ]
    },
    {
     "name": "stdout",
     "output_type": "stream",
     "text": [
      "Epoch Test: 1, Loss: 1.6819, Accuracy: 0.4332\n"
     ]
    },
    {
     "name": "stdout",
     "output_type": "stream",
     "text": [
      "Epoch Training: 2, Loss: 1.4622, Accuracy: 0.5000\n"
     ]
    },
    {
     "name": "stdout",
     "output_type": "stream",
     "text": [
      "Epoch Test: 2, Loss: 1.3768, Accuracy: 0.5313\n"
     ]
    },
    {
     "name": "stdout",
     "output_type": "stream",
     "text": [
      "Epoch Training: 3, Loss: 1.2484, Accuracy: 0.5603\n"
     ]
    },
    {
     "name": "stdout",
     "output_type": "stream",
     "text": [
      "Epoch Test: 3, Loss: 1.1088, Accuracy: 0.7112\n"
     ]
    },
    {
     "name": "stdout",
     "output_type": "stream",
     "text": [
      "Epoch Training: 4, Loss: 1.0117, Accuracy: 0.6458\n"
     ]
    },
    {
     "name": "stdout",
     "output_type": "stream",
     "text": [
      "Epoch Test: 4, Loss: 0.9176, Accuracy: 0.7602\n"
     ]
    },
    {
     "name": "stdout",
     "output_type": "stream",
     "text": [
      "Epoch Training: 5, Loss: 0.8888, Accuracy: 0.6846\n"
     ]
    },
    {
     "name": "stdout",
     "output_type": "stream",
     "text": [
      "Epoch Test: 5, Loss: 0.8568, Accuracy: 0.7357\n"
     ]
    },
    {
     "name": "stdout",
     "output_type": "stream",
     "text": [
      "Epoch Training: 6, Loss: 0.7545, Accuracy: 0.7399\n"
     ]
    },
    {
     "name": "stdout",
     "output_type": "stream",
     "text": [
      "Epoch Test: 6, Loss: 0.6609, Accuracy: 0.8038\n"
     ]
    },
    {
     "name": "stdout",
     "output_type": "stream",
     "text": [
      "Epoch Training: 7, Loss: 0.6530, Accuracy: 0.8010\n"
     ]
    },
    {
     "name": "stdout",
     "output_type": "stream",
     "text": [
      "Epoch Test: 7, Loss: 0.6526, Accuracy: 0.7766\n"
     ]
    },
    {
     "name": "stdout",
     "output_type": "stream",
     "text": [
      "Epoch Training: 8, Loss: 0.5781, Accuracy: 0.8118\n"
     ]
    },
    {
     "name": "stdout",
     "output_type": "stream",
     "text": [
      "Epoch Test: 8, Loss: 0.5334, Accuracy: 0.8474\n"
     ]
    },
    {
     "name": "stdout",
     "output_type": "stream",
     "text": [
      "Epoch Training: 9, Loss: 0.4991, Accuracy: 0.8599\n"
     ]
    },
    {
     "name": "stdout",
     "output_type": "stream",
     "text": [
      "Epoch Test: 9, Loss: 0.4186, Accuracy: 0.8910\n"
     ]
    },
    {
     "name": "stdout",
     "output_type": "stream",
     "text": [
      "Epoch Training: 10, Loss: 0.4322, Accuracy: 0.8822\n"
     ]
    },
    {
     "name": "stdout",
     "output_type": "stream",
     "text": [
      "Epoch Test: 10, Loss: 0.3738, Accuracy: 0.9210\n"
     ]
    },
    {
     "name": "stdout",
     "output_type": "stream",
     "text": [
      "Epoch Training: 11, Loss: 0.3608, Accuracy: 0.9167\n"
     ]
    },
    {
     "name": "stdout",
     "output_type": "stream",
     "text": [
      "Epoch Test: 11, Loss: 0.3908, Accuracy: 0.8719\n"
     ]
    },
    {
     "name": "stdout",
     "output_type": "stream",
     "text": [
      "Epoch Training: 12, Loss: 0.3387, Accuracy: 0.9131\n"
     ]
    },
    {
     "name": "stdout",
     "output_type": "stream",
     "text": [
      "Epoch Test: 12, Loss: 0.3437, Accuracy: 0.9210\n"
     ]
    },
    {
     "name": "stdout",
     "output_type": "stream",
     "text": [
      "Epoch Training: 13, Loss: 0.2770, Accuracy: 0.9339\n"
     ]
    },
    {
     "name": "stdout",
     "output_type": "stream",
     "text": [
      "Epoch Test: 13, Loss: 0.3462, Accuracy: 0.9101\n"
     ]
    },
    {
     "name": "stdout",
     "output_type": "stream",
     "text": [
      "Epoch Training: 14, Loss: 0.2534, Accuracy: 0.9483\n"
     ]
    },
    {
     "name": "stdout",
     "output_type": "stream",
     "text": [
      "Epoch Test: 14, Loss: 0.3117, Accuracy: 0.9128\n"
     ]
    },
    {
     "name": "stdout",
     "output_type": "stream",
     "text": [
      "Epoch Training: 15, Loss: 0.2394, Accuracy: 0.9454\n"
     ]
    },
    {
     "name": "stdout",
     "output_type": "stream",
     "text": [
      "Epoch Test: 15, Loss: 0.2980, Accuracy: 0.9210\n"
     ]
    },
    {
     "name": "stdout",
     "output_type": "stream",
     "text": [
      "Epoch Training: 16, Loss: 0.2278, Accuracy: 0.9483\n"
     ]
    },
    {
     "name": "stdout",
     "output_type": "stream",
     "text": [
      "Epoch Test: 16, Loss: 0.2498, Accuracy: 0.9428\n"
     ]
    },
    {
     "name": "stdout",
     "output_type": "stream",
     "text": [
      "Epoch Training: 17, Loss: 0.2309, Accuracy: 0.9418\n"
     ]
    },
    {
     "name": "stdout",
     "output_type": "stream",
     "text": [
      "Epoch Test: 17, Loss: 0.3251, Accuracy: 0.9210\n"
     ]
    },
    {
     "name": "stdout",
     "output_type": "stream",
     "text": [
      "Training finished for Fold 0 - size of train set is : 70.0% (1392 samples) \n"
     ]
    },
    {
     "name": "stdout",
     "output_type": "stream",
     "text": [
      "Cleanup over for TPU Core 0\n"
     ]
    },
    {
     "name": "stdout",
     "output_type": "stream",
     "text": [
      "\n",
      " Run 1/5 sur TPU Core 0 for size : 1...\n"
     ]
    },
    {
     "name": "stdout",
     "output_type": "stream",
     "text": [
      "Epoch Training: 0, Loss: 2.0864, Accuracy: 0.3203\n"
     ]
    },
    {
     "name": "stdout",
     "output_type": "stream",
     "text": [
      "Epoch Test: 0, Loss: 2.0091, Accuracy: 0.3215\n"
     ]
    },
    {
     "name": "stdout",
     "output_type": "stream",
     "text": [
      "Epoch Training: 1, Loss: 1.5867, Accuracy: 0.4827\n"
     ]
    },
    {
     "name": "stdout",
     "output_type": "stream",
     "text": [
      "Epoch Test: 1, Loss: 1.4520, Accuracy: 0.5777\n"
     ]
    },
    {
     "name": "stdout",
     "output_type": "stream",
     "text": [
      "Epoch Training: 2, Loss: 1.2789, Accuracy: 0.5691\n"
     ]
    },
    {
     "name": "stdout",
     "output_type": "stream",
     "text": [
      "Epoch Test: 2, Loss: 1.1089, Accuracy: 0.6458\n"
     ]
    },
    {
     "name": "stdout",
     "output_type": "stream",
     "text": [
      "Epoch Training: 3, Loss: 0.9900, Accuracy: 0.6682\n"
     ]
    },
    {
     "name": "stdout",
     "output_type": "stream",
     "text": [
      "Epoch Test: 3, Loss: 0.8189, Accuracy: 0.7847\n"
     ]
    },
    {
     "name": "stdout",
     "output_type": "stream",
     "text": [
      "Epoch Training: 4, Loss: 0.8261, Accuracy: 0.7215\n"
     ]
    },
    {
     "name": "stdout",
     "output_type": "stream",
     "text": [
      "Epoch Test: 4, Loss: 0.6890, Accuracy: 0.7847\n"
     ]
    },
    {
     "name": "stdout",
     "output_type": "stream",
     "text": [
      "Epoch Training: 5, Loss: 0.6466, Accuracy: 0.7989\n"
     ]
    },
    {
     "name": "stdout",
     "output_type": "stream",
     "text": [
      "Epoch Test: 5, Loss: 0.4781, Accuracy: 0.8719\n"
     ]
    },
    {
     "name": "stdout",
     "output_type": "stream",
     "text": [
      "Epoch Training: 6, Loss: 0.5019, Accuracy: 0.8487\n"
     ]
    },
    {
     "name": "stdout",
     "output_type": "stream",
     "text": [
      "Epoch Test: 6, Loss: 0.3677, Accuracy: 0.8910\n"
     ]
    },
    {
     "name": "stdout",
     "output_type": "stream",
     "text": [
      "Epoch Training: 7, Loss: 0.3852, Accuracy: 0.8989\n"
     ]
    },
    {
     "name": "stdout",
     "output_type": "stream",
     "text": [
      "Epoch Test: 7, Loss: 0.3121, Accuracy: 0.9101\n"
     ]
    },
    {
     "name": "stdout",
     "output_type": "stream",
     "text": [
      "Epoch Training: 8, Loss: 0.2928, Accuracy: 0.9311\n"
     ]
    },
    {
     "name": "stdout",
     "output_type": "stream",
     "text": [
      "Epoch Test: 8, Loss: 0.2382, Accuracy: 0.9346\n"
     ]
    },
    {
     "name": "stdout",
     "output_type": "stream",
     "text": [
      "Epoch Training: 9, Loss: 0.2422, Accuracy: 0.9462\n"
     ]
    },
    {
     "name": "stdout",
     "output_type": "stream",
     "text": [
      "Epoch Test: 9, Loss: 0.2136, Accuracy: 0.9510\n"
     ]
    },
    {
     "name": "stdout",
     "output_type": "stream",
     "text": [
      "Epoch Training: 10, Loss: 0.1961, Accuracy: 0.9563\n"
     ]
    },
    {
     "name": "stdout",
     "output_type": "stream",
     "text": [
      "Epoch Test: 10, Loss: 0.1961, Accuracy: 0.9564\n"
     ]
    },
    {
     "name": "stdout",
     "output_type": "stream",
     "text": [
      "Epoch Training: 11, Loss: 0.1761, Accuracy: 0.9563\n"
     ]
    },
    {
     "name": "stdout",
     "output_type": "stream",
     "text": [
      "Epoch Test: 11, Loss: 0.1380, Accuracy: 0.9673\n"
     ]
    },
    {
     "name": "stdout",
     "output_type": "stream",
     "text": [
      "Epoch Training: 12, Loss: 0.1444, Accuracy: 0.9653\n"
     ]
    },
    {
     "name": "stdout",
     "output_type": "stream",
     "text": [
      "Epoch Test: 12, Loss: 0.1730, Accuracy: 0.9564\n"
     ]
    },
    {
     "name": "stdout",
     "output_type": "stream",
     "text": [
      "Epoch Training: 13, Loss: 0.1264, Accuracy: 0.9703\n"
     ]
    },
    {
     "name": "stdout",
     "output_type": "stream",
     "text": [
      "Epoch Test: 13, Loss: 0.1431, Accuracy: 0.9591\n"
     ]
    },
    {
     "name": "stdout",
     "output_type": "stream",
     "text": [
      "Epoch Training: 14, Loss: 0.1181, Accuracy: 0.9779\n"
     ]
    },
    {
     "name": "stdout",
     "output_type": "stream",
     "text": [
      "Epoch Test: 14, Loss: 0.1634, Accuracy: 0.9646\n"
     ]
    },
    {
     "name": "stdout",
     "output_type": "stream",
     "text": [
      "Epoch Training: 15, Loss: 0.1091, Accuracy: 0.9769\n"
     ]
    },
    {
     "name": "stdout",
     "output_type": "stream",
     "text": [
      "Epoch Test: 15, Loss: 0.1547, Accuracy: 0.9646\n"
     ]
    },
    {
     "name": "stdout",
     "output_type": "stream",
     "text": [
      "Epoch Training: 16, Loss: 0.1014, Accuracy: 0.9784\n"
     ]
    },
    {
     "name": "stdout",
     "output_type": "stream",
     "text": [
      "Epoch Test: 16, Loss: 0.1296, Accuracy: 0.9673\n"
     ]
    },
    {
     "name": "stdout",
     "output_type": "stream",
     "text": [
      "Epoch Training: 17, Loss: 0.0928, Accuracy: 0.9824\n"
     ]
    },
    {
     "name": "stdout",
     "output_type": "stream",
     "text": [
      "Epoch Test: 17, Loss: 0.1263, Accuracy: 0.9619\n"
     ]
    },
    {
     "name": "stdout",
     "output_type": "stream",
     "text": [
      "Training finished for Fold 0 - size of train set is : 100.0% (1989 samples) \n"
     ]
    },
    {
     "name": "stdout",
     "output_type": "stream",
     "text": [
      "Cleanup over for TPU Core 0\n"
     ]
    },
    {
     "name": "stdout",
     "output_type": "stream",
     "text": [
      "\n",
      " Run 2/5 sur TPU Core 0 for size : 0.1...\n"
     ]
    },
    {
     "name": "stdout",
     "output_type": "stream",
     "text": [
      "Epoch Training: 0, Loss: 2.3423, Accuracy: 0.1212\n"
     ]
    },
    {
     "name": "stdout",
     "output_type": "stream",
     "text": [
      "Epoch Test: 0, Loss: 2.3272, Accuracy: 0.1117\n"
     ]
    },
    {
     "name": "stdout",
     "output_type": "stream",
     "text": [
      "Epoch Training: 1, Loss: 2.1789, Accuracy: 0.2424\n"
     ]
    },
    {
     "name": "stdout",
     "output_type": "stream",
     "text": [
      "Epoch Test: 1, Loss: 2.1322, Accuracy: 0.3243\n"
     ]
    },
    {
     "name": "stdout",
     "output_type": "stream",
     "text": [
      "Epoch Training: 2, Loss: 1.9697, Accuracy: 0.3687\n"
     ]
    },
    {
     "name": "stdout",
     "output_type": "stream",
     "text": [
      "Epoch Test: 2, Loss: 1.8803, Accuracy: 0.4877\n"
     ]
    },
    {
     "name": "stdout",
     "output_type": "stream",
     "text": [
      "Epoch Training: 3, Loss: 1.8320, Accuracy: 0.4091\n"
     ]
    },
    {
     "name": "stdout",
     "output_type": "stream",
     "text": [
      "Epoch Test: 3, Loss: 1.7770, Accuracy: 0.5150\n"
     ]
    },
    {
     "name": "stdout",
     "output_type": "stream",
     "text": [
      "Epoch Training: 4, Loss: 1.7124, Accuracy: 0.4495\n"
     ]
    },
    {
     "name": "stdout",
     "output_type": "stream",
     "text": [
      "Epoch Test: 4, Loss: 1.6784, Accuracy: 0.5150\n"
     ]
    },
    {
     "name": "stdout",
     "output_type": "stream",
     "text": [
      "Epoch Training: 5, Loss: 1.6047, Accuracy: 0.4848\n"
     ]
    },
    {
     "name": "stdout",
     "output_type": "stream",
     "text": [
      "Epoch Test: 5, Loss: 1.4993, Accuracy: 0.5722\n"
     ]
    },
    {
     "name": "stdout",
     "output_type": "stream",
     "text": [
      "Epoch Training: 6, Loss: 1.4750, Accuracy: 0.5253\n"
     ]
    },
    {
     "name": "stdout",
     "output_type": "stream",
     "text": [
      "Epoch Test: 6, Loss: 1.4692, Accuracy: 0.5777\n"
     ]
    },
    {
     "name": "stdout",
     "output_type": "stream",
     "text": [
      "Epoch Training: 7, Loss: 1.3685, Accuracy: 0.5354\n"
     ]
    },
    {
     "name": "stdout",
     "output_type": "stream",
     "text": [
      "Epoch Test: 7, Loss: 1.3959, Accuracy: 0.6022\n"
     ]
    },
    {
     "name": "stdout",
     "output_type": "stream",
     "text": [
      "Epoch Training: 8, Loss: 1.3096, Accuracy: 0.5707\n"
     ]
    },
    {
     "name": "stdout",
     "output_type": "stream",
     "text": [
      "Epoch Test: 8, Loss: 1.3386, Accuracy: 0.5886\n"
     ]
    },
    {
     "name": "stdout",
     "output_type": "stream",
     "text": [
      "Epoch Training: 9, Loss: 1.2422, Accuracy: 0.5505\n"
     ]
    },
    {
     "name": "stdout",
     "output_type": "stream",
     "text": [
      "Epoch Test: 9, Loss: 1.2775, Accuracy: 0.6022\n"
     ]
    },
    {
     "name": "stdout",
     "output_type": "stream",
     "text": [
      "Epoch Training: 10, Loss: 1.2506, Accuracy: 0.5707\n"
     ]
    },
    {
     "name": "stdout",
     "output_type": "stream",
     "text": [
      "Epoch Test: 10, Loss: 1.2623, Accuracy: 0.6540\n"
     ]
    },
    {
     "name": "stdout",
     "output_type": "stream",
     "text": [
      "Epoch Training: 11, Loss: 1.1521, Accuracy: 0.6111\n"
     ]
    },
    {
     "name": "stdout",
     "output_type": "stream",
     "text": [
      "Epoch Test: 11, Loss: 1.1877, Accuracy: 0.6240\n"
     ]
    },
    {
     "name": "stdout",
     "output_type": "stream",
     "text": [
      "Epoch Training: 12, Loss: 1.1613, Accuracy: 0.5859\n"
     ]
    },
    {
     "name": "stdout",
     "output_type": "stream",
     "text": [
      "Epoch Test: 12, Loss: 1.2648, Accuracy: 0.6349\n"
     ]
    },
    {
     "name": "stdout",
     "output_type": "stream",
     "text": [
      "Epoch Training: 13, Loss: 1.1655, Accuracy: 0.5909\n"
     ]
    },
    {
     "name": "stdout",
     "output_type": "stream",
     "text": [
      "Epoch Test: 13, Loss: 1.1158, Accuracy: 0.6485\n"
     ]
    },
    {
     "name": "stdout",
     "output_type": "stream",
     "text": [
      "Epoch Training: 14, Loss: 1.1153, Accuracy: 0.6010\n"
     ]
    },
    {
     "name": "stdout",
     "output_type": "stream",
     "text": [
      "Epoch Test: 14, Loss: 1.0909, Accuracy: 0.6839\n"
     ]
    },
    {
     "name": "stdout",
     "output_type": "stream",
     "text": [
      "Epoch Training: 15, Loss: 1.0358, Accuracy: 0.6616\n"
     ]
    },
    {
     "name": "stdout",
     "output_type": "stream",
     "text": [
      "Epoch Test: 15, Loss: 1.0664, Accuracy: 0.6839\n"
     ]
    },
    {
     "name": "stdout",
     "output_type": "stream",
     "text": [
      "Epoch Training: 16, Loss: 1.0755, Accuracy: 0.6010\n"
     ]
    },
    {
     "name": "stdout",
     "output_type": "stream",
     "text": [
      "Epoch Test: 16, Loss: 1.1031, Accuracy: 0.6512\n"
     ]
    },
    {
     "name": "stdout",
     "output_type": "stream",
     "text": [
      "Epoch Training: 17, Loss: 1.0784, Accuracy: 0.6313\n"
     ]
    },
    {
     "name": "stdout",
     "output_type": "stream",
     "text": [
      "Epoch Test: 17, Loss: 1.0853, Accuracy: 0.6894\n"
     ]
    },
    {
     "name": "stdout",
     "output_type": "stream",
     "text": [
      "Training finished for Fold 1 - size of train set is : 10.0% (198 samples) \n"
     ]
    },
    {
     "name": "stdout",
     "output_type": "stream",
     "text": [
      "Cleanup over for TPU Core 0\n"
     ]
    },
    {
     "name": "stdout",
     "output_type": "stream",
     "text": [
      "\n",
      " Run 2/5 sur TPU Core 0 for size : 0.3...\n"
     ]
    },
    {
     "name": "stdout",
     "output_type": "stream",
     "text": [
      "Epoch Training: 0, Loss: 2.2754, Accuracy: 0.2433\n"
     ]
    },
    {
     "name": "stdout",
     "output_type": "stream",
     "text": [
      "Epoch Test: 0, Loss: 2.1719, Accuracy: 0.3324\n"
     ]
    },
    {
     "name": "stdout",
     "output_type": "stream",
     "text": [
      "Epoch Training: 1, Loss: 1.9551, Accuracy: 0.3842\n"
     ]
    },
    {
     "name": "stdout",
     "output_type": "stream",
     "text": [
      "Epoch Test: 1, Loss: 1.9152, Accuracy: 0.4741\n"
     ]
    },
    {
     "name": "stdout",
     "output_type": "stream",
     "text": [
      "Epoch Training: 2, Loss: 1.6847, Accuracy: 0.4396\n"
     ]
    },
    {
     "name": "stdout",
     "output_type": "stream",
     "text": [
      "Epoch Test: 2, Loss: 1.7302, Accuracy: 0.5286\n"
     ]
    },
    {
     "name": "stdout",
     "output_type": "stream",
     "text": [
      "Epoch Training: 3, Loss: 1.5600, Accuracy: 0.4866\n"
     ]
    },
    {
     "name": "stdout",
     "output_type": "stream",
     "text": [
      "Epoch Test: 3, Loss: 1.5029, Accuracy: 0.5232\n"
     ]
    },
    {
     "name": "stdout",
     "output_type": "stream",
     "text": [
      "Epoch Training: 4, Loss: 1.4113, Accuracy: 0.5487\n"
     ]
    },
    {
     "name": "stdout",
     "output_type": "stream",
     "text": [
      "Epoch Test: 4, Loss: 1.1982, Accuracy: 0.6458\n"
     ]
    },
    {
     "name": "stdout",
     "output_type": "stream",
     "text": [
      "Epoch Training: 5, Loss: 1.1915, Accuracy: 0.5872\n"
     ]
    },
    {
     "name": "stdout",
     "output_type": "stream",
     "text": [
      "Epoch Test: 5, Loss: 1.0438, Accuracy: 0.7057\n"
     ]
    },
    {
     "name": "stdout",
     "output_type": "stream",
     "text": [
      "Epoch Training: 6, Loss: 1.1016, Accuracy: 0.6208\n"
     ]
    },
    {
     "name": "stdout",
     "output_type": "stream",
     "text": [
      "Epoch Test: 6, Loss: 0.8660, Accuracy: 0.7466\n"
     ]
    },
    {
     "name": "stdout",
     "output_type": "stream",
     "text": [
      "Epoch Training: 7, Loss: 0.9835, Accuracy: 0.6812\n"
     ]
    },
    {
     "name": "stdout",
     "output_type": "stream",
     "text": [
      "Epoch Test: 7, Loss: 0.8196, Accuracy: 0.7166\n"
     ]
    },
    {
     "name": "stdout",
     "output_type": "stream",
     "text": [
      "Epoch Training: 8, Loss: 0.9170, Accuracy: 0.6644\n"
     ]
    },
    {
     "name": "stdout",
     "output_type": "stream",
     "text": [
      "Epoch Test: 8, Loss: 0.8160, Accuracy: 0.7575\n"
     ]
    },
    {
     "name": "stdout",
     "output_type": "stream",
     "text": [
      "Epoch Training: 9, Loss: 0.8541, Accuracy: 0.7232\n"
     ]
    },
    {
     "name": "stdout",
     "output_type": "stream",
     "text": [
      "Epoch Test: 9, Loss: 0.6492, Accuracy: 0.8338\n"
     ]
    },
    {
     "name": "stdout",
     "output_type": "stream",
     "text": [
      "Epoch Training: 10, Loss: 0.8175, Accuracy: 0.7148\n"
     ]
    },
    {
     "name": "stdout",
     "output_type": "stream",
     "text": [
      "Epoch Test: 10, Loss: 0.6910, Accuracy: 0.8093\n"
     ]
    },
    {
     "name": "stdout",
     "output_type": "stream",
     "text": [
      "Epoch Training: 11, Loss: 0.7827, Accuracy: 0.7567\n"
     ]
    },
    {
     "name": "stdout",
     "output_type": "stream",
     "text": [
      "Epoch Test: 11, Loss: 0.5902, Accuracy: 0.8638\n"
     ]
    },
    {
     "name": "stdout",
     "output_type": "stream",
     "text": [
      "Epoch Training: 12, Loss: 0.7760, Accuracy: 0.7483\n"
     ]
    },
    {
     "name": "stdout",
     "output_type": "stream",
     "text": [
      "Epoch Test: 12, Loss: 0.5378, Accuracy: 0.8747\n"
     ]
    },
    {
     "name": "stdout",
     "output_type": "stream",
     "text": [
      "Epoch Training: 13, Loss: 0.7187, Accuracy: 0.7802\n"
     ]
    },
    {
     "name": "stdout",
     "output_type": "stream",
     "text": [
      "Epoch Test: 13, Loss: 0.5566, Accuracy: 0.8719\n"
     ]
    },
    {
     "name": "stdout",
     "output_type": "stream",
     "text": [
      "Epoch Training: 14, Loss: 0.6696, Accuracy: 0.8003\n"
     ]
    },
    {
     "name": "stdout",
     "output_type": "stream",
     "text": [
      "Epoch Test: 14, Loss: 0.5137, Accuracy: 0.8856\n"
     ]
    },
    {
     "name": "stdout",
     "output_type": "stream",
     "text": [
      "Epoch Training: 15, Loss: 0.6717, Accuracy: 0.7852\n"
     ]
    },
    {
     "name": "stdout",
     "output_type": "stream",
     "text": [
      "Epoch Test: 15, Loss: 0.5028, Accuracy: 0.8992\n"
     ]
    },
    {
     "name": "stdout",
     "output_type": "stream",
     "text": [
      "Epoch Training: 16, Loss: 0.6462, Accuracy: 0.8104\n"
     ]
    },
    {
     "name": "stdout",
     "output_type": "stream",
     "text": [
      "Epoch Test: 16, Loss: 0.4834, Accuracy: 0.9019\n"
     ]
    },
    {
     "name": "stdout",
     "output_type": "stream",
     "text": [
      "Epoch Training: 17, Loss: 0.6043, Accuracy: 0.8473\n"
     ]
    },
    {
     "name": "stdout",
     "output_type": "stream",
     "text": [
      "Epoch Test: 17, Loss: 0.5014, Accuracy: 0.8774\n"
     ]
    },
    {
     "name": "stdout",
     "output_type": "stream",
     "text": [
      "Training finished for Fold 1 - size of train set is : 30.0% (596 samples) \n"
     ]
    },
    {
     "name": "stdout",
     "output_type": "stream",
     "text": [
      "Cleanup over for TPU Core 0\n"
     ]
    },
    {
     "name": "stdout",
     "output_type": "stream",
     "text": [
      "\n",
      " Run 2/5 sur TPU Core 0 for size : 0.5...\n"
     ]
    },
    {
     "name": "stdout",
     "output_type": "stream",
     "text": [
      "Epoch Training: 0, Loss: 2.2445, Accuracy: 0.2646\n"
     ]
    },
    {
     "name": "stdout",
     "output_type": "stream",
     "text": [
      "Epoch Test: 0, Loss: 2.0081, Accuracy: 0.4905\n"
     ]
    },
    {
     "name": "stdout",
     "output_type": "stream",
     "text": [
      "Epoch Training: 1, Loss: 1.8251, Accuracy: 0.4115\n"
     ]
    },
    {
     "name": "stdout",
     "output_type": "stream",
     "text": [
      "Epoch Test: 1, Loss: 1.7243, Accuracy: 0.5450\n"
     ]
    },
    {
     "name": "stdout",
     "output_type": "stream",
     "text": [
      "Epoch Training: 2, Loss: 1.5735, Accuracy: 0.4829\n"
     ]
    },
    {
     "name": "stdout",
     "output_type": "stream",
     "text": [
      "Epoch Test: 2, Loss: 1.3606, Accuracy: 0.6349\n"
     ]
    },
    {
     "name": "stdout",
     "output_type": "stream",
     "text": [
      "Epoch Training: 3, Loss: 1.3470, Accuracy: 0.5584\n"
     ]
    },
    {
     "name": "stdout",
     "output_type": "stream",
     "text": [
      "Epoch Test: 3, Loss: 1.1232, Accuracy: 0.6757\n"
     ]
    },
    {
     "name": "stdout",
     "output_type": "stream",
     "text": [
      "Epoch Training: 4, Loss: 1.1258, Accuracy: 0.6076\n"
     ]
    },
    {
     "name": "stdout",
     "output_type": "stream",
     "text": [
      "Epoch Test: 4, Loss: 0.8762, Accuracy: 0.6676\n"
     ]
    },
    {
     "name": "stdout",
     "output_type": "stream",
     "text": [
      "Epoch Training: 5, Loss: 0.9794, Accuracy: 0.6449\n"
     ]
    },
    {
     "name": "stdout",
     "output_type": "stream",
     "text": [
      "Epoch Test: 5, Loss: 0.6841, Accuracy: 0.7875\n"
     ]
    },
    {
     "name": "stdout",
     "output_type": "stream",
     "text": [
      "Epoch Training: 6, Loss: 0.8776, Accuracy: 0.6730\n"
     ]
    },
    {
     "name": "stdout",
     "output_type": "stream",
     "text": [
      "Epoch Test: 6, Loss: 0.7147, Accuracy: 0.8011\n"
     ]
    },
    {
     "name": "stdout",
     "output_type": "stream",
     "text": [
      "Epoch Training: 7, Loss: 0.7790, Accuracy: 0.7374\n"
     ]
    },
    {
     "name": "stdout",
     "output_type": "stream",
     "text": [
      "Epoch Test: 7, Loss: 0.5943, Accuracy: 0.8719\n"
     ]
    },
    {
     "name": "stdout",
     "output_type": "stream",
     "text": [
      "Epoch Training: 8, Loss: 0.7020, Accuracy: 0.7686\n"
     ]
    },
    {
     "name": "stdout",
     "output_type": "stream",
     "text": [
      "Epoch Test: 8, Loss: 0.5015, Accuracy: 0.8719\n"
     ]
    },
    {
     "name": "stdout",
     "output_type": "stream",
     "text": [
      "Epoch Training: 9, Loss: 0.6258, Accuracy: 0.7988\n"
     ]
    },
    {
     "name": "stdout",
     "output_type": "stream",
     "text": [
      "Epoch Test: 9, Loss: 0.4937, Accuracy: 0.8447\n"
     ]
    },
    {
     "name": "stdout",
     "output_type": "stream",
     "text": [
      "Epoch Training: 10, Loss: 0.5583, Accuracy: 0.8380\n"
     ]
    },
    {
     "name": "stdout",
     "output_type": "stream",
     "text": [
      "Epoch Test: 10, Loss: 0.4183, Accuracy: 0.9019\n"
     ]
    },
    {
     "name": "stdout",
     "output_type": "stream",
     "text": [
      "Epoch Training: 11, Loss: 0.5450, Accuracy: 0.8340\n"
     ]
    },
    {
     "name": "stdout",
     "output_type": "stream",
     "text": [
      "Epoch Test: 11, Loss: 0.4130, Accuracy: 0.9128\n"
     ]
    },
    {
     "name": "stdout",
     "output_type": "stream",
     "text": [
      "Epoch Training: 12, Loss: 0.5099, Accuracy: 0.8642\n"
     ]
    },
    {
     "name": "stdout",
     "output_type": "stream",
     "text": [
      "Epoch Test: 12, Loss: 0.3635, Accuracy: 0.9264\n"
     ]
    },
    {
     "name": "stdout",
     "output_type": "stream",
     "text": [
      "Epoch Training: 13, Loss: 0.4855, Accuracy: 0.8712\n"
     ]
    },
    {
     "name": "stdout",
     "output_type": "stream",
     "text": [
      "Epoch Test: 13, Loss: 0.3500, Accuracy: 0.9237\n"
     ]
    },
    {
     "name": "stdout",
     "output_type": "stream",
     "text": [
      "Epoch Training: 14, Loss: 0.4217, Accuracy: 0.8863\n"
     ]
    },
    {
     "name": "stdout",
     "output_type": "stream",
     "text": [
      "Epoch Test: 14, Loss: 0.3158, Accuracy: 0.9237\n"
     ]
    },
    {
     "name": "stdout",
     "output_type": "stream",
     "text": [
      "Epoch Training: 15, Loss: 0.4050, Accuracy: 0.8994\n"
     ]
    },
    {
     "name": "stdout",
     "output_type": "stream",
     "text": [
      "Epoch Test: 15, Loss: 0.3064, Accuracy: 0.9292\n"
     ]
    },
    {
     "name": "stdout",
     "output_type": "stream",
     "text": [
      "Epoch Training: 16, Loss: 0.3981, Accuracy: 0.9034\n"
     ]
    },
    {
     "name": "stdout",
     "output_type": "stream",
     "text": [
      "Epoch Test: 16, Loss: 0.2876, Accuracy: 0.9237\n"
     ]
    },
    {
     "name": "stdout",
     "output_type": "stream",
     "text": [
      "Epoch Training: 17, Loss: 0.3676, Accuracy: 0.9135\n"
     ]
    },
    {
     "name": "stdout",
     "output_type": "stream",
     "text": [
      "Epoch Test: 17, Loss: 0.3021, Accuracy: 0.9292\n"
     ]
    },
    {
     "name": "stdout",
     "output_type": "stream",
     "text": [
      "Training finished for Fold 1 - size of train set is : 50.0% (994 samples) \n"
     ]
    },
    {
     "name": "stdout",
     "output_type": "stream",
     "text": [
      "Cleanup over for TPU Core 0\n"
     ]
    },
    {
     "name": "stdout",
     "output_type": "stream",
     "text": [
      "\n",
      " Run 2/5 sur TPU Core 0 for size : 0.7...\n"
     ]
    },
    {
     "name": "stdout",
     "output_type": "stream",
     "text": [
      "Epoch Training: 0, Loss: 2.1899, Accuracy: 0.2780\n"
     ]
    },
    {
     "name": "stdout",
     "output_type": "stream",
     "text": [
      "Epoch Test: 0, Loss: 2.0284, Accuracy: 0.4387\n"
     ]
    },
    {
     "name": "stdout",
     "output_type": "stream",
     "text": [
      "Epoch Training: 1, Loss: 1.6983, Accuracy: 0.4260\n"
     ]
    },
    {
     "name": "stdout",
     "output_type": "stream",
     "text": [
      "Epoch Test: 1, Loss: 1.7171, Accuracy: 0.4332\n"
     ]
    },
    {
     "name": "stdout",
     "output_type": "stream",
     "text": [
      "Epoch Training: 2, Loss: 1.4488, Accuracy: 0.5144\n"
     ]
    },
    {
     "name": "stdout",
     "output_type": "stream",
     "text": [
      "Epoch Test: 2, Loss: 1.4209, Accuracy: 0.5804\n"
     ]
    },
    {
     "name": "stdout",
     "output_type": "stream",
     "text": [
      "Epoch Training: 3, Loss: 1.2532, Accuracy: 0.5776\n"
     ]
    },
    {
     "name": "stdout",
     "output_type": "stream",
     "text": [
      "Epoch Test: 3, Loss: 1.0361, Accuracy: 0.6649\n"
     ]
    },
    {
     "name": "stdout",
     "output_type": "stream",
     "text": [
      "Epoch Training: 4, Loss: 1.0513, Accuracy: 0.6552\n"
     ]
    },
    {
     "name": "stdout",
     "output_type": "stream",
     "text": [
      "Epoch Test: 4, Loss: 0.9619, Accuracy: 0.6594\n"
     ]
    },
    {
     "name": "stdout",
     "output_type": "stream",
     "text": [
      "Epoch Training: 5, Loss: 0.8941, Accuracy: 0.6954\n"
     ]
    },
    {
     "name": "stdout",
     "output_type": "stream",
     "text": [
      "Epoch Test: 5, Loss: 0.6078, Accuracy: 0.8256\n"
     ]
    },
    {
     "name": "stdout",
     "output_type": "stream",
     "text": [
      "Epoch Training: 6, Loss: 0.7550, Accuracy: 0.7536\n"
     ]
    },
    {
     "name": "stdout",
     "output_type": "stream",
     "text": [
      "Epoch Test: 6, Loss: 0.5042, Accuracy: 0.8747\n"
     ]
    },
    {
     "name": "stdout",
     "output_type": "stream",
     "text": [
      "Epoch Training: 7, Loss: 0.6566, Accuracy: 0.7766\n"
     ]
    },
    {
     "name": "stdout",
     "output_type": "stream",
     "text": [
      "Epoch Test: 7, Loss: 0.5310, Accuracy: 0.8501\n"
     ]
    },
    {
     "name": "stdout",
     "output_type": "stream",
     "text": [
      "Epoch Training: 8, Loss: 0.5670, Accuracy: 0.8297\n"
     ]
    },
    {
     "name": "stdout",
     "output_type": "stream",
     "text": [
      "Epoch Test: 8, Loss: 0.3998, Accuracy: 0.9128\n"
     ]
    },
    {
     "name": "stdout",
     "output_type": "stream",
     "text": [
      "Epoch Training: 9, Loss: 0.5147, Accuracy: 0.8563\n"
     ]
    },
    {
     "name": "stdout",
     "output_type": "stream",
     "text": [
      "Epoch Test: 9, Loss: 0.3664, Accuracy: 0.8883\n"
     ]
    },
    {
     "name": "stdout",
     "output_type": "stream",
     "text": [
      "Epoch Training: 10, Loss: 0.4356, Accuracy: 0.8800\n"
     ]
    },
    {
     "name": "stdout",
     "output_type": "stream",
     "text": [
      "Epoch Test: 10, Loss: 0.2937, Accuracy: 0.9319\n"
     ]
    },
    {
     "name": "stdout",
     "output_type": "stream",
     "text": [
      "Epoch Training: 11, Loss: 0.3866, Accuracy: 0.9080\n"
     ]
    },
    {
     "name": "stdout",
     "output_type": "stream",
     "text": [
      "Epoch Test: 11, Loss: 0.2597, Accuracy: 0.9346\n"
     ]
    },
    {
     "name": "stdout",
     "output_type": "stream",
     "text": [
      "Epoch Training: 12, Loss: 0.3421, Accuracy: 0.9181\n"
     ]
    },
    {
     "name": "stdout",
     "output_type": "stream",
     "text": [
      "Epoch Test: 12, Loss: 0.2209, Accuracy: 0.9482\n"
     ]
    },
    {
     "name": "stdout",
     "output_type": "stream",
     "text": [
      "Epoch Training: 13, Loss: 0.3302, Accuracy: 0.9102\n"
     ]
    },
    {
     "name": "stdout",
     "output_type": "stream",
     "text": [
      "Epoch Test: 13, Loss: 0.2291, Accuracy: 0.9564\n"
     ]
    },
    {
     "name": "stdout",
     "output_type": "stream",
     "text": [
      "Epoch Training: 14, Loss: 0.2948, Accuracy: 0.9318\n"
     ]
    },
    {
     "name": "stdout",
     "output_type": "stream",
     "text": [
      "Epoch Test: 14, Loss: 0.1818, Accuracy: 0.9646\n"
     ]
    },
    {
     "name": "stdout",
     "output_type": "stream",
     "text": [
      "Epoch Training: 15, Loss: 0.2761, Accuracy: 0.9267\n"
     ]
    },
    {
     "name": "stdout",
     "output_type": "stream",
     "text": [
      "Epoch Test: 15, Loss: 0.1637, Accuracy: 0.9755\n"
     ]
    },
    {
     "name": "stdout",
     "output_type": "stream",
     "text": [
      "Epoch Training: 16, Loss: 0.2496, Accuracy: 0.9504\n"
     ]
    },
    {
     "name": "stdout",
     "output_type": "stream",
     "text": [
      "Epoch Test: 16, Loss: 0.1788, Accuracy: 0.9564\n"
     ]
    },
    {
     "name": "stdout",
     "output_type": "stream",
     "text": [
      "Epoch Training: 17, Loss: 0.2525, Accuracy: 0.9461\n"
     ]
    },
    {
     "name": "stdout",
     "output_type": "stream",
     "text": [
      "Epoch Test: 17, Loss: 0.1672, Accuracy: 0.9673\n"
     ]
    },
    {
     "name": "stdout",
     "output_type": "stream",
     "text": [
      "Training finished for Fold 1 - size of train set is : 70.0% (1392 samples) \n"
     ]
    },
    {
     "name": "stdout",
     "output_type": "stream",
     "text": [
      "Cleanup over for TPU Core 0\n"
     ]
    },
    {
     "name": "stdout",
     "output_type": "stream",
     "text": [
      "\n",
      " Run 2/5 sur TPU Core 0 for size : 1...\n"
     ]
    },
    {
     "name": "stdout",
     "output_type": "stream",
     "text": [
      "Epoch Training: 0, Loss: 2.0632, Accuracy: 0.3323\n"
     ]
    },
    {
     "name": "stdout",
     "output_type": "stream",
     "text": [
      "Epoch Test: 0, Loss: 1.8458, Accuracy: 0.5177\n"
     ]
    },
    {
     "name": "stdout",
     "output_type": "stream",
     "text": [
      "Epoch Training: 1, Loss: 1.5948, Accuracy: 0.4907\n"
     ]
    },
    {
     "name": "stdout",
     "output_type": "stream",
     "text": [
      "Epoch Test: 1, Loss: 1.4363, Accuracy: 0.5995\n"
     ]
    },
    {
     "name": "stdout",
     "output_type": "stream",
     "text": [
      "Epoch Training: 2, Loss: 1.3016, Accuracy: 0.5561\n"
     ]
    },
    {
     "name": "stdout",
     "output_type": "stream",
     "text": [
      "Epoch Test: 2, Loss: 1.1448, Accuracy: 0.6567\n"
     ]
    },
    {
     "name": "stdout",
     "output_type": "stream",
     "text": [
      "Epoch Training: 3, Loss: 1.0230, Accuracy: 0.6496\n"
     ]
    },
    {
     "name": "stdout",
     "output_type": "stream",
     "text": [
      "Epoch Test: 3, Loss: 0.7595, Accuracy: 0.7357\n"
     ]
    },
    {
     "name": "stdout",
     "output_type": "stream",
     "text": [
      "Epoch Training: 4, Loss: 0.8044, Accuracy: 0.7315\n"
     ]
    },
    {
     "name": "stdout",
     "output_type": "stream",
     "text": [
      "Epoch Test: 4, Loss: 0.5940, Accuracy: 0.8338\n"
     ]
    },
    {
     "name": "stdout",
     "output_type": "stream",
     "text": [
      "Epoch Training: 5, Loss: 0.6831, Accuracy: 0.7808\n"
     ]
    },
    {
     "name": "stdout",
     "output_type": "stream",
     "text": [
      "Epoch Test: 5, Loss: 0.4454, Accuracy: 0.8774\n"
     ]
    },
    {
     "name": "stdout",
     "output_type": "stream",
     "text": [
      "Epoch Training: 6, Loss: 0.5282, Accuracy: 0.8552\n"
     ]
    },
    {
     "name": "stdout",
     "output_type": "stream",
     "text": [
      "Epoch Test: 6, Loss: 0.3418, Accuracy: 0.9237\n"
     ]
    },
    {
     "name": "stdout",
     "output_type": "stream",
     "text": [
      "Epoch Training: 7, Loss: 0.4223, Accuracy: 0.8844\n"
     ]
    },
    {
     "name": "stdout",
     "output_type": "stream",
     "text": [
      "Epoch Test: 7, Loss: 0.2105, Accuracy: 0.9619\n"
     ]
    },
    {
     "name": "stdout",
     "output_type": "stream",
     "text": [
      "Epoch Training: 8, Loss: 0.3075, Accuracy: 0.9221\n"
     ]
    },
    {
     "name": "stdout",
     "output_type": "stream",
     "text": [
      "Epoch Test: 8, Loss: 0.1791, Accuracy: 0.9700\n"
     ]
    },
    {
     "name": "stdout",
     "output_type": "stream",
     "text": [
      "Epoch Training: 9, Loss: 0.2632, Accuracy: 0.9346\n"
     ]
    },
    {
     "name": "stdout",
     "output_type": "stream",
     "text": [
      "Epoch Test: 9, Loss: 0.1477, Accuracy: 0.9755\n"
     ]
    },
    {
     "name": "stdout",
     "output_type": "stream",
     "text": [
      "Epoch Training: 10, Loss: 0.2127, Accuracy: 0.9537\n"
     ]
    },
    {
     "name": "stdout",
     "output_type": "stream",
     "text": [
      "Epoch Test: 10, Loss: 0.1113, Accuracy: 0.9782\n"
     ]
    },
    {
     "name": "stdout",
     "output_type": "stream",
     "text": [
      "Epoch Training: 11, Loss: 0.1908, Accuracy: 0.9603\n"
     ]
    },
    {
     "name": "stdout",
     "output_type": "stream",
     "text": [
      "Epoch Test: 11, Loss: 0.1096, Accuracy: 0.9728\n"
     ]
    },
    {
     "name": "stdout",
     "output_type": "stream",
     "text": [
      "Epoch Training: 12, Loss: 0.1677, Accuracy: 0.9593\n"
     ]
    },
    {
     "name": "stdout",
     "output_type": "stream",
     "text": [
      "Epoch Test: 12, Loss: 0.0814, Accuracy: 0.9809\n"
     ]
    },
    {
     "name": "stdout",
     "output_type": "stream",
     "text": [
      "Epoch Training: 13, Loss: 0.1289, Accuracy: 0.9769\n"
     ]
    },
    {
     "name": "stdout",
     "output_type": "stream",
     "text": [
      "Epoch Test: 13, Loss: 0.0959, Accuracy: 0.9782\n"
     ]
    },
    {
     "name": "stdout",
     "output_type": "stream",
     "text": [
      "Epoch Training: 14, Loss: 0.1274, Accuracy: 0.9703\n"
     ]
    },
    {
     "name": "stdout",
     "output_type": "stream",
     "text": [
      "Epoch Test: 14, Loss: 0.0739, Accuracy: 0.9837\n"
     ]
    },
    {
     "name": "stdout",
     "output_type": "stream",
     "text": [
      "Epoch Training: 15, Loss: 0.1240, Accuracy: 0.9723\n"
     ]
    },
    {
     "name": "stdout",
     "output_type": "stream",
     "text": [
      "Epoch Test: 15, Loss: 0.0854, Accuracy: 0.9782\n"
     ]
    },
    {
     "name": "stdout",
     "output_type": "stream",
     "text": [
      "Epoch Training: 16, Loss: 0.1091, Accuracy: 0.9789\n"
     ]
    },
    {
     "name": "stdout",
     "output_type": "stream",
     "text": [
      "Epoch Test: 16, Loss: 0.0662, Accuracy: 0.9864\n"
     ]
    },
    {
     "name": "stdout",
     "output_type": "stream",
     "text": [
      "Epoch Training: 17, Loss: 0.1203, Accuracy: 0.9703\n"
     ]
    },
    {
     "name": "stdout",
     "output_type": "stream",
     "text": [
      "Epoch Test: 17, Loss: 0.0735, Accuracy: 0.9809\n"
     ]
    },
    {
     "name": "stdout",
     "output_type": "stream",
     "text": [
      "Training finished for Fold 1 - size of train set is : 100.0% (1989 samples) \n"
     ]
    },
    {
     "name": "stdout",
     "output_type": "stream",
     "text": [
      "Cleanup over for TPU Core 0\n"
     ]
    },
    {
     "name": "stdout",
     "output_type": "stream",
     "text": [
      "\n",
      " Run 3/5 sur TPU Core 0 for size : 0.1...\n"
     ]
    },
    {
     "name": "stdout",
     "output_type": "stream",
     "text": [
      "Epoch Training: 0, Loss: 2.4051, Accuracy: 0.0909\n"
     ]
    },
    {
     "name": "stdout",
     "output_type": "stream",
     "text": [
      "Epoch Test: 0, Loss: 2.3522, Accuracy: 0.1390\n"
     ]
    },
    {
     "name": "stdout",
     "output_type": "stream",
     "text": [
      "Epoch Training: 1, Loss: 2.2142, Accuracy: 0.2475\n"
     ]
    },
    {
     "name": "stdout",
     "output_type": "stream",
     "text": [
      "Epoch Test: 1, Loss: 2.2315, Accuracy: 0.1090\n"
     ]
    },
    {
     "name": "stdout",
     "output_type": "stream",
     "text": [
      "Epoch Training: 2, Loss: 2.0164, Accuracy: 0.2929\n"
     ]
    },
    {
     "name": "stdout",
     "output_type": "stream",
     "text": [
      "Epoch Test: 2, Loss: 2.0520, Accuracy: 0.2398\n"
     ]
    },
    {
     "name": "stdout",
     "output_type": "stream",
     "text": [
      "Epoch Training: 3, Loss: 1.8324, Accuracy: 0.3990\n"
     ]
    },
    {
     "name": "stdout",
     "output_type": "stream",
     "text": [
      "Epoch Test: 3, Loss: 1.8637, Accuracy: 0.3951\n"
     ]
    },
    {
     "name": "stdout",
     "output_type": "stream",
     "text": [
      "Epoch Training: 4, Loss: 1.7378, Accuracy: 0.3990\n"
     ]
    },
    {
     "name": "stdout",
     "output_type": "stream",
     "text": [
      "Epoch Test: 4, Loss: 1.8816, Accuracy: 0.3678\n"
     ]
    },
    {
     "name": "stdout",
     "output_type": "stream",
     "text": [
      "Epoch Training: 5, Loss: 1.6253, Accuracy: 0.4848\n"
     ]
    },
    {
     "name": "stdout",
     "output_type": "stream",
     "text": [
      "Epoch Test: 5, Loss: 1.6490, Accuracy: 0.4986\n"
     ]
    },
    {
     "name": "stdout",
     "output_type": "stream",
     "text": [
      "Epoch Training: 6, Loss: 1.5312, Accuracy: 0.4697\n"
     ]
    },
    {
     "name": "stdout",
     "output_type": "stream",
     "text": [
      "Epoch Test: 6, Loss: 1.5856, Accuracy: 0.5014\n"
     ]
    },
    {
     "name": "stdout",
     "output_type": "stream",
     "text": [
      "Epoch Training: 7, Loss: 1.4959, Accuracy: 0.4798\n"
     ]
    },
    {
     "name": "stdout",
     "output_type": "stream",
     "text": [
      "Epoch Test: 7, Loss: 1.5576, Accuracy: 0.4877\n"
     ]
    },
    {
     "name": "stdout",
     "output_type": "stream",
     "text": [
      "Epoch Training: 8, Loss: 1.4154, Accuracy: 0.5455\n"
     ]
    },
    {
     "name": "stdout",
     "output_type": "stream",
     "text": [
      "Epoch Test: 8, Loss: 1.5007, Accuracy: 0.5259\n"
     ]
    },
    {
     "name": "stdout",
     "output_type": "stream",
     "text": [
      "Epoch Training: 9, Loss: 1.3449, Accuracy: 0.5556\n"
     ]
    },
    {
     "name": "stdout",
     "output_type": "stream",
     "text": [
      "Epoch Test: 9, Loss: 1.3823, Accuracy: 0.5477\n"
     ]
    },
    {
     "name": "stdout",
     "output_type": "stream",
     "text": [
      "Epoch Training: 10, Loss: 1.3317, Accuracy: 0.5556\n"
     ]
    },
    {
     "name": "stdout",
     "output_type": "stream",
     "text": [
      "Epoch Test: 10, Loss: 1.4338, Accuracy: 0.5749\n"
     ]
    },
    {
     "name": "stdout",
     "output_type": "stream",
     "text": [
      "Epoch Training: 11, Loss: 1.2052, Accuracy: 0.6212\n"
     ]
    },
    {
     "name": "stdout",
     "output_type": "stream",
     "text": [
      "Epoch Test: 11, Loss: 1.3257, Accuracy: 0.5940\n"
     ]
    },
    {
     "name": "stdout",
     "output_type": "stream",
     "text": [
      "Epoch Training: 12, Loss: 1.2178, Accuracy: 0.6010\n"
     ]
    },
    {
     "name": "stdout",
     "output_type": "stream",
     "text": [
      "Epoch Test: 12, Loss: 1.3114, Accuracy: 0.6022\n"
     ]
    },
    {
     "name": "stdout",
     "output_type": "stream",
     "text": [
      "Epoch Training: 13, Loss: 1.2243, Accuracy: 0.6515\n"
     ]
    },
    {
     "name": "stdout",
     "output_type": "stream",
     "text": [
      "Epoch Test: 13, Loss: 1.3212, Accuracy: 0.5722\n"
     ]
    },
    {
     "name": "stdout",
     "output_type": "stream",
     "text": [
      "Epoch Training: 14, Loss: 1.1551, Accuracy: 0.6162\n"
     ]
    },
    {
     "name": "stdout",
     "output_type": "stream",
     "text": [
      "Epoch Test: 14, Loss: 1.2949, Accuracy: 0.6022\n"
     ]
    },
    {
     "name": "stdout",
     "output_type": "stream",
     "text": [
      "Epoch Training: 15, Loss: 1.1396, Accuracy: 0.6364\n"
     ]
    },
    {
     "name": "stdout",
     "output_type": "stream",
     "text": [
      "Epoch Test: 15, Loss: 1.2954, Accuracy: 0.5967\n"
     ]
    },
    {
     "name": "stdout",
     "output_type": "stream",
     "text": [
      "Epoch Training: 16, Loss: 1.1357, Accuracy: 0.6364\n"
     ]
    },
    {
     "name": "stdout",
     "output_type": "stream",
     "text": [
      "Epoch Test: 16, Loss: 1.2666, Accuracy: 0.6104\n"
     ]
    },
    {
     "name": "stdout",
     "output_type": "stream",
     "text": [
      "Epoch Training: 17, Loss: 1.1588, Accuracy: 0.6111\n"
     ]
    },
    {
     "name": "stdout",
     "output_type": "stream",
     "text": [
      "Epoch Test: 17, Loss: 1.2923, Accuracy: 0.6104\n"
     ]
    },
    {
     "name": "stdout",
     "output_type": "stream",
     "text": [
      "Training finished for Fold 2 - size of train set is : 10.0% (198 samples) \n"
     ]
    },
    {
     "name": "stdout",
     "output_type": "stream",
     "text": [
      "Cleanup over for TPU Core 0\n"
     ]
    },
    {
     "name": "stdout",
     "output_type": "stream",
     "text": [
      "\n",
      " Run 3/5 sur TPU Core 0 for size : 0.3...\n"
     ]
    },
    {
     "name": "stdout",
     "output_type": "stream",
     "text": [
      "Epoch Training: 0, Loss: 2.2869, Accuracy: 0.2315\n"
     ]
    },
    {
     "name": "stdout",
     "output_type": "stream",
     "text": [
      "Epoch Test: 0, Loss: 2.1333, Accuracy: 0.3978\n"
     ]
    },
    {
     "name": "stdout",
     "output_type": "stream",
     "text": [
      "Epoch Training: 1, Loss: 1.9105, Accuracy: 0.3960\n"
     ]
    },
    {
     "name": "stdout",
     "output_type": "stream",
     "text": [
      "Epoch Test: 1, Loss: 1.8884, Accuracy: 0.4033\n"
     ]
    },
    {
     "name": "stdout",
     "output_type": "stream",
     "text": [
      "Epoch Training: 2, Loss: 1.6303, Accuracy: 0.4648\n"
     ]
    },
    {
     "name": "stdout",
     "output_type": "stream",
     "text": [
      "Epoch Test: 2, Loss: 1.6251, Accuracy: 0.4714\n"
     ]
    },
    {
     "name": "stdout",
     "output_type": "stream",
     "text": [
      "Epoch Training: 3, Loss: 1.4880, Accuracy: 0.4966\n"
     ]
    },
    {
     "name": "stdout",
     "output_type": "stream",
     "text": [
      "Epoch Test: 3, Loss: 1.4975, Accuracy: 0.4932\n"
     ]
    },
    {
     "name": "stdout",
     "output_type": "stream",
     "text": [
      "Epoch Training: 4, Loss: 1.3001, Accuracy: 0.5654\n"
     ]
    },
    {
     "name": "stdout",
     "output_type": "stream",
     "text": [
      "Epoch Test: 4, Loss: 1.2098, Accuracy: 0.6240\n"
     ]
    },
    {
     "name": "stdout",
     "output_type": "stream",
     "text": [
      "Epoch Training: 5, Loss: 1.1599, Accuracy: 0.5990\n"
     ]
    },
    {
     "name": "stdout",
     "output_type": "stream",
     "text": [
      "Epoch Test: 5, Loss: 1.0639, Accuracy: 0.6267\n"
     ]
    },
    {
     "name": "stdout",
     "output_type": "stream",
     "text": [
      "Epoch Training: 6, Loss: 0.9900, Accuracy: 0.6275\n"
     ]
    },
    {
     "name": "stdout",
     "output_type": "stream",
     "text": [
      "Epoch Test: 6, Loss: 0.9194, Accuracy: 0.7684\n"
     ]
    },
    {
     "name": "stdout",
     "output_type": "stream",
     "text": [
      "Epoch Training: 7, Loss: 0.8938, Accuracy: 0.6963\n"
     ]
    },
    {
     "name": "stdout",
     "output_type": "stream",
     "text": [
      "Epoch Test: 7, Loss: 0.8249, Accuracy: 0.7193\n"
     ]
    },
    {
     "name": "stdout",
     "output_type": "stream",
     "text": [
      "Epoch Training: 8, Loss: 0.8285, Accuracy: 0.7265\n"
     ]
    },
    {
     "name": "stdout",
     "output_type": "stream",
     "text": [
      "Epoch Test: 8, Loss: 0.7794, Accuracy: 0.6894\n"
     ]
    },
    {
     "name": "stdout",
     "output_type": "stream",
     "text": [
      "Epoch Training: 9, Loss: 0.7450, Accuracy: 0.7534\n"
     ]
    },
    {
     "name": "stdout",
     "output_type": "stream",
     "text": [
      "Epoch Test: 9, Loss: 0.6697, Accuracy: 0.8120\n"
     ]
    },
    {
     "name": "stdout",
     "output_type": "stream",
     "text": [
      "Epoch Training: 10, Loss: 0.7436, Accuracy: 0.7483\n"
     ]
    },
    {
     "name": "stdout",
     "output_type": "stream",
     "text": [
      "Epoch Test: 10, Loss: 0.7034, Accuracy: 0.8283\n"
     ]
    },
    {
     "name": "stdout",
     "output_type": "stream",
     "text": [
      "Epoch Training: 11, Loss: 0.6887, Accuracy: 0.7852\n"
     ]
    },
    {
     "name": "stdout",
     "output_type": "stream",
     "text": [
      "Epoch Test: 11, Loss: 0.5738, Accuracy: 0.8583\n"
     ]
    },
    {
     "name": "stdout",
     "output_type": "stream",
     "text": [
      "Epoch Training: 12, Loss: 0.6461, Accuracy: 0.7987\n"
     ]
    },
    {
     "name": "stdout",
     "output_type": "stream",
     "text": [
      "Epoch Test: 12, Loss: 0.5978, Accuracy: 0.8420\n"
     ]
    },
    {
     "name": "stdout",
     "output_type": "stream",
     "text": [
      "Epoch Training: 13, Loss: 0.5892, Accuracy: 0.8305\n"
     ]
    },
    {
     "name": "stdout",
     "output_type": "stream",
     "text": [
      "Epoch Test: 13, Loss: 0.5447, Accuracy: 0.8692\n"
     ]
    },
    {
     "name": "stdout",
     "output_type": "stream",
     "text": [
      "Epoch Training: 14, Loss: 0.6221, Accuracy: 0.8020\n"
     ]
    },
    {
     "name": "stdout",
     "output_type": "stream",
     "text": [
      "Epoch Test: 14, Loss: 0.4831, Accuracy: 0.8937\n"
     ]
    },
    {
     "name": "stdout",
     "output_type": "stream",
     "text": [
      "Epoch Training: 15, Loss: 0.5782, Accuracy: 0.8305\n"
     ]
    },
    {
     "name": "stdout",
     "output_type": "stream",
     "text": [
      "Epoch Test: 15, Loss: 0.5219, Accuracy: 0.8856\n"
     ]
    },
    {
     "name": "stdout",
     "output_type": "stream",
     "text": [
      "Epoch Training: 16, Loss: 0.5514, Accuracy: 0.8372\n"
     ]
    },
    {
     "name": "stdout",
     "output_type": "stream",
     "text": [
      "Epoch Test: 16, Loss: 0.4923, Accuracy: 0.8937\n"
     ]
    },
    {
     "name": "stdout",
     "output_type": "stream",
     "text": [
      "Epoch Training: 17, Loss: 0.5827, Accuracy: 0.8423\n"
     ]
    },
    {
     "name": "stdout",
     "output_type": "stream",
     "text": [
      "Epoch Test: 17, Loss: 0.4878, Accuracy: 0.8910\n"
     ]
    },
    {
     "name": "stdout",
     "output_type": "stream",
     "text": [
      "Training finished for Fold 2 - size of train set is : 30.0% (596 samples) \n"
     ]
    },
    {
     "name": "stdout",
     "output_type": "stream",
     "text": [
      "Cleanup over for TPU Core 0\n"
     ]
    },
    {
     "name": "stdout",
     "output_type": "stream",
     "text": [
      "\n",
      " Run 3/5 sur TPU Core 0 for size : 0.5...\n"
     ]
    },
    {
     "name": "stdout",
     "output_type": "stream",
     "text": [
      "Epoch Training: 0, Loss: 2.2072, Accuracy: 0.2636\n"
     ]
    },
    {
     "name": "stdout",
     "output_type": "stream",
     "text": [
      "Epoch Test: 0, Loss: 2.0377, Accuracy: 0.4496\n"
     ]
    },
    {
     "name": "stdout",
     "output_type": "stream",
     "text": [
      "Epoch Training: 1, Loss: 1.8097, Accuracy: 0.4095\n"
     ]
    },
    {
     "name": "stdout",
     "output_type": "stream",
     "text": [
      "Epoch Test: 1, Loss: 1.7143, Accuracy: 0.5177\n"
     ]
    },
    {
     "name": "stdout",
     "output_type": "stream",
     "text": [
      "Epoch Training: 2, Loss: 1.5244, Accuracy: 0.4980\n"
     ]
    },
    {
     "name": "stdout",
     "output_type": "stream",
     "text": [
      "Epoch Test: 2, Loss: 1.4076, Accuracy: 0.6076\n"
     ]
    },
    {
     "name": "stdout",
     "output_type": "stream",
     "text": [
      "Epoch Training: 3, Loss: 1.3272, Accuracy: 0.5402\n"
     ]
    },
    {
     "name": "stdout",
     "output_type": "stream",
     "text": [
      "Epoch Test: 3, Loss: 1.2303, Accuracy: 0.6649\n"
     ]
    },
    {
     "name": "stdout",
     "output_type": "stream",
     "text": [
      "Epoch Training: 4, Loss: 1.1536, Accuracy: 0.6087\n"
     ]
    },
    {
     "name": "stdout",
     "output_type": "stream",
     "text": [
      "Epoch Test: 4, Loss: 1.0121, Accuracy: 0.6512\n"
     ]
    },
    {
     "name": "stdout",
     "output_type": "stream",
     "text": [
      "Epoch Training: 5, Loss: 0.9725, Accuracy: 0.6459\n"
     ]
    },
    {
     "name": "stdout",
     "output_type": "stream",
     "text": [
      "Epoch Test: 5, Loss: 0.9244, Accuracy: 0.6649\n"
     ]
    },
    {
     "name": "stdout",
     "output_type": "stream",
     "text": [
      "Epoch Training: 6, Loss: 0.8834, Accuracy: 0.6791\n"
     ]
    },
    {
     "name": "stdout",
     "output_type": "stream",
     "text": [
      "Epoch Test: 6, Loss: 0.7209, Accuracy: 0.7984\n"
     ]
    },
    {
     "name": "stdout",
     "output_type": "stream",
     "text": [
      "Epoch Training: 7, Loss: 0.7442, Accuracy: 0.7495\n"
     ]
    },
    {
     "name": "stdout",
     "output_type": "stream",
     "text": [
      "Epoch Test: 7, Loss: 0.5999, Accuracy: 0.8311\n"
     ]
    },
    {
     "name": "stdout",
     "output_type": "stream",
     "text": [
      "Epoch Training: 8, Loss: 0.7218, Accuracy: 0.7465\n"
     ]
    },
    {
     "name": "stdout",
     "output_type": "stream",
     "text": [
      "Epoch Test: 8, Loss: 0.6395, Accuracy: 0.8392\n"
     ]
    },
    {
     "name": "stdout",
     "output_type": "stream",
     "text": [
      "Epoch Training: 9, Loss: 0.6350, Accuracy: 0.8078\n"
     ]
    },
    {
     "name": "stdout",
     "output_type": "stream",
     "text": [
      "Epoch Test: 9, Loss: 0.4903, Accuracy: 0.8856\n"
     ]
    },
    {
     "name": "stdout",
     "output_type": "stream",
     "text": [
      "Epoch Training: 10, Loss: 0.5958, Accuracy: 0.8058\n"
     ]
    },
    {
     "name": "stdout",
     "output_type": "stream",
     "text": [
      "Epoch Test: 10, Loss: 0.4102, Accuracy: 0.9019\n"
     ]
    },
    {
     "name": "stdout",
     "output_type": "stream",
     "text": [
      "Epoch Training: 11, Loss: 0.5227, Accuracy: 0.8320\n"
     ]
    },
    {
     "name": "stdout",
     "output_type": "stream",
     "text": [
      "Epoch Test: 11, Loss: 0.4424, Accuracy: 0.9019\n"
     ]
    },
    {
     "name": "stdout",
     "output_type": "stream",
     "text": [
      "Epoch Training: 12, Loss: 0.5212, Accuracy: 0.8561\n"
     ]
    },
    {
     "name": "stdout",
     "output_type": "stream",
     "text": [
      "Epoch Test: 12, Loss: 0.4538, Accuracy: 0.9074\n"
     ]
    },
    {
     "name": "stdout",
     "output_type": "stream",
     "text": [
      "Epoch Training: 13, Loss: 0.4584, Accuracy: 0.8763\n"
     ]
    },
    {
     "name": "stdout",
     "output_type": "stream",
     "text": [
      "Epoch Test: 13, Loss: 0.3723, Accuracy: 0.9428\n"
     ]
    },
    {
     "name": "stdout",
     "output_type": "stream",
     "text": [
      "Epoch Training: 14, Loss: 0.4190, Accuracy: 0.8702\n"
     ]
    },
    {
     "name": "stdout",
     "output_type": "stream",
     "text": [
      "Epoch Test: 14, Loss: 0.3658, Accuracy: 0.9264\n"
     ]
    },
    {
     "name": "stdout",
     "output_type": "stream",
     "text": [
      "Epoch Training: 15, Loss: 0.4079, Accuracy: 0.8893\n"
     ]
    },
    {
     "name": "stdout",
     "output_type": "stream",
     "text": [
      "Epoch Test: 15, Loss: 0.3532, Accuracy: 0.9237\n"
     ]
    },
    {
     "name": "stdout",
     "output_type": "stream",
     "text": [
      "Epoch Training: 16, Loss: 0.3929, Accuracy: 0.8984\n"
     ]
    },
    {
     "name": "stdout",
     "output_type": "stream",
     "text": [
      "Epoch Test: 16, Loss: 0.3398, Accuracy: 0.9428\n"
     ]
    },
    {
     "name": "stdout",
     "output_type": "stream",
     "text": [
      "Epoch Training: 17, Loss: 0.3860, Accuracy: 0.9074\n"
     ]
    },
    {
     "name": "stdout",
     "output_type": "stream",
     "text": [
      "Epoch Test: 17, Loss: 0.2999, Accuracy: 0.9428\n"
     ]
    },
    {
     "name": "stdout",
     "output_type": "stream",
     "text": [
      "Training finished for Fold 2 - size of train set is : 50.0% (994 samples) \n"
     ]
    },
    {
     "name": "stdout",
     "output_type": "stream",
     "text": [
      "Cleanup over for TPU Core 0\n"
     ]
    },
    {
     "name": "stdout",
     "output_type": "stream",
     "text": [
      "\n",
      " Run 3/5 sur TPU Core 0 for size : 0.7...\n"
     ]
    },
    {
     "name": "stdout",
     "output_type": "stream",
     "text": [
      "Epoch Training: 0, Loss: 2.1561, Accuracy: 0.2816\n"
     ]
    },
    {
     "name": "stdout",
     "output_type": "stream",
     "text": [
      "Epoch Test: 0, Loss: 1.9620, Accuracy: 0.4414\n"
     ]
    },
    {
     "name": "stdout",
     "output_type": "stream",
     "text": [
      "Epoch Training: 1, Loss: 1.7284, Accuracy: 0.4274\n"
     ]
    },
    {
     "name": "stdout",
     "output_type": "stream",
     "text": [
      "Epoch Test: 1, Loss: 1.6812, Accuracy: 0.5395\n"
     ]
    },
    {
     "name": "stdout",
     "output_type": "stream",
     "text": [
      "Epoch Training: 2, Loss: 1.4457, Accuracy: 0.5280\n"
     ]
    },
    {
     "name": "stdout",
     "output_type": "stream",
     "text": [
      "Epoch Test: 2, Loss: 1.2924, Accuracy: 0.6022\n"
     ]
    },
    {
     "name": "stdout",
     "output_type": "stream",
     "text": [
      "Epoch Training: 3, Loss: 1.2187, Accuracy: 0.5855\n"
     ]
    },
    {
     "name": "stdout",
     "output_type": "stream",
     "text": [
      "Epoch Test: 3, Loss: 1.0187, Accuracy: 0.6921\n"
     ]
    },
    {
     "name": "stdout",
     "output_type": "stream",
     "text": [
      "Epoch Training: 4, Loss: 1.0276, Accuracy: 0.6487\n"
     ]
    },
    {
     "name": "stdout",
     "output_type": "stream",
     "text": [
      "Epoch Test: 4, Loss: 0.8102, Accuracy: 0.7902\n"
     ]
    },
    {
     "name": "stdout",
     "output_type": "stream",
     "text": [
      "Epoch Training: 5, Loss: 0.8466, Accuracy: 0.7011\n"
     ]
    },
    {
     "name": "stdout",
     "output_type": "stream",
     "text": [
      "Epoch Test: 5, Loss: 0.8028, Accuracy: 0.7629\n"
     ]
    },
    {
     "name": "stdout",
     "output_type": "stream",
     "text": [
      "Epoch Training: 6, Loss: 0.7189, Accuracy: 0.7708\n"
     ]
    },
    {
     "name": "stdout",
     "output_type": "stream",
     "text": [
      "Epoch Test: 6, Loss: 0.5794, Accuracy: 0.8610\n"
     ]
    },
    {
     "name": "stdout",
     "output_type": "stream",
     "text": [
      "Epoch Training: 7, Loss: 0.6175, Accuracy: 0.8024\n"
     ]
    },
    {
     "name": "stdout",
     "output_type": "stream",
     "text": [
      "Epoch Test: 7, Loss: 0.4217, Accuracy: 0.9128\n"
     ]
    },
    {
     "name": "stdout",
     "output_type": "stream",
     "text": [
      "Epoch Training: 8, Loss: 0.5578, Accuracy: 0.8326\n"
     ]
    },
    {
     "name": "stdout",
     "output_type": "stream",
     "text": [
      "Epoch Test: 8, Loss: 0.3922, Accuracy: 0.8992\n"
     ]
    },
    {
     "name": "stdout",
     "output_type": "stream",
     "text": [
      "Epoch Training: 9, Loss: 0.4716, Accuracy: 0.8714\n"
     ]
    },
    {
     "name": "stdout",
     "output_type": "stream",
     "text": [
      "Epoch Test: 9, Loss: 0.3253, Accuracy: 0.9155\n"
     ]
    },
    {
     "name": "stdout",
     "output_type": "stream",
     "text": [
      "Epoch Training: 10, Loss: 0.4007, Accuracy: 0.8980\n"
     ]
    },
    {
     "name": "stdout",
     "output_type": "stream",
     "text": [
      "Epoch Test: 10, Loss: 0.2830, Accuracy: 0.9346\n"
     ]
    },
    {
     "name": "stdout",
     "output_type": "stream",
     "text": [
      "Epoch Training: 11, Loss: 0.3473, Accuracy: 0.9159\n"
     ]
    },
    {
     "name": "stdout",
     "output_type": "stream",
     "text": [
      "Epoch Test: 11, Loss: 0.2091, Accuracy: 0.9673\n"
     ]
    },
    {
     "name": "stdout",
     "output_type": "stream",
     "text": [
      "Epoch Training: 12, Loss: 0.3127, Accuracy: 0.9253\n"
     ]
    },
    {
     "name": "stdout",
     "output_type": "stream",
     "text": [
      "Epoch Test: 12, Loss: 0.1986, Accuracy: 0.9591\n"
     ]
    },
    {
     "name": "stdout",
     "output_type": "stream",
     "text": [
      "Epoch Training: 13, Loss: 0.2634, Accuracy: 0.9468\n"
     ]
    },
    {
     "name": "stdout",
     "output_type": "stream",
     "text": [
      "Epoch Test: 13, Loss: 0.1951, Accuracy: 0.9646\n"
     ]
    },
    {
     "name": "stdout",
     "output_type": "stream",
     "text": [
      "Epoch Training: 14, Loss: 0.2512, Accuracy: 0.9425\n"
     ]
    },
    {
     "name": "stdout",
     "output_type": "stream",
     "text": [
      "Epoch Test: 14, Loss: 0.1709, Accuracy: 0.9700\n"
     ]
    },
    {
     "name": "stdout",
     "output_type": "stream",
     "text": [
      "Epoch Training: 15, Loss: 0.2347, Accuracy: 0.9468\n"
     ]
    },
    {
     "name": "stdout",
     "output_type": "stream",
     "text": [
      "Epoch Test: 15, Loss: 0.1620, Accuracy: 0.9755\n"
     ]
    },
    {
     "name": "stdout",
     "output_type": "stream",
     "text": [
      "Epoch Training: 16, Loss: 0.2300, Accuracy: 0.9447\n"
     ]
    },
    {
     "name": "stdout",
     "output_type": "stream",
     "text": [
      "Epoch Test: 16, Loss: 0.1678, Accuracy: 0.9700\n"
     ]
    },
    {
     "name": "stdout",
     "output_type": "stream",
     "text": [
      "Epoch Training: 17, Loss: 0.2164, Accuracy: 0.9519\n"
     ]
    },
    {
     "name": "stdout",
     "output_type": "stream",
     "text": [
      "Epoch Test: 17, Loss: 0.1453, Accuracy: 0.9700\n"
     ]
    },
    {
     "name": "stdout",
     "output_type": "stream",
     "text": [
      "Training finished for Fold 2 - size of train set is : 70.0% (1392 samples) \n"
     ]
    },
    {
     "name": "stdout",
     "output_type": "stream",
     "text": [
      "Cleanup over for TPU Core 0\n"
     ]
    },
    {
     "name": "stdout",
     "output_type": "stream",
     "text": [
      "\n",
      " Run 3/5 sur TPU Core 0 for size : 1...\n"
     ]
    },
    {
     "name": "stdout",
     "output_type": "stream",
     "text": [
      "Epoch Training: 0, Loss: 2.0600, Accuracy: 0.3630\n"
     ]
    },
    {
     "name": "stdout",
     "output_type": "stream",
     "text": [
      "Epoch Test: 0, Loss: 1.8118, Accuracy: 0.4850\n"
     ]
    },
    {
     "name": "stdout",
     "output_type": "stream",
     "text": [
      "Epoch Training: 1, Loss: 1.5703, Accuracy: 0.4902\n"
     ]
    },
    {
     "name": "stdout",
     "output_type": "stream",
     "text": [
      "Epoch Test: 1, Loss: 1.4142, Accuracy: 0.6076\n"
     ]
    },
    {
     "name": "stdout",
     "output_type": "stream",
     "text": [
      "Epoch Training: 2, Loss: 1.2448, Accuracy: 0.5732\n"
     ]
    },
    {
     "name": "stdout",
     "output_type": "stream",
     "text": [
      "Epoch Test: 2, Loss: 1.2051, Accuracy: 0.6131\n"
     ]
    },
    {
     "name": "stdout",
     "output_type": "stream",
     "text": [
      "Epoch Training: 3, Loss: 0.9697, Accuracy: 0.6536\n"
     ]
    },
    {
     "name": "stdout",
     "output_type": "stream",
     "text": [
      "Epoch Test: 3, Loss: 0.7828, Accuracy: 0.8147\n"
     ]
    },
    {
     "name": "stdout",
     "output_type": "stream",
     "text": [
      "Epoch Training: 4, Loss: 0.8068, Accuracy: 0.7230\n"
     ]
    },
    {
     "name": "stdout",
     "output_type": "stream",
     "text": [
      "Epoch Test: 4, Loss: 0.7250, Accuracy: 0.7520\n"
     ]
    },
    {
     "name": "stdout",
     "output_type": "stream",
     "text": [
      "Epoch Training: 5, Loss: 0.6536, Accuracy: 0.7903\n"
     ]
    },
    {
     "name": "stdout",
     "output_type": "stream",
     "text": [
      "Epoch Test: 5, Loss: 0.5562, Accuracy: 0.8474\n"
     ]
    },
    {
     "name": "stdout",
     "output_type": "stream",
     "text": [
      "Epoch Training: 6, Loss: 0.5109, Accuracy: 0.8557\n"
     ]
    },
    {
     "name": "stdout",
     "output_type": "stream",
     "text": [
      "Epoch Test: 6, Loss: 0.3532, Accuracy: 0.9183\n"
     ]
    },
    {
     "name": "stdout",
     "output_type": "stream",
     "text": [
      "Epoch Training: 7, Loss: 0.3929, Accuracy: 0.8974\n"
     ]
    },
    {
     "name": "stdout",
     "output_type": "stream",
     "text": [
      "Epoch Test: 7, Loss: 0.2804, Accuracy: 0.9292\n"
     ]
    },
    {
     "name": "stdout",
     "output_type": "stream",
     "text": [
      "Epoch Training: 8, Loss: 0.3099, Accuracy: 0.9291\n"
     ]
    },
    {
     "name": "stdout",
     "output_type": "stream",
     "text": [
      "Epoch Test: 8, Loss: 0.2166, Accuracy: 0.9428\n"
     ]
    },
    {
     "name": "stdout",
     "output_type": "stream",
     "text": [
      "Epoch Training: 9, Loss: 0.2482, Accuracy: 0.9427\n"
     ]
    },
    {
     "name": "stdout",
     "output_type": "stream",
     "text": [
      "Epoch Test: 9, Loss: 0.1583, Accuracy: 0.9700\n"
     ]
    },
    {
     "name": "stdout",
     "output_type": "stream",
     "text": [
      "Epoch Training: 10, Loss: 0.1991, Accuracy: 0.9537\n"
     ]
    },
    {
     "name": "stdout",
     "output_type": "stream",
     "text": [
      "Epoch Test: 10, Loss: 0.1073, Accuracy: 0.9809\n"
     ]
    },
    {
     "name": "stdout",
     "output_type": "stream",
     "text": [
      "Epoch Training: 11, Loss: 0.1774, Accuracy: 0.9563\n"
     ]
    },
    {
     "name": "stdout",
     "output_type": "stream",
     "text": [
      "Epoch Test: 11, Loss: 0.1221, Accuracy: 0.9700\n"
     ]
    },
    {
     "name": "stdout",
     "output_type": "stream",
     "text": [
      "Epoch Training: 12, Loss: 0.1545, Accuracy: 0.9638\n"
     ]
    },
    {
     "name": "stdout",
     "output_type": "stream",
     "text": [
      "Epoch Test: 12, Loss: 0.1037, Accuracy: 0.9728\n"
     ]
    },
    {
     "name": "stdout",
     "output_type": "stream",
     "text": [
      "Epoch Training: 13, Loss: 0.1319, Accuracy: 0.9688\n"
     ]
    },
    {
     "name": "stdout",
     "output_type": "stream",
     "text": [
      "Epoch Test: 13, Loss: 0.0846, Accuracy: 0.9809\n"
     ]
    },
    {
     "name": "stdout",
     "output_type": "stream",
     "text": [
      "Epoch Training: 14, Loss: 0.1239, Accuracy: 0.9693\n"
     ]
    },
    {
     "name": "stdout",
     "output_type": "stream",
     "text": [
      "Epoch Test: 14, Loss: 0.0740, Accuracy: 0.9837\n"
     ]
    },
    {
     "name": "stdout",
     "output_type": "stream",
     "text": [
      "Epoch Training: 15, Loss: 0.1117, Accuracy: 0.9739\n"
     ]
    },
    {
     "name": "stdout",
     "output_type": "stream",
     "text": [
      "Epoch Test: 15, Loss: 0.0724, Accuracy: 0.9837\n"
     ]
    },
    {
     "name": "stdout",
     "output_type": "stream",
     "text": [
      "Epoch Training: 16, Loss: 0.1128, Accuracy: 0.9764\n"
     ]
    },
    {
     "name": "stdout",
     "output_type": "stream",
     "text": [
      "Epoch Test: 16, Loss: 0.0681, Accuracy: 0.9864\n"
     ]
    },
    {
     "name": "stdout",
     "output_type": "stream",
     "text": [
      "Epoch Training: 17, Loss: 0.1077, Accuracy: 0.9774\n"
     ]
    },
    {
     "name": "stdout",
     "output_type": "stream",
     "text": [
      "Epoch Test: 17, Loss: 0.0598, Accuracy: 0.9809\n"
     ]
    },
    {
     "name": "stdout",
     "output_type": "stream",
     "text": [
      "Training finished for Fold 2 - size of train set is : 100.0% (1989 samples) \n"
     ]
    },
    {
     "name": "stdout",
     "output_type": "stream",
     "text": [
      "Cleanup over for TPU Core 0\n"
     ]
    },
    {
     "name": "stdout",
     "output_type": "stream",
     "text": [
      "\n",
      " Run 4/5 sur TPU Core 0 for size : 0.1...\n"
     ]
    },
    {
     "name": "stdout",
     "output_type": "stream",
     "text": [
      "Epoch Training: 0, Loss: 2.3603, Accuracy: 0.1768\n"
     ]
    },
    {
     "name": "stdout",
     "output_type": "stream",
     "text": [
      "Epoch Test: 0, Loss: 2.3836, Accuracy: 0.1608\n"
     ]
    },
    {
     "name": "stdout",
     "output_type": "stream",
     "text": [
      "Epoch Training: 1, Loss: 2.1887, Accuracy: 0.3081\n"
     ]
    },
    {
     "name": "stdout",
     "output_type": "stream",
     "text": [
      "Epoch Test: 1, Loss: 2.3154, Accuracy: 0.0981\n"
     ]
    },
    {
     "name": "stdout",
     "output_type": "stream",
     "text": [
      "Epoch Training: 2, Loss: 1.9973, Accuracy: 0.3485\n"
     ]
    },
    {
     "name": "stdout",
     "output_type": "stream",
     "text": [
      "Epoch Test: 2, Loss: 2.2286, Accuracy: 0.1744\n"
     ]
    },
    {
     "name": "stdout",
     "output_type": "stream",
     "text": [
      "Epoch Training: 3, Loss: 1.8291, Accuracy: 0.4091\n"
     ]
    },
    {
     "name": "stdout",
     "output_type": "stream",
     "text": [
      "Epoch Test: 3, Loss: 2.0894, Accuracy: 0.1580\n"
     ]
    },
    {
     "name": "stdout",
     "output_type": "stream",
     "text": [
      "Epoch Training: 4, Loss: 1.6929, Accuracy: 0.3990\n"
     ]
    },
    {
     "name": "stdout",
     "output_type": "stream",
     "text": [
      "Epoch Test: 4, Loss: 1.9670, Accuracy: 0.2207\n"
     ]
    },
    {
     "name": "stdout",
     "output_type": "stream",
     "text": [
      "Epoch Training: 5, Loss: 1.6014, Accuracy: 0.4697\n"
     ]
    },
    {
     "name": "stdout",
     "output_type": "stream",
     "text": [
      "Epoch Test: 5, Loss: 1.7806, Accuracy: 0.3896\n"
     ]
    },
    {
     "name": "stdout",
     "output_type": "stream",
     "text": [
      "Epoch Training: 6, Loss: 1.5331, Accuracy: 0.4798\n"
     ]
    },
    {
     "name": "stdout",
     "output_type": "stream",
     "text": [
      "Epoch Test: 6, Loss: 1.7913, Accuracy: 0.3651\n"
     ]
    },
    {
     "name": "stdout",
     "output_type": "stream",
     "text": [
      "Epoch Training: 7, Loss: 1.4450, Accuracy: 0.5152\n"
     ]
    },
    {
     "name": "stdout",
     "output_type": "stream",
     "text": [
      "Epoch Test: 7, Loss: 1.7066, Accuracy: 0.4223\n"
     ]
    },
    {
     "name": "stdout",
     "output_type": "stream",
     "text": [
      "Epoch Training: 8, Loss: 1.4278, Accuracy: 0.5404\n"
     ]
    },
    {
     "name": "stdout",
     "output_type": "stream",
     "text": [
      "Epoch Test: 8, Loss: 1.6361, Accuracy: 0.3433\n"
     ]
    },
    {
     "name": "stdout",
     "output_type": "stream",
     "text": [
      "Epoch Training: 9, Loss: 1.3838, Accuracy: 0.5404\n"
     ]
    },
    {
     "name": "stdout",
     "output_type": "stream",
     "text": [
      "Epoch Test: 9, Loss: 1.5306, Accuracy: 0.5531\n"
     ]
    },
    {
     "name": "stdout",
     "output_type": "stream",
     "text": [
      "Epoch Training: 10, Loss: 1.3410, Accuracy: 0.5859\n"
     ]
    },
    {
     "name": "stdout",
     "output_type": "stream",
     "text": [
      "Epoch Test: 10, Loss: 1.5374, Accuracy: 0.3597\n"
     ]
    },
    {
     "name": "stdout",
     "output_type": "stream",
     "text": [
      "Epoch Training: 11, Loss: 1.3265, Accuracy: 0.5152\n"
     ]
    },
    {
     "name": "stdout",
     "output_type": "stream",
     "text": [
      "Epoch Test: 11, Loss: 1.4324, Accuracy: 0.4550\n"
     ]
    },
    {
     "name": "stdout",
     "output_type": "stream",
     "text": [
      "Epoch Training: 12, Loss: 1.2246, Accuracy: 0.5909\n"
     ]
    },
    {
     "name": "stdout",
     "output_type": "stream",
     "text": [
      "Epoch Test: 12, Loss: 1.3596, Accuracy: 0.4823\n"
     ]
    },
    {
     "name": "stdout",
     "output_type": "stream",
     "text": [
      "Epoch Training: 13, Loss: 1.2006, Accuracy: 0.5960\n"
     ]
    },
    {
     "name": "stdout",
     "output_type": "stream",
     "text": [
      "Epoch Test: 13, Loss: 1.3441, Accuracy: 0.4877\n"
     ]
    },
    {
     "name": "stdout",
     "output_type": "stream",
     "text": [
      "Epoch Training: 14, Loss: 1.1601, Accuracy: 0.6313\n"
     ]
    },
    {
     "name": "stdout",
     "output_type": "stream",
     "text": [
      "Epoch Test: 14, Loss: 1.2856, Accuracy: 0.5940\n"
     ]
    },
    {
     "name": "stdout",
     "output_type": "stream",
     "text": [
      "Epoch Training: 15, Loss: 1.1449, Accuracy: 0.6010\n"
     ]
    },
    {
     "name": "stdout",
     "output_type": "stream",
     "text": [
      "Epoch Test: 15, Loss: 1.3121, Accuracy: 0.5531\n"
     ]
    },
    {
     "name": "stdout",
     "output_type": "stream",
     "text": [
      "Epoch Training: 16, Loss: 1.1427, Accuracy: 0.6515\n"
     ]
    },
    {
     "name": "stdout",
     "output_type": "stream",
     "text": [
      "Epoch Test: 16, Loss: 1.2886, Accuracy: 0.5668\n"
     ]
    },
    {
     "name": "stdout",
     "output_type": "stream",
     "text": [
      "Epoch Training: 17, Loss: 1.1141, Accuracy: 0.6414\n"
     ]
    },
    {
     "name": "stdout",
     "output_type": "stream",
     "text": [
      "Epoch Test: 17, Loss: 1.2921, Accuracy: 0.5613\n"
     ]
    },
    {
     "name": "stdout",
     "output_type": "stream",
     "text": [
      "Training finished for Fold 3 - size of train set is : 10.0% (198 samples) \n"
     ]
    },
    {
     "name": "stdout",
     "output_type": "stream",
     "text": [
      "Cleanup over for TPU Core 0\n"
     ]
    },
    {
     "name": "stdout",
     "output_type": "stream",
     "text": [
      "\n",
      " Run 4/5 sur TPU Core 0 for size : 0.3...\n"
     ]
    },
    {
     "name": "stdout",
     "output_type": "stream",
     "text": [
      "Epoch Training: 0, Loss: 2.2499, Accuracy: 0.2315\n"
     ]
    },
    {
     "name": "stdout",
     "output_type": "stream",
     "text": [
      "Epoch Test: 0, Loss: 2.2558, Accuracy: 0.2970\n"
     ]
    },
    {
     "name": "stdout",
     "output_type": "stream",
     "text": [
      "Epoch Training: 1, Loss: 1.9757, Accuracy: 0.3624\n"
     ]
    },
    {
     "name": "stdout",
     "output_type": "stream",
     "text": [
      "Epoch Test: 1, Loss: 1.8731, Accuracy: 0.4714\n"
     ]
    },
    {
     "name": "stdout",
     "output_type": "stream",
     "text": [
      "Epoch Training: 2, Loss: 1.7102, Accuracy: 0.4329\n"
     ]
    },
    {
     "name": "stdout",
     "output_type": "stream",
     "text": [
      "Epoch Test: 2, Loss: 1.6315, Accuracy: 0.5722\n"
     ]
    },
    {
     "name": "stdout",
     "output_type": "stream",
     "text": [
      "Epoch Training: 3, Loss: 1.5071, Accuracy: 0.5117\n"
     ]
    },
    {
     "name": "stdout",
     "output_type": "stream",
     "text": [
      "Epoch Test: 3, Loss: 1.5202, Accuracy: 0.6076\n"
     ]
    },
    {
     "name": "stdout",
     "output_type": "stream",
     "text": [
      "Epoch Training: 4, Loss: 1.3556, Accuracy: 0.5168\n"
     ]
    },
    {
     "name": "stdout",
     "output_type": "stream",
     "text": [
      "Epoch Test: 4, Loss: 1.3899, Accuracy: 0.5913\n"
     ]
    },
    {
     "name": "stdout",
     "output_type": "stream",
     "text": [
      "Epoch Training: 5, Loss: 1.2293, Accuracy: 0.5822\n"
     ]
    },
    {
     "name": "stdout",
     "output_type": "stream",
     "text": [
      "Epoch Test: 5, Loss: 1.1301, Accuracy: 0.6676\n"
     ]
    },
    {
     "name": "stdout",
     "output_type": "stream",
     "text": [
      "Epoch Training: 6, Loss: 1.0801, Accuracy: 0.6057\n"
     ]
    },
    {
     "name": "stdout",
     "output_type": "stream",
     "text": [
      "Epoch Test: 6, Loss: 1.1004, Accuracy: 0.6431\n"
     ]
    },
    {
     "name": "stdout",
     "output_type": "stream",
     "text": [
      "Epoch Training: 7, Loss: 1.0359, Accuracy: 0.6208\n"
     ]
    },
    {
     "name": "stdout",
     "output_type": "stream",
     "text": [
      "Epoch Test: 7, Loss: 1.0463, Accuracy: 0.7166\n"
     ]
    },
    {
     "name": "stdout",
     "output_type": "stream",
     "text": [
      "Epoch Training: 8, Loss: 0.8995, Accuracy: 0.6896\n"
     ]
    },
    {
     "name": "stdout",
     "output_type": "stream",
     "text": [
      "Epoch Test: 8, Loss: 0.8560, Accuracy: 0.8065\n"
     ]
    },
    {
     "name": "stdout",
     "output_type": "stream",
     "text": [
      "Epoch Training: 9, Loss: 0.8387, Accuracy: 0.6695\n"
     ]
    },
    {
     "name": "stdout",
     "output_type": "stream",
     "text": [
      "Epoch Test: 9, Loss: 0.8003, Accuracy: 0.7820\n"
     ]
    },
    {
     "name": "stdout",
     "output_type": "stream",
     "text": [
      "Epoch Training: 10, Loss: 0.7974, Accuracy: 0.7232\n"
     ]
    },
    {
     "name": "stdout",
     "output_type": "stream",
     "text": [
      "Epoch Test: 10, Loss: 0.7429, Accuracy: 0.7766\n"
     ]
    },
    {
     "name": "stdout",
     "output_type": "stream",
     "text": [
      "Epoch Training: 11, Loss: 0.7339, Accuracy: 0.7534\n"
     ]
    },
    {
     "name": "stdout",
     "output_type": "stream",
     "text": [
      "Epoch Test: 11, Loss: 0.6872, Accuracy: 0.8447\n"
     ]
    },
    {
     "name": "stdout",
     "output_type": "stream",
     "text": [
      "Epoch Training: 12, Loss: 0.7374, Accuracy: 0.7584\n"
     ]
    },
    {
     "name": "stdout",
     "output_type": "stream",
     "text": [
      "Epoch Test: 12, Loss: 0.7478, Accuracy: 0.7548\n"
     ]
    },
    {
     "name": "stdout",
     "output_type": "stream",
     "text": [
      "Epoch Training: 13, Loss: 0.7060, Accuracy: 0.7735\n"
     ]
    },
    {
     "name": "stdout",
     "output_type": "stream",
     "text": [
      "Epoch Test: 13, Loss: 0.6725, Accuracy: 0.8065\n"
     ]
    },
    {
     "name": "stdout",
     "output_type": "stream",
     "text": [
      "Epoch Training: 14, Loss: 0.7034, Accuracy: 0.7651\n"
     ]
    },
    {
     "name": "stdout",
     "output_type": "stream",
     "text": [
      "Epoch Test: 14, Loss: 0.6510, Accuracy: 0.8365\n"
     ]
    },
    {
     "name": "stdout",
     "output_type": "stream",
     "text": [
      "Epoch Training: 15, Loss: 0.6418, Accuracy: 0.8171\n"
     ]
    },
    {
     "name": "stdout",
     "output_type": "stream",
     "text": [
      "Epoch Test: 15, Loss: 0.5974, Accuracy: 0.8392\n"
     ]
    },
    {
     "name": "stdout",
     "output_type": "stream",
     "text": [
      "Epoch Training: 16, Loss: 0.6819, Accuracy: 0.8037\n"
     ]
    },
    {
     "name": "stdout",
     "output_type": "stream",
     "text": [
      "Epoch Test: 16, Loss: 0.5906, Accuracy: 0.8474\n"
     ]
    },
    {
     "name": "stdout",
     "output_type": "stream",
     "text": [
      "Epoch Training: 17, Loss: 0.6419, Accuracy: 0.8054\n"
     ]
    },
    {
     "name": "stdout",
     "output_type": "stream",
     "text": [
      "Epoch Test: 17, Loss: 0.6205, Accuracy: 0.8474\n"
     ]
    },
    {
     "name": "stdout",
     "output_type": "stream",
     "text": [
      "Training finished for Fold 3 - size of train set is : 30.0% (596 samples) \n"
     ]
    },
    {
     "name": "stdout",
     "output_type": "stream",
     "text": [
      "Cleanup over for TPU Core 0\n"
     ]
    },
    {
     "name": "stdout",
     "output_type": "stream",
     "text": [
      "\n",
      " Run 4/5 sur TPU Core 0 for size : 0.5...\n"
     ]
    },
    {
     "name": "stdout",
     "output_type": "stream",
     "text": [
      "Epoch Training: 0, Loss: 2.2170, Accuracy: 0.2877\n"
     ]
    },
    {
     "name": "stdout",
     "output_type": "stream",
     "text": [
      "Epoch Test: 0, Loss: 2.0802, Accuracy: 0.4796\n"
     ]
    },
    {
     "name": "stdout",
     "output_type": "stream",
     "text": [
      "Epoch Training: 1, Loss: 1.7881, Accuracy: 0.4276\n"
     ]
    },
    {
     "name": "stdout",
     "output_type": "stream",
     "text": [
      "Epoch Test: 1, Loss: 1.7758, Accuracy: 0.4959\n"
     ]
    },
    {
     "name": "stdout",
     "output_type": "stream",
     "text": [
      "Epoch Training: 2, Loss: 1.5500, Accuracy: 0.4658\n"
     ]
    },
    {
     "name": "stdout",
     "output_type": "stream",
     "text": [
      "Epoch Test: 2, Loss: 1.4844, Accuracy: 0.5886\n"
     ]
    },
    {
     "name": "stdout",
     "output_type": "stream",
     "text": [
      "Epoch Training: 3, Loss: 1.3235, Accuracy: 0.5734\n"
     ]
    },
    {
     "name": "stdout",
     "output_type": "stream",
     "text": [
      "Epoch Test: 3, Loss: 1.1797, Accuracy: 0.6294\n"
     ]
    },
    {
     "name": "stdout",
     "output_type": "stream",
     "text": [
      "Epoch Training: 4, Loss: 1.1259, Accuracy: 0.5936\n"
     ]
    },
    {
     "name": "stdout",
     "output_type": "stream",
     "text": [
      "Epoch Test: 4, Loss: 0.9822, Accuracy: 0.6431\n"
     ]
    },
    {
     "name": "stdout",
     "output_type": "stream",
     "text": [
      "Epoch Training: 5, Loss: 0.9515, Accuracy: 0.6630\n"
     ]
    },
    {
     "name": "stdout",
     "output_type": "stream",
     "text": [
      "Epoch Test: 5, Loss: 0.8025, Accuracy: 0.7738\n"
     ]
    },
    {
     "name": "stdout",
     "output_type": "stream",
     "text": [
      "Epoch Training: 6, Loss: 0.9048, Accuracy: 0.6952\n"
     ]
    },
    {
     "name": "stdout",
     "output_type": "stream",
     "text": [
      "Epoch Test: 6, Loss: 0.8376, Accuracy: 0.7602\n"
     ]
    },
    {
     "name": "stdout",
     "output_type": "stream",
     "text": [
      "Epoch Training: 7, Loss: 0.7691, Accuracy: 0.7525\n"
     ]
    },
    {
     "name": "stdout",
     "output_type": "stream",
     "text": [
      "Epoch Test: 7, Loss: 0.7632, Accuracy: 0.7357\n"
     ]
    },
    {
     "name": "stdout",
     "output_type": "stream",
     "text": [
      "Epoch Training: 8, Loss: 0.6799, Accuracy: 0.7998\n"
     ]
    },
    {
     "name": "stdout",
     "output_type": "stream",
     "text": [
      "Epoch Test: 8, Loss: 0.5220, Accuracy: 0.8638\n"
     ]
    },
    {
     "name": "stdout",
     "output_type": "stream",
     "text": [
      "Epoch Training: 9, Loss: 0.6401, Accuracy: 0.7978\n"
     ]
    },
    {
     "name": "stdout",
     "output_type": "stream",
     "text": [
      "Epoch Test: 9, Loss: 0.4760, Accuracy: 0.8747\n"
     ]
    },
    {
     "name": "stdout",
     "output_type": "stream",
     "text": [
      "Epoch Training: 10, Loss: 0.5444, Accuracy: 0.8461\n"
     ]
    },
    {
     "name": "stdout",
     "output_type": "stream",
     "text": [
      "Epoch Test: 10, Loss: 0.4846, Accuracy: 0.8828\n"
     ]
    },
    {
     "name": "stdout",
     "output_type": "stream",
     "text": [
      "Epoch Training: 11, Loss: 0.5178, Accuracy: 0.8471\n"
     ]
    },
    {
     "name": "stdout",
     "output_type": "stream",
     "text": [
      "Epoch Test: 11, Loss: 0.3845, Accuracy: 0.9237\n"
     ]
    },
    {
     "name": "stdout",
     "output_type": "stream",
     "text": [
      "Epoch Training: 12, Loss: 0.4836, Accuracy: 0.8642\n"
     ]
    },
    {
     "name": "stdout",
     "output_type": "stream",
     "text": [
      "Epoch Test: 12, Loss: 0.3751, Accuracy: 0.9210\n"
     ]
    },
    {
     "name": "stdout",
     "output_type": "stream",
     "text": [
      "Epoch Training: 13, Loss: 0.4559, Accuracy: 0.8833\n"
     ]
    },
    {
     "name": "stdout",
     "output_type": "stream",
     "text": [
      "Epoch Test: 13, Loss: 0.3829, Accuracy: 0.9128\n"
     ]
    },
    {
     "name": "stdout",
     "output_type": "stream",
     "text": [
      "Epoch Training: 14, Loss: 0.4125, Accuracy: 0.8924\n"
     ]
    },
    {
     "name": "stdout",
     "output_type": "stream",
     "text": [
      "Epoch Test: 14, Loss: 0.3189, Accuracy: 0.9264\n"
     ]
    },
    {
     "name": "stdout",
     "output_type": "stream",
     "text": [
      "Epoch Training: 15, Loss: 0.3840, Accuracy: 0.9135\n"
     ]
    },
    {
     "name": "stdout",
     "output_type": "stream",
     "text": [
      "Epoch Test: 15, Loss: 0.3069, Accuracy: 0.9428\n"
     ]
    },
    {
     "name": "stdout",
     "output_type": "stream",
     "text": [
      "Epoch Training: 16, Loss: 0.3526, Accuracy: 0.9235\n"
     ]
    },
    {
     "name": "stdout",
     "output_type": "stream",
     "text": [
      "Epoch Test: 16, Loss: 0.3086, Accuracy: 0.9346\n"
     ]
    },
    {
     "name": "stdout",
     "output_type": "stream",
     "text": [
      "Epoch Training: 17, Loss: 0.3727, Accuracy: 0.9145\n"
     ]
    },
    {
     "name": "stdout",
     "output_type": "stream",
     "text": [
      "Epoch Test: 17, Loss: 0.2953, Accuracy: 0.9373\n"
     ]
    },
    {
     "name": "stdout",
     "output_type": "stream",
     "text": [
      "Training finished for Fold 3 - size of train set is : 50.0% (994 samples) \n"
     ]
    },
    {
     "name": "stdout",
     "output_type": "stream",
     "text": [
      "Cleanup over for TPU Core 0\n"
     ]
    },
    {
     "name": "stdout",
     "output_type": "stream",
     "text": [
      "\n",
      " Run 4/5 sur TPU Core 0 for size : 0.7...\n"
     ]
    },
    {
     "name": "stdout",
     "output_type": "stream",
     "text": [
      "Epoch Training: 0, Loss: 2.1417, Accuracy: 0.3103\n"
     ]
    },
    {
     "name": "stdout",
     "output_type": "stream",
     "text": [
      "Epoch Test: 0, Loss: 1.9631, Accuracy: 0.4251\n"
     ]
    },
    {
     "name": "stdout",
     "output_type": "stream",
     "text": [
      "Epoch Training: 1, Loss: 1.7166, Accuracy: 0.4267\n"
     ]
    },
    {
     "name": "stdout",
     "output_type": "stream",
     "text": [
      "Epoch Test: 1, Loss: 1.7541, Accuracy: 0.4823\n"
     ]
    },
    {
     "name": "stdout",
     "output_type": "stream",
     "text": [
      "Epoch Training: 2, Loss: 1.4450, Accuracy: 0.5065\n"
     ]
    },
    {
     "name": "stdout",
     "output_type": "stream",
     "text": [
      "Epoch Test: 2, Loss: 1.3964, Accuracy: 0.5804\n"
     ]
    },
    {
     "name": "stdout",
     "output_type": "stream",
     "text": [
      "Epoch Training: 3, Loss: 1.2198, Accuracy: 0.5704\n"
     ]
    },
    {
     "name": "stdout",
     "output_type": "stream",
     "text": [
      "Epoch Test: 3, Loss: 1.1160, Accuracy: 0.6349\n"
     ]
    },
    {
     "name": "stdout",
     "output_type": "stream",
     "text": [
      "Epoch Training: 4, Loss: 1.0557, Accuracy: 0.6343\n"
     ]
    },
    {
     "name": "stdout",
     "output_type": "stream",
     "text": [
      "Epoch Test: 4, Loss: 0.9016, Accuracy: 0.7520\n"
     ]
    },
    {
     "name": "stdout",
     "output_type": "stream",
     "text": [
      "Epoch Training: 5, Loss: 0.8727, Accuracy: 0.6947\n"
     ]
    },
    {
     "name": "stdout",
     "output_type": "stream",
     "text": [
      "Epoch Test: 5, Loss: 0.8575, Accuracy: 0.7248\n"
     ]
    },
    {
     "name": "stdout",
     "output_type": "stream",
     "text": [
      "Epoch Training: 6, Loss: 0.7456, Accuracy: 0.7507\n"
     ]
    },
    {
     "name": "stdout",
     "output_type": "stream",
     "text": [
      "Epoch Test: 6, Loss: 0.6691, Accuracy: 0.7793\n"
     ]
    },
    {
     "name": "stdout",
     "output_type": "stream",
     "text": [
      "Epoch Training: 7, Loss: 0.6240, Accuracy: 0.8089\n"
     ]
    },
    {
     "name": "stdout",
     "output_type": "stream",
     "text": [
      "Epoch Test: 7, Loss: 0.5948, Accuracy: 0.8501\n"
     ]
    },
    {
     "name": "stdout",
     "output_type": "stream",
     "text": [
      "Epoch Training: 8, Loss: 0.4967, Accuracy: 0.8635\n"
     ]
    },
    {
     "name": "stdout",
     "output_type": "stream",
     "text": [
      "Epoch Test: 8, Loss: 0.4710, Accuracy: 0.8719\n"
     ]
    },
    {
     "name": "stdout",
     "output_type": "stream",
     "text": [
      "Epoch Training: 9, Loss: 0.4681, Accuracy: 0.8707\n"
     ]
    },
    {
     "name": "stdout",
     "output_type": "stream",
     "text": [
      "Epoch Test: 9, Loss: 0.3668, Accuracy: 0.9074\n"
     ]
    },
    {
     "name": "stdout",
     "output_type": "stream",
     "text": [
      "Epoch Training: 10, Loss: 0.3726, Accuracy: 0.9030\n"
     ]
    },
    {
     "name": "stdout",
     "output_type": "stream",
     "text": [
      "Epoch Test: 10, Loss: 0.3325, Accuracy: 0.9155\n"
     ]
    },
    {
     "name": "stdout",
     "output_type": "stream",
     "text": [
      "Epoch Training: 11, Loss: 0.3427, Accuracy: 0.9152\n"
     ]
    },
    {
     "name": "stdout",
     "output_type": "stream",
     "text": [
      "Epoch Test: 11, Loss: 0.3315, Accuracy: 0.9346\n"
     ]
    },
    {
     "name": "stdout",
     "output_type": "stream",
     "text": [
      "Epoch Training: 12, Loss: 0.2951, Accuracy: 0.9318\n"
     ]
    },
    {
     "name": "stdout",
     "output_type": "stream",
     "text": [
      "Epoch Test: 12, Loss: 0.2390, Accuracy: 0.9401\n"
     ]
    },
    {
     "name": "stdout",
     "output_type": "stream",
     "text": [
      "Epoch Training: 13, Loss: 0.2428, Accuracy: 0.9504\n"
     ]
    },
    {
     "name": "stdout",
     "output_type": "stream",
     "text": [
      "Epoch Test: 13, Loss: 0.2270, Accuracy: 0.9537\n"
     ]
    },
    {
     "name": "stdout",
     "output_type": "stream",
     "text": [
      "Epoch Training: 14, Loss: 0.2241, Accuracy: 0.9497\n"
     ]
    },
    {
     "name": "stdout",
     "output_type": "stream",
     "text": [
      "Epoch Test: 14, Loss: 0.2060, Accuracy: 0.9482\n"
     ]
    },
    {
     "name": "stdout",
     "output_type": "stream",
     "text": [
      "Epoch Training: 15, Loss: 0.2027, Accuracy: 0.9576\n"
     ]
    },
    {
     "name": "stdout",
     "output_type": "stream",
     "text": [
      "Epoch Test: 15, Loss: 0.1929, Accuracy: 0.9619\n"
     ]
    },
    {
     "name": "stdout",
     "output_type": "stream",
     "text": [
      "Epoch Training: 16, Loss: 0.2048, Accuracy: 0.9504\n"
     ]
    },
    {
     "name": "stdout",
     "output_type": "stream",
     "text": [
      "Epoch Test: 16, Loss: 0.1880, Accuracy: 0.9537\n"
     ]
    },
    {
     "name": "stdout",
     "output_type": "stream",
     "text": [
      "Epoch Training: 17, Loss: 0.1945, Accuracy: 0.9605\n"
     ]
    },
    {
     "name": "stdout",
     "output_type": "stream",
     "text": [
      "Epoch Test: 17, Loss: 0.2160, Accuracy: 0.9619\n"
     ]
    },
    {
     "name": "stdout",
     "output_type": "stream",
     "text": [
      "Training finished for Fold 3 - size of train set is : 70.0% (1392 samples) \n"
     ]
    },
    {
     "name": "stdout",
     "output_type": "stream",
     "text": [
      "Cleanup over for TPU Core 0\n"
     ]
    },
    {
     "name": "stdout",
     "output_type": "stream",
     "text": [
      "\n",
      " Run 4/5 sur TPU Core 0 for size : 1...\n"
     ]
    },
    {
     "name": "stdout",
     "output_type": "stream",
     "text": [
      "Epoch Training: 0, Loss: 2.0703, Accuracy: 0.3213\n"
     ]
    },
    {
     "name": "stdout",
     "output_type": "stream",
     "text": [
      "Epoch Test: 0, Loss: 1.9784, Accuracy: 0.4278\n"
     ]
    },
    {
     "name": "stdout",
     "output_type": "stream",
     "text": [
      "Epoch Training: 1, Loss: 1.5847, Accuracy: 0.4816\n"
     ]
    },
    {
     "name": "stdout",
     "output_type": "stream",
     "text": [
      "Epoch Test: 1, Loss: 1.5655, Accuracy: 0.5695\n"
     ]
    },
    {
     "name": "stdout",
     "output_type": "stream",
     "text": [
      "Epoch Training: 2, Loss: 1.2880, Accuracy: 0.5546\n"
     ]
    },
    {
     "name": "stdout",
     "output_type": "stream",
     "text": [
      "Epoch Test: 2, Loss: 1.1607, Accuracy: 0.6431\n"
     ]
    },
    {
     "name": "stdout",
     "output_type": "stream",
     "text": [
      "Epoch Training: 3, Loss: 1.0120, Accuracy: 0.6476\n"
     ]
    },
    {
     "name": "stdout",
     "output_type": "stream",
     "text": [
      "Epoch Test: 3, Loss: 1.0510, Accuracy: 0.6240\n"
     ]
    },
    {
     "name": "stdout",
     "output_type": "stream",
     "text": [
      "Epoch Training: 4, Loss: 0.8430, Accuracy: 0.7009\n"
     ]
    },
    {
     "name": "stdout",
     "output_type": "stream",
     "text": [
      "Epoch Test: 4, Loss: 0.7438, Accuracy: 0.7766\n"
     ]
    },
    {
     "name": "stdout",
     "output_type": "stream",
     "text": [
      "Epoch Training: 5, Loss: 0.7165, Accuracy: 0.7466\n"
     ]
    },
    {
     "name": "stdout",
     "output_type": "stream",
     "text": [
      "Epoch Test: 5, Loss: 0.6795, Accuracy: 0.8093\n"
     ]
    },
    {
     "name": "stdout",
     "output_type": "stream",
     "text": [
      "Epoch Training: 6, Loss: 0.6008, Accuracy: 0.8054\n"
     ]
    },
    {
     "name": "stdout",
     "output_type": "stream",
     "text": [
      "Epoch Test: 6, Loss: 0.6008, Accuracy: 0.8420\n"
     ]
    },
    {
     "name": "stdout",
     "output_type": "stream",
     "text": [
      "Epoch Training: 7, Loss: 0.4853, Accuracy: 0.8572\n"
     ]
    },
    {
     "name": "stdout",
     "output_type": "stream",
     "text": [
      "Epoch Test: 7, Loss: 0.5130, Accuracy: 0.8556\n"
     ]
    },
    {
     "name": "stdout",
     "output_type": "stream",
     "text": [
      "Epoch Training: 8, Loss: 0.3915, Accuracy: 0.8919\n"
     ]
    },
    {
     "name": "stdout",
     "output_type": "stream",
     "text": [
      "Epoch Test: 8, Loss: 0.3648, Accuracy: 0.9155\n"
     ]
    },
    {
     "name": "stdout",
     "output_type": "stream",
     "text": [
      "Epoch Training: 9, Loss: 0.3182, Accuracy: 0.9196\n"
     ]
    },
    {
     "name": "stdout",
     "output_type": "stream",
     "text": [
      "Epoch Test: 9, Loss: 0.2833, Accuracy: 0.9428\n"
     ]
    },
    {
     "name": "stdout",
     "output_type": "stream",
     "text": [
      "Epoch Training: 10, Loss: 0.2583, Accuracy: 0.9372\n"
     ]
    },
    {
     "name": "stdout",
     "output_type": "stream",
     "text": [
      "Epoch Test: 10, Loss: 0.2662, Accuracy: 0.9319\n"
     ]
    },
    {
     "name": "stdout",
     "output_type": "stream",
     "text": [
      "Epoch Training: 11, Loss: 0.2242, Accuracy: 0.9427\n"
     ]
    },
    {
     "name": "stdout",
     "output_type": "stream",
     "text": [
      "Epoch Test: 11, Loss: 0.2523, Accuracy: 0.9428\n"
     ]
    },
    {
     "name": "stdout",
     "output_type": "stream",
     "text": [
      "Epoch Training: 12, Loss: 0.1895, Accuracy: 0.9502\n"
     ]
    },
    {
     "name": "stdout",
     "output_type": "stream",
     "text": [
      "Epoch Test: 12, Loss: 0.2403, Accuracy: 0.9482\n"
     ]
    },
    {
     "name": "stdout",
     "output_type": "stream",
     "text": [
      "Epoch Training: 13, Loss: 0.1798, Accuracy: 0.9603\n"
     ]
    },
    {
     "name": "stdout",
     "output_type": "stream",
     "text": [
      "Epoch Test: 13, Loss: 0.2052, Accuracy: 0.9591\n"
     ]
    },
    {
     "name": "stdout",
     "output_type": "stream",
     "text": [
      "Epoch Training: 14, Loss: 0.1505, Accuracy: 0.9683\n"
     ]
    },
    {
     "name": "stdout",
     "output_type": "stream",
     "text": [
      "Epoch Test: 14, Loss: 0.1654, Accuracy: 0.9537\n"
     ]
    },
    {
     "name": "stdout",
     "output_type": "stream",
     "text": [
      "Epoch Training: 15, Loss: 0.1441, Accuracy: 0.9703\n"
     ]
    },
    {
     "name": "stdout",
     "output_type": "stream",
     "text": [
      "Epoch Test: 15, Loss: 0.1703, Accuracy: 0.9673\n"
     ]
    },
    {
     "name": "stdout",
     "output_type": "stream",
     "text": [
      "Epoch Training: 16, Loss: 0.1476, Accuracy: 0.9678\n"
     ]
    },
    {
     "name": "stdout",
     "output_type": "stream",
     "text": [
      "Epoch Test: 16, Loss: 0.1689, Accuracy: 0.9591\n"
     ]
    },
    {
     "name": "stdout",
     "output_type": "stream",
     "text": [
      "Epoch Training: 17, Loss: 0.1288, Accuracy: 0.9718\n"
     ]
    },
    {
     "name": "stdout",
     "output_type": "stream",
     "text": [
      "Epoch Test: 17, Loss: 0.1519, Accuracy: 0.9646\n"
     ]
    },
    {
     "name": "stdout",
     "output_type": "stream",
     "text": [
      "Training finished for Fold 3 - size of train set is : 100.0% (1989 samples) \n"
     ]
    },
    {
     "name": "stdout",
     "output_type": "stream",
     "text": [
      "Cleanup over for TPU Core 0\n"
     ]
    },
    {
     "name": "stdout",
     "output_type": "stream",
     "text": [
      "\n",
      " Run 5/5 sur TPU Core 0 for size : 0.1...\n"
     ]
    },
    {
     "name": "stdout",
     "output_type": "stream",
     "text": [
      "Epoch Training: 0, Loss: 2.3365, Accuracy: 0.1768\n"
     ]
    },
    {
     "name": "stdout",
     "output_type": "stream",
     "text": [
      "Epoch Test: 0, Loss: 2.3606, Accuracy: 0.1499\n"
     ]
    },
    {
     "name": "stdout",
     "output_type": "stream",
     "text": [
      "Epoch Training: 1, Loss: 2.1262, Accuracy: 0.3182\n"
     ]
    },
    {
     "name": "stdout",
     "output_type": "stream",
     "text": [
      "Epoch Test: 1, Loss: 2.2847, Accuracy: 0.1526\n"
     ]
    },
    {
     "name": "stdout",
     "output_type": "stream",
     "text": [
      "Epoch Training: 2, Loss: 1.8860, Accuracy: 0.3636\n"
     ]
    },
    {
     "name": "stdout",
     "output_type": "stream",
     "text": [
      "Epoch Test: 2, Loss: 2.0356, Accuracy: 0.4768\n"
     ]
    },
    {
     "name": "stdout",
     "output_type": "stream",
     "text": [
      "Epoch Training: 3, Loss: 1.6809, Accuracy: 0.4091\n"
     ]
    },
    {
     "name": "stdout",
     "output_type": "stream",
     "text": [
      "Epoch Test: 3, Loss: 1.8917, Accuracy: 0.4823\n"
     ]
    },
    {
     "name": "stdout",
     "output_type": "stream",
     "text": [
      "Epoch Training: 4, Loss: 1.5627, Accuracy: 0.4697\n"
     ]
    },
    {
     "name": "stdout",
     "output_type": "stream",
     "text": [
      "Epoch Test: 4, Loss: 1.7139, Accuracy: 0.5123\n"
     ]
    },
    {
     "name": "stdout",
     "output_type": "stream",
     "text": [
      "Epoch Training: 5, Loss: 1.4186, Accuracy: 0.5253\n"
     ]
    },
    {
     "name": "stdout",
     "output_type": "stream",
     "text": [
      "Epoch Test: 5, Loss: 1.8244, Accuracy: 0.4251\n"
     ]
    },
    {
     "name": "stdout",
     "output_type": "stream",
     "text": [
      "Epoch Training: 6, Loss: 1.4142, Accuracy: 0.5202\n"
     ]
    },
    {
     "name": "stdout",
     "output_type": "stream",
     "text": [
      "Epoch Test: 6, Loss: 1.5574, Accuracy: 0.5504\n"
     ]
    },
    {
     "name": "stdout",
     "output_type": "stream",
     "text": [
      "Epoch Training: 7, Loss: 1.3540, Accuracy: 0.5808\n"
     ]
    },
    {
     "name": "stdout",
     "output_type": "stream",
     "text": [
      "Epoch Test: 7, Loss: 1.6225, Accuracy: 0.5313\n"
     ]
    },
    {
     "name": "stdout",
     "output_type": "stream",
     "text": [
      "Epoch Training: 8, Loss: 1.2730, Accuracy: 0.5404\n"
     ]
    },
    {
     "name": "stdout",
     "output_type": "stream",
     "text": [
      "Epoch Test: 8, Loss: 1.4550, Accuracy: 0.6049\n"
     ]
    },
    {
     "name": "stdout",
     "output_type": "stream",
     "text": [
      "Epoch Training: 9, Loss: 1.1839, Accuracy: 0.6212\n"
     ]
    },
    {
     "name": "stdout",
     "output_type": "stream",
     "text": [
      "Epoch Test: 9, Loss: 1.4427, Accuracy: 0.6240\n"
     ]
    },
    {
     "name": "stdout",
     "output_type": "stream",
     "text": [
      "Epoch Training: 10, Loss: 1.1774, Accuracy: 0.5960\n"
     ]
    },
    {
     "name": "stdout",
     "output_type": "stream",
     "text": [
      "Epoch Test: 10, Loss: 1.3795, Accuracy: 0.6403\n"
     ]
    },
    {
     "name": "stdout",
     "output_type": "stream",
     "text": [
      "Epoch Training: 11, Loss: 1.1107, Accuracy: 0.6263\n"
     ]
    },
    {
     "name": "stdout",
     "output_type": "stream",
     "text": [
      "Epoch Test: 11, Loss: 1.4156, Accuracy: 0.6049\n"
     ]
    },
    {
     "name": "stdout",
     "output_type": "stream",
     "text": [
      "Epoch Training: 12, Loss: 1.0996, Accuracy: 0.5909\n"
     ]
    },
    {
     "name": "stdout",
     "output_type": "stream",
     "text": [
      "Epoch Test: 12, Loss: 1.3376, Accuracy: 0.6376\n"
     ]
    },
    {
     "name": "stdout",
     "output_type": "stream",
     "text": [
      "Epoch Training: 13, Loss: 1.0174, Accuracy: 0.6414\n"
     ]
    },
    {
     "name": "stdout",
     "output_type": "stream",
     "text": [
      "Epoch Test: 13, Loss: 1.3060, Accuracy: 0.6322\n"
     ]
    },
    {
     "name": "stdout",
     "output_type": "stream",
     "text": [
      "Epoch Training: 14, Loss: 1.0679, Accuracy: 0.5758\n"
     ]
    },
    {
     "name": "stdout",
     "output_type": "stream",
     "text": [
      "Epoch Test: 14, Loss: 1.2527, Accuracy: 0.6785\n"
     ]
    },
    {
     "name": "stdout",
     "output_type": "stream",
     "text": [
      "Epoch Training: 15, Loss: 0.9927, Accuracy: 0.6263\n"
     ]
    },
    {
     "name": "stdout",
     "output_type": "stream",
     "text": [
      "Epoch Test: 15, Loss: 1.1960, Accuracy: 0.6676\n"
     ]
    },
    {
     "name": "stdout",
     "output_type": "stream",
     "text": [
      "Epoch Training: 16, Loss: 0.9856, Accuracy: 0.6515\n"
     ]
    },
    {
     "name": "stdout",
     "output_type": "stream",
     "text": [
      "Epoch Test: 16, Loss: 1.2104, Accuracy: 0.6757\n"
     ]
    },
    {
     "name": "stdout",
     "output_type": "stream",
     "text": [
      "Epoch Training: 17, Loss: 1.0114, Accuracy: 0.6667\n"
     ]
    },
    {
     "name": "stdout",
     "output_type": "stream",
     "text": [
      "Epoch Test: 17, Loss: 1.2007, Accuracy: 0.6621\n"
     ]
    },
    {
     "name": "stdout",
     "output_type": "stream",
     "text": [
      "Training finished for Fold 4 - size of train set is : 10.0% (198 samples) \n"
     ]
    },
    {
     "name": "stdout",
     "output_type": "stream",
     "text": [
      "Cleanup over for TPU Core 0\n"
     ]
    },
    {
     "name": "stdout",
     "output_type": "stream",
     "text": [
      "\n",
      " Run 5/5 sur TPU Core 0 for size : 0.3...\n"
     ]
    },
    {
     "name": "stdout",
     "output_type": "stream",
     "text": [
      "Epoch Training: 0, Loss: 2.2509, Accuracy: 0.2349\n"
     ]
    },
    {
     "name": "stdout",
     "output_type": "stream",
     "text": [
      "Epoch Test: 0, Loss: 2.1730, Accuracy: 0.4142\n"
     ]
    },
    {
     "name": "stdout",
     "output_type": "stream",
     "text": [
      "Epoch Training: 1, Loss: 1.9962, Accuracy: 0.2886\n"
     ]
    },
    {
     "name": "stdout",
     "output_type": "stream",
     "text": [
      "Epoch Test: 1, Loss: 1.8712, Accuracy: 0.4632\n"
     ]
    },
    {
     "name": "stdout",
     "output_type": "stream",
     "text": [
      "Epoch Training: 2, Loss: 1.7328, Accuracy: 0.4010\n"
     ]
    },
    {
     "name": "stdout",
     "output_type": "stream",
     "text": [
      "Epoch Test: 2, Loss: 1.8895, Accuracy: 0.4523\n"
     ]
    },
    {
     "name": "stdout",
     "output_type": "stream",
     "text": [
      "Epoch Training: 3, Loss: 1.5188, Accuracy: 0.4849\n"
     ]
    },
    {
     "name": "stdout",
     "output_type": "stream",
     "text": [
      "Epoch Test: 3, Loss: 1.4824, Accuracy: 0.6349\n"
     ]
    },
    {
     "name": "stdout",
     "output_type": "stream",
     "text": [
      "Epoch Training: 4, Loss: 1.3711, Accuracy: 0.5419\n"
     ]
    },
    {
     "name": "stdout",
     "output_type": "stream",
     "text": [
      "Epoch Test: 4, Loss: 1.5080, Accuracy: 0.5313\n"
     ]
    },
    {
     "name": "stdout",
     "output_type": "stream",
     "text": [
      "Epoch Training: 5, Loss: 1.2210, Accuracy: 0.5705\n"
     ]
    },
    {
     "name": "stdout",
     "output_type": "stream",
     "text": [
      "Epoch Test: 5, Loss: 1.1040, Accuracy: 0.6948\n"
     ]
    },
    {
     "name": "stdout",
     "output_type": "stream",
     "text": [
      "Epoch Training: 6, Loss: 1.0804, Accuracy: 0.6040\n"
     ]
    },
    {
     "name": "stdout",
     "output_type": "stream",
     "text": [
      "Epoch Test: 6, Loss: 1.0264, Accuracy: 0.7057\n"
     ]
    },
    {
     "name": "stdout",
     "output_type": "stream",
     "text": [
      "Epoch Training: 7, Loss: 1.0243, Accuracy: 0.6560\n"
     ]
    },
    {
     "name": "stdout",
     "output_type": "stream",
     "text": [
      "Epoch Test: 7, Loss: 0.8340, Accuracy: 0.7875\n"
     ]
    },
    {
     "name": "stdout",
     "output_type": "stream",
     "text": [
      "Epoch Training: 8, Loss: 0.9530, Accuracy: 0.6560\n"
     ]
    },
    {
     "name": "stdout",
     "output_type": "stream",
     "text": [
      "Epoch Test: 8, Loss: 0.9005, Accuracy: 0.7793\n"
     ]
    },
    {
     "name": "stdout",
     "output_type": "stream",
     "text": [
      "Epoch Training: 9, Loss: 0.8809, Accuracy: 0.6963\n"
     ]
    },
    {
     "name": "stdout",
     "output_type": "stream",
     "text": [
      "Epoch Test: 9, Loss: 0.8691, Accuracy: 0.7902\n"
     ]
    },
    {
     "name": "stdout",
     "output_type": "stream",
     "text": [
      "Epoch Training: 10, Loss: 0.8212, Accuracy: 0.7030\n"
     ]
    },
    {
     "name": "stdout",
     "output_type": "stream",
     "text": [
      "Epoch Test: 10, Loss: 0.7746, Accuracy: 0.8338\n"
     ]
    },
    {
     "name": "stdout",
     "output_type": "stream",
     "text": [
      "Epoch Training: 11, Loss: 0.8116, Accuracy: 0.7383\n"
     ]
    },
    {
     "name": "stdout",
     "output_type": "stream",
     "text": [
      "Epoch Test: 11, Loss: 0.7376, Accuracy: 0.8038\n"
     ]
    },
    {
     "name": "stdout",
     "output_type": "stream",
     "text": [
      "Epoch Training: 12, Loss: 0.7617, Accuracy: 0.7584\n"
     ]
    },
    {
     "name": "stdout",
     "output_type": "stream",
     "text": [
      "Epoch Test: 12, Loss: 0.7404, Accuracy: 0.8501\n"
     ]
    },
    {
     "name": "stdout",
     "output_type": "stream",
     "text": [
      "Epoch Training: 13, Loss: 0.7246, Accuracy: 0.7836\n"
     ]
    },
    {
     "name": "stdout",
     "output_type": "stream",
     "text": [
      "Epoch Test: 13, Loss: 0.7908, Accuracy: 0.7793\n"
     ]
    },
    {
     "name": "stdout",
     "output_type": "stream",
     "text": [
      "Epoch Training: 14, Loss: 0.7391, Accuracy: 0.7701\n"
     ]
    },
    {
     "name": "stdout",
     "output_type": "stream",
     "text": [
      "Epoch Test: 14, Loss: 0.6622, Accuracy: 0.8638\n"
     ]
    },
    {
     "name": "stdout",
     "output_type": "stream",
     "text": [
      "Epoch Training: 15, Loss: 0.6838, Accuracy: 0.7970\n"
     ]
    },
    {
     "name": "stdout",
     "output_type": "stream",
     "text": [
      "Epoch Test: 15, Loss: 0.6701, Accuracy: 0.8447\n"
     ]
    },
    {
     "name": "stdout",
     "output_type": "stream",
     "text": [
      "Epoch Training: 16, Loss: 0.6245, Accuracy: 0.8423\n"
     ]
    },
    {
     "name": "stdout",
     "output_type": "stream",
     "text": [
      "Epoch Test: 16, Loss: 0.6751, Accuracy: 0.8583\n"
     ]
    },
    {
     "name": "stdout",
     "output_type": "stream",
     "text": [
      "Epoch Training: 17, Loss: 0.6625, Accuracy: 0.8322\n"
     ]
    },
    {
     "name": "stdout",
     "output_type": "stream",
     "text": [
      "Epoch Test: 17, Loss: 0.6552, Accuracy: 0.8338\n"
     ]
    },
    {
     "name": "stdout",
     "output_type": "stream",
     "text": [
      "Training finished for Fold 4 - size of train set is : 30.0% (596 samples) \n"
     ]
    },
    {
     "name": "stdout",
     "output_type": "stream",
     "text": [
      "Cleanup over for TPU Core 0\n"
     ]
    },
    {
     "name": "stdout",
     "output_type": "stream",
     "text": [
      "\n",
      " Run 5/5 sur TPU Core 0 for size : 0.5...\n"
     ]
    },
    {
     "name": "stdout",
     "output_type": "stream",
     "text": [
      "Epoch Training: 0, Loss: 2.2046, Accuracy: 0.2636\n"
     ]
    },
    {
     "name": "stdout",
     "output_type": "stream",
     "text": [
      "Epoch Test: 0, Loss: 2.1356, Accuracy: 0.3842\n"
     ]
    },
    {
     "name": "stdout",
     "output_type": "stream",
     "text": [
      "Epoch Training: 1, Loss: 1.8106, Accuracy: 0.4245\n"
     ]
    },
    {
     "name": "stdout",
     "output_type": "stream",
     "text": [
      "Epoch Test: 1, Loss: 1.8362, Accuracy: 0.4305\n"
     ]
    },
    {
     "name": "stdout",
     "output_type": "stream",
     "text": [
      "Epoch Training: 2, Loss: 1.5448, Accuracy: 0.5050\n"
     ]
    },
    {
     "name": "stdout",
     "output_type": "stream",
     "text": [
      "Epoch Test: 2, Loss: 1.5678, Accuracy: 0.5668\n"
     ]
    },
    {
     "name": "stdout",
     "output_type": "stream",
     "text": [
      "Epoch Training: 3, Loss: 1.3318, Accuracy: 0.5402\n"
     ]
    },
    {
     "name": "stdout",
     "output_type": "stream",
     "text": [
      "Epoch Test: 3, Loss: 1.2681, Accuracy: 0.6458\n"
     ]
    },
    {
     "name": "stdout",
     "output_type": "stream",
     "text": [
      "Epoch Training: 4, Loss: 1.1223, Accuracy: 0.6066\n"
     ]
    },
    {
     "name": "stdout",
     "output_type": "stream",
     "text": [
      "Epoch Test: 4, Loss: 1.1191, Accuracy: 0.6512\n"
     ]
    },
    {
     "name": "stdout",
     "output_type": "stream",
     "text": [
      "Epoch Training: 5, Loss: 0.9606, Accuracy: 0.6740\n"
     ]
    },
    {
     "name": "stdout",
     "output_type": "stream",
     "text": [
      "Epoch Test: 5, Loss: 1.0450, Accuracy: 0.6076\n"
     ]
    },
    {
     "name": "stdout",
     "output_type": "stream",
     "text": [
      "Epoch Training: 6, Loss: 0.8436, Accuracy: 0.7153\n"
     ]
    },
    {
     "name": "stdout",
     "output_type": "stream",
     "text": [
      "Epoch Test: 6, Loss: 0.7870, Accuracy: 0.7439\n"
     ]
    },
    {
     "name": "stdout",
     "output_type": "stream",
     "text": [
      "Epoch Training: 7, Loss: 0.7512, Accuracy: 0.7274\n"
     ]
    },
    {
     "name": "stdout",
     "output_type": "stream",
     "text": [
      "Epoch Test: 7, Loss: 0.6852, Accuracy: 0.8147\n"
     ]
    },
    {
     "name": "stdout",
     "output_type": "stream",
     "text": [
      "Epoch Training: 8, Loss: 0.6874, Accuracy: 0.7897\n"
     ]
    },
    {
     "name": "stdout",
     "output_type": "stream",
     "text": [
      "Epoch Test: 8, Loss: 0.6093, Accuracy: 0.8529\n"
     ]
    },
    {
     "name": "stdout",
     "output_type": "stream",
     "text": [
      "Epoch Training: 9, Loss: 0.6564, Accuracy: 0.7907\n"
     ]
    },
    {
     "name": "stdout",
     "output_type": "stream",
     "text": [
      "Epoch Test: 9, Loss: 0.5948, Accuracy: 0.8311\n"
     ]
    },
    {
     "name": "stdout",
     "output_type": "stream",
     "text": [
      "Epoch Training: 10, Loss: 0.5796, Accuracy: 0.8290\n"
     ]
    },
    {
     "name": "stdout",
     "output_type": "stream",
     "text": [
      "Epoch Test: 10, Loss: 0.5044, Accuracy: 0.8828\n"
     ]
    },
    {
     "name": "stdout",
     "output_type": "stream",
     "text": [
      "Epoch Training: 11, Loss: 0.5247, Accuracy: 0.8612\n"
     ]
    },
    {
     "name": "stdout",
     "output_type": "stream",
     "text": [
      "Epoch Test: 11, Loss: 0.5542, Accuracy: 0.8338\n"
     ]
    },
    {
     "name": "stdout",
     "output_type": "stream",
     "text": [
      "Epoch Training: 12, Loss: 0.4985, Accuracy: 0.8662\n"
     ]
    },
    {
     "name": "stdout",
     "output_type": "stream",
     "text": [
      "Epoch Test: 12, Loss: 0.4490, Accuracy: 0.9155\n"
     ]
    },
    {
     "name": "stdout",
     "output_type": "stream",
     "text": [
      "Epoch Training: 13, Loss: 0.4539, Accuracy: 0.8823\n"
     ]
    },
    {
     "name": "stdout",
     "output_type": "stream",
     "text": [
      "Epoch Test: 13, Loss: 0.4154, Accuracy: 0.9101\n"
     ]
    },
    {
     "name": "stdout",
     "output_type": "stream",
     "text": [
      "Epoch Training: 14, Loss: 0.4213, Accuracy: 0.8924\n"
     ]
    },
    {
     "name": "stdout",
     "output_type": "stream",
     "text": [
      "Epoch Test: 14, Loss: 0.3911, Accuracy: 0.9046\n"
     ]
    },
    {
     "name": "stdout",
     "output_type": "stream",
     "text": [
      "Epoch Training: 15, Loss: 0.3913, Accuracy: 0.9074\n"
     ]
    },
    {
     "name": "stdout",
     "output_type": "stream",
     "text": [
      "Epoch Test: 15, Loss: 0.3937, Accuracy: 0.8910\n"
     ]
    },
    {
     "name": "stdout",
     "output_type": "stream",
     "text": [
      "Epoch Training: 16, Loss: 0.3828, Accuracy: 0.9165\n"
     ]
    },
    {
     "name": "stdout",
     "output_type": "stream",
     "text": [
      "Epoch Test: 16, Loss: 0.4260, Accuracy: 0.9019\n"
     ]
    },
    {
     "name": "stdout",
     "output_type": "stream",
     "text": [
      "Epoch Training: 17, Loss: 0.3500, Accuracy: 0.9165\n"
     ]
    },
    {
     "name": "stdout",
     "output_type": "stream",
     "text": [
      "Epoch Test: 17, Loss: 0.3572, Accuracy: 0.9128\n"
     ]
    },
    {
     "name": "stdout",
     "output_type": "stream",
     "text": [
      "Training finished for Fold 4 - size of train set is : 50.0% (994 samples) \n"
     ]
    },
    {
     "name": "stdout",
     "output_type": "stream",
     "text": [
      "Cleanup over for TPU Core 0\n"
     ]
    },
    {
     "name": "stdout",
     "output_type": "stream",
     "text": [
      "\n",
      " Run 5/5 sur TPU Core 0 for size : 0.7...\n"
     ]
    },
    {
     "name": "stdout",
     "output_type": "stream",
     "text": [
      "Epoch Training: 0, Loss: 2.1506, Accuracy: 0.2902\n"
     ]
    },
    {
     "name": "stdout",
     "output_type": "stream",
     "text": [
      "Epoch Test: 0, Loss: 1.9860, Accuracy: 0.4659\n"
     ]
    },
    {
     "name": "stdout",
     "output_type": "stream",
     "text": [
      "Epoch Training: 1, Loss: 1.6737, Accuracy: 0.4519\n"
     ]
    },
    {
     "name": "stdout",
     "output_type": "stream",
     "text": [
      "Epoch Test: 1, Loss: 1.5487, Accuracy: 0.5695\n"
     ]
    },
    {
     "name": "stdout",
     "output_type": "stream",
     "text": [
      "Epoch Training: 2, Loss: 1.4149, Accuracy: 0.5230\n"
     ]
    },
    {
     "name": "stdout",
     "output_type": "stream",
     "text": [
      "Epoch Test: 2, Loss: 1.3415, Accuracy: 0.6185\n"
     ]
    },
    {
     "name": "stdout",
     "output_type": "stream",
     "text": [
      "Epoch Training: 3, Loss: 1.1565, Accuracy: 0.6193\n"
     ]
    },
    {
     "name": "stdout",
     "output_type": "stream",
     "text": [
      "Epoch Test: 3, Loss: 1.0081, Accuracy: 0.6540\n"
     ]
    },
    {
     "name": "stdout",
     "output_type": "stream",
     "text": [
      "Epoch Training: 4, Loss: 0.9328, Accuracy: 0.6739\n"
     ]
    },
    {
     "name": "stdout",
     "output_type": "stream",
     "text": [
      "Epoch Test: 4, Loss: 0.9411, Accuracy: 0.6512\n"
     ]
    },
    {
     "name": "stdout",
     "output_type": "stream",
     "text": [
      "Epoch Training: 5, Loss: 0.8144, Accuracy: 0.7177\n"
     ]
    },
    {
     "name": "stdout",
     "output_type": "stream",
     "text": [
      "Epoch Test: 5, Loss: 0.7060, Accuracy: 0.8202\n"
     ]
    },
    {
     "name": "stdout",
     "output_type": "stream",
     "text": [
      "Epoch Training: 6, Loss: 0.6860, Accuracy: 0.7723\n"
     ]
    },
    {
     "name": "stdout",
     "output_type": "stream",
     "text": [
      "Epoch Test: 6, Loss: 0.5917, Accuracy: 0.8638\n"
     ]
    },
    {
     "name": "stdout",
     "output_type": "stream",
     "text": [
      "Epoch Training: 7, Loss: 0.5662, Accuracy: 0.8240\n"
     ]
    },
    {
     "name": "stdout",
     "output_type": "stream",
     "text": [
      "Epoch Test: 7, Loss: 0.5026, Accuracy: 0.8610\n"
     ]
    },
    {
     "name": "stdout",
     "output_type": "stream",
     "text": [
      "Epoch Training: 8, Loss: 0.4840, Accuracy: 0.8700\n"
     ]
    },
    {
     "name": "stdout",
     "output_type": "stream",
     "text": [
      "Epoch Test: 8, Loss: 0.4920, Accuracy: 0.8747\n"
     ]
    },
    {
     "name": "stdout",
     "output_type": "stream",
     "text": [
      "Epoch Training: 9, Loss: 0.4244, Accuracy: 0.8908\n"
     ]
    },
    {
     "name": "stdout",
     "output_type": "stream",
     "text": [
      "Epoch Test: 9, Loss: 0.3750, Accuracy: 0.9074\n"
     ]
    },
    {
     "name": "stdout",
     "output_type": "stream",
     "text": [
      "Epoch Training: 10, Loss: 0.3758, Accuracy: 0.9080\n"
     ]
    },
    {
     "name": "stdout",
     "output_type": "stream",
     "text": [
      "Epoch Test: 10, Loss: 0.3000, Accuracy: 0.9101\n"
     ]
    },
    {
     "name": "stdout",
     "output_type": "stream",
     "text": [
      "Epoch Training: 11, Loss: 0.2999, Accuracy: 0.9296\n"
     ]
    },
    {
     "name": "stdout",
     "output_type": "stream",
     "text": [
      "Epoch Test: 11, Loss: 0.2770, Accuracy: 0.9292\n"
     ]
    },
    {
     "name": "stdout",
     "output_type": "stream",
     "text": [
      "Epoch Training: 12, Loss: 0.2481, Accuracy: 0.9555\n"
     ]
    },
    {
     "name": "stdout",
     "output_type": "stream",
     "text": [
      "Epoch Test: 12, Loss: 0.2515, Accuracy: 0.9455\n"
     ]
    },
    {
     "name": "stdout",
     "output_type": "stream",
     "text": [
      "Epoch Training: 13, Loss: 0.2286, Accuracy: 0.9511\n"
     ]
    },
    {
     "name": "stdout",
     "output_type": "stream",
     "text": [
      "Epoch Test: 13, Loss: 0.2628, Accuracy: 0.9455\n"
     ]
    },
    {
     "name": "stdout",
     "output_type": "stream",
     "text": [
      "Epoch Training: 14, Loss: 0.2005, Accuracy: 0.9555\n"
     ]
    },
    {
     "name": "stdout",
     "output_type": "stream",
     "text": [
      "Epoch Test: 14, Loss: 0.2385, Accuracy: 0.9292\n"
     ]
    },
    {
     "name": "stdout",
     "output_type": "stream",
     "text": [
      "Epoch Training: 15, Loss: 0.1967, Accuracy: 0.9605\n"
     ]
    },
    {
     "name": "stdout",
     "output_type": "stream",
     "text": [
      "Epoch Test: 15, Loss: 0.1849, Accuracy: 0.9591\n"
     ]
    },
    {
     "name": "stdout",
     "output_type": "stream",
     "text": [
      "Epoch Training: 16, Loss: 0.2068, Accuracy: 0.9547\n"
     ]
    },
    {
     "name": "stdout",
     "output_type": "stream",
     "text": [
      "Epoch Test: 16, Loss: 0.1954, Accuracy: 0.9619\n"
     ]
    },
    {
     "name": "stdout",
     "output_type": "stream",
     "text": [
      "Epoch Training: 17, Loss: 0.1885, Accuracy: 0.9591\n"
     ]
    },
    {
     "name": "stdout",
     "output_type": "stream",
     "text": [
      "Epoch Test: 17, Loss: 0.2024, Accuracy: 0.9537\n"
     ]
    },
    {
     "name": "stdout",
     "output_type": "stream",
     "text": [
      "Training finished for Fold 4 - size of train set is : 70.0% (1392 samples) \n"
     ]
    },
    {
     "name": "stdout",
     "output_type": "stream",
     "text": [
      "Cleanup over for TPU Core 0\n"
     ]
    },
    {
     "name": "stdout",
     "output_type": "stream",
     "text": [
      "\n",
      " Run 5/5 sur TPU Core 0 for size : 1...\n"
     ]
    },
    {
     "name": "stdout",
     "output_type": "stream",
     "text": [
      "Epoch Training: 0, Loss: 2.0934, Accuracy: 0.3248\n"
     ]
    },
    {
     "name": "stdout",
     "output_type": "stream",
     "text": [
      "Epoch Test: 0, Loss: 1.9813, Accuracy: 0.4523\n"
     ]
    },
    {
     "name": "stdout",
     "output_type": "stream",
     "text": [
      "Epoch Training: 1, Loss: 1.6288, Accuracy: 0.4686\n"
     ]
    },
    {
     "name": "stdout",
     "output_type": "stream",
     "text": [
      "Epoch Test: 1, Loss: 1.4899, Accuracy: 0.5668\n"
     ]
    },
    {
     "name": "stdout",
     "output_type": "stream",
     "text": [
      "Epoch Training: 2, Loss: 1.2471, Accuracy: 0.5711\n"
     ]
    },
    {
     "name": "stdout",
     "output_type": "stream",
     "text": [
      "Epoch Test: 2, Loss: 1.1324, Accuracy: 0.7084\n"
     ]
    },
    {
     "name": "stdout",
     "output_type": "stream",
     "text": [
      "Epoch Training: 3, Loss: 1.0213, Accuracy: 0.6269\n"
     ]
    },
    {
     "name": "stdout",
     "output_type": "stream",
     "text": [
      "Epoch Test: 3, Loss: 0.8888, Accuracy: 0.7166\n"
     ]
    },
    {
     "name": "stdout",
     "output_type": "stream",
     "text": [
      "Epoch Training: 4, Loss: 0.8248, Accuracy: 0.6968\n"
     ]
    },
    {
     "name": "stdout",
     "output_type": "stream",
     "text": [
      "Epoch Test: 4, Loss: 0.8468, Accuracy: 0.7030\n"
     ]
    },
    {
     "name": "stdout",
     "output_type": "stream",
     "text": [
      "Epoch Training: 5, Loss: 0.6848, Accuracy: 0.7672\n"
     ]
    },
    {
     "name": "stdout",
     "output_type": "stream",
     "text": [
      "Epoch Test: 5, Loss: 0.5846, Accuracy: 0.8556\n"
     ]
    },
    {
     "name": "stdout",
     "output_type": "stream",
     "text": [
      "Epoch Training: 6, Loss: 0.5591, Accuracy: 0.8200\n"
     ]
    },
    {
     "name": "stdout",
     "output_type": "stream",
     "text": [
      "Epoch Test: 6, Loss: 0.4359, Accuracy: 0.8719\n"
     ]
    },
    {
     "name": "stdout",
     "output_type": "stream",
     "text": [
      "Epoch Training: 7, Loss: 0.4335, Accuracy: 0.8773\n"
     ]
    },
    {
     "name": "stdout",
     "output_type": "stream",
     "text": [
      "Epoch Test: 7, Loss: 0.3791, Accuracy: 0.8910\n"
     ]
    },
    {
     "name": "stdout",
     "output_type": "stream",
     "text": [
      "Epoch Training: 8, Loss: 0.3437, Accuracy: 0.9206\n"
     ]
    },
    {
     "name": "stdout",
     "output_type": "stream",
     "text": [
      "Epoch Test: 8, Loss: 0.2680, Accuracy: 0.9319\n"
     ]
    },
    {
     "name": "stdout",
     "output_type": "stream",
     "text": [
      "Epoch Training: 9, Loss: 0.2476, Accuracy: 0.9422\n"
     ]
    },
    {
     "name": "stdout",
     "output_type": "stream",
     "text": [
      "Epoch Test: 9, Loss: 0.2226, Accuracy: 0.9428\n"
     ]
    },
    {
     "name": "stdout",
     "output_type": "stream",
     "text": [
      "Epoch Training: 10, Loss: 0.2157, Accuracy: 0.9532\n"
     ]
    },
    {
     "name": "stdout",
     "output_type": "stream",
     "text": [
      "Epoch Test: 10, Loss: 0.2054, Accuracy: 0.9591\n"
     ]
    },
    {
     "name": "stdout",
     "output_type": "stream",
     "text": [
      "Epoch Training: 11, Loss: 0.1830, Accuracy: 0.9593\n"
     ]
    },
    {
     "name": "stdout",
     "output_type": "stream",
     "text": [
      "Epoch Test: 11, Loss: 0.1704, Accuracy: 0.9728\n"
     ]
    },
    {
     "name": "stdout",
     "output_type": "stream",
     "text": [
      "Epoch Training: 12, Loss: 0.1545, Accuracy: 0.9668\n"
     ]
    },
    {
     "name": "stdout",
     "output_type": "stream",
     "text": [
      "Epoch Test: 12, Loss: 0.1419, Accuracy: 0.9728\n"
     ]
    },
    {
     "name": "stdout",
     "output_type": "stream",
     "text": [
      "Epoch Training: 13, Loss: 0.1276, Accuracy: 0.9754\n"
     ]
    },
    {
     "name": "stdout",
     "output_type": "stream",
     "text": [
      "Epoch Test: 13, Loss: 0.1380, Accuracy: 0.9673\n"
     ]
    },
    {
     "name": "stdout",
     "output_type": "stream",
     "text": [
      "Epoch Training: 14, Loss: 0.1197, Accuracy: 0.9764\n"
     ]
    },
    {
     "name": "stdout",
     "output_type": "stream",
     "text": [
      "Epoch Test: 14, Loss: 0.1541, Accuracy: 0.9619\n"
     ]
    },
    {
     "name": "stdout",
     "output_type": "stream",
     "text": [
      "Epoch Training: 15, Loss: 0.0944, Accuracy: 0.9839\n"
     ]
    },
    {
     "name": "stdout",
     "output_type": "stream",
     "text": [
      "Epoch Test: 15, Loss: 0.1262, Accuracy: 0.9728\n"
     ]
    },
    {
     "name": "stdout",
     "output_type": "stream",
     "text": [
      "Epoch Training: 16, Loss: 0.0983, Accuracy: 0.9799\n"
     ]
    },
    {
     "name": "stdout",
     "output_type": "stream",
     "text": [
      "Epoch Test: 16, Loss: 0.1169, Accuracy: 0.9728\n"
     ]
    },
    {
     "name": "stdout",
     "output_type": "stream",
     "text": [
      "Epoch Training: 17, Loss: 0.1021, Accuracy: 0.9814\n"
     ]
    },
    {
     "name": "stdout",
     "output_type": "stream",
     "text": [
      "Epoch Test: 17, Loss: 0.1183, Accuracy: 0.9728\n"
     ]
    },
    {
     "name": "stdout",
     "output_type": "stream",
     "text": [
      "Training finished for Fold 4 - size of train set is : 100.0% (1989 samples) \n"
     ]
    },
    {
     "name": "stdout",
     "output_type": "stream",
     "text": [
      "Cleanup over for TPU Core 0\n"
     ]
    },
    {
     "name": "stdout",
     "output_type": "stream",
     "text": [
      "TPU Core 0 is done with all its tasks\n"
     ]
    }
   ],
   "source": [
    "import torch.multiprocessing as mp\n",
    "import pickle\n",
    "import time\n",
    "\n",
    "os.environ['PJRT_DEVICE'] = 'TPU'\n",
    "os.environ['XRT_TPU_CONFIG'] = 'localservice;0;localhost:51011'\n",
    "\n",
    "#pjrt.  # Arrête les processus TPU en cours\n",
    "\n",
    "mainDir='/kaggle/input/mynumpyfiles/NumpyDS'\n",
    "nbFold=5\n",
    "num_epochs=18\n",
    "\n",
    "manager = mp.Manager()  # ✅ Crée un manager pour gérer des objets entre processus\n",
    "results_queue = manager.Queue()  # ✅ Création de la queue compatible avec `xmp.spawn()`\n",
    "\n",
    "train_sizes=[0.1, 0.3, 0.5, 0.7, 1]\n",
    "nprocs = min(8, xr.global_runtime_device_count())\n",
    "\n",
    "xmp.spawn(_mp_fn, args=(results_queue, nbFold, myGlobalDs, mainDir, num_epochs, train_sizes), nprocs=1, start_method='fork')\n",
    "\n",
    "# Collect the results in dictionnaries\n",
    "train_losses_dict = {s: [] for s in train_sizes}\n",
    "test_losses_dict = {s: [] for s in train_sizes}\n",
    "train_accuracies_dict = {s: [] for s in train_sizes}\n",
    "test_accuracies_dict = {s: [] for s in train_sizes}\n",
    "\n",
    "#initialize counter for timeout\n",
    "start=time.time()\n",
    "timeout=600\n",
    "while results_queue.qsize() < nbFold * len(train_sizes):\n",
    "    if time.time()-start > timeout:\n",
    "        raise TimeoutError(\"TPUs take too much time to finish ! Verify the logs\")\n",
    "    time.sleep(1)  # Wait for all tasks to be finished\n",
    "\n",
    "while not results_queue.empty():\n",
    "    size, t_loss, te_loss, t_acc, te_acc = results_queue.get()  # ✅ On récupère directement `size`\n",
    "    train_losses_dict[size].append(t_loss)\n",
    "    test_losses_dict[size].append(te_loss)\n",
    "    train_accuracies_dict[size].append(t_acc)\n",
    "    test_accuracies_dict[size].append(te_acc)\n",
    "\n",
    "\n",
    "# Store data (serialize)\n",
    "with open('/kaggle/working/sizes_train_losses.pickle', 'wb') as handle:\n",
    "    pickle.dump(train_losses_dict, handle, protocol=pickle.HIGHEST_PROTOCOL)\n",
    "with open('/kaggle/working/sizes_test_losses.pickle', 'wb') as handle:\n",
    "    pickle.dump(test_losses_dict, handle, protocol=pickle.HIGHEST_PROTOCOL)\n",
    "with open('/kaggle/working/sizes_train_accuracies.pickle', 'wb') as handle:\n",
    "    pickle.dump(train_accuracies_dict, handle, protocol=pickle.HIGHEST_PROTOCOL)\n",
    "with open('/kaggle/working/sizes_test_accuracies.pickle', 'wb') as handle:\n",
    "    pickle.dump(test_accuracies_dict, handle, protocol=pickle.HIGHEST_PROTOCOL)\n"
   ]
  },
  {
   "cell_type": "code",
   "execution_count": null,
   "id": "bfb21cd4",
   "metadata": {
    "papermill": {
     "duration": 0.057928,
     "end_time": "2025-02-25T22:55:20.156889",
     "exception": false,
     "start_time": "2025-02-25T22:55:20.098961",
     "status": "completed"
    },
    "tags": []
   },
   "outputs": [],
   "source": []
  }
 ],
 "metadata": {
  "kaggle": {
   "accelerator": "tpu1vmV38",
   "dataSources": [
    {
     "datasetId": 6624622,
     "sourceId": 10691564,
     "sourceType": "datasetVersion"
    }
   ],
   "dockerImageVersionId": 30886,
   "isGpuEnabled": false,
   "isInternetEnabled": true,
   "language": "python",
   "sourceType": "notebook"
  },
  "kernelspec": {
   "display_name": "Python 3",
   "language": "python",
   "name": "python3"
  },
  "language_info": {
   "codemirror_mode": {
    "name": "ipython",
    "version": 3
   },
   "file_extension": ".py",
   "mimetype": "text/x-python",
   "name": "python",
   "nbconvert_exporter": "python",
   "pygments_lexer": "ipython3",
   "version": "3.10.16"
  },
  "papermill": {
   "default_parameters": {},
   "duration": 18618.953012,
   "end_time": "2025-02-25T22:55:25.077089",
   "environment_variables": {},
   "exception": null,
   "input_path": "__notebook__.ipynb",
   "output_path": "__notebook__.ipynb",
   "parameters": {},
   "start_time": "2025-02-25T17:45:06.124077",
   "version": "2.6.0"
  }
 },
 "nbformat": 4,
 "nbformat_minor": 5
}
